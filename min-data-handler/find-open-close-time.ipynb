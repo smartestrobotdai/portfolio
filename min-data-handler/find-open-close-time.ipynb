{
 "cells": [
  {
   "cell_type": "code",
   "execution_count": 3,
   "metadata": {},
   "outputs": [
    {
     "data": {
      "text/plain": [
       "['TSM',\n",
       " 'PFE',\n",
       " 'NVDA',\n",
       " 'DIS',\n",
       " 'AAPL',\n",
       " 'ERIC-B.ST',\n",
       " 'NSRGY',\n",
       " 'TSLA',\n",
       " 'AIR.F',\n",
       " 'MRK',\n",
       " 'ESSITY-B.ST',\n",
       " 'DDAIF',\n",
       " 'T',\n",
       " 'GOOGL',\n",
       " 'AZN.ST',\n",
       " 'MSFT',\n",
       " 'INTC',\n",
       " 'RHHBY',\n",
       " 'HEXA-B.ST',\n",
       " 'AMBK',\n",
       " 'AMZN']"
      ]
     },
     "execution_count": 3,
     "metadata": {},
     "output_type": "execute_result"
    }
   ],
   "source": [
    "import os\n",
    "from os import listdir\n",
    "from os.path import isdir, join\n",
    "rootdir = '../data/stocks'\n",
    "\n",
    "\n",
    "stock_list = [f for f in listdir(rootdir) if isdir(join(rootdir, f))]\n",
    "\n",
    "\n",
    "stock_list"
   ]
  },
  {
   "cell_type": "code",
   "execution_count": 22,
   "metadata": {},
   "outputs": [],
   "source": [
    "import json\n",
    "import collections\n",
    "\n",
    "def get_open_close_time(path):\n",
    "    daily_path = join(path, 'daily')\n",
    "    market_seconds_list = []\n",
    "    for file_name in listdir(daily_path):\n",
    "        f = open(join(daily_path, file_name))\n",
    "        data = json.load(f)\n",
    "        f.close()\n",
    "        market_seconds = (data[-1]['timestamp'] - data[0]['timestamp'])/1000 + 60\n",
    "        market_seconds_list.append(market_seconds)\n",
    "    if len(market_seconds_list) == 0:\n",
    "        return\n",
    "        \n",
    "    counter = collections.Counter(market_seconds_list)\n",
    "    print(counter.most_common(1))\n",
    "    f = open(join(path, 'regular_market_duration'), \"w\")\n",
    "    f.write(str(counter.most_common(1)[0][0]))\n",
    "    f.close()\n",
    "\n",
    "    "
   ]
  },
  {
   "cell_type": "code",
   "execution_count": 23,
   "metadata": {},
   "outputs": [
    {
     "name": "stdout",
     "output_type": "stream",
     "text": [
      "[(23400.0, 4)]\n"
     ]
    }
   ],
   "source": [
    "\n",
    "\n",
    "get_open_close_time('../data/stocks/AAPL')"
   ]
  },
  {
   "cell_type": "code",
   "execution_count": 24,
   "metadata": {},
   "outputs": [
    {
     "name": "stdout",
     "output_type": "stream",
     "text": [
      "Find out the market duration in seconds for TSM\n",
      "[(23400.0, 4)]\n",
      "Find out the market duration in seconds for PFE\n",
      "[(23400.0, 4)]\n",
      "Find out the market duration in seconds for NVDA\n",
      "[(23400.0, 4)]\n",
      "Find out the market duration in seconds for DIS\n",
      "[(23400.0, 4)]\n",
      "Find out the market duration in seconds for AAPL\n",
      "[(23400.0, 4)]\n",
      "Find out the market duration in seconds for ERIC-B.ST\n",
      "[(30600.0, 3)]\n",
      "Find out the market duration in seconds for NSRGY\n",
      "[(23400.0, 5)]\n",
      "Find out the market duration in seconds for TSLA\n",
      "[(23400.0, 4)]\n",
      "Find out the market duration in seconds for AIR.F\n",
      "[(50400.0, 4)]\n",
      "Find out the market duration in seconds for MRK\n",
      "[(23400.0, 4)]\n",
      "Find out the market duration in seconds for ESSITY-B.ST\n",
      "[(30600.0, 3)]\n",
      "Find out the market duration in seconds for DDAIF\n",
      "[(23400.0, 5)]\n",
      "Find out the market duration in seconds for T\n",
      "[(23400.0, 4)]\n",
      "Find out the market duration in seconds for GOOGL\n",
      "[(23400.0, 4)]\n",
      "Find out the market duration in seconds for AZN.ST\n",
      "[(30600.0, 3)]\n",
      "Find out the market duration in seconds for MSFT\n",
      "[(23400.0, 4)]\n",
      "Find out the market duration in seconds for INTC\n",
      "[(23400.0, 4)]\n",
      "Find out the market duration in seconds for RHHBY\n",
      "[(23400.0, 5)]\n",
      "Find out the market duration in seconds for HEXA-B.ST\n",
      "[(30600.0, 3)]\n",
      "Find out the market duration in seconds for AMBK\n",
      "Find out the market duration in seconds for AMZN\n",
      "[(23400.0, 4)]\n"
     ]
    }
   ],
   "source": [
    "rootdir = '../data/stocks'\n",
    "stock_list = [f for f in listdir(rootdir) if isdir(join(rootdir, f))]\n",
    "\n",
    "for f in listdir(rootdir):\n",
    "    print(f\"Find out the market duration in seconds for {f}\")\n",
    "    stock_dir = join(rootdir, f)\n",
    "    if isdir(stock_dir):\n",
    "        get_open_close_time(stock_dir)\n"
   ]
  },
  {
   "cell_type": "code",
   "execution_count": null,
   "metadata": {},
   "outputs": [],
   "source": []
  }
 ],
 "metadata": {
  "kernelspec": {
   "display_name": "Python 3",
   "language": "python",
   "name": "python3"
  },
  "language_info": {
   "codemirror_mode": {
    "name": "ipython",
    "version": 3
   },
   "file_extension": ".py",
   "mimetype": "text/x-python",
   "name": "python",
   "nbconvert_exporter": "python",
   "pygments_lexer": "ipython3",
   "version": "3.8.10"
  }
 },
 "nbformat": 4,
 "nbformat_minor": 4
}

{
 "cells": [
  {
   "cell_type": "code",
   "execution_count": 31,
   "metadata": {
    "tags": []
   },
   "outputs": [],
   "source": [
    "import os\n",
    "from os import listdir\n",
    "from os.path import isdir, isfile, join\n",
    "import pandas as pd\n",
    "\n",
    "rootdir = '../data/stocks'\n",
    "\n",
    "stock_list = [f for f in listdir(rootdir) if isdir(join(rootdir, f))]"
   ]
  },
  {
   "cell_type": "code",
   "execution_count": 32,
   "metadata": {},
   "outputs": [],
   "source": [
    "from pathlib import Path\n",
    "import shutil\n",
    "\n",
    "def handle_stock_min(path, stock_name):\n",
    "  stock_dir = os.path.join(path, stock_name)\n",
    "  raw_data_dir = os.path.join(stock_dir, 'raw-minute')\n",
    "  file_list = [join(raw_data_dir, f) for f in listdir(raw_data_dir) if isfile(join(raw_data_dir, f))]\n",
    "  data = None\n",
    "  for file in file_list:\n",
    "    if data is None:\n",
    "      data = pd.read_json(file)\n",
    "      print('first')\n",
    "      print(len(data))\n",
    "    else:\n",
    "      data = pd.concat([data, pd.read_json(file)]).drop_duplicates().reset_index(drop=True)\n",
    "      print('second')\n",
    "      print(len(data))\n",
    "  if data is None:\n",
    "    return\n",
    "  data['date']=data['timestamp'].dt.strftime('%Y%m%d')\n",
    "  grouped = data.groupby('date')\n",
    "  Path(os.path.join(stock_dir, 'daily')).mkdir(exist_ok=True)\n",
    "  for name, group in grouped:\n",
    "    group.to_json(f'{stock_dir}/daily/data-{name}')\n",
    "  for file in file_list:\n",
    "    Path(os.path.join(raw_data_dir, 'bak')).mkdir(exist_ok=True)\n",
    "    filename = file.split('/')[-1]\n",
    "    new_file = os.path.join(raw_data_dir, 'bak', filename)\n",
    "    shutil.move(file, new_file)"
   ]
  },
  {
   "cell_type": "code",
   "execution_count": 34,
   "metadata": {},
   "outputs": [
    {
     "name": "stdout",
     "output_type": "stream",
     "text": [
      "Processing stock: TSM\n",
      "Processing stock: PFE\n",
      "Processing stock: NVDA\n",
      "Processing stock: DIS\n",
      "Processing stock: AAPL\n",
      "Processing stock: ERIC-B.ST\n",
      "Processing stock: NSRGY\n",
      "Processing stock: TSLA\n",
      "Processing stock: AIR.F\n",
      "Processing stock: MRK\n",
      "Processing stock: ESSITY-B.ST\n",
      "Processing stock: DDAIF\n",
      "Processing stock: T\n",
      "Processing stock: GOOGL\n",
      "Processing stock: AZN.ST\n",
      "Processing stock: MSFT\n",
      "Processing stock: INTC\n",
      "Processing stock: RHHBY\n",
      "Processing stock: HEXA-B.ST\n",
      "Processing stock: AMBK\n",
      "Processing stock: AMZN\n"
     ]
    }
   ],
   "source": [
    "for stock in stock_list:\n",
    "  print(f\"Processing stock: {stock}\")\n",
    "  handle_stock_min('../data/stocks', stock)"
   ]
  },
  {
   "cell_type": "code",
   "execution_count": 36,
   "metadata": {},
   "outputs": [
    {
     "name": "stdout",
     "output_type": "stream",
     "text": [
      "Processing indicator: EURSEK=X\n",
      "first\n",
      "7196\n",
      "Processing indicator: CL=F\n",
      "first\n",
      "5338\n",
      "Processing indicator: EUR=X\n",
      "first\n",
      "7196\n",
      "Processing indicator: ZB=F\n",
      "first\n",
      "5338\n",
      "Processing indicator: GC=F\n",
      "first\n",
      "5338\n",
      "Processing indicator: ^DJI\n",
      "first\n",
      "1951\n",
      "Processing indicator: SEK=X\n",
      "first\n",
      "7196\n",
      "Processing indicator: ^OMX\n",
      "first\n",
      "2014\n"
     ]
    }
   ],
   "source": [
    "indicator_dir = '../data/indicators'\n",
    "indicator_list = [f for f in listdir(indicator_dir) if isdir(join(indicator_dir, f))]\n",
    "for indicator in indicator_list:\n",
    "  print(f\"Processing indicator: {indicator}\")\n",
    "  handle_stock_min(indicator_dir, indicator)"
   ]
  },
  {
   "cell_type": "code",
   "execution_count": null,
   "metadata": {},
   "outputs": [],
   "source": []
  }
 ],
 "metadata": {
  "kernelspec": {
   "display_name": "Python 3",
   "language": "python",
   "name": "python3"
  },
  "language_info": {
   "codemirror_mode": {
    "name": "ipython",
    "version": 3
   },
   "file_extension": ".py",
   "mimetype": "text/x-python",
   "name": "python",
   "nbconvert_exporter": "python",
   "pygments_lexer": "ipython3",
   "version": "3.8.10"
  }
 },
 "nbformat": 4,
 "nbformat_minor": 4
}

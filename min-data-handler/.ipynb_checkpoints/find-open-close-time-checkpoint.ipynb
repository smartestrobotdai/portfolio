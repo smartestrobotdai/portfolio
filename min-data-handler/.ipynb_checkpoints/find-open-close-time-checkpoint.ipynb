{
 "cells": [
  {
   "cell_type": "code",
   "execution_count": 7,
   "metadata": {},
   "outputs": [
    {
     "data": {
      "text/plain": [
       "['TSM',\n",
       " 'PFE',\n",
       " 'NVDA',\n",
       " 'DIS',\n",
       " 'AAPL',\n",
       " 'ERIC-B.ST',\n",
       " 'NSRGY',\n",
       " 'TSLA',\n",
       " 'AIR.F',\n",
       " 'MRK',\n",
       " 'ESSITY-B.ST',\n",
       " 'DDAIF',\n",
       " 'T',\n",
       " 'GOOGL',\n",
       " 'AZN.ST',\n",
       " 'MSFT',\n",
       " 'INTC',\n",
       " 'RHHBY',\n",
       " 'HEXA-B.ST',\n",
       " 'AMBK',\n",
       " 'AMZN']"
      ]
     },
     "execution_count": 7,
     "metadata": {},
     "output_type": "execute_result"
    }
   ],
   "source": [
    "import os\n",
    "from os import listdir\n",
    "from os.path import isdir, join\n",
    "rootdir = '../data/stocks'\n",
    "\n",
    "\n",
    "stock_list = [f for f in listdir(rootdir) if isdir(join(rootdir, f))]\n",
    "\n",
    "\n",
    "stock_list"
   ]
  },
  {
   "cell_type": "code",
   "execution_count": null,
   "metadata": {},
   "outputs": [],
   "source": [
    "def get_open_close_time(path):\n",
    "    for file_name in listdir(path):\n",
    "        \n",
    "    "
   ]
  },
  {
   "cell_type": "code",
   "execution_count": null,
   "metadata": {},
   "outputs": [],
   "source": []
  }
 ],
 "metadata": {
  "kernelspec": {
   "display_name": "Python 3",
   "language": "python",
   "name": "python3"
  },
  "language_info": {
   "codemirror_mode": {
    "name": "ipython",
    "version": 3
   },
   "file_extension": ".py",
   "mimetype": "text/x-python",
   "name": "python",
   "nbconvert_exporter": "python",
   "pygments_lexer": "ipython3",
   "version": "3.8.10"
  }
 },
 "nbformat": 4,
 "nbformat_minor": 4
}

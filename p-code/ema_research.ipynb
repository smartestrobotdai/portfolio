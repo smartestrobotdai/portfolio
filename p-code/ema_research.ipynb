{
 "cells": [
  {
   "cell_type": "code",
   "execution_count": null,
   "metadata": {},
   "outputs": [],
   "source": [
    "import pandas as pd\n",
    "import numpy as np\n",
    "import re\n",
    "import pathlib\n",
    "import functools"
   ]
  },
  {
   "cell_type": "code",
   "execution_count": null,
   "metadata": {},
   "outputs": [],
   "source": [
    "df = pd.read_csv(\"../data/daily/AAPL.csv\") "
   ]
  },
  {
   "cell_type": "code",
   "execution_count": null,
   "metadata": {},
   "outputs": [],
   "source": [
    "df.columns"
   ]
  },
  {
   "cell_type": "code",
   "execution_count": null,
   "metadata": {},
   "outputs": [],
   "source": [
    "def get_real_name(x):\n",
    "  \n",
    "  if '.' in x:\n",
    "    return x.split('.')[1]\n",
    "  else:\n",
    "    return x\n"
   ]
  },
  {
   "cell_type": "code",
   "execution_count": null,
   "metadata": {},
   "outputs": [],
   "source": [
    "get_real_name('AAPL.Close')"
   ]
  },
  {
   "cell_type": "code",
   "execution_count": null,
   "metadata": {},
   "outputs": [],
   "source": [
    "new_columns = [get_real_name(name) for name in df.columns.to_list()]\n",
    "new_columns"
   ]
  },
  {
   "cell_type": "code",
   "execution_count": null,
   "metadata": {},
   "outputs": [],
   "source": [
    "df.columns = new_columns"
   ]
  },
  {
   "cell_type": "code",
   "execution_count": null,
   "metadata": {},
   "outputs": [],
   "source": [
    "df"
   ]
  },
  {
   "cell_type": "code",
   "execution_count": null,
   "metadata": {},
   "outputs": [],
   "source": [
    "df[['Open', 'High', 'Low', 'Close', 'Volume']] = np.log(df[['Open', 'High', 'Low', 'Close', 'Volume']])"
   ]
  },
  {
   "cell_type": "code",
   "execution_count": null,
   "metadata": {},
   "outputs": [],
   "source": [
    "df['Mean'] = (df['Close'] + df['Open'])/2\n",
    "df['Mean_diff'] = df['Mean'].diff()"
   ]
  },
  {
   "cell_type": "code",
   "execution_count": null,
   "metadata": {},
   "outputs": [],
   "source": [
    "n=20\n",
    "alpha = 2/(n+1)\n",
    "alpha"
   ]
  },
  {
   "cell_type": "code",
   "execution_count": null,
   "metadata": {},
   "outputs": [],
   "source": [
    "\n",
    "df['Mean_diff_EMA'] = df['Mean_diff'].ewm(alpha=alpha).mean()"
   ]
  },
  {
   "cell_type": "code",
   "execution_count": null,
   "metadata": {},
   "outputs": [],
   "source": [
    "df['Mean_diff_EMS'] = df['Mean_diff'].ewm(alpha=alpha).std()"
   ]
  },
  {
   "cell_type": "code",
   "execution_count": null,
   "metadata": {},
   "outputs": [],
   "source": [
    "df"
   ]
  },
  {
   "cell_type": "code",
   "execution_count": null,
   "metadata": {},
   "outputs": [],
   "source": []
  },
  {
   "cell_type": "code",
   "execution_count": null,
   "metadata": {},
   "outputs": [],
   "source": [
    "df['Mean_diff_next'] = df['Mean_diff'].shift(-1)"
   ]
  },
  {
   "cell_type": "code",
   "execution_count": null,
   "metadata": {},
   "outputs": [],
   "source": [
    "df"
   ]
  },
  {
   "cell_type": "code",
   "execution_count": null,
   "metadata": {},
   "outputs": [],
   "source": [
    "df[['Mean_diff_EMA', 'Mean_diff_EMS', 'Mean_diff_next']].corr()"
   ]
  },
  {
   "cell_type": "code",
   "execution_count": null,
   "metadata": {},
   "outputs": [],
   "source": [
    "df['Mean_diff_EMZ'] = df['Mean_diff_EMA'] / df['Mean_diff_EMS']"
   ]
  },
  {
   "cell_type": "code",
   "execution_count": null,
   "metadata": {},
   "outputs": [],
   "source": [
    "df[['Mean_diff_EMA', 'Mean_diff_EMS', 'Mean_diff_EMZ','Mean_diff_next']].corr()"
   ]
  },
  {
   "cell_type": "code",
   "execution_count": null,
   "metadata": {},
   "outputs": [],
   "source": [
    "def get_df(name):\n",
    "  df = pd.read_csv(name)\n",
    "  new_columns = [get_real_name(name) for name in df.columns.to_list()]\n",
    "  df.columns = new_columns\n",
    "  df[['Open', 'High', 'Low', 'Close', 'Volume']] = np.log(df[['Open', 'High', 'Low', 'Close', 'Volume']])\n",
    "  df['Mean'] = (df['Close'] + df['Open'])/2\n",
    "  df['Mean_diff'] = df['Mean'].diff()\n",
    "  df['Close_diff'] = df['Close'].diff()\n",
    "  df['Close_diff_next'] = df['Close_diff'].shift(-1)\n",
    "  n=20\n",
    "  alpha = 2/(n+1)\n",
    "  alpha\n",
    "  \n",
    "  df['Mean_diff_EMA'] = df['Mean_diff'].ewm(alpha=alpha).mean()\n",
    "  df['Mean_diff_EMS'] = df['Mean_diff'].ewm(alpha=alpha).std()\n",
    "  df['Mean_diff_EMZ'] = df['Mean_diff_EMA'] / df['Mean_diff_EMS']\n",
    "  return df"
   ]
  },
  {
   "cell_type": "code",
   "execution_count": null,
   "metadata": {},
   "outputs": [],
   "source": [
    "df = get_df(\"../data/daily/A.csv\")"
   ]
  },
  {
   "cell_type": "code",
   "execution_count": null,
   "metadata": {},
   "outputs": [],
   "source": [
    "df[['Mean_diff_EMA', 'Mean_diff_EMS', 'Mean_diff_EMZ','Close_diff_next']].corr()"
   ]
  },
  {
   "cell_type": "code",
   "execution_count": null,
   "metadata": {},
   "outputs": [],
   "source": [
    "def concat(df1, df2):\n",
    "  df = pd.concat([df1, df2])\n",
    "  return df"
   ]
  },
  {
   "cell_type": "code",
   "execution_count": null,
   "metadata": {},
   "outputs": [],
   "source": [
    "dir = \"../data/daily/\"\n",
    "p = pathlib.Path(dir).glob('*.csv')\n",
    "files = [x for x in p if x.is_file()]\n",
    "df = None\n",
    "for file in files:\n",
    "  df1 = get_df(file)\n",
    "  df = df1 if df is None else pd.concat([df, df1])\n",
    "df\n"
   ]
  },
  {
   "cell_type": "code",
   "execution_count": null,
   "metadata": {},
   "outputs": [],
   "source": [
    "df[['Mean_diff_EMA', 'Mean_diff_EMS', 'Mean_diff_EMZ','Close_diff_next']].corr()"
   ]
  },
  {
   "cell_type": "code",
   "execution_count": null,
   "metadata": {},
   "outputs": [],
   "source": [
    "df[(df['Mean_diff_EMZ'] > -3) & (df['Mean_diff_EMZ'] < 3)]['Mean_diff_EMZ'].hist(bins=100)"
   ]
  },
  {
   "cell_type": "code",
   "execution_count": null,
   "metadata": {},
   "outputs": [],
   "source": [
    "df[df['Mean_diff_EMZ']<-1][['Mean_diff_EMA', 'Mean_diff_EMS', 'Mean_diff_EMZ','Close_diff_next']].corr()"
   ]
  },
  {
   "cell_type": "code",
   "execution_count": null,
   "metadata": {},
   "outputs": [],
   "source": [
    "df"
   ]
  },
  {
   "cell_type": "code",
   "execution_count": null,
   "metadata": {},
   "outputs": [],
   "source": [
    "import plotly\n",
    "import plotly.express as px"
   ]
  },
  {
   "cell_type": "code",
   "execution_count": null,
   "metadata": {},
   "outputs": [],
   "source": [
    "df_p = df[(df['Mean_diff_EMZ'] > -3) & (df['Mean_diff_EMZ'] < 3)]\n",
    "fig = px.scatter(x=df_p['Mean_diff_EMZ'], y=df_p['Close_diff_next'])\n",
    "fig.show()"
   ]
  },
  {
   "cell_type": "code",
   "execution_count": null,
   "metadata": {},
   "outputs": [],
   "source": [
    "df[df['Mean_diff_EMZ']>-3][['Mean_diff_EMZ', 'Close_diff_next']].reset_index(drop=True).plot()"
   ]
  },
  {
   "cell_type": "code",
   "execution_count": null,
   "metadata": {},
   "outputs": [],
   "source": [
    "df[df['Mean_diff_EMZ']<-1.2]"
   ]
  },
  {
   "cell_type": "code",
   "execution_count": null,
   "metadata": {},
   "outputs": [],
   "source": [
    "# calculate the rank:\n",
    "# merge the table with its date\n",
    "def merge_2_df(df1, df2):\n",
    "  return df1.merge(df2, on='Date', how='outer')"
   ]
  },
  {
   "cell_type": "code",
   "execution_count": null,
   "metadata": {},
   "outputs": [],
   "source": [
    "dir = \"../data/daily/\"\n",
    "p = pathlib.Path(dir).glob('*.csv')\n",
    "files = [x for x in p if x.is_file()][:10]\n",
    "df = None\n",
    "for file in files:\n",
    "  stock_name = str(file).split('/')[-1].split('.')[0]\n",
    "  df1 = get_df(file)\n",
    "  df1.columns = [stock_name + '.' + x if x != 'Date' else x for x in df1.columns]\n",
    "  df = df1 if df is None else df.merge(df1, on='Date', how='outer')\n",
    "df"
   ]
  },
  {
   "cell_type": "code",
   "execution_count": null,
   "metadata": {},
   "outputs": [],
   "source": [
    "emz_columns = df.columns[['EMZ' in x for x in df.columns]]"
   ]
  },
  {
   "cell_type": "code",
   "execution_count": null,
   "metadata": {},
   "outputs": [],
   "source": [
    "emz_columns"
   ]
  },
  {
   "cell_type": "code",
   "execution_count": null,
   "metadata": {},
   "outputs": [],
   "source": [
    "df[emz_columns]"
   ]
  },
  {
   "cell_type": "code",
   "execution_count": null,
   "metadata": {},
   "outputs": [],
   "source": [
    "df[emz_columns].apply(lambda x: , axis='columns')"
   ]
  },
  {
   "cell_type": "code",
   "execution_count": null,
   "metadata": {},
   "outputs": [],
   "source": [
    "s = [2, 3, 1, 4, 5, 3]\n",
    "s1 = sorted(range(len(s)), key=lambda k: s[k])\n",
    "s1"
   ]
  },
  {
   "cell_type": "code",
   "execution_count": null,
   "metadata": {},
   "outputs": [],
   "source": [
    "s2 = [0] * 6\n",
    "for idx, a in enumerate(s1):\n",
    "  s2[a] = idx\n"
   ]
  },
  {
   "cell_type": "code",
   "execution_count": null,
   "metadata": {},
   "outputs": [],
   "source": [
    "s2"
   ]
  },
  {
   "cell_type": "code",
   "execution_count": null,
   "metadata": {},
   "outputs": [],
   "source": [
    "def get_rank(s):\n",
    "  l = len(s)\n",
    "  s1 = sorted(range(l), key=lambda k: s[k])\n",
    "  s2 = [0] * l\n",
    "  for idx, a in enumerate(s1):\n",
    "    s2[a] = idx\n",
    "  return s2\n"
   ]
  },
  {
   "cell_type": "code",
   "execution_count": null,
   "metadata": {},
   "outputs": [],
   "source": [
    "get_rank([2, 3, 1, 4, 5, 3])"
   ]
  },
  {
   "cell_type": "code",
   "execution_count": null,
   "metadata": {},
   "outputs": [],
   "source": [
    "df[emz_columns].apply(lambda x: get_rank(x), axis='columns')"
   ]
  },
  {
   "cell_type": "code",
   "execution_count": null,
   "metadata": {},
   "outputs": [],
   "source": [
    "df[emz_columns]"
   ]
  },
  {
   "cell_type": "code",
   "execution_count": null,
   "metadata": {},
   "outputs": [],
   "source": []
  }
 ],
 "metadata": {
  "kernelspec": {
   "display_name": "base",
   "language": "python",
   "name": "python3"
  },
  "language_info": {
   "codemirror_mode": {
    "name": "ipython",
    "version": 3
   },
   "file_extension": ".py",
   "mimetype": "text/x-python",
   "name": "python",
   "nbconvert_exporter": "python",
   "pygments_lexer": "ipython3",
   "version": "3.9.13 (main, Aug 25 2022, 23:26:10) \n[GCC 11.2.0]"
  },
  "orig_nbformat": 4,
  "vscode": {
   "interpreter": {
    "hash": "5840fe83e8c616ad004d50f60875191cdadb38ef49900913886cd20b10eae981"
   }
  }
 },
 "nbformat": 4,
 "nbformat_minor": 2
}

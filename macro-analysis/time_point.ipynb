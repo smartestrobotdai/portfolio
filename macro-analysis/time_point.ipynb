{
 "cells": [
  {
   "cell_type": "code",
   "execution_count": 2,
   "metadata": {
    "vscode": {
     "languageId": "r"
    }
   },
   "outputs": [],
   "source": [
    "# idea:\n",
    "# use 5 years data: 2016.1.1 - 2021.1.1 to train the model\n",
    "# use 1 years data: 2020.1.1 - 2021.1.1 to find a good policy. \n",
    "# policy 1: choose the stock with maximum value, sell it when a) a stop loss/gain threshold is met.\n",
    "# test it use 2021.1.1 to now.\n",
    "import os\n",
    "import pandas as pd\n",
    "import json\n",
    "from sklearn import linear_model\n",
    "import numpy as np\n",
    "\n",
    "import matplotlib.pyplot as plt\n",
    "from pandas.core.common import SettingWithCopyWarning\n",
    "import warnings\n",
    "warnings.simplefilter(action=\"ignore\", category=SettingWithCopyWarning)\n",
    "\n",
    "from numpy import absolute\n",
    "from pandas import read_csv\n",
    "from sklearn.model_selection import cross_val_score\n",
    "from sklearn.model_selection import RepeatedKFold\n",
    "from xgboost import XGBRegressor"
   ]
  },
  {
   "cell_type": "code",
   "execution_count": 3,
   "metadata": {
    "vscode": {
     "languageId": "r"
    }
   },
   "outputs": [],
   "source": [
    "def stack_table(df):\n",
    "    df = df.drop(index=df.index[-1], axis=0)\n",
    "    df_stack = df[['timestamp', 'open', 'close']].set_index('timestamp').stack()\n",
    "    time_list = pd.Series([time + pd.Timedelta(hours=6.5) if time_type == 'close' else time for time, time_type in df_stack.index])\n",
    "    df_stack = df_stack.reset_index().rename(columns={0: \"price\"}).drop(['timestamp', 'level_1'], axis=1)\n",
    "    df_stack['timestamp'] = time_list\n",
    "    df_stack['price_log'] = np.log(df_stack['price'])\n",
    "    df_stack['price_log_diff'] = df_stack['price_log'].diff()\n",
    "    df_stack.sort_values(by='timestamp', inplace=True)\n",
    "    return df_stack"
   ]
  },
  {
   "cell_type": "code",
   "execution_count": 4,
   "metadata": {
    "vscode": {
     "languageId": "r"
    }
   },
   "outputs": [],
   "source": [
    "def add_value(df):\n",
    "  df['value']=0\n",
    "  for i in range(20):\n",
    "    df['value']=df['price_log_diff'].shift(-1).fillna(0)+0.9*df['value'].shift(-1).fillna(0)\n",
    "  return df"
   ]
  },
  {
   "cell_type": "code",
   "execution_count": 5,
   "metadata": {
    "vscode": {
     "languageId": "r"
    }
   },
   "outputs": [],
   "source": [
    "stock_name = 'MSFT'\n",
    "path = os.path.join('../data/stocks', stock_name)"
   ]
  },
  {
   "cell_type": "code",
   "execution_count": 6,
   "metadata": {
    "vscode": {
     "languageId": "r"
    }
   },
   "outputs": [],
   "source": [
    "df = pd.read_json(os.path.join(path, 'daily/data'))"
   ]
  },
  {
   "cell_type": "code",
   "execution_count": 7,
   "metadata": {
    "vscode": {
     "languageId": "r"
    }
   },
   "outputs": [
    {
     "data": {
      "text/html": [
       "<div>\n",
       "<style scoped>\n",
       "    .dataframe tbody tr th:only-of-type {\n",
       "        vertical-align: middle;\n",
       "    }\n",
       "\n",
       "    .dataframe tbody tr th {\n",
       "        vertical-align: top;\n",
       "    }\n",
       "\n",
       "    .dataframe thead th {\n",
       "        text-align: right;\n",
       "    }\n",
       "</style>\n",
       "<table border=\"1\" class=\"dataframe\">\n",
       "  <thead>\n",
       "    <tr style=\"text-align: right;\">\n",
       "      <th></th>\n",
       "      <th>timestamp</th>\n",
       "      <th>open</th>\n",
       "      <th>high</th>\n",
       "      <th>low</th>\n",
       "      <th>close</th>\n",
       "      <th>volumn</th>\n",
       "      <th>date</th>\n",
       "    </tr>\n",
       "  </thead>\n",
       "  <tbody>\n",
       "    <tr>\n",
       "      <th>0</th>\n",
       "      <td>2002-07-09 13:30:00</td>\n",
       "      <td>26.655001</td>\n",
       "      <td>27.365</td>\n",
       "      <td>26.485001</td>\n",
       "      <td>26.605000</td>\n",
       "      <td>85277200</td>\n",
       "      <td>20020709</td>\n",
       "    </tr>\n",
       "    <tr>\n",
       "      <th>1</th>\n",
       "      <td>2002-07-10 13:30:00</td>\n",
       "      <td>26.844999</td>\n",
       "      <td>27.100</td>\n",
       "      <td>26.065001</td>\n",
       "      <td>26.120001</td>\n",
       "      <td>90673400</td>\n",
       "      <td>20020710</td>\n",
       "    </tr>\n",
       "    <tr>\n",
       "      <th>2</th>\n",
       "      <td>2002-07-11 13:30:00</td>\n",
       "      <td>26.020000</td>\n",
       "      <td>26.535</td>\n",
       "      <td>25.625000</td>\n",
       "      <td>26.455000</td>\n",
       "      <td>129550600</td>\n",
       "      <td>20020711</td>\n",
       "    </tr>\n",
       "    <tr>\n",
       "      <th>3</th>\n",
       "      <td>2002-07-12 13:30:00</td>\n",
       "      <td>26.684999</td>\n",
       "      <td>26.865</td>\n",
       "      <td>25.740000</td>\n",
       "      <td>25.930000</td>\n",
       "      <td>95733800</td>\n",
       "      <td>20020712</td>\n",
       "    </tr>\n",
       "    <tr>\n",
       "      <th>4</th>\n",
       "      <td>2002-07-15 13:30:00</td>\n",
       "      <td>25.695000</td>\n",
       "      <td>25.930</td>\n",
       "      <td>24.000000</td>\n",
       "      <td>25.900000</td>\n",
       "      <td>136965600</td>\n",
       "      <td>20020715</td>\n",
       "    </tr>\n",
       "  </tbody>\n",
       "</table>\n",
       "</div>"
      ],
      "text/plain": [
       "            timestamp       open    high        low      close     volumn  \\\n",
       "0 2002-07-09 13:30:00  26.655001  27.365  26.485001  26.605000   85277200   \n",
       "1 2002-07-10 13:30:00  26.844999  27.100  26.065001  26.120001   90673400   \n",
       "2 2002-07-11 13:30:00  26.020000  26.535  25.625000  26.455000  129550600   \n",
       "3 2002-07-12 13:30:00  26.684999  26.865  25.740000  25.930000   95733800   \n",
       "4 2002-07-15 13:30:00  25.695000  25.930  24.000000  25.900000  136965600   \n",
       "\n",
       "       date  \n",
       "0  20020709  \n",
       "1  20020710  \n",
       "2  20020711  \n",
       "3  20020712  \n",
       "4  20020715  "
      ]
     },
     "execution_count": 7,
     "metadata": {},
     "output_type": "execute_result"
    }
   ],
   "source": [
    "df.head()"
   ]
  },
  {
   "cell_type": "code",
   "execution_count": 16,
   "metadata": {
    "vscode": {
     "languageId": "r"
    }
   },
   "outputs": [],
   "source": [
    "df_stack = stack_table(df)"
   ]
  },
  {
   "cell_type": "code",
   "execution_count": 17,
   "metadata": {
    "vscode": {
     "languageId": "r"
    }
   },
   "outputs": [],
   "source": [
    "df = add_value(df_stack)"
   ]
  },
  {
   "cell_type": "code",
   "execution_count": 18,
   "metadata": {
    "vscode": {
     "languageId": "r"
    }
   },
   "outputs": [
    {
     "data": {
      "text/html": [
       "<div>\n",
       "<style scoped>\n",
       "    .dataframe tbody tr th:only-of-type {\n",
       "        vertical-align: middle;\n",
       "    }\n",
       "\n",
       "    .dataframe tbody tr th {\n",
       "        vertical-align: top;\n",
       "    }\n",
       "\n",
       "    .dataframe thead th {\n",
       "        text-align: right;\n",
       "    }\n",
       "</style>\n",
       "<table border=\"1\" class=\"dataframe\">\n",
       "  <thead>\n",
       "    <tr style=\"text-align: right;\">\n",
       "      <th></th>\n",
       "      <th>price</th>\n",
       "      <th>timestamp</th>\n",
       "      <th>price_log</th>\n",
       "      <th>price_log_diff</th>\n",
       "      <th>value</th>\n",
       "    </tr>\n",
       "  </thead>\n",
       "  <tbody>\n",
       "    <tr>\n",
       "      <th>0</th>\n",
       "      <td>26.655001</td>\n",
       "      <td>2002-07-09 13:30:00</td>\n",
       "      <td>3.282977</td>\n",
       "      <td>NaN</td>\n",
       "      <td>-0.037795</td>\n",
       "    </tr>\n",
       "    <tr>\n",
       "      <th>1</th>\n",
       "      <td>26.605000</td>\n",
       "      <td>2002-07-09 20:00:00</td>\n",
       "      <td>3.281099</td>\n",
       "      <td>-0.001878</td>\n",
       "      <td>-0.050419</td>\n",
       "    </tr>\n",
       "    <tr>\n",
       "      <th>2</th>\n",
       "      <td>26.844999</td>\n",
       "      <td>2002-07-10 13:30:00</td>\n",
       "      <td>3.290080</td>\n",
       "      <td>0.008980</td>\n",
       "      <td>-0.070015</td>\n",
       "    </tr>\n",
       "    <tr>\n",
       "      <th>3</th>\n",
       "      <td>26.120001</td>\n",
       "      <td>2002-07-10 20:00:00</td>\n",
       "      <td>3.262701</td>\n",
       "      <td>-0.027378</td>\n",
       "      <td>-0.033606</td>\n",
       "    </tr>\n",
       "    <tr>\n",
       "      <th>4</th>\n",
       "      <td>26.020000</td>\n",
       "      <td>2002-07-11 13:30:00</td>\n",
       "      <td>3.258865</td>\n",
       "      <td>-0.003836</td>\n",
       "      <td>-0.035376</td>\n",
       "    </tr>\n",
       "    <tr>\n",
       "      <th>...</th>\n",
       "      <td>...</td>\n",
       "      <td>...</td>\n",
       "      <td>...</td>\n",
       "      <td>...</td>\n",
       "      <td>...</td>\n",
       "    </tr>\n",
       "    <tr>\n",
       "      <th>10065</th>\n",
       "      <td>262.850006</td>\n",
       "      <td>2022-07-05 20:00:00</td>\n",
       "      <td>5.571584</td>\n",
       "      <td>0.025781</td>\n",
       "      <td>0.017414</td>\n",
       "    </tr>\n",
       "    <tr>\n",
       "      <th>10066</th>\n",
       "      <td>263.750000</td>\n",
       "      <td>2022-07-06 13:30:00</td>\n",
       "      <td>5.575002</td>\n",
       "      <td>0.003418</td>\n",
       "      <td>0.015551</td>\n",
       "    </tr>\n",
       "    <tr>\n",
       "      <th>10067</th>\n",
       "      <td>266.209991</td>\n",
       "      <td>2022-07-06 20:00:00</td>\n",
       "      <td>5.584285</td>\n",
       "      <td>0.009284</td>\n",
       "      <td>0.006963</td>\n",
       "    </tr>\n",
       "    <tr>\n",
       "      <th>10068</th>\n",
       "      <td>265.119995</td>\n",
       "      <td>2022-07-07 13:30:00</td>\n",
       "      <td>5.580183</td>\n",
       "      <td>-0.004103</td>\n",
       "      <td>0.012296</td>\n",
       "    </tr>\n",
       "    <tr>\n",
       "      <th>10069</th>\n",
       "      <td>268.399994</td>\n",
       "      <td>2022-07-07 20:00:00</td>\n",
       "      <td>5.592478</td>\n",
       "      <td>0.012296</td>\n",
       "      <td>0.000000</td>\n",
       "    </tr>\n",
       "  </tbody>\n",
       "</table>\n",
       "<p>10070 rows × 5 columns</p>\n",
       "</div>"
      ],
      "text/plain": [
       "            price           timestamp  price_log  price_log_diff     value\n",
       "0       26.655001 2002-07-09 13:30:00   3.282977             NaN -0.037795\n",
       "1       26.605000 2002-07-09 20:00:00   3.281099       -0.001878 -0.050419\n",
       "2       26.844999 2002-07-10 13:30:00   3.290080        0.008980 -0.070015\n",
       "3       26.120001 2002-07-10 20:00:00   3.262701       -0.027378 -0.033606\n",
       "4       26.020000 2002-07-11 13:30:00   3.258865       -0.003836 -0.035376\n",
       "...           ...                 ...        ...             ...       ...\n",
       "10065  262.850006 2022-07-05 20:00:00   5.571584        0.025781  0.017414\n",
       "10066  263.750000 2022-07-06 13:30:00   5.575002        0.003418  0.015551\n",
       "10067  266.209991 2022-07-06 20:00:00   5.584285        0.009284  0.006963\n",
       "10068  265.119995 2022-07-07 13:30:00   5.580183       -0.004103  0.012296\n",
       "10069  268.399994 2022-07-07 20:00:00   5.592478        0.012296  0.000000\n",
       "\n",
       "[10070 rows x 5 columns]"
      ]
     },
     "execution_count": 18,
     "metadata": {},
     "output_type": "execute_result"
    }
   ],
   "source": [
    "df"
   ]
  },
  {
   "cell_type": "code",
   "execution_count": 19,
   "metadata": {
    "vscode": {
     "languageId": "r"
    }
   },
   "outputs": [],
   "source": [
    "import math\n",
    "\n",
    "def linear_regression(df_input, period):\n",
    "  print('starting linear regression:' + str(period))\n",
    "  PERIOD=period\n",
    "  df = df_input.copy()\n",
    "  df.dropna(inplace=True)\n",
    "  df.reset_index(inplace=True)\n",
    "  df.drop('index',axis=1, inplace=True)\n",
    "  df['price_log_error_' + str(period)] = 0\n",
    "  # we start from the 10th row.\n",
    "  for i in range(10, len(df)):\n",
    "    start = max(i - period, 0)\n",
    "    end = i\n",
    "    x=df['timestamp'][start:end].astype(np.int64).values.reshape(-1, 1)\n",
    "    y=df['price_log'][start:end].astype(np.int64).values.reshape(-1, 1)\n",
    "    model = linear_model.LinearRegression()\n",
    "    model.fit(x,y)\n",
    "    y_pred = model.predict(x)\n",
    "    df['price_log_error_' + str(period)][i] = y_pred[-1] - df['price_log'][i]    \n",
    "    \n",
    "  df['price_log_error_' + str(period)][0:10] = math.nan\n",
    "  df.reset_index(inplace=True)\n",
    "  df.drop('index',axis=1, inplace=True)\n",
    "  df.dropna(inplace=True)\n",
    "  return df"
   ]
  },
  {
   "cell_type": "code",
   "execution_count": 20,
   "metadata": {
    "vscode": {
     "languageId": "r"
    }
   },
   "outputs": [
    {
     "name": "stdout",
     "output_type": "stream",
     "text": [
      "starting linear regression:126\n"
     ]
    }
   ],
   "source": [
    "\n",
    "df = linear_regression(df, 126)\n",
    "# df = linear_regression(df, 253)\n",
    "# df = linear_regression(df, 253 * 2)\n",
    "# df = linear_regression(df, 253 * 4)\n",
    "# df = linear_regression(df, 253 * 8)"
   ]
  },
  {
   "cell_type": "code",
   "execution_count": 21,
   "metadata": {
    "vscode": {
     "languageId": "r"
    }
   },
   "outputs": [
    {
     "name": "stdout",
     "output_type": "stream",
     "text": [
      "<class 'pandas.core.frame.DataFrame'>\n",
      "Int64Index: 10059 entries, 10 to 10068\n",
      "Data columns (total 6 columns):\n",
      " #   Column               Non-Null Count  Dtype         \n",
      "---  ------               --------------  -----         \n",
      " 0   price                10059 non-null  float64       \n",
      " 1   timestamp            10059 non-null  datetime64[ns]\n",
      " 2   price_log            10059 non-null  float64       \n",
      " 3   price_log_diff       10059 non-null  float64       \n",
      " 4   value                10059 non-null  float64       \n",
      " 5   price_log_error_126  10059 non-null  float64       \n",
      "dtypes: datetime64[ns](1), float64(5)\n",
      "memory usage: 550.1 KB\n"
     ]
    }
   ],
   "source": [
    "df.info()"
   ]
  },
  {
   "cell_type": "code",
   "execution_count": 22,
   "metadata": {
    "vscode": {
     "languageId": "r"
    }
   },
   "outputs": [
    {
     "data": {
      "text/plain": [
       "price                  0.018548\n",
       "price_log              0.033058\n",
       "price_log_diff        -0.062430\n",
       "value                  1.000000\n",
       "price_log_error_126    0.020116\n",
       "Name: value, dtype: float64"
      ]
     },
     "execution_count": 22,
     "metadata": {},
     "output_type": "execute_result"
    }
   ],
   "source": [
    "df.corr()['value']"
   ]
  },
  {
   "cell_type": "code",
   "execution_count": 23,
   "metadata": {
    "vscode": {
     "languageId": "r"
    }
   },
   "outputs": [],
   "source": [
    "rootdir = '../data/indicators'\n",
    "indicators_list = []\n",
    "for subdir, dirs, files in os.walk(rootdir):\n",
    "  for dir in dirs:\n",
    "    name = dir\n",
    "    if '=' in name:\n",
    "      indicators_list.append(name)"
   ]
  },
  {
   "cell_type": "code",
   "execution_count": 24,
   "metadata": {
    "vscode": {
     "languageId": "r"
    }
   },
   "outputs": [
    {
     "data": {
      "text/plain": [
       "['GC=F',\n",
       " 'HG=F',\n",
       " 'ZS=F',\n",
       " 'ZB=F',\n",
       " 'EURSEK=X',\n",
       " 'SB=F',\n",
       " 'EUR=X',\n",
       " 'LE=F',\n",
       " 'CL=F',\n",
       " 'SI=F',\n",
       " 'SEK=X']"
      ]
     },
     "execution_count": 24,
     "metadata": {},
     "output_type": "execute_result"
    }
   ],
   "source": [
    "indicators_list\n",
    " "
   ]
  },
  {
   "cell_type": "code",
   "execution_count": 25,
   "metadata": {
    "vscode": {
     "languageId": "r"
    }
   },
   "outputs": [],
   "source": [
    "import functools\n",
    "\n",
    "def rename_dataframe(df, name):\n",
    "  map = {'price': 'price_' + name,\n",
    "                            'price_log': 'price_log_' + name,\n",
    "                            'price_log_diff': 'price_log_diff_' + name,\n",
    "                            'price_log_error': 'price_log_error_' + name\n",
    "                            }\n",
    "  price_log_error_list = [name for name in df.columns if name.startswith('price_log_error')]\n",
    "\n",
    "  map = functools.reduce(lambda a, b: {b: b + '_' + name, **a}, price_log_error_list, map)\n",
    "  return df.rename(columns=map)"
   ]
  },
  {
   "cell_type": "code",
   "execution_count": 26,
   "metadata": {
    "vscode": {
     "languageId": "r"
    }
   },
   "outputs": [
    {
     "data": {
      "text/html": [
       "<div>\n",
       "<style scoped>\n",
       "    .dataframe tbody tr th:only-of-type {\n",
       "        vertical-align: middle;\n",
       "    }\n",
       "\n",
       "    .dataframe tbody tr th {\n",
       "        vertical-align: top;\n",
       "    }\n",
       "\n",
       "    .dataframe thead th {\n",
       "        text-align: right;\n",
       "    }\n",
       "</style>\n",
       "<table border=\"1\" class=\"dataframe\">\n",
       "  <thead>\n",
       "    <tr style=\"text-align: right;\">\n",
       "      <th></th>\n",
       "      <th>price_log_error_253_test</th>\n",
       "      <th>price_log_error_259_test</th>\n",
       "    </tr>\n",
       "  </thead>\n",
       "  <tbody>\n",
       "    <tr>\n",
       "      <th>0</th>\n",
       "      <td>1</td>\n",
       "      <td>3</td>\n",
       "    </tr>\n",
       "    <tr>\n",
       "      <th>1</th>\n",
       "      <td>2</td>\n",
       "      <td>4</td>\n",
       "    </tr>\n",
       "  </tbody>\n",
       "</table>\n",
       "</div>"
      ],
      "text/plain": [
       "   price_log_error_253_test  price_log_error_259_test\n",
       "0                         1                         3\n",
       "1                         2                         4"
      ]
     },
     "execution_count": 26,
     "metadata": {},
     "output_type": "execute_result"
    }
   ],
   "source": [
    "df_test = pd.DataFrame(data={'price_log_error_253': [1,2], 'price_log_error_259': [3,4]})\n",
    "rename_dataframe(df_test, 'test')"
   ]
  },
  {
   "cell_type": "code",
   "execution_count": 27,
   "metadata": {
    "vscode": {
     "languageId": "r"
    }
   },
   "outputs": [
    {
     "name": "stdout",
     "output_type": "stream",
     "text": [
      "merging indicator: GC=F\n",
      "starting linear regression:126\n",
      "['price_log_error_126']\n",
      "             timestamp  price_log_GC=F  price_log_error_126_GC=F\n",
      "10 2002-07-17 10:30:00        5.760163                 -0.760163\n",
      "11 2002-07-18 04:00:00        5.758902                 -0.758902\n",
      "12 2002-07-18 10:30:00        5.758902                 -0.758902\n",
      "13 2002-07-19 04:00:00        5.780435                 -0.780435\n",
      "14 2002-07-19 10:30:00        5.780435                 -0.780435\n",
      "merging indicator: HG=F\n",
      "starting linear regression:126\n",
      "['price_log_error_126']\n",
      "             timestamp  price_log_HG=F  price_log_error_126_HG=F\n",
      "10 2002-07-17 10:30:00       -0.313342                  0.313342\n",
      "11 2002-07-18 04:00:00       -0.314711                  0.314711\n",
      "12 2002-07-18 10:30:00       -0.318141                  0.318141\n",
      "13 2002-07-19 04:00:00       -0.328504                  0.328504\n",
      "14 2002-07-19 10:30:00       -0.336172                  0.336172\n",
      "merging indicator: ZS=F\n",
      "starting linear regression:126\n",
      "['price_log_error_126']\n",
      "             timestamp  price_log_ZS=F  price_log_error_126_ZS=F\n",
      "10 2002-07-17 10:30:00        6.357409                 -0.357409\n",
      "11 2002-07-18 04:00:00        6.356108                 -0.356108\n",
      "12 2002-07-18 10:30:00        6.358708                 -0.358708\n",
      "13 2002-07-19 04:00:00        6.351322                 -0.351322\n",
      "14 2002-07-19 10:30:00        6.354805                 -0.354805\n",
      "merging indicator: ZB=F\n",
      "starting linear regression:126\n",
      "['price_log_error_126']\n",
      "             timestamp  price_log_ZB=F  price_log_error_126_ZB=F\n",
      "10 2002-07-17 10:30:00        4.646493                 -0.646493\n",
      "11 2002-07-18 04:00:00        4.645292                 -0.645292\n",
      "12 2002-07-18 10:30:00        4.649785                 -0.649785\n",
      "13 2002-07-19 04:00:00        4.649785                 -0.649785\n",
      "14 2002-07-19 10:30:00        4.655448                 -0.655448\n",
      "merging indicator: EURSEK=X\n",
      "starting linear regression:126\n",
      "['price_log_error_126']\n",
      "             timestamp  price_log_EURSEK=X  price_log_error_126_EURSEK=X\n",
      "10 2002-07-15 05:30:00            2.224678                     -0.224678\n",
      "11 2002-07-15 23:00:00            2.224624                     -0.224624\n",
      "12 2002-07-16 05:30:00            2.233235                     -0.233235\n",
      "13 2002-07-16 23:00:00            2.232002                     -0.232002\n",
      "14 2002-07-17 05:30:00            2.229735                     -0.229735\n",
      "merging indicator: SB=F\n",
      "starting linear regression:126\n",
      "['price_log_error_126']\n",
      "             timestamp  price_log_SB=F  price_log_error_126_SB=F\n",
      "10 2002-07-17 10:30:00        1.745716                 -0.745716\n",
      "11 2002-07-18 04:00:00        1.750938                 -0.750938\n",
      "12 2002-07-18 10:30:00        1.796747                 -0.796747\n",
      "13 2002-07-19 04:00:00        1.816452                 -0.816452\n",
      "14 2002-07-19 10:30:00        1.801710                 -0.801710\n",
      "merging indicator: EUR=X\n",
      "starting linear regression:126\n",
      "['price_log_error_126']\n",
      "             timestamp  price_log_EUR=X  price_log_error_126_EUR=X\n",
      "10 2003-12-08 06:30:00        -0.200490                   0.200490\n",
      "11 2003-12-09 00:00:00        -0.200575                   0.200575\n",
      "12 2003-12-09 06:30:00        -0.202937                   0.202937\n",
      "13 2003-12-10 00:00:00        -0.202863                   0.202863\n",
      "14 2003-12-10 06:30:00        -0.198110                   0.198110\n",
      "merging indicator: LE=F\n",
      "starting linear regression:126\n",
      "['price_log_error_126']\n",
      "             timestamp  price_log_LE=F  price_log_error_126_LE=F\n",
      "10 2002-07-17 10:30:00        4.185479                 -0.185479\n",
      "11 2002-07-18 04:00:00        4.187759                 -0.187759\n",
      "12 2002-07-18 10:30:00        4.187759                 -0.187759\n",
      "13 2002-07-19 04:00:00        4.185099                 -0.185099\n",
      "14 2002-07-19 10:30:00        4.185099                 -0.185099\n",
      "merging indicator: CL=F\n",
      "starting linear regression:126\n"
     ]
    },
    {
     "name": "stderr",
     "output_type": "stream",
     "text": [
      "/home/ken/anaconda3/lib/python3.9/site-packages/pandas/core/arraylike.py:397: RuntimeWarning: invalid value encountered in log\n",
      "  result = getattr(ufunc, method)(*inputs, **kwargs)\n"
     ]
    },
    {
     "name": "stdout",
     "output_type": "stream",
     "text": [
      "['price_log_error_126']\n",
      "             timestamp  price_log_CL=F  price_log_error_126_CL=F\n",
      "10 2002-07-17 10:30:00        3.327910                 -0.327910\n",
      "11 2002-07-18 04:00:00        3.322154                 -0.322154\n",
      "12 2002-07-18 10:30:00        3.316728                 -0.316728\n",
      "13 2002-07-19 04:00:00        3.305054                 -0.305054\n",
      "14 2002-07-19 10:30:00        3.326115                 -0.326115\n",
      "merging indicator: SI=F\n",
      "starting linear regression:126\n",
      "['price_log_error_126']\n",
      "             timestamp  price_log_SI=F  price_log_error_126_SI=F\n",
      "10 2002-07-17 10:30:00        1.607436                 -0.607436\n",
      "11 2002-07-18 04:00:00        1.603420                 -0.603420\n",
      "12 2002-07-18 10:30:00        1.607436                 -0.607436\n",
      "13 2002-07-19 04:00:00        1.621959                 -0.621959\n",
      "14 2002-07-19 10:30:00        1.621959                 -0.621959\n",
      "merging indicator: SEK=X\n",
      "starting linear regression:126\n",
      "['price_log_error_126']\n",
      "             timestamp  price_log_SEK=X  price_log_error_126_SEK=X\n",
      "10 2002-07-15 05:30:00         2.222161                  -0.222161\n",
      "11 2002-07-15 23:00:00         2.221028                  -0.221028\n",
      "12 2002-07-16 05:30:00         2.222036                  -0.222036\n",
      "13 2002-07-16 23:00:00         2.226114                  -0.226114\n",
      "14 2002-07-17 05:30:00         2.222936                  -0.222936\n"
     ]
    }
   ],
   "source": [
    "for indicator in indicators_list:\n",
    "    print('merging indicator: ' + indicator)\n",
    "    path = os.path.join('../data/indicators', indicator)\n",
    "    df_ind = pd.read_json(os.path.join(path, 'daily', 'data')).dropna()\n",
    "    df_stack_ind = stack_table(df_ind)\n",
    "    df_stack_ind_err = linear_regression(df_stack_ind, 126)\n",
    "    # df_stack_ind_err = linear_regression(df_stack_ind_err, 253)\n",
    "    # df_stack_ind_err = linear_regression(df_stack_ind_err, 253 * 2)\n",
    "    # df_stack_ind_err = linear_regression(df_stack_ind_err, 253 * 4)\n",
    "    # df_stack_ind_err = linear_regression(df_stack_ind_err, 253 * 8)\n",
    "    # df_stack_ind\n",
    "    err_column_list = [name for name in df_stack_ind_err.columns if name.startswith('price_log_error')]\n",
    "    print(err_column_list)\n",
    "    df_stack_ind_err = rename_dataframe(df_stack_ind_err[['timestamp','price_log'] + err_column_list], indicator)\n",
    "    print(df_stack_ind_err.head())\n",
    "    df = pd.merge_asof(df, df_stack_ind_err, on='timestamp')\n"
   ]
  },
  {
   "cell_type": "code",
   "execution_count": 28,
   "metadata": {
    "vscode": {
     "languageId": "r"
    }
   },
   "outputs": [
    {
     "name": "stdout",
     "output_type": "stream",
     "text": [
      "<class 'pandas.core.frame.DataFrame'>\n",
      "Int64Index: 10059 entries, 0 to 10058\n",
      "Data columns (total 28 columns):\n",
      " #   Column                        Non-Null Count  Dtype         \n",
      "---  ------                        --------------  -----         \n",
      " 0   price                         10059 non-null  float64       \n",
      " 1   timestamp                     10059 non-null  datetime64[ns]\n",
      " 2   price_log                     10059 non-null  float64       \n",
      " 3   price_log_diff                10059 non-null  float64       \n",
      " 4   value                         10059 non-null  float64       \n",
      " 5   price_log_error_126           10059 non-null  float64       \n",
      " 6   price_log_GC=F                10058 non-null  float64       \n",
      " 7   price_log_error_126_GC=F      10058 non-null  float64       \n",
      " 8   price_log_HG=F                10058 non-null  float64       \n",
      " 9   price_log_error_126_HG=F      10058 non-null  float64       \n",
      " 10  price_log_ZS=F                10058 non-null  float64       \n",
      " 11  price_log_error_126_ZS=F      10058 non-null  float64       \n",
      " 12  price_log_ZB=F                10058 non-null  float64       \n",
      " 13  price_log_error_126_ZB=F      10058 non-null  float64       \n",
      " 14  price_log_EURSEK=X            10059 non-null  float64       \n",
      " 15  price_log_error_126_EURSEK=X  10059 non-null  float64       \n",
      " 16  price_log_SB=F                10058 non-null  float64       \n",
      " 17  price_log_error_126_SB=F      10058 non-null  float64       \n",
      " 18  price_log_EUR=X               9354 non-null   float64       \n",
      " 19  price_log_error_126_EUR=X     9354 non-null   float64       \n",
      " 20  price_log_LE=F                10058 non-null  float64       \n",
      " 21  price_log_error_126_LE=F      10058 non-null  float64       \n",
      " 22  price_log_CL=F                10058 non-null  float64       \n",
      " 23  price_log_error_126_CL=F      10058 non-null  float64       \n",
      " 24  price_log_SI=F                10058 non-null  float64       \n",
      " 25  price_log_error_126_SI=F      10058 non-null  float64       \n",
      " 26  price_log_SEK=X               10059 non-null  float64       \n",
      " 27  price_log_error_126_SEK=X     10059 non-null  float64       \n",
      "dtypes: datetime64[ns](1), float64(27)\n",
      "memory usage: 2.2 MB\n"
     ]
    }
   ],
   "source": [
    "df.info()"
   ]
  },
  {
   "cell_type": "code",
   "execution_count": 29,
   "metadata": {
    "vscode": {
     "languageId": "r"
    }
   },
   "outputs": [],
   "source": [
    "def reorder(df):\n",
    "\n",
    "  columns_non_value = [name for name in df.columns if name != 'value']\n",
    "  df = df[columns_non_value + ['value']]\n",
    "  return df"
   ]
  },
  {
   "cell_type": "code",
   "execution_count": 30,
   "metadata": {
    "vscode": {
     "languageId": "r"
    }
   },
   "outputs": [],
   "source": [
    "df = reorder(df)"
   ]
  },
  {
   "cell_type": "code",
   "execution_count": 33,
   "metadata": {
    "vscode": {
     "languageId": "r"
    }
   },
   "outputs": [
    {
     "data": {
      "text/plain": [
       "value                       1.000000\n",
       "price_log_ZB=F              0.085727\n",
       "price_log_EURSEK=X          0.056502\n",
       "price_log_SEK=X             0.055224\n",
       "price_log_EUR=X             0.048549\n",
       "price_log_error_126_ZB=F    0.044513\n",
       "price_log_GC=F              0.044183\n",
       "price_log_error_126_SI=F    0.037939\n",
       "price_log_error_126_CL=F    0.034441\n",
       "price_log                   0.033058\n",
       "Name: value, dtype: float64"
      ]
     },
     "execution_count": 33,
     "metadata": {},
     "output_type": "execute_result"
    }
   ],
   "source": [
    "df.corr()['value'].sort_values(ascending=False)[:10]"
   ]
  },
  {
   "cell_type": "code",
   "execution_count": 34,
   "metadata": {
    "vscode": {
     "languageId": "r"
    }
   },
   "outputs": [
    {
     "data": {
      "text/plain": [
       "price_log_HG=F                  0.009502\n",
       "price_log_error_126_HG=F        0.006152\n",
       "price_log_error_126_SB=F        0.000148\n",
       "price_log_error_126_ZS=F       -0.003717\n",
       "price_log_ZS=F                 -0.005657\n",
       "price_log_error_126_LE=F       -0.029183\n",
       "price_log_CL=F                 -0.037496\n",
       "price_log_error_126_EUR=X      -0.048549\n",
       "price_log_error_126_EURSEK=X   -0.055270\n",
       "price_log_diff                 -0.062430\n",
       "Name: value, dtype: float64"
      ]
     },
     "execution_count": 34,
     "metadata": {},
     "output_type": "execute_result"
    }
   ],
   "source": [
    "df.corr()['value'].sort_values(ascending=False)[-10:]"
   ]
  },
  {
   "cell_type": "code",
   "execution_count": 35,
   "metadata": {
    "vscode": {
     "languageId": "r"
    }
   },
   "outputs": [],
   "source": [
    "rootdir = '../data/fred'\n",
    "fred_list = []\n",
    "for subdir, dirs, files in os.walk(rootdir):\n",
    "  for dir in files:\n",
    "    name = dir\n",
    "    fred_list.append(name)"
   ]
  },
  {
   "cell_type": "code",
   "execution_count": 36,
   "metadata": {
    "vscode": {
     "languageId": "r"
    }
   },
   "outputs": [
    {
     "data": {
      "text/plain": [
       "['M2', 'GDP', 'CPI', 'UNRATE', 'M1SL']"
      ]
     },
     "execution_count": 36,
     "metadata": {},
     "output_type": "execute_result"
    }
   ],
   "source": [
    "fred_list"
   ]
  },
  {
   "cell_type": "code",
   "execution_count": null,
   "metadata": {
    "vscode": {
     "languageId": "r"
    }
   },
   "outputs": [],
   "source": []
  },
  {
   "cell_type": "code",
   "execution_count": 37,
   "metadata": {
    "vscode": {
     "languageId": "r"
    }
   },
   "outputs": [
    {
     "name": "stdout",
     "output_type": "stream",
     "text": [
      "merging fred data: M2\n",
      "merging fred data: GDP\n",
      "merging fred data: CPI\n",
      "merging fred data: UNRATE\n",
      "merging fred data: M1SL\n"
     ]
    },
    {
     "name": "stderr",
     "output_type": "stream",
     "text": [
      "/home/ken/anaconda3/lib/python3.9/site-packages/pandas/core/arraylike.py:397: RuntimeWarning: divide by zero encountered in log\n",
      "  result = getattr(ufunc, method)(*inputs, **kwargs)\n",
      "/home/ken/anaconda3/lib/python3.9/site-packages/pandas/core/arraylike.py:397: RuntimeWarning: invalid value encountered in log\n",
      "  result = getattr(ufunc, method)(*inputs, **kwargs)\n"
     ]
    }
   ],
   "source": [
    "for fred in fred_list:\n",
    "    print('merging fred data: ' + fred)\n",
    "    path = os.path.join('../data/fred', fred)\n",
    "    df_fred = pd.read_csv(path).dropna()\n",
    "    df_fred['timestamp']=pd.to_datetime(df_fred['DATE'])\n",
    "    df_fred['price_log']=np.log(df_fred.iloc[:,1])\n",
    "    # df_stack_ind\n",
    "    df_fred = rename_dataframe(df_fred[['timestamp', 'price_log']], fred)\n",
    "    df = pd.merge_asof(df, df_fred, on='timestamp')"
   ]
  },
  {
   "cell_type": "code",
   "execution_count": 38,
   "metadata": {
    "vscode": {
     "languageId": "r"
    }
   },
   "outputs": [
    {
     "data": {
      "text/plain": [
       "value                           1.000000\n",
       "price_log_ZB=F                  0.085727\n",
       "price_log_diff                  0.062430\n",
       "price_log_EURSEK=X              0.056502\n",
       "price_log_error_126_EURSEK=X    0.055270\n",
       "price_log_SEK=X                 0.055224\n",
       "price_log_EUR=X                 0.048549\n",
       "price_log_error_126_EUR=X       0.048549\n",
       "price_log_CPI                   0.045266\n",
       "price_log_error_126_ZB=F        0.044513\n",
       "Name: value, dtype: float64"
      ]
     },
     "execution_count": 38,
     "metadata": {},
     "output_type": "execute_result"
    }
   ],
   "source": [
    "df.corr()['value'].abs().sort_values(ascending=False).head(10)"
   ]
  },
  {
   "cell_type": "code",
   "execution_count": 39,
   "metadata": {
    "vscode": {
     "languageId": "r"
    }
   },
   "outputs": [],
   "source": [
    "import os\n",
    "\n",
    "if not os.path.isdir('data'):\n",
    "    os.mkdir('data')\n",
    "\n",
    "df.to_csv(f'./data/data-{stock_name}.csv')"
   ]
  },
  {
   "cell_type": "code",
   "execution_count": 40,
   "metadata": {
    "vscode": {
     "languageId": "r"
    }
   },
   "outputs": [],
   "source": [
    "import pandas as pd\n",
    "df = pd.read_csv(f'./data/data-{stock_name}.csv')"
   ]
  },
  {
   "cell_type": "code",
   "execution_count": 41,
   "metadata": {
    "vscode": {
     "languageId": "r"
    }
   },
   "outputs": [
    {
     "name": "stdout",
     "output_type": "stream",
     "text": [
      "<class 'pandas.core.frame.DataFrame'>\n",
      "RangeIndex: 10059 entries, 0 to 10058\n",
      "Data columns (total 34 columns):\n",
      " #   Column                        Non-Null Count  Dtype  \n",
      "---  ------                        --------------  -----  \n",
      " 0   Unnamed: 0                    10059 non-null  int64  \n",
      " 1   price                         10059 non-null  float64\n",
      " 2   timestamp                     10059 non-null  object \n",
      " 3   price_log                     10059 non-null  float64\n",
      " 4   price_log_diff                10059 non-null  float64\n",
      " 5   price_log_error_126           10059 non-null  float64\n",
      " 6   price_log_GC=F                10058 non-null  float64\n",
      " 7   price_log_error_126_GC=F      10058 non-null  float64\n",
      " 8   price_log_HG=F                10058 non-null  float64\n",
      " 9   price_log_error_126_HG=F      10058 non-null  float64\n",
      " 10  price_log_ZS=F                10058 non-null  float64\n",
      " 11  price_log_error_126_ZS=F      10058 non-null  float64\n",
      " 12  price_log_ZB=F                10058 non-null  float64\n",
      " 13  price_log_error_126_ZB=F      10058 non-null  float64\n",
      " 14  price_log_EURSEK=X            10059 non-null  float64\n",
      " 15  price_log_error_126_EURSEK=X  10059 non-null  float64\n",
      " 16  price_log_SB=F                10058 non-null  float64\n",
      " 17  price_log_error_126_SB=F      10058 non-null  float64\n",
      " 18  price_log_EUR=X               9354 non-null   float64\n",
      " 19  price_log_error_126_EUR=X     9354 non-null   float64\n",
      " 20  price_log_LE=F                10058 non-null  float64\n",
      " 21  price_log_error_126_LE=F      10058 non-null  float64\n",
      " 22  price_log_CL=F                10058 non-null  float64\n",
      " 23  price_log_error_126_CL=F      10058 non-null  float64\n",
      " 24  price_log_SI=F                10058 non-null  float64\n",
      " 25  price_log_error_126_SI=F      10058 non-null  float64\n",
      " 26  price_log_SEK=X               10059 non-null  float64\n",
      " 27  price_log_error_126_SEK=X     10059 non-null  float64\n",
      " 28  value                         10059 non-null  float64\n",
      " 29  price_log_M2                  5282 non-null   float64\n",
      " 30  price_log_GDP                 5416 non-null   float64\n",
      " 31  price_log_CPI                 7397 non-null   float64\n",
      " 32  price_log_UNRATE              5332 non-null   float64\n",
      " 33  price_log_M1SL                5332 non-null   float64\n",
      "dtypes: float64(32), int64(1), object(1)\n",
      "memory usage: 2.6+ MB\n"
     ]
    }
   ],
   "source": [
    "df.info()"
   ]
  },
  {
   "cell_type": "code",
   "execution_count": 42,
   "metadata": {
    "vscode": {
     "languageId": "r"
    }
   },
   "outputs": [],
   "source": [
    "import numpy as np\n",
    "df.replace([np.inf, -np.inf], np.nan, inplace=True)\n",
    "df = df.interpolate(method='bfill', limit_direction='backward')\n"
   ]
  },
  {
   "cell_type": "code",
   "execution_count": null,
   "metadata": {
    "vscode": {
     "languageId": "r"
    }
   },
   "outputs": [],
   "source": []
  },
  {
   "cell_type": "code",
   "execution_count": 43,
   "metadata": {
    "vscode": {
     "languageId": "r"
    }
   },
   "outputs": [
    {
     "name": "stdout",
     "output_type": "stream",
     "text": [
      "<class 'pandas.core.frame.DataFrame'>\n",
      "RangeIndex: 10059 entries, 0 to 10058\n",
      "Data columns (total 34 columns):\n",
      " #   Column                        Non-Null Count  Dtype  \n",
      "---  ------                        --------------  -----  \n",
      " 0   Unnamed: 0                    10059 non-null  int64  \n",
      " 1   price                         10059 non-null  float64\n",
      " 2   timestamp                     10059 non-null  object \n",
      " 3   price_log                     10059 non-null  float64\n",
      " 4   price_log_diff                10059 non-null  float64\n",
      " 5   price_log_error_126           10059 non-null  float64\n",
      " 6   price_log_GC=F                10059 non-null  float64\n",
      " 7   price_log_error_126_GC=F      10059 non-null  float64\n",
      " 8   price_log_HG=F                10059 non-null  float64\n",
      " 9   price_log_error_126_HG=F      10059 non-null  float64\n",
      " 10  price_log_ZS=F                10059 non-null  float64\n",
      " 11  price_log_error_126_ZS=F      10059 non-null  float64\n",
      " 12  price_log_ZB=F                10059 non-null  float64\n",
      " 13  price_log_error_126_ZB=F      10059 non-null  float64\n",
      " 14  price_log_EURSEK=X            10059 non-null  float64\n",
      " 15  price_log_error_126_EURSEK=X  10059 non-null  float64\n",
      " 16  price_log_SB=F                10059 non-null  float64\n",
      " 17  price_log_error_126_SB=F      10059 non-null  float64\n",
      " 18  price_log_EUR=X               10059 non-null  float64\n",
      " 19  price_log_error_126_EUR=X     10059 non-null  float64\n",
      " 20  price_log_LE=F                10059 non-null  float64\n",
      " 21  price_log_error_126_LE=F      10059 non-null  float64\n",
      " 22  price_log_CL=F                10059 non-null  float64\n",
      " 23  price_log_error_126_CL=F      10059 non-null  float64\n",
      " 24  price_log_SI=F                10059 non-null  float64\n",
      " 25  price_log_error_126_SI=F      10059 non-null  float64\n",
      " 26  price_log_SEK=X               10059 non-null  float64\n",
      " 27  price_log_error_126_SEK=X     10059 non-null  float64\n",
      " 28  value                         10059 non-null  float64\n",
      " 29  price_log_M2                  10059 non-null  float64\n",
      " 30  price_log_GDP                 10059 non-null  float64\n",
      " 31  price_log_CPI                 10059 non-null  float64\n",
      " 32  price_log_UNRATE              10059 non-null  float64\n",
      " 33  price_log_M1SL                10059 non-null  float64\n",
      "dtypes: float64(32), int64(1), object(1)\n",
      "memory usage: 2.6+ MB\n"
     ]
    }
   ],
   "source": [
    "df.info()"
   ]
  },
  {
   "cell_type": "code",
   "execution_count": 44,
   "metadata": {
    "vscode": {
     "languageId": "r"
    }
   },
   "outputs": [
    {
     "data": {
      "text/plain": [
       "<AxesSubplot:>"
      ]
     },
     "execution_count": 44,
     "metadata": {},
     "output_type": "execute_result"
    },
    {
     "data": {
      "image/png": "[encoded data removed]",
      "text/plain": [
       "<Figure size 432x288 with 1 Axes>"
      ]
     },
     "metadata": {
      "needs_background": "light"
     },
     "output_type": "display_data"
    }
   ],
   "source": [
    "df[['price_log_GDP']].interpolate(method='index', limit_direction='backward').plot()"
   ]
  },
  {
   "cell_type": "code",
   "execution_count": 45,
   "metadata": {
    "vscode": {
     "languageId": "r"
    }
   },
   "outputs": [],
   "source": [
    "# # get-started/run-hello.py\n",
    "# from azureml.core import Workspace, Experiment, Environment, ScriptRunConfig\n",
    "\n",
    "# ws = Workspace.get(name=\"stock\",\n",
    "#             subscription_id='fbc1bf20-ad59-475d-aa41-1dca1753160c',\n",
    "#             resource_group='ken-ml')\n"
   ]
  },
  {
   "cell_type": "code",
   "execution_count": 46,
   "metadata": {
    "vscode": {
     "languageId": "r"
    }
   },
   "outputs": [],
   "source": [
    "# from sklearn.model_selection import train_test_split\n",
    "# x_train, x_test = train_test_split(df, test_size=0.2, random_state=223)"
   ]
  },
  {
   "cell_type": "code",
   "execution_count": 47,
   "metadata": {
    "vscode": {
     "languageId": "r"
    }
   },
   "outputs": [],
   "source": [
    "# import logging\n",
    "\n",
    "# automl_settings = {\n",
    "#     \"iteration_timeout_minutes\": 20,\n",
    "#     \"experiment_timeout_hours\": 10,\n",
    "#     \"enable_early_stopping\": True,\n",
    "#     \"primary_metric\": 'normalized_root_mean_squared_error',\n",
    "#     \"featurization\": 'auto',\n",
    "#     \"verbosity\": logging.INFO,\n",
    "#     \"n_cross_validations\": 5\n",
    "# }"
   ]
  },
  {
   "cell_type": "code",
   "execution_count": 48,
   "metadata": {
    "vscode": {
     "languageId": "r"
    }
   },
   "outputs": [],
   "source": [
    "# from azureml.train.automl import AutoMLConfig\n",
    "\n",
    "# automl_config = AutoMLConfig(task='regression',\n",
    "#                              debug_log='automated_ml_errors.log',\n",
    "#                              training_data=x_train,\n",
    "#                              label_column_name=\"value\",\n",
    "#                              **automl_settings)"
   ]
  },
  {
   "cell_type": "code",
   "execution_count": 49,
   "metadata": {
    "vscode": {
     "languageId": "r"
    }
   },
   "outputs": [],
   "source": [
    "# from azureml.core.experiment import Experiment\n",
    "# experiment = Experiment(ws, \"Stock\")\n",
    "# local_run = experiment.submit(automl_config, show_output=True)"
   ]
  },
  {
   "cell_type": "code",
   "execution_count": 50,
   "metadata": {
    "vscode": {
     "languageId": "r"
    }
   },
   "outputs": [],
   "source": [
    "column_list = [name for name in df.columns if name != 'value' and name != 'timestamp' and name != 'index']\n",
    "\n"
   ]
  },
  {
   "cell_type": "code",
   "execution_count": 51,
   "metadata": {
    "vscode": {
     "languageId": "r"
    }
   },
   "outputs": [
    {
     "data": {
      "text/plain": [
       "['Unnamed: 0',\n",
       " 'price',\n",
       " 'price_log',\n",
       " 'price_log_diff',\n",
       " 'price_log_error_126',\n",
       " 'price_log_GC=F',\n",
       " 'price_log_error_126_GC=F',\n",
       " 'price_log_HG=F',\n",
       " 'price_log_error_126_HG=F',\n",
       " 'price_log_ZS=F',\n",
       " 'price_log_error_126_ZS=F',\n",
       " 'price_log_ZB=F',\n",
       " 'price_log_error_126_ZB=F',\n",
       " 'price_log_EURSEK=X',\n",
       " 'price_log_error_126_EURSEK=X',\n",
       " 'price_log_SB=F',\n",
       " 'price_log_error_126_SB=F',\n",
       " 'price_log_EUR=X',\n",
       " 'price_log_error_126_EUR=X',\n",
       " 'price_log_LE=F',\n",
       " 'price_log_error_126_LE=F',\n",
       " 'price_log_CL=F',\n",
       " 'price_log_error_126_CL=F',\n",
       " 'price_log_SI=F',\n",
       " 'price_log_error_126_SI=F',\n",
       " 'price_log_SEK=X',\n",
       " 'price_log_error_126_SEK=X',\n",
       " 'price_log_M2',\n",
       " 'price_log_GDP',\n",
       " 'price_log_CPI',\n",
       " 'price_log_UNRATE',\n",
       " 'price_log_M1SL']"
      ]
     },
     "execution_count": 51,
     "metadata": {},
     "output_type": "execute_result"
    }
   ],
   "source": [
    "column_list"
   ]
  },
  {
   "cell_type": "code",
   "execution_count": 52,
   "metadata": {
    "vscode": {
     "languageId": "r"
    }
   },
   "outputs": [
    {
     "data": {
      "text/plain": [
       "Index(['Unnamed: 0', 'price', 'timestamp', 'price_log', 'price_log_diff',\n",
       "       'price_log_error_126', 'price_log_GC=F', 'price_log_error_126_GC=F',\n",
       "       'price_log_HG=F', 'price_log_error_126_HG=F', 'price_log_ZS=F',\n",
       "       'price_log_error_126_ZS=F', 'price_log_ZB=F',\n",
       "       'price_log_error_126_ZB=F', 'price_log_EURSEK=X',\n",
       "       'price_log_error_126_EURSEK=X', 'price_log_SB=F',\n",
       "       'price_log_error_126_SB=F', 'price_log_EUR=X',\n",
       "       'price_log_error_126_EUR=X', 'price_log_LE=F',\n",
       "       'price_log_error_126_LE=F', 'price_log_CL=F',\n",
       "       'price_log_error_126_CL=F', 'price_log_SI=F',\n",
       "       'price_log_error_126_SI=F', 'price_log_SEK=X',\n",
       "       'price_log_error_126_SEK=X', 'value', 'price_log_M2', 'price_log_GDP',\n",
       "       'price_log_CPI', 'price_log_UNRATE', 'price_log_M1SL'],\n",
       "      dtype='object')"
      ]
     },
     "execution_count": 52,
     "metadata": {},
     "output_type": "execute_result"
    }
   ],
   "source": [
    "df.columns"
   ]
  },
  {
   "cell_type": "code",
   "execution_count": 53,
   "metadata": {
    "vscode": {
     "languageId": "r"
    }
   },
   "outputs": [],
   "source": [
    "# Numerical pipeline\n",
    "from sklearn.pipeline import Pipeline\n",
    "from sklearn.impute import SimpleImputer\n",
    "from sklearn.experimental import enable_iterative_imputer\n",
    "from sklearn.impute import IterativeImputer\n",
    "from sklearn.preprocessing import StandardScaler\n",
    "from sklearn.preprocessing import Normalizer\n",
    "\n",
    "num_pipeline = Pipeline([ \n",
    " ('imputer', SimpleImputer(strategy=\"mean\")),\n",
    " ('std_scaler', StandardScaler() )])\n",
    "\n",
    "num_pipeline_normalizer = Pipeline([ \n",
    " ('imputer', SimpleImputer(strategy=\"mean\")),\n",
    " ('normalizer', Normalizer() )])\n",
    "\n",
    "# categorical pipeline\n",
    "from sklearn.preprocessing import OneHotEncoder\n",
    "cat_pipeline = Pipeline([ \n",
    " ('imputer', SimpleImputer(strategy=\"most_frequent\")),\n",
    " ('OneHotEncoder', OneHotEncoder())\n",
    " ])\n",
    "\n",
    "\n",
    "from sklearn.compose import ColumnTransformer\n",
    "\n",
    "num_attribs = column_list\n",
    "cat_attribs = []\n",
    "\n",
    "# preprocess pipeline\n",
    "from sklearn.compose import ColumnTransformer\n",
    "column_pipeline = ColumnTransformer([(\"num\", num_pipeline, num_attribs),(\"cat\", cat_pipeline, cat_attribs)])\n",
    "column_pipeline_normal = ColumnTransformer([(\"num\", num_pipeline_normalizer, num_attribs),(\"cat\", cat_pipeline, cat_attribs)])"
   ]
  },
  {
   "cell_type": "code",
   "execution_count": 54,
   "metadata": {
    "vscode": {
     "languageId": "r"
    }
   },
   "outputs": [],
   "source": [
    "#Train Data: From 2013-01-01 - 2021-01-01\n",
    "df_train = df[df['timestamp']<'2018-01-01']\n",
    "X, y = df_train[column_list], df_train['value']\n",
    "df_test = df[df['timestamp']>='2018-01-01']\n",
    "X_test, y_test = df_test[column_list], df_test['value']"
   ]
  },
  {
   "cell_type": "code",
   "execution_count": 55,
   "metadata": {
    "vscode": {
     "languageId": "r"
    }
   },
   "outputs": [
    {
     "data": {
      "text/plain": [
       "Unnamed: 0                       0.000000\n",
       "price                           15.150000\n",
       "price_log                        2.718001\n",
       "price_log_diff                  -0.117462\n",
       "price_log_error_126             -1.237513\n",
       "price_log_GC=F                   5.712081\n",
       "price_log_error_126_GC=F        -1.350750\n",
       "price_log_HG=F                  -0.421594\n",
       "price_log_error_126_HG=F        -1.280276\n",
       "price_log_ZS=F                   6.213608\n",
       "price_log_error_126_ZS=F        -1.269599\n",
       "price_log_ZB=F                   4.640779\n",
       "price_log_error_126_ZB=F        -1.314350\n",
       "price_log_EURSEK=X               2.101729\n",
       "price_log_error_126_EURSEK=X    -0.458015\n",
       "price_log_SB=F                   1.678964\n",
       "price_log_error_126_SB=F        -1.257716\n",
       "price_log_EUR=X                 -0.469252\n",
       "price_log_error_126_EUR=X        0.038304\n",
       "price_log_LE=F                   4.161614\n",
       "price_log_error_126_LE=F        -1.140849\n",
       "price_log_CL=F                   3.226447\n",
       "price_log_error_126_CL=F        -1.269815\n",
       "price_log_SI=F                   1.452316\n",
       "price_log_error_126_SI=F        -1.310565\n",
       "price_log_SEK=X                  1.764423\n",
       "price_log_error_126_SEK=X       -1.297795\n",
       "price_log_M2                     9.177559\n",
       "price_log_GDP                    9.670437\n",
       "price_log_CPI                   -6.018849\n",
       "price_log_UNRATE                 1.410987\n",
       "price_log_M1SL                   7.680499\n",
       "dtype: float64"
      ]
     },
     "execution_count": 55,
     "metadata": {},
     "output_type": "execute_result"
    }
   ],
   "source": [
    "X.min()"
   ]
  },
  {
   "cell_type": "code",
   "execution_count": 56,
   "metadata": {
    "vscode": {
     "languageId": "r"
    }
   },
   "outputs": [
    {
     "data": {
      "text/plain": [
       "array([[-1.73182839, -0.62867711, -0.68062906, ..., -0.78709971,\n",
       "         0.63076222, -0.66899384],\n",
       "       [-1.73138354, -0.58212868, -0.60711662, ..., -0.78709971,\n",
       "         0.63076222, -0.66899384],\n",
       "       [-1.73093868, -0.60118789, -0.63699899, ..., -0.78709971,\n",
       "         0.63076222, -0.66899384],\n",
       "       ...,\n",
       "       [ 1.73093868,  3.77656247,  2.94572845, ...,  0.7867727 ,\n",
       "        -2.5652333 ,  2.41129466],\n",
       "       [ 1.73138354,  3.76996477,  2.94257356, ...,  0.7867727 ,\n",
       "        -2.5652333 ,  2.41129466],\n",
       "       [ 1.73182839,  3.76336762,  2.93941561, ...,  0.7867727 ,\n",
       "        -2.5652333 ,  2.41129466]])"
      ]
     },
     "execution_count": 56,
     "metadata": {},
     "output_type": "execute_result"
    }
   ],
   "source": [
    "column_pipeline.fit_transform(X)"
   ]
  },
  {
   "cell_type": "code",
   "execution_count": 57,
   "metadata": {
    "vscode": {
     "languageId": "r"
    }
   },
   "outputs": [
    {
     "data": {
      "text/html": [
       "<div>\n",
       "<style scoped>\n",
       "    .dataframe tbody tr th:only-of-type {\n",
       "        vertical-align: middle;\n",
       "    }\n",
       "\n",
       "    .dataframe tbody tr th {\n",
       "        vertical-align: top;\n",
       "    }\n",
       "\n",
       "    .dataframe thead th {\n",
       "        text-align: right;\n",
       "    }\n",
       "</style>\n",
       "<table border=\"1\" class=\"dataframe\">\n",
       "  <thead>\n",
       "    <tr style=\"text-align: right;\">\n",
       "      <th></th>\n",
       "      <th>Unnamed: 0</th>\n",
       "      <th>price</th>\n",
       "      <th>price_log</th>\n",
       "      <th>price_log_diff</th>\n",
       "      <th>price_log_error_126</th>\n",
       "      <th>price_log_GC=F</th>\n",
       "      <th>price_log_error_126_GC=F</th>\n",
       "      <th>price_log_HG=F</th>\n",
       "      <th>price_log_error_126_HG=F</th>\n",
       "      <th>price_log_ZS=F</th>\n",
       "      <th>...</th>\n",
       "      <th>price_log_error_126_CL=F</th>\n",
       "      <th>price_log_SI=F</th>\n",
       "      <th>price_log_error_126_SI=F</th>\n",
       "      <th>price_log_SEK=X</th>\n",
       "      <th>price_log_error_126_SEK=X</th>\n",
       "      <th>price_log_M2</th>\n",
       "      <th>price_log_GDP</th>\n",
       "      <th>price_log_CPI</th>\n",
       "      <th>price_log_UNRATE</th>\n",
       "      <th>price_log_M1SL</th>\n",
       "    </tr>\n",
       "  </thead>\n",
       "  <tbody>\n",
       "    <tr>\n",
       "      <th>0</th>\n",
       "      <td>0</td>\n",
       "      <td>25.625000</td>\n",
       "      <td>3.243568</td>\n",
       "      <td>-0.001170</td>\n",
       "      <td>-0.243568</td>\n",
       "      <td>5.760163</td>\n",
       "      <td>-0.760163</td>\n",
       "      <td>-0.313342</td>\n",
       "      <td>0.313342</td>\n",
       "      <td>6.357409</td>\n",
       "      <td>...</td>\n",
       "      <td>-0.327910</td>\n",
       "      <td>1.607436</td>\n",
       "      <td>-0.607436</td>\n",
       "      <td>2.222036</td>\n",
       "      <td>-0.222036</td>\n",
       "      <td>9.192563</td>\n",
       "      <td>9.670437</td>\n",
       "      <td>-2.196669</td>\n",
       "      <td>2.140066</td>\n",
       "      <td>7.680499</td>\n",
       "    </tr>\n",
       "    <tr>\n",
       "      <th>1</th>\n",
       "      <td>1</td>\n",
       "      <td>26.260000</td>\n",
       "      <td>3.268047</td>\n",
       "      <td>0.024478</td>\n",
       "      <td>-0.268047</td>\n",
       "      <td>5.760163</td>\n",
       "      <td>-0.760163</td>\n",
       "      <td>-0.313342</td>\n",
       "      <td>0.313342</td>\n",
       "      <td>6.357409</td>\n",
       "      <td>...</td>\n",
       "      <td>-0.327910</td>\n",
       "      <td>1.607436</td>\n",
       "      <td>-0.607436</td>\n",
       "      <td>2.222936</td>\n",
       "      <td>-0.222936</td>\n",
       "      <td>9.192563</td>\n",
       "      <td>9.670437</td>\n",
       "      <td>-2.196669</td>\n",
       "      <td>2.140066</td>\n",
       "      <td>7.680499</td>\n",
       "    </tr>\n",
       "    <tr>\n",
       "      <th>2</th>\n",
       "      <td>2</td>\n",
       "      <td>26.000000</td>\n",
       "      <td>3.258097</td>\n",
       "      <td>-0.009950</td>\n",
       "      <td>-0.258097</td>\n",
       "      <td>5.760163</td>\n",
       "      <td>-0.760163</td>\n",
       "      <td>-0.313342</td>\n",
       "      <td>0.313342</td>\n",
       "      <td>6.357409</td>\n",
       "      <td>...</td>\n",
       "      <td>-0.327910</td>\n",
       "      <td>1.607436</td>\n",
       "      <td>-0.607436</td>\n",
       "      <td>2.222936</td>\n",
       "      <td>-0.222936</td>\n",
       "      <td>9.192563</td>\n",
       "      <td>9.670437</td>\n",
       "      <td>-2.196669</td>\n",
       "      <td>2.140066</td>\n",
       "      <td>7.680499</td>\n",
       "    </tr>\n",
       "    <tr>\n",
       "      <th>3</th>\n",
       "      <td>3</td>\n",
       "      <td>26.030001</td>\n",
       "      <td>3.259250</td>\n",
       "      <td>0.001153</td>\n",
       "      <td>-0.259250</td>\n",
       "      <td>5.758902</td>\n",
       "      <td>-0.758902</td>\n",
       "      <td>-0.318141</td>\n",
       "      <td>0.318141</td>\n",
       "      <td>6.358708</td>\n",
       "      <td>...</td>\n",
       "      <td>-0.316728</td>\n",
       "      <td>1.607436</td>\n",
       "      <td>-0.607436</td>\n",
       "      <td>2.221305</td>\n",
       "      <td>-0.221305</td>\n",
       "      <td>9.192563</td>\n",
       "      <td>9.670437</td>\n",
       "      <td>-2.196669</td>\n",
       "      <td>2.140066</td>\n",
       "      <td>7.680499</td>\n",
       "    </tr>\n",
       "    <tr>\n",
       "      <th>4</th>\n",
       "      <td>4</td>\n",
       "      <td>25.555000</td>\n",
       "      <td>3.240833</td>\n",
       "      <td>-0.018417</td>\n",
       "      <td>-0.240833</td>\n",
       "      <td>5.758902</td>\n",
       "      <td>-0.758902</td>\n",
       "      <td>-0.318141</td>\n",
       "      <td>0.318141</td>\n",
       "      <td>6.358708</td>\n",
       "      <td>...</td>\n",
       "      <td>-0.316728</td>\n",
       "      <td>1.607436</td>\n",
       "      <td>-0.607436</td>\n",
       "      <td>2.221305</td>\n",
       "      <td>-0.221305</td>\n",
       "      <td>9.192563</td>\n",
       "      <td>9.670437</td>\n",
       "      <td>-2.196669</td>\n",
       "      <td>2.140066</td>\n",
       "      <td>7.680499</td>\n",
       "    </tr>\n",
       "    <tr>\n",
       "      <th>...</th>\n",
       "      <td>...</td>\n",
       "      <td>...</td>\n",
       "      <td>...</td>\n",
       "      <td>...</td>\n",
       "      <td>...</td>\n",
       "      <td>...</td>\n",
       "      <td>...</td>\n",
       "      <td>...</td>\n",
       "      <td>...</td>\n",
       "      <td>...</td>\n",
       "      <td>...</td>\n",
       "      <td>...</td>\n",
       "      <td>...</td>\n",
       "      <td>...</td>\n",
       "      <td>...</td>\n",
       "      <td>...</td>\n",
       "      <td>...</td>\n",
       "      <td>...</td>\n",
       "      <td>...</td>\n",
       "      <td>...</td>\n",
       "      <td>...</td>\n",
       "    </tr>\n",
       "    <tr>\n",
       "      <th>7782</th>\n",
       "      <td>7782</td>\n",
       "      <td>85.709999</td>\n",
       "      <td>4.450969</td>\n",
       "      <td>0.000700</td>\n",
       "      <td>-0.450969</td>\n",
       "      <td>7.160069</td>\n",
       "      <td>-0.160069</td>\n",
       "      <td>1.180807</td>\n",
       "      <td>-0.180807</td>\n",
       "      <td>6.862235</td>\n",
       "      <td>...</td>\n",
       "      <td>0.239129</td>\n",
       "      <td>2.810547</td>\n",
       "      <td>-0.810547</td>\n",
       "      <td>2.122115</td>\n",
       "      <td>-0.122115</td>\n",
       "      <td>9.542116</td>\n",
       "      <td>9.897619</td>\n",
       "      <td>-0.607383</td>\n",
       "      <td>1.410987</td>\n",
       "      <td>8.191629</td>\n",
       "    </tr>\n",
       "    <tr>\n",
       "      <th>7783</th>\n",
       "      <td>7783</td>\n",
       "      <td>85.900002</td>\n",
       "      <td>4.453184</td>\n",
       "      <td>0.002214</td>\n",
       "      <td>-0.453184</td>\n",
       "      <td>7.165571</td>\n",
       "      <td>-0.165571</td>\n",
       "      <td>1.189671</td>\n",
       "      <td>-0.189671</td>\n",
       "      <td>6.851978</td>\n",
       "      <td>...</td>\n",
       "      <td>0.234004</td>\n",
       "      <td>2.823282</td>\n",
       "      <td>-0.823282</td>\n",
       "      <td>2.112062</td>\n",
       "      <td>-0.112062</td>\n",
       "      <td>9.542116</td>\n",
       "      <td>9.897619</td>\n",
       "      <td>-0.607383</td>\n",
       "      <td>1.410987</td>\n",
       "      <td>8.191629</td>\n",
       "    </tr>\n",
       "    <tr>\n",
       "      <th>7784</th>\n",
       "      <td>7784</td>\n",
       "      <td>85.720001</td>\n",
       "      <td>4.451086</td>\n",
       "      <td>-0.002098</td>\n",
       "      <td>-0.451086</td>\n",
       "      <td>7.165571</td>\n",
       "      <td>-0.165571</td>\n",
       "      <td>1.189671</td>\n",
       "      <td>-0.189671</td>\n",
       "      <td>6.851978</td>\n",
       "      <td>...</td>\n",
       "      <td>0.234004</td>\n",
       "      <td>2.823282</td>\n",
       "      <td>-0.823282</td>\n",
       "      <td>2.112062</td>\n",
       "      <td>-0.112062</td>\n",
       "      <td>9.542116</td>\n",
       "      <td>9.897619</td>\n",
       "      <td>-0.607383</td>\n",
       "      <td>1.410987</td>\n",
       "      <td>8.191629</td>\n",
       "    </tr>\n",
       "    <tr>\n",
       "      <th>7785</th>\n",
       "      <td>7785</td>\n",
       "      <td>85.629997</td>\n",
       "      <td>4.450036</td>\n",
       "      <td>-0.001051</td>\n",
       "      <td>-0.450036</td>\n",
       "      <td>7.174954</td>\n",
       "      <td>-0.174954</td>\n",
       "      <td>1.187691</td>\n",
       "      <td>-0.187691</td>\n",
       "      <td>6.858302</td>\n",
       "      <td>...</td>\n",
       "      <td>0.222180</td>\n",
       "      <td>2.836737</td>\n",
       "      <td>-0.836737</td>\n",
       "      <td>2.109694</td>\n",
       "      <td>-0.109694</td>\n",
       "      <td>9.542116</td>\n",
       "      <td>9.897619</td>\n",
       "      <td>-0.607383</td>\n",
       "      <td>1.410987</td>\n",
       "      <td>8.191629</td>\n",
       "    </tr>\n",
       "    <tr>\n",
       "      <th>7786</th>\n",
       "      <td>7786</td>\n",
       "      <td>85.540001</td>\n",
       "      <td>4.448984</td>\n",
       "      <td>-0.001052</td>\n",
       "      <td>-0.448984</td>\n",
       "      <td>7.174954</td>\n",
       "      <td>-0.174954</td>\n",
       "      <td>1.187691</td>\n",
       "      <td>-0.187691</td>\n",
       "      <td>6.858302</td>\n",
       "      <td>...</td>\n",
       "      <td>0.222180</td>\n",
       "      <td>2.836737</td>\n",
       "      <td>-0.836737</td>\n",
       "      <td>2.109694</td>\n",
       "      <td>-0.109694</td>\n",
       "      <td>9.542116</td>\n",
       "      <td>9.897619</td>\n",
       "      <td>-0.607383</td>\n",
       "      <td>1.410987</td>\n",
       "      <td>8.191629</td>\n",
       "    </tr>\n",
       "  </tbody>\n",
       "</table>\n",
       "<p>7787 rows × 32 columns</p>\n",
       "</div>"
      ],
      "text/plain": [
       "      Unnamed: 0      price  price_log  price_log_diff  price_log_error_126  \\\n",
       "0              0  25.625000   3.243568       -0.001170            -0.243568   \n",
       "1              1  26.260000   3.268047        0.024478            -0.268047   \n",
       "2              2  26.000000   3.258097       -0.009950            -0.258097   \n",
       "3              3  26.030001   3.259250        0.001153            -0.259250   \n",
       "4              4  25.555000   3.240833       -0.018417            -0.240833   \n",
       "...          ...        ...        ...             ...                  ...   \n",
       "7782        7782  85.709999   4.450969        0.000700            -0.450969   \n",
       "7783        7783  85.900002   4.453184        0.002214            -0.453184   \n",
       "7784        7784  85.720001   4.451086       -0.002098            -0.451086   \n",
       "7785        7785  85.629997   4.450036       -0.001051            -0.450036   \n",
       "7786        7786  85.540001   4.448984       -0.001052            -0.448984   \n",
       "\n",
       "      price_log_GC=F  price_log_error_126_GC=F  price_log_HG=F  \\\n",
       "0           5.760163                 -0.760163       -0.313342   \n",
       "1           5.760163                 -0.760163       -0.313342   \n",
       "2           5.760163                 -0.760163       -0.313342   \n",
       "3           5.758902                 -0.758902       -0.318141   \n",
       "4           5.758902                 -0.758902       -0.318141   \n",
       "...              ...                       ...             ...   \n",
       "7782        7.160069                 -0.160069        1.180807   \n",
       "7783        7.165571                 -0.165571        1.189671   \n",
       "7784        7.165571                 -0.165571        1.189671   \n",
       "7785        7.174954                 -0.174954        1.187691   \n",
       "7786        7.174954                 -0.174954        1.187691   \n",
       "\n",
       "      price_log_error_126_HG=F  price_log_ZS=F  ...  price_log_error_126_CL=F  \\\n",
       "0                     0.313342        6.357409  ...                 -0.327910   \n",
       "1                     0.313342        6.357409  ...                 -0.327910   \n",
       "2                     0.313342        6.357409  ...                 -0.327910   \n",
       "3                     0.318141        6.358708  ...                 -0.316728   \n",
       "4                     0.318141        6.358708  ...                 -0.316728   \n",
       "...                        ...             ...  ...                       ...   \n",
       "7782                 -0.180807        6.862235  ...                  0.239129   \n",
       "7783                 -0.189671        6.851978  ...                  0.234004   \n",
       "7784                 -0.189671        6.851978  ...                  0.234004   \n",
       "7785                 -0.187691        6.858302  ...                  0.222180   \n",
       "7786                 -0.187691        6.858302  ...                  0.222180   \n",
       "\n",
       "      price_log_SI=F  price_log_error_126_SI=F  price_log_SEK=X  \\\n",
       "0           1.607436                 -0.607436         2.222036   \n",
       "1           1.607436                 -0.607436         2.222936   \n",
       "2           1.607436                 -0.607436         2.222936   \n",
       "3           1.607436                 -0.607436         2.221305   \n",
       "4           1.607436                 -0.607436         2.221305   \n",
       "...              ...                       ...              ...   \n",
       "7782        2.810547                 -0.810547         2.122115   \n",
       "7783        2.823282                 -0.823282         2.112062   \n",
       "7784        2.823282                 -0.823282         2.112062   \n",
       "7785        2.836737                 -0.836737         2.109694   \n",
       "7786        2.836737                 -0.836737         2.109694   \n",
       "\n",
       "      price_log_error_126_SEK=X  price_log_M2  price_log_GDP  price_log_CPI  \\\n",
       "0                     -0.222036      9.192563       9.670437      -2.196669   \n",
       "1                     -0.222936      9.192563       9.670437      -2.196669   \n",
       "2                     -0.222936      9.192563       9.670437      -2.196669   \n",
       "3                     -0.221305      9.192563       9.670437      -2.196669   \n",
       "4                     -0.221305      9.192563       9.670437      -2.196669   \n",
       "...                         ...           ...            ...            ...   \n",
       "7782                  -0.122115      9.542116       9.897619      -0.607383   \n",
       "7783                  -0.112062      9.542116       9.897619      -0.607383   \n",
       "7784                  -0.112062      9.542116       9.897619      -0.607383   \n",
       "7785                  -0.109694      9.542116       9.897619      -0.607383   \n",
       "7786                  -0.109694      9.542116       9.897619      -0.607383   \n",
       "\n",
       "      price_log_UNRATE  price_log_M1SL  \n",
       "0             2.140066        7.680499  \n",
       "1             2.140066        7.680499  \n",
       "2             2.140066        7.680499  \n",
       "3             2.140066        7.680499  \n",
       "4             2.140066        7.680499  \n",
       "...                ...             ...  \n",
       "7782          1.410987        8.191629  \n",
       "7783          1.410987        8.191629  \n",
       "7784          1.410987        8.191629  \n",
       "7785          1.410987        8.191629  \n",
       "7786          1.410987        8.191629  \n",
       "\n",
       "[7787 rows x 32 columns]"
      ]
     },
     "execution_count": 57,
     "metadata": {},
     "output_type": "execute_result"
    }
   ],
   "source": [
    "X"
   ]
  },
  {
   "cell_type": "code",
   "execution_count": 59,
   "metadata": {
    "vscode": {
     "languageId": "r"
    }
   },
   "outputs": [],
   "source": [
    "from sklearn.decomposition import PCA\n",
    "from sklearn.ensemble import RandomForestRegressor\n",
    "from xgboost import XGBRegressor\n",
    "from sklearn import svm\n",
    "from sklearn.gaussian_process import GaussianProcessRegressor\n",
    "from tempfile import mkdtemp\n",
    "import lightgbm as lgb\n",
    "from sklearn.ensemble import GradientBoostingRegressor\n",
    "from sklearn.gaussian_process.kernels import RBF\n",
    "from sklearn.gaussian_process.kernels import DotProduct\n",
    "from sklearn.gaussian_process.kernels import Matern\n",
    "from sklearn.gaussian_process.kernels import RationalQuadratic\n",
    "from sklearn.gaussian_process.kernels import WhiteKernel\n",
    "\n",
    "\n",
    "cachedir = mkdtemp()\n",
    "full_pipeline = Pipeline([\n",
    "    ('transform', column_pipeline),\n",
    "    ('pca', PCA()),\n",
    "    ('regress', 'passthrough')\n",
    "], memory=cachedir)\n",
    "\n",
    "N_COMPONENTS = (1, len(num_attribs))\n",
    "N_FEATURES_OPTIONS = [2,4,8]\n",
    "GAMMA_OPTIONS = [0.5, 1]\n",
    "N_ITER=4\n",
    "N_ITER_SMALL=1\n",
    "\n",
    "param_grid = [({\n",
    "    \"pca__n_components\": N_COMPONENTS,\n",
    "    \"regress\": [RandomForestRegressor()],\n",
    "    \"regress__n_estimators\":  (10, 100),\n",
    "    \"regress__criterion\": [\"squared_error\"],\n",
    "    \"regress__max_depth\": (10,20),\n",
    "    \"regress__min_samples_split\": (2,16),\n",
    "}, N_ITER),\n",
    "({\n",
    "    \"pca__n_components\": N_COMPONENTS,\n",
    "    \"regress\": [XGBRegressor()],\n",
    "    \"regress__gamma\": (0.5, 5),\n",
    "    \"regress__subsample\": (0.6, 1.0),\n",
    "    'regress__min_child_weight': (1, 10),\n",
    "    \"regress__colsample_bytree\": (0.6, 1.0),\n",
    "    \"regress__max_depth\": (3, 5)\n",
    "}, N_ITER),\n",
    "({\n",
    "    \"pca__n_components\": N_COMPONENTS,\n",
    "    \"regress\": [svm.SVR()],\n",
    "    \"regress__C\": (1,10),\n",
    "    \"regress__gamma\": [\"scale\", \"auto\"],\n",
    "    \"regress__kernel\": [\"linear\", \"poly\", \"rbf\", \"sigmoid\"]\n",
    "}, N_ITER),\n",
    "({\n",
    "    \"pca__n_components\": N_COMPONENTS,\n",
    "    \"regress\": [lgb.LGBMRegressor()],\n",
    "    \"regress__num_leaves\": (31, 127),\n",
    "    \"regress__reg_alpha\": [0.1, 0.5],\n",
    "    \"regress__min_data_in_leaf\": [30, 50, 100, 300, 400],\n",
    "    \"regress__lambda_l1\": [0, 1, 1.5],\n",
    "    \"regress__lambda_l2\": [0, 1]\n",
    "}, N_ITER)]"
   ]
  },
  {
   "cell_type": "code",
   "execution_count": 63,
   "metadata": {
    "vscode": {
     "languageId": "r"
    }
   },
   "outputs": [
    {
     "name": "stdout",
     "output_type": "stream",
     "text": [
      "Fitting 5 folds for each of 1 candidates, totalling 5 fits\n",
      "[CV 1/5] END pca__n_components=19, regress=RandomForestRegressor(), regress__criterion=squared_error, regress__max_depth=19, regress__min_samples_split=12, regress__n_estimators=68;, score=-0.027 total time=  12.1s\n",
      "[CV 3/5] END pca__n_components=19, regress=RandomForestRegressor(), regress__criterion=squared_error, regress__max_depth=19, regress__min_samples_split=12, regress__n_estimators=68;, score=-0.030 total time=  12.4s\n",
      "[CV 2/5] END pca__n_components=19, regress=RandomForestRegressor(), regress__criterion=squared_error, regress__max_depth=19, regress__min_samples_split=12, regress__n_estimators=68;, score=-0.033 total time=  12.8s\n",
      "[CV 4/5] END pca__n_components=19, regress=RandomForestRegressor(), regress__criterion=squared_error, regress__max_depth=19, regress__min_samples_split=12, regress__n_estimators=68;, score=-0.028 total time=  13.0s\n",
      "[CV 5/5] END pca__n_components=19, regress=RandomForestRegressor(), regress__criterion=squared_error, regress__max_depth=19, regress__min_samples_split=12, regress__n_estimators=68;, score=-0.029 total time=   7.7s\n",
      "test\n",
      "          fun: 0.02946753492726186\n",
      "    func_vals: array([0.02946753])\n",
      "       models: []\n",
      " random_state: RandomState(MT19937) at 0x7FA671BA1440\n",
      "        space: Space([Integer(low=1, high=32, prior='uniform', transform='normalize'),\n",
      "       Categorical(categories=(RandomForestRegressor(),), prior=None),\n",
      "       Categorical(categories=('squared_error',), prior=None),\n",
      "       Integer(low=10, high=20, prior='uniform', transform='normalize'),\n",
      "       Integer(low=2, high=16, prior='uniform', transform='normalize'),\n",
      "       Integer(low=10, high=100, prior='uniform', transform='normalize')])\n",
      "        specs: {'args': {'dimensions': [(1, 32), [RandomForestRegressor()], ['squared_error'], (10, 20), (2, 16), (10, 100)], 'base_estimator': 'gp', 'n_random_starts': None, 'n_initial_points': 10, 'initial_point_generator': 'random', 'n_jobs': 1, 'acq_func': 'gp_hedge', 'acq_optimizer': 'auto', 'random_state': RandomState(MT19937) at 0x7FA671BA1440, 'model_queue_size': None, 'acq_func_kwargs': None, 'acq_optimizer_kwargs': None}, 'function': 'Optimizer'}\n",
      "            x: [19, RandomForestRegressor(), 'squared_error', 19, 12, 68]\n",
      "      x_iters: [[19, RandomForestRegressor(), 'squared_error', 19, 12, 68]]\n",
      "Fitting 5 folds for each of 1 candidates, totalling 5 fits\n",
      "[CV 1/5] END pca__n_components=16, regress=RandomForestRegressor(), regress__criterion=squared_error, regress__max_depth=12, regress__min_samples_split=7, regress__n_estimators=33;, score=-0.026 total time=   4.0s\n",
      "[CV 2/5] END pca__n_components=16, regress=RandomForestRegressor(), regress__criterion=squared_error, regress__max_depth=12, regress__min_samples_split=7, regress__n_estimators=33;, score=-0.027 total time=   4.2s\n",
      "[CV 3/5] END pca__n_components=16, regress=RandomForestRegressor(), regress__criterion=squared_error, regress__max_depth=12, regress__min_samples_split=7, regress__n_estimators=33;, score=-0.030 total time=   4.3s\n",
      "[CV 4/5] END pca__n_components=16, regress=RandomForestRegressor(), regress__criterion=squared_error, regress__max_depth=12, regress__min_samples_split=7, regress__n_estimators=33;, score=-0.023 total time=   4.3s\n",
      "[CV 5/5] END pca__n_components=16, regress=RandomForestRegressor(), regress__criterion=squared_error, regress__max_depth=12, regress__min_samples_split=7, regress__n_estimators=33;, score=-0.024 total time=   2.5s\n",
      "test\n",
      "          fun: 0.025995334432119016\n",
      "    func_vals: array([0.02946753, 0.02599533])\n",
      "       models: []\n",
      " random_state: RandomState(MT19937) at 0x7FA671BA1440\n",
      "        space: Space([Integer(low=1, high=32, prior='uniform', transform='normalize'),\n",
      "       Categorical(categories=(RandomForestRegressor(),), prior=None),\n",
      "       Categorical(categories=('squared_error',), prior=None),\n",
      "       Integer(low=10, high=20, prior='uniform', transform='normalize'),\n",
      "       Integer(low=2, high=16, prior='uniform', transform='normalize'),\n",
      "       Integer(low=10, high=100, prior='uniform', transform='normalize')])\n",
      "        specs: {'args': {'dimensions': [(1, 32), [RandomForestRegressor()], ['squared_error'], (10, 20), (2, 16), (10, 100)], 'base_estimator': 'gp', 'n_random_starts': None, 'n_initial_points': 10, 'initial_point_generator': 'random', 'n_jobs': 1, 'acq_func': 'gp_hedge', 'acq_optimizer': 'auto', 'random_state': RandomState(MT19937) at 0x7FA671BA1440, 'model_queue_size': None, 'acq_func_kwargs': None, 'acq_optimizer_kwargs': None}, 'function': 'Optimizer'}\n",
      "            x: [16, RandomForestRegressor(), 'squared_error', 12, 7, 33]\n",
      "      x_iters: [[19, RandomForestRegressor(), 'squared_error', 19, 12, 68], [16, RandomForestRegressor(), 'squared_error', 12, 7, 33]]\n",
      "Fitting 5 folds for each of 1 candidates, totalling 5 fits\n",
      "[CV 3/5] END pca__n_components=28, regress=RandomForestRegressor(), regress__criterion=squared_error, regress__max_depth=15, regress__min_samples_split=7, regress__n_estimators=93;, score=-0.038 total time=  21.6s\n",
      "[CV 4/5] END pca__n_components=28, regress=RandomForestRegressor(), regress__criterion=squared_error, regress__max_depth=15, regress__min_samples_split=7, regress__n_estimators=93;, score=-0.026 total time=  21.7s\n",
      "[CV 1/5] END pca__n_components=28, regress=RandomForestRegressor(), regress__criterion=squared_error, regress__max_depth=15, regress__min_samples_split=7, regress__n_estimators=93;, score=-0.039 total time=  21.8s\n",
      "[CV 2/5] END pca__n_components=28, regress=RandomForestRegressor(), regress__criterion=squared_error, regress__max_depth=15, regress__min_samples_split=7, regress__n_estimators=93;, score=-0.025 total time=  22.4s\n",
      "[CV 5/5] END pca__n_components=28, regress=RandomForestRegressor(), regress__criterion=squared_error, regress__max_depth=15, regress__min_samples_split=7, regress__n_estimators=93;, score=-0.032 total time=  13.0s\n",
      "test\n",
      "          fun: 0.025995334432119016\n",
      "    func_vals: array([0.02946753, 0.02599533, 0.03214909])\n",
      "       models: []\n",
      " random_state: RandomState(MT19937) at 0x7FA671BA1440\n",
      "        space: Space([Integer(low=1, high=32, prior='uniform', transform='normalize'),\n",
      "       Categorical(categories=(RandomForestRegressor(),), prior=None),\n",
      "       Categorical(categories=('squared_error',), prior=None),\n",
      "       Integer(low=10, high=20, prior='uniform', transform='normalize'),\n",
      "       Integer(low=2, high=16, prior='uniform', transform='normalize'),\n",
      "       Integer(low=10, high=100, prior='uniform', transform='normalize')])\n",
      "        specs: {'args': {'dimensions': [(1, 32), [RandomForestRegressor()], ['squared_error'], (10, 20), (2, 16), (10, 100)], 'base_estimator': 'gp', 'n_random_starts': None, 'n_initial_points': 10, 'initial_point_generator': 'random', 'n_jobs': 1, 'acq_func': 'gp_hedge', 'acq_optimizer': 'auto', 'random_state': RandomState(MT19937) at 0x7FA671BA1440, 'model_queue_size': None, 'acq_func_kwargs': None, 'acq_optimizer_kwargs': None}, 'function': 'Optimizer'}\n",
      "            x: [16, RandomForestRegressor(), 'squared_error', 12, 7, 33]\n",
      "      x_iters: [[19, RandomForestRegressor(), 'squared_error', 19, 12, 68], [16, RandomForestRegressor(), 'squared_error', 12, 7, 33], [28, RandomForestRegressor(), 'squared_error', 15, 7, 93]]\n",
      "Fitting 5 folds for each of 1 candidates, totalling 5 fits\n",
      "[CV 1/5] END pca__n_components=5, regress=RandomForestRegressor(), regress__criterion=squared_error, regress__max_depth=20, regress__min_samples_split=4, regress__n_estimators=87;, score=-0.027 total time=   4.6s\n",
      "[CV 4/5] END pca__n_components=5, regress=RandomForestRegressor(), regress__criterion=squared_error, regress__max_depth=20, regress__min_samples_split=4, regress__n_estimators=87;, score=-0.022 total time=   4.8s\n",
      "[CV 3/5] END pca__n_components=5, regress=RandomForestRegressor(), regress__criterion=squared_error, regress__max_depth=20, regress__min_samples_split=4, regress__n_estimators=87;, score=-0.034 total time=   4.8s\n",
      "[CV 2/5] END pca__n_components=5, regress=RandomForestRegressor(), regress__criterion=squared_error, regress__max_depth=20, regress__min_samples_split=4, regress__n_estimators=87;, score=-0.024 total time=   5.0s\n",
      "[CV 5/5] END pca__n_components=5, regress=RandomForestRegressor(), regress__criterion=squared_error, regress__max_depth=20, regress__min_samples_split=4, regress__n_estimators=87;, score=-0.026 total time=   2.9s\n",
      "test\n",
      "          fun: 0.025995334432119016\n",
      "    func_vals: array([0.02946753, 0.02599533, 0.03214909, 0.02664827])\n",
      "       models: []\n",
      " random_state: RandomState(MT19937) at 0x7FA671BA1440\n",
      "        space: Space([Integer(low=1, high=32, prior='uniform', transform='normalize'),\n",
      "       Categorical(categories=(RandomForestRegressor(),), prior=None),\n",
      "       Categorical(categories=('squared_error',), prior=None),\n",
      "       Integer(low=10, high=20, prior='uniform', transform='normalize'),\n",
      "       Integer(low=2, high=16, prior='uniform', transform='normalize'),\n",
      "       Integer(low=10, high=100, prior='uniform', transform='normalize')])\n",
      "        specs: {'args': {'dimensions': [(1, 32), [RandomForestRegressor()], ['squared_error'], (10, 20), (2, 16), (10, 100)], 'base_estimator': 'gp', 'n_random_starts': None, 'n_initial_points': 10, 'initial_point_generator': 'random', 'n_jobs': 1, 'acq_func': 'gp_hedge', 'acq_optimizer': 'auto', 'random_state': RandomState(MT19937) at 0x7FA671BA1440, 'model_queue_size': None, 'acq_func_kwargs': None, 'acq_optimizer_kwargs': None}, 'function': 'Optimizer'}\n",
      "            x: [16, RandomForestRegressor(), 'squared_error', 12, 7, 33]\n",
      "      x_iters: [[19, RandomForestRegressor(), 'squared_error', 19, 12, 68], [16, RandomForestRegressor(), 'squared_error', 12, 7, 33], [28, RandomForestRegressor(), 'squared_error', 15, 7, 93], [5, RandomForestRegressor(), 'squared_error', 20, 4, 87]]\n",
      "Fitting 5 folds for each of 1 candidates, totalling 5 fits\n",
      "[CV 3/5] END pca__n_components=25, regress=XGBRegressor(base_score=None, booster=None, callbacks=None,\n",
      "             colsample_bylevel=None, colsample_bynode=None,\n",
      "             colsample_bytree=None, early_stopping_rounds=None,\n",
      "             enable_categorical=False, eval_metric=None, gamma=None,\n",
      "             gpu_id=None, grow_policy=None, importance_type=None,\n",
      "             interaction_constraints=None, learning_rate=None, max_bin=None,\n",
      "             max_cat_to_onehot=None, max_delta_step=None, max_depth=None,\n",
      "             max_leaves=None, min_child_weight=None, missing=nan,\n",
      "             monotone_constraints=None, n_estimators=100, n_jobs=None,\n",
      "             num_parallel_tree=None, predictor=None, random_state=None,\n",
      "             reg_alpha=None, reg_lambda=None, ...), regress__colsample_bytree=0.8848147709018372, regress__gamma=2.8342067748577255, regress__max_depth=4, regress__min_child_weight=7, regress__subsample=0.703542155268287;, score=-0.030 total time=   4.3s\n",
      "[CV 4/5] END pca__n_components=25, regress=XGBRegressor(base_score=None, booster=None, callbacks=None,\n",
      "             colsample_bylevel=None, colsample_bynode=None,\n",
      "             colsample_bytree=None, early_stopping_rounds=None,\n",
      "             enable_categorical=False, eval_metric=None, gamma=None,\n",
      "             gpu_id=None, grow_policy=None, importance_type=None,\n",
      "             interaction_constraints=None, learning_rate=None, max_bin=None,\n",
      "             max_cat_to_onehot=None, max_delta_step=None, max_depth=None,\n",
      "             max_leaves=None, min_child_weight=None, missing=nan,\n",
      "             monotone_constraints=None, n_estimators=100, n_jobs=None,\n",
      "             num_parallel_tree=None, predictor=None, random_state=None,\n",
      "             reg_alpha=None, reg_lambda=None, ...), regress__colsample_bytree=0.8848147709018372, regress__gamma=2.8342067748577255, regress__max_depth=4, regress__min_child_weight=7, regress__subsample=0.703542155268287;, score=-0.020 total time=   4.3s\n",
      "[CV 2/5] END pca__n_components=25, regress=XGBRegressor(base_score=None, booster=None, callbacks=None,\n",
      "             colsample_bylevel=None, colsample_bynode=None,\n",
      "             colsample_bytree=None, early_stopping_rounds=None,\n",
      "             enable_categorical=False, eval_metric=None, gamma=None,\n",
      "             gpu_id=None, grow_policy=None, importance_type=None,\n",
      "             interaction_constraints=None, learning_rate=None, max_bin=None,\n",
      "             max_cat_to_onehot=None, max_delta_step=None, max_depth=None,\n",
      "             max_leaves=None, min_child_weight=None, missing=nan,\n",
      "             monotone_constraints=None, n_estimators=100, n_jobs=None,\n",
      "             num_parallel_tree=None, predictor=None, random_state=None,\n",
      "             reg_alpha=None, reg_lambda=None, ...), regress__colsample_bytree=0.8848147709018372, regress__gamma=2.8342067748577255, regress__max_depth=4, regress__min_child_weight=7, regress__subsample=0.703542155268287;, score=-0.024 total time=   4.3s\n",
      "[CV 1/5] END pca__n_components=25, regress=XGBRegressor(base_score=None, booster=None, callbacks=None,\n",
      "             colsample_bylevel=None, colsample_bynode=None,\n",
      "             colsample_bytree=None, early_stopping_rounds=None,\n",
      "             enable_categorical=False, eval_metric=None, gamma=None,\n",
      "             gpu_id=None, grow_policy=None, importance_type=None,\n",
      "             interaction_constraints=None, learning_rate=None, max_bin=None,\n",
      "             max_cat_to_onehot=None, max_delta_step=None, max_depth=None,\n",
      "             max_leaves=None, min_child_weight=None, missing=nan,\n",
      "             monotone_constraints=None, n_estimators=100, n_jobs=None,\n",
      "             num_parallel_tree=None, predictor=None, random_state=None,\n",
      "             reg_alpha=None, reg_lambda=None, ...), regress__colsample_bytree=0.8848147709018372, regress__gamma=2.8342067748577255, regress__max_depth=4, regress__min_child_weight=7, regress__subsample=0.703542155268287;, score=-0.025 total time=   4.4s\n",
      "[CV 5/5] END pca__n_components=25, regress=XGBRegressor(base_score=None, booster=None, callbacks=None,\n",
      "             colsample_bylevel=None, colsample_bynode=None,\n",
      "             colsample_bytree=None, early_stopping_rounds=None,\n",
      "             enable_categorical=False, eval_metric=None, gamma=None,\n",
      "             gpu_id=None, grow_policy=None, importance_type=None,\n",
      "             interaction_constraints=None, learning_rate=None, max_bin=None,\n",
      "             max_cat_to_onehot=None, max_delta_step=None, max_depth=None,\n",
      "             max_leaves=None, min_child_weight=None, missing=nan,\n",
      "             monotone_constraints=None, n_estimators=100, n_jobs=None,\n",
      "             num_parallel_tree=None, predictor=None, random_state=None,\n",
      "             reg_alpha=None, reg_lambda=None, ...), regress__colsample_bytree=0.8848147709018372, regress__gamma=2.8342067748577255, regress__max_depth=4, regress__min_child_weight=7, regress__subsample=0.703542155268287;, score=-0.021 total time=   2.3s\n",
      "test\n",
      "          fun: 0.023918308162834044\n",
      "    func_vals: array([0.02391831])\n",
      "       models: []\n",
      " random_state: RandomState(MT19937) at 0x7FA671BA1440\n",
      "        space: Space([Integer(low=1, high=32, prior='uniform', transform='normalize'),\n",
      "       Categorical(categories=(XGBRegressor(base_score=None, booster=None, callbacks=None,\n",
      "             colsample_bylevel=None, colsample_bynode=None,\n",
      "             colsample_bytree=None, early_stopping_rounds=None,\n",
      "             enable_categorical=False, eval_metric=None, gamma=None,\n",
      "             gpu_id=None, grow_policy=None, importance_type=None,\n",
      "             interaction_constraints=None, learning_rate=None, max_bin=None,\n",
      "             max_cat_to_onehot=None, max_delta_step=None, max_depth=None,\n",
      "             max_leaves=None, min_child_weight=None, missing=nan,\n",
      "             monotone_constraints=None, n_estimators=100, n_jobs=None,\n",
      "             num_parallel_tree=None, predictor=None, random_state=None,\n",
      "             reg_alpha=None, reg_lambda=None, ...),), prior=None),\n",
      "       Real(low=0.6, high=1.0, prior='uniform', transform='normalize'),\n",
      "       Real(low=0.5, high=5, prior='uniform', transform='normalize'),\n",
      "       Integer(low=3, high=5, prior='uniform', transform='normalize'),\n",
      "       Integer(low=1, high=10, prior='uniform', transform='normalize'),\n",
      "       Real(low=0.6, high=1.0, prior='uniform', transform='normalize')])\n",
      "        specs: {'args': {'dimensions': [(1, 32), [XGBRegressor(base_score=None, booster=None, callbacks=None,\n",
      "             colsample_bylevel=None, colsample_bynode=None,\n",
      "             colsample_bytree=None, early_stopping_rounds=None,\n",
      "             enable_categorical=False, eval_metric=None, gamma=None,\n",
      "             gpu_id=None, grow_policy=None, importance_type=None,\n",
      "             interaction_constraints=None, learning_rate=None, max_bin=None,\n",
      "             max_cat_to_onehot=None, max_delta_step=None, max_depth=None,\n",
      "             max_leaves=None, min_child_weight=None, missing=nan,\n",
      "             monotone_constraints=None, n_estimators=100, n_jobs=None,\n",
      "             num_parallel_tree=None, predictor=None, random_state=None,\n",
      "             reg_alpha=None, reg_lambda=None, ...)], (0.6, 1.0), (0.5, 5), (3, 5), (1, 10), (0.6, 1.0)], 'base_estimator': 'gp', 'n_random_starts': None, 'n_initial_points': 10, 'initial_point_generator': 'random', 'n_jobs': 1, 'acq_func': 'gp_hedge', 'acq_optimizer': 'auto', 'random_state': RandomState(MT19937) at 0x7FA671BA1440, 'model_queue_size': None, 'acq_func_kwargs': None, 'acq_optimizer_kwargs': None}, 'function': 'Optimizer'}\n",
      "            x: [25, XGBRegressor(base_score=None, booster=None, callbacks=None,\n",
      "             colsample_bylevel=None, colsample_bynode=None,\n",
      "             colsample_bytree=None, early_stopping_rounds=None,\n",
      "             enable_categorical=False, eval_metric=None, gamma=None,\n",
      "             gpu_id=None, grow_policy=None, importance_type=None,\n",
      "             interaction_constraints=None, learning_rate=None, max_bin=None,\n",
      "             max_cat_to_onehot=None, max_delta_step=None, max_depth=None,\n",
      "             max_leaves=None, min_child_weight=None, missing=nan,\n",
      "             monotone_constraints=None, n_estimators=100, n_jobs=None,\n",
      "             num_parallel_tree=None, predictor=None, random_state=None,\n",
      "             reg_alpha=None, reg_lambda=None, ...), 0.8848147709018372, 2.8342067748577255, 4, 7, 0.703542155268287]\n",
      "      x_iters: [[25, XGBRegressor(base_score=None, booster=None, callbacks=None,\n",
      "             colsample_bylevel=None, colsample_bynode=None,\n",
      "             colsample_bytree=None, early_stopping_rounds=None,\n",
      "             enable_categorical=False, eval_metric=None, gamma=None,\n",
      "             gpu_id=None, grow_policy=None, importance_type=None,\n",
      "             interaction_constraints=None, learning_rate=None, max_bin=None,\n",
      "             max_cat_to_onehot=None, max_delta_step=None, max_depth=None,\n",
      "             max_leaves=None, min_child_weight=None, missing=nan,\n",
      "             monotone_constraints=None, n_estimators=100, n_jobs=None,\n",
      "             num_parallel_tree=None, predictor=None, random_state=None,\n",
      "             reg_alpha=None, reg_lambda=None, ...), 0.8848147709018372, 2.8342067748577255, 4, 7, 0.703542155268287]]\n",
      "Fitting 5 folds for each of 1 candidates, totalling 5 fits\n",
      "[CV 4/5] END pca__n_components=10, regress=XGBRegressor(base_score=None, booster=None, callbacks=None,\n",
      "             colsample_bylevel=None, colsample_bynode=None,\n",
      "             colsample_bytree=None, early_stopping_rounds=None,\n",
      "             enable_categorical=False, eval_metric=None, gamma=None,\n",
      "             gpu_id=None, grow_policy=None, importance_type=None,\n",
      "             interaction_constraints=None, learning_rate=None, max_bin=None,\n",
      "             max_cat_to_onehot=None, max_delta_step=None, max_depth=None,\n",
      "             max_leaves=None, min_child_weight=None, missing=nan,\n",
      "             monotone_constraints=None, n_estimators=100, n_jobs=None,\n",
      "             num_parallel_tree=None, predictor=None, random_state=None,\n",
      "             reg_alpha=None, reg_lambda=None, ...), regress__colsample_bytree=0.7843617625098513, regress__gamma=4.262119460872011, regress__max_depth=4, regress__min_child_weight=6, regress__subsample=0.8271310755083106;, score=-0.020 total time=   2.0s\n",
      "[CV 2/5] END pca__n_components=10, regress=XGBRegressor(base_score=None, booster=None, callbacks=None,\n",
      "             colsample_bylevel=None, colsample_bynode=None,\n",
      "             colsample_bytree=None, early_stopping_rounds=None,\n",
      "             enable_categorical=False, eval_metric=None, gamma=None,\n",
      "             gpu_id=None, grow_policy=None, importance_type=None,\n",
      "             interaction_constraints=None, learning_rate=None, max_bin=None,\n",
      "             max_cat_to_onehot=None, max_delta_step=None, max_depth=None,\n",
      "             max_leaves=None, min_child_weight=None, missing=nan,\n",
      "             monotone_constraints=None, n_estimators=100, n_jobs=None,\n",
      "             num_parallel_tree=None, predictor=None, random_state=None,\n",
      "             reg_alpha=None, reg_lambda=None, ...), regress__colsample_bytree=0.7843617625098513, regress__gamma=4.262119460872011, regress__max_depth=4, regress__min_child_weight=6, regress__subsample=0.8271310755083106;, score=-0.024 total time=   2.0s\n",
      "[CV 1/5] END pca__n_components=10, regress=XGBRegressor(base_score=None, booster=None, callbacks=None,\n",
      "             colsample_bylevel=None, colsample_bynode=None,\n",
      "             colsample_bytree=None, early_stopping_rounds=None,\n",
      "             enable_categorical=False, eval_metric=None, gamma=None,\n",
      "             gpu_id=None, grow_policy=None, importance_type=None,\n",
      "             interaction_constraints=None, learning_rate=None, max_bin=None,\n",
      "             max_cat_to_onehot=None, max_delta_step=None, max_depth=None,\n",
      "             max_leaves=None, min_child_weight=None, missing=nan,\n",
      "             monotone_constraints=None, n_estimators=100, n_jobs=None,\n",
      "             num_parallel_tree=None, predictor=None, random_state=None,\n",
      "             reg_alpha=None, reg_lambda=None, ...), regress__colsample_bytree=0.7843617625098513, regress__gamma=4.262119460872011, regress__max_depth=4, regress__min_child_weight=6, regress__subsample=0.8271310755083106;, score=-0.025 total time=   2.0s\n",
      "[CV 3/5] END pca__n_components=10, regress=XGBRegressor(base_score=None, booster=None, callbacks=None,\n",
      "             colsample_bylevel=None, colsample_bynode=None,\n",
      "             colsample_bytree=None, early_stopping_rounds=None,\n",
      "             enable_categorical=False, eval_metric=None, gamma=None,\n",
      "             gpu_id=None, grow_policy=None, importance_type=None,\n",
      "             interaction_constraints=None, learning_rate=None, max_bin=None,\n",
      "             max_cat_to_onehot=None, max_delta_step=None, max_depth=None,\n",
      "             max_leaves=None, min_child_weight=None, missing=nan,\n",
      "             monotone_constraints=None, n_estimators=100, n_jobs=None,\n",
      "             num_parallel_tree=None, predictor=None, random_state=None,\n",
      "             reg_alpha=None, reg_lambda=None, ...), regress__colsample_bytree=0.7843617625098513, regress__gamma=4.262119460872011, regress__max_depth=4, regress__min_child_weight=6, regress__subsample=0.8271310755083106;, score=-0.030 total time=   2.1s\n",
      "[CV 5/5] END pca__n_components=10, regress=XGBRegressor(base_score=None, booster=None, callbacks=None,\n",
      "             colsample_bylevel=None, colsample_bynode=None,\n",
      "             colsample_bytree=None, early_stopping_rounds=None,\n",
      "             enable_categorical=False, eval_metric=None, gamma=None,\n",
      "             gpu_id=None, grow_policy=None, importance_type=None,\n",
      "             interaction_constraints=None, learning_rate=None, max_bin=None,\n",
      "             max_cat_to_onehot=None, max_delta_step=None, max_depth=None,\n",
      "             max_leaves=None, min_child_weight=None, missing=nan,\n",
      "             monotone_constraints=None, n_estimators=100, n_jobs=None,\n",
      "             num_parallel_tree=None, predictor=None, random_state=None,\n",
      "             reg_alpha=None, reg_lambda=None, ...), regress__colsample_bytree=0.7843617625098513, regress__gamma=4.262119460872011, regress__max_depth=4, regress__min_child_weight=6, regress__subsample=0.8271310755083106;, score=-0.021 total time=   1.0s\n",
      "test\n",
      "          fun: 0.023913160650221966\n",
      "    func_vals: array([0.02391831, 0.02391316])\n",
      "       models: []\n",
      " random_state: RandomState(MT19937) at 0x7FA671BA1440\n",
      "        space: Space([Integer(low=1, high=32, prior='uniform', transform='normalize'),\n",
      "       Categorical(categories=(XGBRegressor(base_score=None, booster=None, callbacks=None,\n",
      "             colsample_bylevel=None, colsample_bynode=None,\n",
      "             colsample_bytree=None, early_stopping_rounds=None,\n",
      "             enable_categorical=False, eval_metric=None, gamma=None,\n",
      "             gpu_id=None, grow_policy=None, importance_type=None,\n",
      "             interaction_constraints=None, learning_rate=None, max_bin=None,\n",
      "             max_cat_to_onehot=None, max_delta_step=None, max_depth=None,\n",
      "             max_leaves=None, min_child_weight=None, missing=nan,\n",
      "             monotone_constraints=None, n_estimators=100, n_jobs=None,\n",
      "             num_parallel_tree=None, predictor=None, random_state=None,\n",
      "             reg_alpha=None, reg_lambda=None, ...),), prior=None),\n",
      "       Real(low=0.6, high=1.0, prior='uniform', transform='normalize'),\n",
      "       Real(low=0.5, high=5, prior='uniform', transform='normalize'),\n",
      "       Integer(low=3, high=5, prior='uniform', transform='normalize'),\n",
      "       Integer(low=1, high=10, prior='uniform', transform='normalize'),\n",
      "       Real(low=0.6, high=1.0, prior='uniform', transform='normalize')])\n",
      "        specs: {'args': {'dimensions': [(1, 32), [XGBRegressor(base_score=None, booster=None, callbacks=None,\n",
      "             colsample_bylevel=None, colsample_bynode=None,\n",
      "             colsample_bytree=None, early_stopping_rounds=None,\n",
      "             enable_categorical=False, eval_metric=None, gamma=None,\n",
      "             gpu_id=None, grow_policy=None, importance_type=None,\n",
      "             interaction_constraints=None, learning_rate=None, max_bin=None,\n",
      "             max_cat_to_onehot=None, max_delta_step=None, max_depth=None,\n",
      "             max_leaves=None, min_child_weight=None, missing=nan,\n",
      "             monotone_constraints=None, n_estimators=100, n_jobs=None,\n",
      "             num_parallel_tree=None, predictor=None, random_state=None,\n",
      "             reg_alpha=None, reg_lambda=None, ...)], (0.6, 1.0), (0.5, 5), (3, 5), (1, 10), (0.6, 1.0)], 'base_estimator': 'gp', 'n_random_starts': None, 'n_initial_points': 10, 'initial_point_generator': 'random', 'n_jobs': 1, 'acq_func': 'gp_hedge', 'acq_optimizer': 'auto', 'random_state': RandomState(MT19937) at 0x7FA671BA1440, 'model_queue_size': None, 'acq_func_kwargs': None, 'acq_optimizer_kwargs': None}, 'function': 'Optimizer'}\n",
      "            x: [10, XGBRegressor(base_score=None, booster=None, callbacks=None,\n",
      "             colsample_bylevel=None, colsample_bynode=None,\n",
      "             colsample_bytree=None, early_stopping_rounds=None,\n",
      "             enable_categorical=False, eval_metric=None, gamma=None,\n",
      "             gpu_id=None, grow_policy=None, importance_type=None,\n",
      "             interaction_constraints=None, learning_rate=None, max_bin=None,\n",
      "             max_cat_to_onehot=None, max_delta_step=None, max_depth=None,\n",
      "             max_leaves=None, min_child_weight=None, missing=nan,\n",
      "             monotone_constraints=None, n_estimators=100, n_jobs=None,\n",
      "             num_parallel_tree=None, predictor=None, random_state=None,\n",
      "             reg_alpha=None, reg_lambda=None, ...), 0.7843617625098513, 4.262119460872011, 4, 6, 0.8271310755083106]\n",
      "      x_iters: [[25, XGBRegressor(base_score=None, booster=None, callbacks=None,\n",
      "             colsample_bylevel=None, colsample_bynode=None,\n",
      "             colsample_bytree=None, early_stopping_rounds=None,\n",
      "             enable_categorical=False, eval_metric=None, gamma=None,\n",
      "             gpu_id=None, grow_policy=None, importance_type=None,\n",
      "             interaction_constraints=None, learning_rate=None, max_bin=None,\n",
      "             max_cat_to_onehot=None, max_delta_step=None, max_depth=None,\n",
      "             max_leaves=None, min_child_weight=None, missing=nan,\n",
      "             monotone_constraints=None, n_estimators=100, n_jobs=None,\n",
      "             num_parallel_tree=None, predictor=None, random_state=None,\n",
      "             reg_alpha=None, reg_lambda=None, ...), 0.8848147709018372, 2.8342067748577255, 4, 7, 0.703542155268287], [10, XGBRegressor(base_score=None, booster=None, callbacks=None,\n",
      "             colsample_bylevel=None, colsample_bynode=None,\n",
      "             colsample_bytree=None, early_stopping_rounds=None,\n",
      "             enable_categorical=False, eval_metric=None, gamma=None,\n",
      "             gpu_id=None, grow_policy=None, importance_type=None,\n",
      "             interaction_constraints=None, learning_rate=None, max_bin=None,\n",
      "             max_cat_to_onehot=None, max_delta_step=None, max_depth=None,\n",
      "             max_leaves=None, min_child_weight=None, missing=nan,\n",
      "             monotone_constraints=None, n_estimators=100, n_jobs=None,\n",
      "             num_parallel_tree=None, predictor=None, random_state=None,\n",
      "             reg_alpha=None, reg_lambda=None, ...), 0.7843617625098513, 4.262119460872011, 4, 6, 0.8271310755083106]]\n",
      "Fitting 5 folds for each of 1 candidates, totalling 5 fits\n",
      "[CV 2/5] END pca__n_components=23, regress=XGBRegressor(base_score=None, booster=None, callbacks=None,\n",
      "             colsample_bylevel=None, colsample_bynode=None,\n",
      "             colsample_bytree=None, early_stopping_rounds=None,\n",
      "             enable_categorical=False, eval_metric=None, gamma=None,\n",
      "             gpu_id=None, grow_policy=None, importance_type=None,\n",
      "             interaction_constraints=None, learning_rate=None, max_bin=None,\n",
      "             max_cat_to_onehot=None, max_delta_step=None, max_depth=None,\n",
      "             max_leaves=None, min_child_weight=None, missing=nan,\n",
      "             monotone_constraints=None, n_estimators=100, n_jobs=None,\n",
      "             num_parallel_tree=None, predictor=None, random_state=None,\n",
      "             reg_alpha=None, reg_lambda=None, ...), regress__colsample_bytree=0.8004940209007869, regress__gamma=1.7767263509388773, regress__max_depth=5, regress__min_child_weight=8, regress__subsample=0.7236284895706291;, score=-0.024 total time=   4.5s\n",
      "[CV 4/5] END pca__n_components=23, regress=XGBRegressor(base_score=None, booster=None, callbacks=None,\n",
      "             colsample_bylevel=None, colsample_bynode=None,\n",
      "             colsample_bytree=None, early_stopping_rounds=None,\n",
      "             enable_categorical=False, eval_metric=None, gamma=None,\n",
      "             gpu_id=None, grow_policy=None, importance_type=None,\n",
      "             interaction_constraints=None, learning_rate=None, max_bin=None,\n",
      "             max_cat_to_onehot=None, max_delta_step=None, max_depth=None,\n",
      "             max_leaves=None, min_child_weight=None, missing=nan,\n",
      "             monotone_constraints=None, n_estimators=100, n_jobs=None,\n",
      "             num_parallel_tree=None, predictor=None, random_state=None,\n",
      "             reg_alpha=None, reg_lambda=None, ...), regress__colsample_bytree=0.8004940209007869, regress__gamma=1.7767263509388773, regress__max_depth=5, regress__min_child_weight=8, regress__subsample=0.7236284895706291;, score=-0.020 total time=   4.5s\n",
      "[CV 1/5] END pca__n_components=23, regress=XGBRegressor(base_score=None, booster=None, callbacks=None,\n",
      "             colsample_bylevel=None, colsample_bynode=None,\n",
      "             colsample_bytree=None, early_stopping_rounds=None,\n",
      "             enable_categorical=False, eval_metric=None, gamma=None,\n",
      "             gpu_id=None, grow_policy=None, importance_type=None,\n",
      "             interaction_constraints=None, learning_rate=None, max_bin=None,\n",
      "             max_cat_to_onehot=None, max_delta_step=None, max_depth=None,\n",
      "             max_leaves=None, min_child_weight=None, missing=nan,\n",
      "             monotone_constraints=None, n_estimators=100, n_jobs=None,\n",
      "             num_parallel_tree=None, predictor=None, random_state=None,\n",
      "             reg_alpha=None, reg_lambda=None, ...), regress__colsample_bytree=0.8004940209007869, regress__gamma=1.7767263509388773, regress__max_depth=5, regress__min_child_weight=8, regress__subsample=0.7236284895706291;, score=-0.025 total time=   4.6s\n",
      "[CV 3/5] END pca__n_components=23, regress=XGBRegressor(base_score=None, booster=None, callbacks=None,\n",
      "             colsample_bylevel=None, colsample_bynode=None,\n",
      "             colsample_bytree=None, early_stopping_rounds=None,\n",
      "             enable_categorical=False, eval_metric=None, gamma=None,\n",
      "             gpu_id=None, grow_policy=None, importance_type=None,\n",
      "             interaction_constraints=None, learning_rate=None, max_bin=None,\n",
      "             max_cat_to_onehot=None, max_delta_step=None, max_depth=None,\n",
      "             max_leaves=None, min_child_weight=None, missing=nan,\n",
      "             monotone_constraints=None, n_estimators=100, n_jobs=None,\n",
      "             num_parallel_tree=None, predictor=None, random_state=None,\n",
      "             reg_alpha=None, reg_lambda=None, ...), regress__colsample_bytree=0.8004940209007869, regress__gamma=1.7767263509388773, regress__max_depth=5, regress__min_child_weight=8, regress__subsample=0.7236284895706291;, score=-0.030 total time=   4.7s\n",
      "[CV 5/5] END pca__n_components=23, regress=XGBRegressor(base_score=None, booster=None, callbacks=None,\n",
      "             colsample_bylevel=None, colsample_bynode=None,\n",
      "             colsample_bytree=None, early_stopping_rounds=None,\n",
      "             enable_categorical=False, eval_metric=None, gamma=None,\n",
      "             gpu_id=None, grow_policy=None, importance_type=None,\n",
      "             interaction_constraints=None, learning_rate=None, max_bin=None,\n",
      "             max_cat_to_onehot=None, max_delta_step=None, max_depth=None,\n",
      "             max_leaves=None, min_child_weight=None, missing=nan,\n",
      "             monotone_constraints=None, n_estimators=100, n_jobs=None,\n",
      "             num_parallel_tree=None, predictor=None, random_state=None,\n",
      "             reg_alpha=None, reg_lambda=None, ...), regress__colsample_bytree=0.8004940209007869, regress__gamma=1.7767263509388773, regress__max_depth=5, regress__min_child_weight=8, regress__subsample=0.7236284895706291;, score=-0.021 total time=   2.3s\n",
      "test\n",
      "          fun: 0.023913160650221966\n",
      "    func_vals: array([0.02391831, 0.02391316, 0.02391871])\n",
      "       models: []\n",
      " random_state: RandomState(MT19937) at 0x7FA671BA1440\n",
      "        space: Space([Integer(low=1, high=32, prior='uniform', transform='normalize'),\n",
      "       Categorical(categories=(XGBRegressor(base_score=None, booster=None, callbacks=None,\n",
      "             colsample_bylevel=None, colsample_bynode=None,\n",
      "             colsample_bytree=None, early_stopping_rounds=None,\n",
      "             enable_categorical=False, eval_metric=None, gamma=None,\n",
      "             gpu_id=None, grow_policy=None, importance_type=None,\n",
      "             interaction_constraints=None, learning_rate=None, max_bin=None,\n",
      "             max_cat_to_onehot=None, max_delta_step=None, max_depth=None,\n",
      "             max_leaves=None, min_child_weight=None, missing=nan,\n",
      "             monotone_constraints=None, n_estimators=100, n_jobs=None,\n",
      "             num_parallel_tree=None, predictor=None, random_state=None,\n",
      "             reg_alpha=None, reg_lambda=None, ...),), prior=None),\n",
      "       Real(low=0.6, high=1.0, prior='uniform', transform='normalize'),\n",
      "       Real(low=0.5, high=5, prior='uniform', transform='normalize'),\n",
      "       Integer(low=3, high=5, prior='uniform', transform='normalize'),\n",
      "       Integer(low=1, high=10, prior='uniform', transform='normalize'),\n",
      "       Real(low=0.6, high=1.0, prior='uniform', transform='normalize')])\n",
      "        specs: {'args': {'dimensions': [(1, 32), [XGBRegressor(base_score=None, booster=None, callbacks=None,\n",
      "             colsample_bylevel=None, colsample_bynode=None,\n",
      "             colsample_bytree=None, early_stopping_rounds=None,\n",
      "             enable_categorical=False, eval_metric=None, gamma=None,\n",
      "             gpu_id=None, grow_policy=None, importance_type=None,\n",
      "             interaction_constraints=None, learning_rate=None, max_bin=None,\n",
      "             max_cat_to_onehot=None, max_delta_step=None, max_depth=None,\n",
      "             max_leaves=None, min_child_weight=None, missing=nan,\n",
      "             monotone_constraints=None, n_estimators=100, n_jobs=None,\n",
      "             num_parallel_tree=None, predictor=None, random_state=None,\n",
      "             reg_alpha=None, reg_lambda=None, ...)], (0.6, 1.0), (0.5, 5), (3, 5), (1, 10), (0.6, 1.0)], 'base_estimator': 'gp', 'n_random_starts': None, 'n_initial_points': 10, 'initial_point_generator': 'random', 'n_jobs': 1, 'acq_func': 'gp_hedge', 'acq_optimizer': 'auto', 'random_state': RandomState(MT19937) at 0x7FA671BA1440, 'model_queue_size': None, 'acq_func_kwargs': None, 'acq_optimizer_kwargs': None}, 'function': 'Optimizer'}\n",
      "            x: [10, XGBRegressor(base_score=None, booster=None, callbacks=None,\n",
      "             colsample_bylevel=None, colsample_bynode=None,\n",
      "             colsample_bytree=None, early_stopping_rounds=None,\n",
      "             enable_categorical=False, eval_metric=None, gamma=None,\n",
      "             gpu_id=None, grow_policy=None, importance_type=None,\n",
      "             interaction_constraints=None, learning_rate=None, max_bin=None,\n",
      "             max_cat_to_onehot=None, max_delta_step=None, max_depth=None,\n",
      "             max_leaves=None, min_child_weight=None, missing=nan,\n",
      "             monotone_constraints=None, n_estimators=100, n_jobs=None,\n",
      "             num_parallel_tree=None, predictor=None, random_state=None,\n",
      "             reg_alpha=None, reg_lambda=None, ...), 0.7843617625098513, 4.262119460872011, 4, 6, 0.8271310755083106]\n",
      "      x_iters: [[25, XGBRegressor(base_score=None, booster=None, callbacks=None,\n",
      "             colsample_bylevel=None, colsample_bynode=None,\n",
      "             colsample_bytree=None, early_stopping_rounds=None,\n",
      "             enable_categorical=False, eval_metric=None, gamma=None,\n",
      "             gpu_id=None, grow_policy=None, importance_type=None,\n",
      "             interaction_constraints=None, learning_rate=None, max_bin=None,\n",
      "             max_cat_to_onehot=None, max_delta_step=None, max_depth=None,\n",
      "             max_leaves=None, min_child_weight=None, missing=nan,\n",
      "             monotone_constraints=None, n_estimators=100, n_jobs=None,\n",
      "             num_parallel_tree=None, predictor=None, random_state=None,\n",
      "             reg_alpha=None, reg_lambda=None, ...), 0.8848147709018372, 2.8342067748577255, 4, 7, 0.703542155268287], [10, XGBRegressor(base_score=None, booster=None, callbacks=None,\n",
      "             colsample_bylevel=None, colsample_bynode=None,\n",
      "             colsample_bytree=None, early_stopping_rounds=None,\n",
      "             enable_categorical=False, eval_metric=None, gamma=None,\n",
      "             gpu_id=None, grow_policy=None, importance_type=None,\n",
      "             interaction_constraints=None, learning_rate=None, max_bin=None,\n",
      "             max_cat_to_onehot=None, max_delta_step=None, max_depth=None,\n",
      "             max_leaves=None, min_child_weight=None, missing=nan,\n",
      "             monotone_constraints=None, n_estimators=100, n_jobs=None,\n",
      "             num_parallel_tree=None, predictor=None, random_state=None,\n",
      "             reg_alpha=None, reg_lambda=None, ...), 0.7843617625098513, 4.262119460872011, 4, 6, 0.8271310755083106], [23, XGBRegressor(base_score=None, booster=None, callbacks=None,\n",
      "             colsample_bylevel=None, colsample_bynode=None,\n",
      "             colsample_bytree=None, early_stopping_rounds=None,\n",
      "             enable_categorical=False, eval_metric=None, gamma=None,\n",
      "             gpu_id=None, grow_policy=None, importance_type=None,\n",
      "             interaction_constraints=None, learning_rate=None, max_bin=None,\n",
      "             max_cat_to_onehot=None, max_delta_step=None, max_depth=None,\n",
      "             max_leaves=None, min_child_weight=None, missing=nan,\n",
      "             monotone_constraints=None, n_estimators=100, n_jobs=None,\n",
      "             num_parallel_tree=None, predictor=None, random_state=None,\n",
      "             reg_alpha=None, reg_lambda=None, ...), 0.8004940209007869, 1.7767263509388773, 5, 8, 0.7236284895706291]]\n",
      "Fitting 5 folds for each of 1 candidates, totalling 5 fits\n",
      "[CV 1/5] END pca__n_components=30, regress=XGBRegressor(base_score=None, booster=None, callbacks=None,\n",
      "             colsample_bylevel=None, colsample_bynode=None,\n",
      "             colsample_bytree=None, early_stopping_rounds=None,\n",
      "             enable_categorical=False, eval_metric=None, gamma=None,\n",
      "             gpu_id=None, grow_policy=None, importance_type=None,\n",
      "             interaction_constraints=None, learning_rate=None, max_bin=None,\n",
      "             max_cat_to_onehot=None, max_delta_step=None, max_depth=None,\n",
      "             max_leaves=None, min_child_weight=None, missing=nan,\n",
      "             monotone_constraints=None, n_estimators=100, n_jobs=None,\n",
      "             num_parallel_tree=None, predictor=None, random_state=None,\n",
      "             reg_alpha=None, reg_lambda=None, ...), regress__colsample_bytree=0.6699177316188473, regress__gamma=2.513162744965128, regress__max_depth=5, regress__min_child_weight=7, regress__subsample=0.7405643794771694;, score=-0.025 total time=   4.9s\n",
      "[CV 2/5] END pca__n_components=30, regress=XGBRegressor(base_score=None, booster=None, callbacks=None,\n",
      "             colsample_bylevel=None, colsample_bynode=None,\n",
      "             colsample_bytree=None, early_stopping_rounds=None,\n",
      "             enable_categorical=False, eval_metric=None, gamma=None,\n",
      "             gpu_id=None, grow_policy=None, importance_type=None,\n",
      "             interaction_constraints=None, learning_rate=None, max_bin=None,\n",
      "             max_cat_to_onehot=None, max_delta_step=None, max_depth=None,\n",
      "             max_leaves=None, min_child_weight=None, missing=nan,\n",
      "             monotone_constraints=None, n_estimators=100, n_jobs=None,\n",
      "             num_parallel_tree=None, predictor=None, random_state=None,\n",
      "             reg_alpha=None, reg_lambda=None, ...), regress__colsample_bytree=0.6699177316188473, regress__gamma=2.513162744965128, regress__max_depth=5, regress__min_child_weight=7, regress__subsample=0.7405643794771694;, score=-0.024 total time=   5.0s\n",
      "[CV 4/5] END pca__n_components=30, regress=XGBRegressor(base_score=None, booster=None, callbacks=None,\n",
      "             colsample_bylevel=None, colsample_bynode=None,\n",
      "             colsample_bytree=None, early_stopping_rounds=None,\n",
      "             enable_categorical=False, eval_metric=None, gamma=None,\n",
      "             gpu_id=None, grow_policy=None, importance_type=None,\n",
      "             interaction_constraints=None, learning_rate=None, max_bin=None,\n",
      "             max_cat_to_onehot=None, max_delta_step=None, max_depth=None,\n",
      "             max_leaves=None, min_child_weight=None, missing=nan,\n",
      "             monotone_constraints=None, n_estimators=100, n_jobs=None,\n",
      "             num_parallel_tree=None, predictor=None, random_state=None,\n",
      "             reg_alpha=None, reg_lambda=None, ...), regress__colsample_bytree=0.6699177316188473, regress__gamma=2.513162744965128, regress__max_depth=5, regress__min_child_weight=7, regress__subsample=0.7405643794771694;, score=-0.020 total time=   5.0s\n",
      "[CV 3/5] END pca__n_components=30, regress=XGBRegressor(base_score=None, booster=None, callbacks=None,\n",
      "             colsample_bylevel=None, colsample_bynode=None,\n",
      "             colsample_bytree=None, early_stopping_rounds=None,\n",
      "             enable_categorical=False, eval_metric=None, gamma=None,\n",
      "             gpu_id=None, grow_policy=None, importance_type=None,\n",
      "             interaction_constraints=None, learning_rate=None, max_bin=None,\n",
      "             max_cat_to_onehot=None, max_delta_step=None, max_depth=None,\n",
      "             max_leaves=None, min_child_weight=None, missing=nan,\n",
      "             monotone_constraints=None, n_estimators=100, n_jobs=None,\n",
      "             num_parallel_tree=None, predictor=None, random_state=None,\n",
      "             reg_alpha=None, reg_lambda=None, ...), regress__colsample_bytree=0.6699177316188473, regress__gamma=2.513162744965128, regress__max_depth=5, regress__min_child_weight=7, regress__subsample=0.7405643794771694;, score=-0.030 total time=   5.1s\n",
      "[CV 5/5] END pca__n_components=30, regress=XGBRegressor(base_score=None, booster=None, callbacks=None,\n",
      "             colsample_bylevel=None, colsample_bynode=None,\n",
      "             colsample_bytree=None, early_stopping_rounds=None,\n",
      "             enable_categorical=False, eval_metric=None, gamma=None,\n",
      "             gpu_id=None, grow_policy=None, importance_type=None,\n",
      "             interaction_constraints=None, learning_rate=None, max_bin=None,\n",
      "             max_cat_to_onehot=None, max_delta_step=None, max_depth=None,\n",
      "             max_leaves=None, min_child_weight=None, missing=nan,\n",
      "             monotone_constraints=None, n_estimators=100, n_jobs=None,\n",
      "             num_parallel_tree=None, predictor=None, random_state=None,\n",
      "             reg_alpha=None, reg_lambda=None, ...), regress__colsample_bytree=0.6699177316188473, regress__gamma=2.513162744965128, regress__max_depth=5, regress__min_child_weight=7, regress__subsample=0.7405643794771694;, score=-0.021 total time=   2.6s\n",
      "test\n",
      "          fun: 0.023913160650221966\n",
      "    func_vals: array([0.02391831, 0.02391316, 0.02391871, 0.0239176 ])\n",
      "       models: []\n",
      " random_state: RandomState(MT19937) at 0x7FA671BA1440\n",
      "        space: Space([Integer(low=1, high=32, prior='uniform', transform='normalize'),\n",
      "       Categorical(categories=(XGBRegressor(base_score=None, booster=None, callbacks=None,\n",
      "             colsample_bylevel=None, colsample_bynode=None,\n",
      "             colsample_bytree=None, early_stopping_rounds=None,\n",
      "             enable_categorical=False, eval_metric=None, gamma=None,\n",
      "             gpu_id=None, grow_policy=None, importance_type=None,\n",
      "             interaction_constraints=None, learning_rate=None, max_bin=None,\n",
      "             max_cat_to_onehot=None, max_delta_step=None, max_depth=None,\n",
      "             max_leaves=None, min_child_weight=None, missing=nan,\n",
      "             monotone_constraints=None, n_estimators=100, n_jobs=None,\n",
      "             num_parallel_tree=None, predictor=None, random_state=None,\n",
      "             reg_alpha=None, reg_lambda=None, ...),), prior=None),\n",
      "       Real(low=0.6, high=1.0, prior='uniform', transform='normalize'),\n",
      "       Real(low=0.5, high=5, prior='uniform', transform='normalize'),\n",
      "       Integer(low=3, high=5, prior='uniform', transform='normalize'),\n",
      "       Integer(low=1, high=10, prior='uniform', transform='normalize'),\n",
      "       Real(low=0.6, high=1.0, prior='uniform', transform='normalize')])\n",
      "        specs: {'args': {'dimensions': [(1, 32), [XGBRegressor(base_score=None, booster=None, callbacks=None,\n",
      "             colsample_bylevel=None, colsample_bynode=None,\n",
      "             colsample_bytree=None, early_stopping_rounds=None,\n",
      "             enable_categorical=False, eval_metric=None, gamma=None,\n",
      "             gpu_id=None, grow_policy=None, importance_type=None,\n",
      "             interaction_constraints=None, learning_rate=None, max_bin=None,\n",
      "             max_cat_to_onehot=None, max_delta_step=None, max_depth=None,\n",
      "             max_leaves=None, min_child_weight=None, missing=nan,\n",
      "             monotone_constraints=None, n_estimators=100, n_jobs=None,\n",
      "             num_parallel_tree=None, predictor=None, random_state=None,\n",
      "             reg_alpha=None, reg_lambda=None, ...)], (0.6, 1.0), (0.5, 5), (3, 5), (1, 10), (0.6, 1.0)], 'base_estimator': 'gp', 'n_random_starts': None, 'n_initial_points': 10, 'initial_point_generator': 'random', 'n_jobs': 1, 'acq_func': 'gp_hedge', 'acq_optimizer': 'auto', 'random_state': RandomState(MT19937) at 0x7FA671BA1440, 'model_queue_size': None, 'acq_func_kwargs': None, 'acq_optimizer_kwargs': None}, 'function': 'Optimizer'}\n",
      "            x: [10, XGBRegressor(base_score=None, booster=None, callbacks=None,\n",
      "             colsample_bylevel=None, colsample_bynode=None,\n",
      "             colsample_bytree=None, early_stopping_rounds=None,\n",
      "             enable_categorical=False, eval_metric=None, gamma=None,\n",
      "             gpu_id=None, grow_policy=None, importance_type=None,\n",
      "             interaction_constraints=None, learning_rate=None, max_bin=None,\n",
      "             max_cat_to_onehot=None, max_delta_step=None, max_depth=None,\n",
      "             max_leaves=None, min_child_weight=None, missing=nan,\n",
      "             monotone_constraints=None, n_estimators=100, n_jobs=None,\n",
      "             num_parallel_tree=None, predictor=None, random_state=None,\n",
      "             reg_alpha=None, reg_lambda=None, ...), 0.7843617625098513, 4.262119460872011, 4, 6, 0.8271310755083106]\n",
      "      x_iters: [[25, XGBRegressor(base_score=None, booster=None, callbacks=None,\n",
      "             colsample_bylevel=None, colsample_bynode=None,\n",
      "             colsample_bytree=None, early_stopping_rounds=None,\n",
      "             enable_categorical=False, eval_metric=None, gamma=None,\n",
      "             gpu_id=None, grow_policy=None, importance_type=None,\n",
      "             interaction_constraints=None, learning_rate=None, max_bin=None,\n",
      "             max_cat_to_onehot=None, max_delta_step=None, max_depth=None,\n",
      "             max_leaves=None, min_child_weight=None, missing=nan,\n",
      "             monotone_constraints=None, n_estimators=100, n_jobs=None,\n",
      "             num_parallel_tree=None, predictor=None, random_state=None,\n",
      "             reg_alpha=None, reg_lambda=None, ...), 0.8848147709018372, 2.8342067748577255, 4, 7, 0.703542155268287], [10, XGBRegressor(base_score=None, booster=None, callbacks=None,\n",
      "             colsample_bylevel=None, colsample_bynode=None,\n",
      "             colsample_bytree=None, early_stopping_rounds=None,\n",
      "             enable_categorical=False, eval_metric=None, gamma=None,\n",
      "             gpu_id=None, grow_policy=None, importance_type=None,\n",
      "             interaction_constraints=None, learning_rate=None, max_bin=None,\n",
      "             max_cat_to_onehot=None, max_delta_step=None, max_depth=None,\n",
      "             max_leaves=None, min_child_weight=None, missing=nan,\n",
      "             monotone_constraints=None, n_estimators=100, n_jobs=None,\n",
      "             num_parallel_tree=None, predictor=None, random_state=None,\n",
      "             reg_alpha=None, reg_lambda=None, ...), 0.7843617625098513, 4.262119460872011, 4, 6, 0.8271310755083106], [23, XGBRegressor(base_score=None, booster=None, callbacks=None,\n",
      "             colsample_bylevel=None, colsample_bynode=None,\n",
      "             colsample_bytree=None, early_stopping_rounds=None,\n",
      "             enable_categorical=False, eval_metric=None, gamma=None,\n",
      "             gpu_id=None, grow_policy=None, importance_type=None,\n",
      "             interaction_constraints=None, learning_rate=None, max_bin=None,\n",
      "             max_cat_to_onehot=None, max_delta_step=None, max_depth=None,\n",
      "             max_leaves=None, min_child_weight=None, missing=nan,\n",
      "             monotone_constraints=None, n_estimators=100, n_jobs=None,\n",
      "             num_parallel_tree=None, predictor=None, random_state=None,\n",
      "             reg_alpha=None, reg_lambda=None, ...), 0.8004940209007869, 1.7767263509388773, 5, 8, 0.7236284895706291], [30, XGBRegressor(base_score=None, booster=None, callbacks=None,\n",
      "             colsample_bylevel=None, colsample_bynode=None,\n",
      "             colsample_bytree=None, early_stopping_rounds=None,\n",
      "             enable_categorical=False, eval_metric=None, gamma=None,\n",
      "             gpu_id=None, grow_policy=None, importance_type=None,\n",
      "             interaction_constraints=None, learning_rate=None, max_bin=None,\n",
      "             max_cat_to_onehot=None, max_delta_step=None, max_depth=None,\n",
      "             max_leaves=None, min_child_weight=None, missing=nan,\n",
      "             monotone_constraints=None, n_estimators=100, n_jobs=None,\n",
      "             num_parallel_tree=None, predictor=None, random_state=None,\n",
      "             reg_alpha=None, reg_lambda=None, ...), 0.6699177316188473, 2.513162744965128, 5, 7, 0.7405643794771694]]\n",
      "Fitting 5 folds for each of 1 candidates, totalling 5 fits\n",
      "[CV 3/5] END pca__n_components=30, regress=SVR(), regress__C=6, regress__gamma=auto, regress__kernel=poly;, score=-0.031 total time=   0.0s\n",
      "[CV 2/5] END pca__n_components=30, regress=SVR(), regress__C=6, regress__gamma=auto, regress__kernel=poly;, score=-0.026 total time=   0.1s\n",
      "[CV 1/5] END pca__n_components=30, regress=SVR(), regress__C=6, regress__gamma=auto, regress__kernel=poly;, score=-0.036 total time=   0.1s\n",
      "[CV 4/5] END pca__n_components=30, regress=SVR(), regress__C=6, regress__gamma=auto, regress__kernel=poly;, score=-0.021 total time=   0.1s\n",
      "[CV 5/5] END pca__n_components=30, regress=SVR(), regress__C=6, regress__gamma=auto, regress__kernel=poly;, score=-0.092 total time=   0.0s\n",
      "test\n",
      "          fun: 0.04121463228334578\n",
      "    func_vals: array([0.04121463])\n",
      "       models: []\n",
      " random_state: RandomState(MT19937) at 0x7FA671BA1440\n",
      "        space: Space([Integer(low=1, high=32, prior='uniform', transform='normalize'),\n",
      "       Categorical(categories=(SVR(),), prior=None),\n",
      "       Integer(low=1, high=10, prior='uniform', transform='normalize'),\n",
      "       Categorical(categories=('scale', 'auto'), prior=None),\n",
      "       Categorical(categories=('linear', 'poly', 'rbf', 'sigmoid'), prior=None)])\n",
      "        specs: {'args': {'dimensions': [(1, 32), [SVR()], (1, 10), ['scale', 'auto'], ['linear', 'poly', 'rbf', 'sigmoid']], 'base_estimator': 'gp', 'n_random_starts': None, 'n_initial_points': 10, 'initial_point_generator': 'random', 'n_jobs': 1, 'acq_func': 'gp_hedge', 'acq_optimizer': 'auto', 'random_state': RandomState(MT19937) at 0x7FA671BA1440, 'model_queue_size': None, 'acq_func_kwargs': None, 'acq_optimizer_kwargs': None}, 'function': 'Optimizer'}\n",
      "            x: [30, SVR(), 6, 'auto', 'poly']\n",
      "      x_iters: [[30, SVR(), 6, 'auto', 'poly']]\n",
      "Fitting 5 folds for each of 1 candidates, totalling 5 fits\n",
      "[CV 2/5] END pca__n_components=2, regress=SVR(), regress__C=4, regress__gamma=scale, regress__kernel=rbf;, score=-0.031 total time=   0.2s\n",
      "[CV 1/5] END pca__n_components=2, regress=SVR(), regress__C=4, regress__gamma=scale, regress__kernel=rbf;, score=-0.034 total time=   0.2s\n",
      "[CV 3/5] END pca__n_components=2, regress=SVR(), regress__C=4, regress__gamma=scale, regress__kernel=rbf;, score=-0.042 total time=   0.2s\n",
      "[CV 4/5] END pca__n_components=2, regress=SVR(), regress__C=4, regress__gamma=scale, regress__kernel=rbf;, score=-0.056 total time=   0.2s\n",
      "[CV 5/5] END pca__n_components=2, regress=SVR(), regress__C=4, regress__gamma=scale, regress__kernel=rbf;, score=-0.024 total time=   0.1s\n",
      "test\n",
      "          fun: 0.03716526052007045\n",
      "    func_vals: array([0.04121463, 0.03716526])\n",
      "       models: []\n",
      " random_state: RandomState(MT19937) at 0x7FA671BA1440\n",
      "        space: Space([Integer(low=1, high=32, prior='uniform', transform='normalize'),\n",
      "       Categorical(categories=(SVR(),), prior=None),\n",
      "       Integer(low=1, high=10, prior='uniform', transform='normalize'),\n",
      "       Categorical(categories=('scale', 'auto'), prior=None),\n",
      "       Categorical(categories=('linear', 'poly', 'rbf', 'sigmoid'), prior=None)])\n",
      "        specs: {'args': {'dimensions': [(1, 32), [SVR()], (1, 10), ['scale', 'auto'], ['linear', 'poly', 'rbf', 'sigmoid']], 'base_estimator': 'gp', 'n_random_starts': None, 'n_initial_points': 10, 'initial_point_generator': 'random', 'n_jobs': 1, 'acq_func': 'gp_hedge', 'acq_optimizer': 'auto', 'random_state': RandomState(MT19937) at 0x7FA671BA1440, 'model_queue_size': None, 'acq_func_kwargs': None, 'acq_optimizer_kwargs': None}, 'function': 'Optimizer'}\n",
      "            x: [2, SVR(), 4, 'scale', 'rbf']\n",
      "      x_iters: [[30, SVR(), 6, 'auto', 'poly'], [2, SVR(), 4, 'scale', 'rbf']]\n",
      "Fitting 5 folds for each of 1 candidates, totalling 5 fits\n",
      "[CV 2/5] END pca__n_components=4, regress=SVR(), regress__C=3, regress__gamma=auto, regress__kernel=rbf;, score=-0.024 total time=   0.1s[CV 1/5] END pca__n_components=4, regress=SVR(), regress__C=3, regress__gamma=auto, regress__kernel=rbf;, score=-0.026 total time=   0.1s\n",
      "\n",
      "[CV 3/5] END pca__n_components=4, regress=SVR(), regress__C=3, regress__gamma=auto, regress__kernel=rbf;, score=-0.030 total time=   0.1s\n",
      "[CV 4/5] END pca__n_components=4, regress=SVR(), regress__C=3, regress__gamma=auto, regress__kernel=rbf;, score=-0.021 total time=   0.1s\n",
      "[CV 5/5] END pca__n_components=4, regress=SVR(), regress__C=3, regress__gamma=auto, regress__kernel=rbf;, score=-0.022 total time=   0.1s\n",
      "test\n",
      "          fun: 0.024496329728949214\n",
      "    func_vals: array([0.04121463, 0.03716526, 0.02449633])\n",
      "       models: []\n",
      " random_state: RandomState(MT19937) at 0x7FA671BA1440\n",
      "        space: Space([Integer(low=1, high=32, prior='uniform', transform='normalize'),\n",
      "       Categorical(categories=(SVR(),), prior=None),\n",
      "       Integer(low=1, high=10, prior='uniform', transform='normalize'),\n",
      "       Categorical(categories=('scale', 'auto'), prior=None),\n",
      "       Categorical(categories=('linear', 'poly', 'rbf', 'sigmoid'), prior=None)])\n",
      "        specs: {'args': {'dimensions': [(1, 32), [SVR()], (1, 10), ['scale', 'auto'], ['linear', 'poly', 'rbf', 'sigmoid']], 'base_estimator': 'gp', 'n_random_starts': None, 'n_initial_points': 10, 'initial_point_generator': 'random', 'n_jobs': 1, 'acq_func': 'gp_hedge', 'acq_optimizer': 'auto', 'random_state': RandomState(MT19937) at 0x7FA671BA1440, 'model_queue_size': None, 'acq_func_kwargs': None, 'acq_optimizer_kwargs': None}, 'function': 'Optimizer'}\n",
      "            x: [4, SVR(), 3, 'auto', 'rbf']\n",
      "      x_iters: [[30, SVR(), 6, 'auto', 'poly'], [2, SVR(), 4, 'scale', 'rbf'], [4, SVR(), 3, 'auto', 'rbf']]\n",
      "Fitting 5 folds for each of 1 candidates, totalling 5 fits\n",
      "[CV 1/5] END pca__n_components=32, regress=SVR(), regress__C=2, regress__gamma=scale, regress__kernel=rbf;, score=-0.025 total time=   0.1s\n",
      "[CV 2/5] END pca__n_components=32, regress=SVR(), regress__C=2, regress__gamma=scale, regress__kernel=rbf;, score=-0.025 total time=   0.1s\n",
      "[CV 3/5] END pca__n_components=32, regress=SVR(), regress__C=2, regress__gamma=scale, regress__kernel=rbf;, score=-0.029 total time=   0.1s\n",
      "[CV 4/5] END pca__n_components=32, regress=SVR(), regress__C=2, regress__gamma=scale, regress__kernel=rbf;, score=-0.021 total time=   0.1s\n",
      "[CV 5/5] END pca__n_components=32, regress=SVR(), regress__C=2, regress__gamma=scale, regress__kernel=rbf;, score=-0.021 total time=   0.1s\n",
      "test\n",
      "          fun: 0.024350206887575474\n",
      "    func_vals: array([0.04121463, 0.03716526, 0.02449633, 0.02435021])\n",
      "       models: []\n",
      " random_state: RandomState(MT19937) at 0x7FA671BA1440\n",
      "        space: Space([Integer(low=1, high=32, prior='uniform', transform='normalize'),\n",
      "       Categorical(categories=(SVR(),), prior=None),\n",
      "       Integer(low=1, high=10, prior='uniform', transform='normalize'),\n",
      "       Categorical(categories=('scale', 'auto'), prior=None),\n",
      "       Categorical(categories=('linear', 'poly', 'rbf', 'sigmoid'), prior=None)])\n",
      "        specs: {'args': {'dimensions': [(1, 32), [SVR()], (1, 10), ['scale', 'auto'], ['linear', 'poly', 'rbf', 'sigmoid']], 'base_estimator': 'gp', 'n_random_starts': None, 'n_initial_points': 10, 'initial_point_generator': 'random', 'n_jobs': 1, 'acq_func': 'gp_hedge', 'acq_optimizer': 'auto', 'random_state': RandomState(MT19937) at 0x7FA671BA1440, 'model_queue_size': None, 'acq_func_kwargs': None, 'acq_optimizer_kwargs': None}, 'function': 'Optimizer'}\n",
      "            x: [32, SVR(), 2, 'scale', 'rbf']\n",
      "      x_iters: [[30, SVR(), 6, 'auto', 'poly'], [2, SVR(), 4, 'scale', 'rbf'], [4, SVR(), 3, 'auto', 'rbf'], [32, SVR(), 2, 'scale', 'rbf']]\n",
      "Fitting 5 folds for each of 1 candidates, totalling 5 fits\n",
      "[LightGBM] [Warning] lambda_l1 is set=1.0, reg_alpha=0.24307187194370358 will be ignored. Current value: lambda_l1=1.0\n",
      "[LightGBM] [Warning] min_data_in_leaf is set=100, min_child_samples=20 will be ignored. Current value: min_data_in_leaf=100\n",
      "[LightGBM] [Warning] lambda_l2 is set=0, reg_lambda=0.0 will be ignored. Current value: lambda_l2=0\n",
      "[LightGBM] [Warning] lambda_l1 is set=1.0, reg_alpha=0.24307187194370358 will be ignored. Current value: lambda_l1=1.0\n",
      "[LightGBM] [Warning] min_data_in_leaf is set=100, min_child_samples=20 will be ignored. Current value: min_data_in_leaf=100\n",
      "[LightGBM] [Warning] lambda_l2 is set=0, reg_lambda=0.0 will be ignored. Current value: lambda_l2=0\n",
      "[LightGBM] [Warning] lambda_l1 is set=1.0, reg_alpha=0.24307187194370358 will be ignored. Current value: lambda_l1=1.0\n",
      "[LightGBM] [Warning] min_data_in_leaf is set=100, min_child_samples=20 will be ignored. Current value: min_data_in_leaf=100\n",
      "[LightGBM] [Warning] lambda_l2 is set=0, reg_lambda=0.0 will be ignored. Current value: lambda_l2=0\n",
      "[LightGBM] [Warning] lambda_l1 is set=1.0, reg_alpha=0.24307187194370358 will be ignored. Current value: lambda_l1=1.0\n",
      "[LightGBM] [Warning] min_data_in_leaf is set=100, min_child_samples=20 will be ignored. Current value: min_data_in_leaf=100\n",
      "[LightGBM] [Warning] lambda_l2 is set=0, reg_lambda=0.0 will be ignored. Current value: lambda_l2=0\n",
      "[CV 3/5] END pca__n_components=26, regress=LGBMRegressor(), regress__lambda_l1=1.0, regress__lambda_l2=0, regress__min_data_in_leaf=100, regress__num_leaves=40, regress__reg_alpha=0.24307187194370358;, score=-0.029 total time=   0.7s\n",
      "[CV 2/5] END pca__n_components=26, regress=LGBMRegressor(), regress__lambda_l1=1.0, regress__lambda_l2=0, regress__min_data_in_leaf=100, regress__num_leaves=40, regress__reg_alpha=0.24307187194370358;, score=-0.024 total time=   0.8s\n",
      "[CV 4/5] END pca__n_components=26, regress=LGBMRegressor(), regress__lambda_l1=1.0, regress__lambda_l2=0, regress__min_data_in_leaf=100, regress__num_leaves=40, regress__reg_alpha=0.24307187194370358;, score=-0.020 total time=   0.8s\n",
      "[CV 1/5] END pca__n_components=26, regress=LGBMRegressor(), regress__lambda_l1=1.0, regress__lambda_l2=0, regress__min_data_in_leaf=100, regress__num_leaves=40, regress__reg_alpha=0.24307187194370358;, score=-0.026 total time=   0.7s\n",
      "[LightGBM] [Warning] lambda_l1 is set=1.0, reg_alpha=0.24307187194370358 will be ignored. Current value: lambda_l1=1.0\n",
      "[LightGBM] [Warning] min_data_in_leaf is set=100, min_child_samples=20 will be ignored. Current value: min_data_in_leaf=100\n",
      "[LightGBM] [Warning] lambda_l2 is set=0, reg_lambda=0.0 will be ignored. Current value: lambda_l2=0\n",
      "[CV 5/5] END pca__n_components=26, regress=LGBMRegressor(), regress__lambda_l1=1.0, regress__lambda_l2=0, regress__min_data_in_leaf=100, regress__num_leaves=40, regress__reg_alpha=0.24307187194370358;, score=-0.023 total time=   0.4s\n",
      "test\n",
      "          fun: 0.024600111186122813\n",
      "    func_vals: array([0.02460011])\n",
      "       models: []\n",
      " random_state: RandomState(MT19937) at 0x7FA671BA1440\n",
      "        space: Space([Integer(low=1, high=32, prior='uniform', transform='normalize'),\n",
      "       Categorical(categories=(LGBMRegressor(),), prior=None),\n",
      "       Categorical(categories=(0, 1, 1.5), prior=None),\n",
      "       Integer(low=0, high=1, prior='uniform', transform='normalize'),\n",
      "       Categorical(categories=(30, 50, 100, 300, 400), prior=None),\n",
      "       Integer(low=31, high=127, prior='uniform', transform='normalize'),\n",
      "       Real(low=0.1, high=0.5, prior='uniform', transform='normalize')])\n",
      "        specs: {'args': {'dimensions': [(1, 32), [LGBMRegressor()], [0, 1, 1.5], [0, 1], [30, 50, 100, 300, 400], (31, 127), [0.1, 0.5]], 'base_estimator': 'gp', 'n_random_starts': None, 'n_initial_points': 10, 'initial_point_generator': 'random', 'n_jobs': 1, 'acq_func': 'gp_hedge', 'acq_optimizer': 'auto', 'random_state': RandomState(MT19937) at 0x7FA671BA1440, 'model_queue_size': None, 'acq_func_kwargs': None, 'acq_optimizer_kwargs': None}, 'function': 'Optimizer'}\n",
      "            x: [26, LGBMRegressor(), 1.0, 0, 100, 40, 0.24307187194370358]\n",
      "      x_iters: [[26, LGBMRegressor(), 1.0, 0, 100, 40, 0.24307187194370358]]\n",
      "Fitting 5 folds for each of 1 candidates, totalling 5 fits\n",
      "[LightGBM] [Warning] lambda_l1 is set=1.0, reg_alpha=0.1850105256221324 will be ignored. Current value: lambda_l1=1.0\n",
      "[LightGBM] [Warning] min_data_in_leaf is set=50, min_child_samples=20 will be ignored. Current value: min_data_in_leaf=50\n",
      "[LightGBM] [Warning] lambda_l2 is set=0, reg_lambda=0.0 will be ignored. Current value: lambda_l2=0\n",
      "[LightGBM] [Warning] lambda_l1 is set=1.0, reg_alpha=0.1850105256221324 will be ignored. Current value: lambda_l1=1.0\n",
      "[LightGBM] [Warning] min_data_in_leaf is set=50, min_child_samples=20 will be ignored. Current value: min_data_in_leaf=50\n",
      "[LightGBM] [Warning] lambda_l2 is set=0, reg_lambda=0.0 will be ignored. Current value: lambda_l2=0\n",
      "[LightGBM] [Warning] lambda_l1 is set=1.0, reg_alpha=0.1850105256221324 will be ignored. Current value: lambda_l1=1.0\n",
      "[LightGBM] [Warning] min_data_in_leaf is set=50, min_child_samples=20 will be ignored. Current value: min_data_in_leaf=50\n",
      "[LightGBM] [Warning] lambda_l2 is set=0, reg_lambda=0.0 will be ignored. Current value: lambda_l2=0\n",
      "[LightGBM] [Warning] lambda_l1 is set=1.0, reg_alpha=0.1850105256221324 will be ignored. Current value: lambda_l1=1.0\n",
      "[LightGBM] [Warning] min_data_in_leaf is set=50, min_child_samples=20 will be ignored. Current value: min_data_in_leaf=50\n",
      "[LightGBM] [Warning] lambda_l2 is set=0, reg_lambda=0.0 will be ignored. Current value: lambda_l2=0\n",
      "[CV 3/5] END pca__n_components=22, regress=LGBMRegressor(), regress__lambda_l1=1.0, regress__lambda_l2=0, regress__min_data_in_leaf=50, regress__num_leaves=97, regress__reg_alpha=0.1850105256221324;, score=-0.029 total time=   0.7s\n",
      "[CV 2/5] END pca__n_components=22, regress=LGBMRegressor(), regress__lambda_l1=1.0, regress__lambda_l2=0, regress__min_data_in_leaf=50, regress__num_leaves=97, regress__reg_alpha=0.1850105256221324;, score=-0.029 total time=   0.7s\n",
      "[CV 1/5] END pca__n_components=22, regress=LGBMRegressor(), regress__lambda_l1=1.0, regress__lambda_l2=0, regress__min_data_in_leaf=50, regress__num_leaves=97, regress__reg_alpha=0.1850105256221324;, score=-0.026 total time=   0.7s\n",
      "[CV 4/5] END pca__n_components=22, regress=LGBMRegressor(), regress__lambda_l1=1.0, regress__lambda_l2=0, regress__min_data_in_leaf=50, regress__num_leaves=97, regress__reg_alpha=0.1850105256221324;, score=-0.024 total time=   0.7s\n",
      "[LightGBM] [Warning] lambda_l1 is set=1.0, reg_alpha=0.1850105256221324 will be ignored. Current value: lambda_l1=1.0\n",
      "[LightGBM] [Warning] min_data_in_leaf is set=50, min_child_samples=20 will be ignored. Current value: min_data_in_leaf=50\n",
      "[LightGBM] [Warning] lambda_l2 is set=0, reg_lambda=0.0 will be ignored. Current value: lambda_l2=0\n",
      "[CV 5/5] END pca__n_components=22, regress=LGBMRegressor(), regress__lambda_l1=1.0, regress__lambda_l2=0, regress__min_data_in_leaf=50, regress__num_leaves=97, regress__reg_alpha=0.1850105256221324;, score=-0.023 total time=   0.5s\n",
      "test\n",
      "          fun: 0.024600111186122813\n",
      "    func_vals: array([0.02460011, 0.02622902])\n",
      "       models: []\n",
      " random_state: RandomState(MT19937) at 0x7FA671BA1440\n",
      "        space: Space([Integer(low=1, high=32, prior='uniform', transform='normalize'),\n",
      "       Categorical(categories=(LGBMRegressor(),), prior=None),\n",
      "       Categorical(categories=(0, 1, 1.5), prior=None),\n",
      "       Integer(low=0, high=1, prior='uniform', transform='normalize'),\n",
      "       Categorical(categories=(30, 50, 100, 300, 400), prior=None),\n",
      "       Integer(low=31, high=127, prior='uniform', transform='normalize'),\n",
      "       Real(low=0.1, high=0.5, prior='uniform', transform='normalize')])\n",
      "        specs: {'args': {'dimensions': [(1, 32), [LGBMRegressor()], [0, 1, 1.5], [0, 1], [30, 50, 100, 300, 400], (31, 127), [0.1, 0.5]], 'base_estimator': 'gp', 'n_random_starts': None, 'n_initial_points': 10, 'initial_point_generator': 'random', 'n_jobs': 1, 'acq_func': 'gp_hedge', 'acq_optimizer': 'auto', 'random_state': RandomState(MT19937) at 0x7FA671BA1440, 'model_queue_size': None, 'acq_func_kwargs': None, 'acq_optimizer_kwargs': None}, 'function': 'Optimizer'}\n",
      "            x: [26, LGBMRegressor(), 1.0, 0, 100, 40, 0.24307187194370358]\n",
      "      x_iters: [[26, LGBMRegressor(), 1.0, 0, 100, 40, 0.24307187194370358], [22, LGBMRegressor(), 1.0, 0, 50, 97, 0.1850105256221324]]\n",
      "Fitting 5 folds for each of 1 candidates, totalling 5 fits\n",
      "[LightGBM] [Warning] lambda_l1 is set=1.5, reg_alpha=0.2767630055325344 will be ignored. Current value: lambda_l1=1.5\n",
      "[LightGBM] [Warning] min_data_in_leaf is set=50, min_child_samples=20 will be ignored. Current value: min_data_in_leaf=50\n",
      "[LightGBM] [Warning] lambda_l2 is set=0, reg_lambda=0.0 will be ignored. Current value: lambda_l2=0\n",
      "[LightGBM] [Warning] lambda_l1 is set=1.5, reg_alpha=0.2767630055325344 will be ignored. Current value: lambda_l1=1.5\n",
      "[LightGBM] [Warning] min_data_in_leaf is set=50, min_child_samples=20 will be ignored. Current value: min_data_in_leaf=50\n",
      "[LightGBM] [Warning] lambda_l2 is set=0, reg_lambda=0.0 will be ignored. Current value: lambda_l2=0\n",
      "[LightGBM] [Warning] lambda_l1 is set=1.5, reg_alpha=0.2767630055325344 will be ignored. Current value: lambda_l1=1.5\n",
      "[LightGBM] [Warning] min_data_in_leaf is set=50, min_child_samples=20 will be ignored. Current value: min_data_in_leaf=50\n",
      "[LightGBM] [Warning] lambda_l2 is set=0, reg_lambda=0.0 will be ignored. Current value: lambda_l2=0\n",
      "[LightGBM] [Warning] lambda_l1 is set=1.5, reg_alpha=0.2767630055325344 will be ignored. Current value: lambda_l1=1.5\n",
      "[LightGBM] [Warning] min_data_in_leaf is set=50, min_child_samples=20 will be ignored. Current value: min_data_in_leaf=50\n",
      "[LightGBM] [Warning] lambda_l2 is set=0, reg_lambda=0.0 will be ignored. Current value: lambda_l2=0\n",
      "[CV 1/5] END pca__n_components=4, regress=LGBMRegressor(), regress__lambda_l1=1.5, regress__lambda_l2=0, regress__min_data_in_leaf=50, regress__num_leaves=82, regress__reg_alpha=0.2767630055325344;, score=-0.026 total time=   0.1s\n",
      "[CV 3/5] END pca__n_components=4, regress=LGBMRegressor(), regress__lambda_l1=1.5, regress__lambda_l2=0, regress__min_data_in_leaf=50, regress__num_leaves=82, regress__reg_alpha=0.2767630055325344;, score=-0.030 total time=   0.1s\n",
      "[CV 2/5] END pca__n_components=4, regress=LGBMRegressor(), regress__lambda_l1=1.5, regress__lambda_l2=0, regress__min_data_in_leaf=50, regress__num_leaves=82, regress__reg_alpha=0.2767630055325344;, score=-0.024 total time=   0.1s\n",
      "[LightGBM] [Warning] lambda_l1 is set=1.5, reg_alpha=0.2767630055325344 will be ignored. Current value: lambda_l1=1.5\n",
      "[LightGBM] [Warning] min_data_in_leaf is set=50, min_child_samples=20 will be ignored. Current value: min_data_in_leaf=50\n",
      "[LightGBM] [Warning] lambda_l2 is set=0, reg_lambda=0.0 will be ignored. Current value: lambda_l2=0\n",
      "[CV 4/5] END pca__n_components=4, regress=LGBMRegressor(), regress__lambda_l1=1.5, regress__lambda_l2=0, regress__min_data_in_leaf=50, regress__num_leaves=82, regress__reg_alpha=0.2767630055325344;, score=-0.020 total time=   0.1s\n",
      "[CV 5/5] END pca__n_components=4, regress=LGBMRegressor(), regress__lambda_l1=1.5, regress__lambda_l2=0, regress__min_data_in_leaf=50, regress__num_leaves=82, regress__reg_alpha=0.2767630055325344;, score=-0.021 total time=   0.1s\n",
      "test\n",
      "          fun: 0.024239462001005508\n",
      "    func_vals: array([0.02460011, 0.02622902, 0.02423946])\n",
      "       models: []\n",
      " random_state: RandomState(MT19937) at 0x7FA671BA1440\n",
      "        space: Space([Integer(low=1, high=32, prior='uniform', transform='normalize'),\n",
      "       Categorical(categories=(LGBMRegressor(),), prior=None),\n",
      "       Categorical(categories=(0, 1, 1.5), prior=None),\n",
      "       Integer(low=0, high=1, prior='uniform', transform='normalize'),\n",
      "       Categorical(categories=(30, 50, 100, 300, 400), prior=None),\n",
      "       Integer(low=31, high=127, prior='uniform', transform='normalize'),\n",
      "       Real(low=0.1, high=0.5, prior='uniform', transform='normalize')])\n",
      "        specs: {'args': {'dimensions': [(1, 32), [LGBMRegressor()], [0, 1, 1.5], [0, 1], [30, 50, 100, 300, 400], (31, 127), [0.1, 0.5]], 'base_estimator': 'gp', 'n_random_starts': None, 'n_initial_points': 10, 'initial_point_generator': 'random', 'n_jobs': 1, 'acq_func': 'gp_hedge', 'acq_optimizer': 'auto', 'random_state': RandomState(MT19937) at 0x7FA671BA1440, 'model_queue_size': None, 'acq_func_kwargs': None, 'acq_optimizer_kwargs': None}, 'function': 'Optimizer'}\n",
      "            x: [4, LGBMRegressor(), 1.5, 0, 50, 82, 0.2767630055325344]\n",
      "      x_iters: [[26, LGBMRegressor(), 1.0, 0, 100, 40, 0.24307187194370358], [22, LGBMRegressor(), 1.0, 0, 50, 97, 0.1850105256221324], [4, LGBMRegressor(), 1.5, 0, 50, 82, 0.2767630055325344]]\n",
      "Fitting 5 folds for each of 1 candidates, totalling 5 fits\n",
      "[LightGBM] [Warning] lambda_l1 is set=1.5, reg_alpha=0.20458135485896858 will be ignored. Current value: lambda_l1=1.5\n",
      "[LightGBM] [Warning] min_data_in_leaf is set=100, min_child_samples=20 will be ignored. Current value: min_data_in_leaf=100\n",
      "[LightGBM] [Warning] lambda_l2 is set=1, reg_lambda=0.0 will be ignored. Current value: lambda_l2=1\n",
      "[LightGBM] [Warning] lambda_l1 is set=1.5, reg_alpha=0.20458135485896858 will be ignored. Current value: lambda_l1=1.5[LightGBM] [Warning] lambda_l1 is set=1.5, reg_alpha=0.20458135485896858 will be ignored. Current value: lambda_l1=1.5\n",
      "[LightGBM] [Warning] min_data_in_leaf is set=100, min_child_samples=20 will be ignored. Current value: min_data_in_leaf=100\n",
      "[LightGBM] [Warning] lambda_l2 is set=1, reg_lambda=0.0 will be ignored. Current value: lambda_l2=1\n",
      "\n",
      "[LightGBM] [Warning] min_data_in_leaf is set=100, min_child_samples=20 will be ignored. Current value: min_data_in_leaf=100\n",
      "[LightGBM] [Warning] lambda_l2 is set=1, reg_lambda=0.0 will be ignored. Current value: lambda_l2=1\n",
      "[LightGBM] [Warning] lambda_l1 is set=1.5, reg_alpha=0.20458135485896858 will be ignored. Current value: lambda_l1=1.5\n",
      "[LightGBM] [Warning] min_data_in_leaf is set=100, min_child_samples=20 will be ignored. Current value: min_data_in_leaf=100\n",
      "[LightGBM] [Warning] lambda_l2 is set=1, reg_lambda=0.0 will be ignored. Current value: lambda_l2=1\n",
      "[CV 4/5] END pca__n_components=16, regress=LGBMRegressor(), regress__lambda_l1=1.5, regress__lambda_l2=1, regress__min_data_in_leaf=100, regress__num_leaves=72, regress__reg_alpha=0.20458135485896858;, score=-0.022 total time=   0.3s\n",
      "[CV 1/5] END pca__n_components=16, regress=LGBMRegressor(), regress__lambda_l1=1.5, regress__lambda_l2=1, regress__min_data_in_leaf=100, regress__num_leaves=72, regress__reg_alpha=0.20458135485896858;, score=-0.025 total time=   0.3s\n",
      "[CV 2/5] END pca__n_components=16, regress=LGBMRegressor(), regress__lambda_l1=1.5, regress__lambda_l2=1, regress__min_data_in_leaf=100, regress__num_leaves=72, regress__reg_alpha=0.20458135485896858;, score=-0.024 total time=   0.3s\n",
      "[LightGBM] [Warning] lambda_l1 is set=1.5, reg_alpha=0.20458135485896858 will be ignored. Current value: lambda_l1=1.5\n",
      "[LightGBM] [Warning] min_data_in_leaf is set=100, min_child_samples=20 will be ignored. Current value: min_data_in_leaf=100\n",
      "[LightGBM] [Warning] lambda_l2 is set=1, reg_lambda=0.0 will be ignored. Current value: lambda_l2=1\n",
      "[CV 3/5] END pca__n_components=16, regress=LGBMRegressor(), regress__lambda_l1=1.5, regress__lambda_l2=1, regress__min_data_in_leaf=100, regress__num_leaves=72, regress__reg_alpha=0.20458135485896858;, score=-0.030 total time=   0.3s\n",
      "[CV 5/5] END pca__n_components=16, regress=LGBMRegressor(), regress__lambda_l1=1.5, regress__lambda_l2=1, regress__min_data_in_leaf=100, regress__num_leaves=72, regress__reg_alpha=0.20458135485896858;, score=-0.021 total time=   0.2s\n",
      "test\n",
      "          fun: 0.024239462001005508\n",
      "    func_vals: array([0.02460011, 0.02622902, 0.02423946, 0.02444821])\n",
      "       models: []\n",
      " random_state: RandomState(MT19937) at 0x7FA671BA1440\n",
      "        space: Space([Integer(low=1, high=32, prior='uniform', transform='normalize'),\n",
      "       Categorical(categories=(LGBMRegressor(),), prior=None),\n",
      "       Categorical(categories=(0, 1, 1.5), prior=None),\n",
      "       Integer(low=0, high=1, prior='uniform', transform='normalize'),\n",
      "       Categorical(categories=(30, 50, 100, 300, 400), prior=None),\n",
      "       Integer(low=31, high=127, prior='uniform', transform='normalize'),\n",
      "       Real(low=0.1, high=0.5, prior='uniform', transform='normalize')])\n",
      "        specs: {'args': {'dimensions': [(1, 32), [LGBMRegressor()], [0, 1, 1.5], [0, 1], [30, 50, 100, 300, 400], (31, 127), [0.1, 0.5]], 'base_estimator': 'gp', 'n_random_starts': None, 'n_initial_points': 10, 'initial_point_generator': 'random', 'n_jobs': 1, 'acq_func': 'gp_hedge', 'acq_optimizer': 'auto', 'random_state': RandomState(MT19937) at 0x7FA671BA1440, 'model_queue_size': None, 'acq_func_kwargs': None, 'acq_optimizer_kwargs': None}, 'function': 'Optimizer'}\n",
      "            x: [4, LGBMRegressor(), 1.5, 0, 50, 82, 0.2767630055325344]\n",
      "      x_iters: [[26, LGBMRegressor(), 1.0, 0, 100, 40, 0.24307187194370358], [22, LGBMRegressor(), 1.0, 0, 50, 97, 0.1850105256221324], [4, LGBMRegressor(), 1.5, 0, 50, 82, 0.2767630055325344], [16, LGBMRegressor(), 1.5, 1, 100, 72, 0.20458135485896858]]\n"
     ]
    }
   ],
   "source": [
    "from skopt import BayesSearchCV\n",
    "import os\n",
    "from skopt import dump, load\n",
    "import ray\n",
    "import tqdm\n",
    "\n",
    "cb_times = 0\n",
    "p_bar = tqdm(total=len(param_grid) * N_ITER)\n",
    "def cb(v):\n",
    "    p_bar.update(1)\n",
    "    print('test')\n",
    "    \n",
    "\n",
    "# TODO : PROGRESS BAR\n",
    "# TODO : customized scoring, use (y_hat - y) * y\n",
    "\n",
    "PKL_FILENAME=f'./grid-{stock_name}.pkl'\n",
    "#grid = GridSearchCV(full_pipeline, n_jobs=1, cv=3, scoring=\"accuracy\", param_grid=param_grid)\n",
    "if os.path.exists(PKL_FILENAME):\n",
    "    grid = load(PKL_FILENAME)\n",
    "else:\n",
    "    # ray.init(address='auto')\n",
    "    # register_ray()\n",
    "    # with joblib.parallel_backend(\"ray\"):\n",
    "    grid =  BayesSearchCV(full_pipeline, n_jobs=-1, cv=5, scoring=\"neg_root_mean_squared_error\", search_spaces=param_grid, verbose=3)\n",
    "    grid.fit(X, y, callback = cb)\n",
    "    #ray.shutdown()\n",
    "    dump(grid, PKL_FILENAME)"
   ]
  },
  {
   "cell_type": "code",
   "execution_count": 90,
   "metadata": {
    "vscode": {
     "languageId": "r"
    }
   },
   "outputs": [],
   "source": [
    "ray.shutdown()"
   ]
  },
  {
   "cell_type": "code",
   "execution_count": 91,
   "metadata": {
    "vscode": {
     "languageId": "r"
    }
   },
   "outputs": [
    {
     "ename": "RaySystemError",
     "evalue": "System error: Ray has not been started yet. You can start Ray with 'ray.init()'.",
     "output_type": "error",
     "traceback": [
      "\u001b[0;31m---------------------------------------------------------------------------\u001b[0m",
      "\u001b[0;31mRaySystemError\u001b[0m                            Traceback (most recent call last)",
      "\u001b[1;32m/home/ken/git/portfolio/macro-analysis/time_point.ipynb Cell 51'\u001b[0m in \u001b[0;36m<cell line: 1>\u001b[0;34m()\u001b[0m\n\u001b[0;32m----> <a href='vscode-notebook-cell://ssh-remote%2Blenovo/home/ken/git/portfolio/macro-analysis/time_point.ipynb#ch0000076vscode-remote?line=0'>1</a>\u001b[0m ray\u001b[39m.\u001b[39;49mnodes()\n",
      "File \u001b[0;32m~/anaconda3/lib/python3.9/site-packages/ray/_private/client_mode_hook.py:105\u001b[0m, in \u001b[0;36mclient_mode_hook.<locals>.wrapper\u001b[0;34m(*args, **kwargs)\u001b[0m\n\u001b[1;32m    103\u001b[0m     \u001b[39mif\u001b[39;00m func\u001b[39m.\u001b[39m\u001b[39m__name__\u001b[39m \u001b[39m!=\u001b[39m \u001b[39m\"\u001b[39m\u001b[39minit\u001b[39m\u001b[39m\"\u001b[39m \u001b[39mor\u001b[39;00m is_client_mode_enabled_by_default:\n\u001b[1;32m    104\u001b[0m         \u001b[39mreturn\u001b[39;00m \u001b[39mgetattr\u001b[39m(ray, func\u001b[39m.\u001b[39m\u001b[39m__name__\u001b[39m)(\u001b[39m*\u001b[39margs, \u001b[39m*\u001b[39m\u001b[39m*\u001b[39mkwargs)\n\u001b[0;32m--> 105\u001b[0m \u001b[39mreturn\u001b[39;00m func(\u001b[39m*\u001b[39;49margs, \u001b[39m*\u001b[39;49m\u001b[39m*\u001b[39;49mkwargs)\n",
      "File \u001b[0;32m~/anaconda3/lib/python3.9/site-packages/ray/state.py:786\u001b[0m, in \u001b[0;36mnodes\u001b[0;34m()\u001b[0m\n\u001b[1;32m    778\u001b[0m \u001b[39m@DeveloperAPI\u001b[39m\n\u001b[1;32m    779\u001b[0m \u001b[39m@client_mode_hook\u001b[39m(auto_init\u001b[39m=\u001b[39m\u001b[39mFalse\u001b[39;00m)\n\u001b[1;32m    780\u001b[0m \u001b[39mdef\u001b[39;00m \u001b[39mnodes\u001b[39m():\n\u001b[1;32m    781\u001b[0m     \u001b[39m\"\"\"Get a list of the nodes in the cluster (for debugging only).\u001b[39;00m\n\u001b[1;32m    782\u001b[0m \n\u001b[1;32m    783\u001b[0m \u001b[39m    Returns:\u001b[39;00m\n\u001b[1;32m    784\u001b[0m \u001b[39m        Information about the Ray clients in the cluster.\u001b[39;00m\n\u001b[1;32m    785\u001b[0m \u001b[39m    \"\"\"\u001b[39;00m\n\u001b[0;32m--> 786\u001b[0m     \u001b[39mreturn\u001b[39;00m state\u001b[39m.\u001b[39;49mnode_table()\n",
      "File \u001b[0;32m~/anaconda3/lib/python3.9/site-packages/ray/state.py:171\u001b[0m, in \u001b[0;36mGlobalState.node_table\u001b[0;34m(self)\u001b[0m\n\u001b[1;32m    165\u001b[0m \u001b[39mdef\u001b[39;00m \u001b[39mnode_table\u001b[39m(\u001b[39mself\u001b[39m):\n\u001b[1;32m    166\u001b[0m     \u001b[39m\"\"\"Fetch and parse the Gcs node info table.\u001b[39;00m\n\u001b[1;32m    167\u001b[0m \n\u001b[1;32m    168\u001b[0m \u001b[39m    Returns:\u001b[39;00m\n\u001b[1;32m    169\u001b[0m \u001b[39m        Information about the node in the cluster.\u001b[39;00m\n\u001b[1;32m    170\u001b[0m \u001b[39m    \"\"\"\u001b[39;00m\n\u001b[0;32m--> 171\u001b[0m     \u001b[39mself\u001b[39;49m\u001b[39m.\u001b[39;49m_check_connected()\n\u001b[1;32m    173\u001b[0m     node_table \u001b[39m=\u001b[39m \u001b[39mself\u001b[39m\u001b[39m.\u001b[39mglobal_state_accessor\u001b[39m.\u001b[39mget_node_table()\n\u001b[1;32m    175\u001b[0m     results \u001b[39m=\u001b[39m []\n",
      "File \u001b[0;32m~/anaconda3/lib/python3.9/site-packages/ray/state.py:48\u001b[0m, in \u001b[0;36mGlobalState._check_connected\u001b[0;34m(self)\u001b[0m\n\u001b[1;32m     46\u001b[0m \u001b[39m# _really_init_global_state should have set self.global_state_accessor\u001b[39;00m\n\u001b[1;32m     47\u001b[0m \u001b[39mif\u001b[39;00m \u001b[39mself\u001b[39m\u001b[39m.\u001b[39mglobal_state_accessor \u001b[39mis\u001b[39;00m \u001b[39mNone\u001b[39;00m:\n\u001b[0;32m---> 48\u001b[0m     \u001b[39mraise\u001b[39;00m ray\u001b[39m.\u001b[39mexceptions\u001b[39m.\u001b[39mRaySystemError(\n\u001b[1;32m     49\u001b[0m         \u001b[39m\"\u001b[39m\u001b[39mRay has not been started yet. You can start Ray with \u001b[39m\u001b[39m'\u001b[39m\u001b[39mray.init()\u001b[39m\u001b[39m'\u001b[39m\u001b[39m.\u001b[39m\u001b[39m\"\u001b[39m\n\u001b[1;32m     50\u001b[0m     )\n",
      "\u001b[0;31mRaySystemError\u001b[0m: System error: Ray has not been started yet. You can start Ray with 'ray.init()'."
     ]
    }
   ],
   "source": [
    "ray.nodes()"
   ]
  },
  {
   "cell_type": "code",
   "execution_count": 94,
   "metadata": {
    "vscode": {
     "languageId": "r"
    }
   },
   "outputs": [
    {
     "data": {
      "text/html": [
       "<div>\n",
       "<style scoped>\n",
       "    .dataframe tbody tr th:only-of-type {\n",
       "        vertical-align: middle;\n",
       "    }\n",
       "\n",
       "    .dataframe tbody tr th {\n",
       "        vertical-align: top;\n",
       "    }\n",
       "\n",
       "    .dataframe thead th {\n",
       "        text-align: right;\n",
       "    }\n",
       "</style>\n",
       "<table border=\"1\" class=\"dataframe\">\n",
       "  <thead>\n",
       "    <tr style=\"text-align: right;\">\n",
       "      <th></th>\n",
       "      <th>mean_fit_time</th>\n",
       "      <th>std_fit_time</th>\n",
       "      <th>mean_score_time</th>\n",
       "      <th>std_score_time</th>\n",
       "      <th>param_pca__n_components</th>\n",
       "      <th>param_regress</th>\n",
       "      <th>param_regress__criterion</th>\n",
       "      <th>param_regress__max_depth</th>\n",
       "      <th>param_regress__min_samples_split</th>\n",
       "      <th>param_regress__n_estimators</th>\n",
       "      <th>...</th>\n",
       "      <th>param_regress__reg_alpha</th>\n",
       "      <th>params</th>\n",
       "      <th>split0_test_score</th>\n",
       "      <th>split1_test_score</th>\n",
       "      <th>split2_test_score</th>\n",
       "      <th>split3_test_score</th>\n",
       "      <th>split4_test_score</th>\n",
       "      <th>mean_test_score</th>\n",
       "      <th>std_test_score</th>\n",
       "      <th>rank_test_score</th>\n",
       "    </tr>\n",
       "  </thead>\n",
       "  <tbody>\n",
       "    <tr>\n",
       "      <th>474</th>\n",
       "      <td>0.975887</td>\n",
       "      <td>0.056722</td>\n",
       "      <td>0.014359</td>\n",
       "      <td>0.001776</td>\n",
       "      <td>72</td>\n",
       "      <td>LGBMRegressor(lambda_l1=1.0, lambda_l2=0, min_...</td>\n",
       "      <td>NaN</td>\n",
       "      <td>NaN</td>\n",
       "      <td>NaN</td>\n",
       "      <td>NaN</td>\n",
       "      <td>...</td>\n",
       "      <td>0.1</td>\n",
       "      <td>{'pca__n_components': 72, 'regress': LGBMRegre...</td>\n",
       "      <td>-0.023967</td>\n",
       "      <td>-0.022967</td>\n",
       "      <td>-0.029592</td>\n",
       "      <td>-0.019793</td>\n",
       "      <td>-0.021286</td>\n",
       "      <td>-0.023521</td>\n",
       "      <td>0.003354</td>\n",
       "      <td>1</td>\n",
       "    </tr>\n",
       "    <tr>\n",
       "      <th>423</th>\n",
       "      <td>0.911423</td>\n",
       "      <td>0.112007</td>\n",
       "      <td>0.013728</td>\n",
       "      <td>0.001338</td>\n",
       "      <td>80</td>\n",
       "      <td>LGBMRegressor(lambda_l1=1.0, lambda_l2=0, min_...</td>\n",
       "      <td>NaN</td>\n",
       "      <td>NaN</td>\n",
       "      <td>NaN</td>\n",
       "      <td>NaN</td>\n",
       "      <td>...</td>\n",
       "      <td>0.1</td>\n",
       "      <td>{'pca__n_components': 80, 'regress': LGBMRegre...</td>\n",
       "      <td>-0.023800</td>\n",
       "      <td>-0.023027</td>\n",
       "      <td>-0.029736</td>\n",
       "      <td>-0.020149</td>\n",
       "      <td>-0.021169</td>\n",
       "      <td>-0.023576</td>\n",
       "      <td>0.003342</td>\n",
       "      <td>2</td>\n",
       "    </tr>\n",
       "    <tr>\n",
       "      <th>417</th>\n",
       "      <td>0.841467</td>\n",
       "      <td>0.062649</td>\n",
       "      <td>0.013278</td>\n",
       "      <td>0.001554</td>\n",
       "      <td>80</td>\n",
       "      <td>LGBMRegressor(lambda_l1=1.0, lambda_l2=0, min_...</td>\n",
       "      <td>NaN</td>\n",
       "      <td>NaN</td>\n",
       "      <td>NaN</td>\n",
       "      <td>NaN</td>\n",
       "      <td>...</td>\n",
       "      <td>0.1</td>\n",
       "      <td>{'pca__n_components': 80, 'regress': LGBMRegre...</td>\n",
       "      <td>-0.023800</td>\n",
       "      <td>-0.023027</td>\n",
       "      <td>-0.029736</td>\n",
       "      <td>-0.020149</td>\n",
       "      <td>-0.021169</td>\n",
       "      <td>-0.023576</td>\n",
       "      <td>0.003342</td>\n",
       "      <td>2</td>\n",
       "    </tr>\n",
       "    <tr>\n",
       "      <th>510</th>\n",
       "      <td>0.840830</td>\n",
       "      <td>0.059192</td>\n",
       "      <td>0.013760</td>\n",
       "      <td>0.001220</td>\n",
       "      <td>80</td>\n",
       "      <td>LGBMRegressor(lambda_l1=1.0, lambda_l2=0, min_...</td>\n",
       "      <td>NaN</td>\n",
       "      <td>NaN</td>\n",
       "      <td>NaN</td>\n",
       "      <td>NaN</td>\n",
       "      <td>...</td>\n",
       "      <td>0.5</td>\n",
       "      <td>{'pca__n_components': 80, 'regress': LGBMRegre...</td>\n",
       "      <td>-0.023862</td>\n",
       "      <td>-0.023278</td>\n",
       "      <td>-0.029687</td>\n",
       "      <td>-0.020066</td>\n",
       "      <td>-0.021135</td>\n",
       "      <td>-0.023606</td>\n",
       "      <td>0.003340</td>\n",
       "      <td>4</td>\n",
       "    </tr>\n",
       "    <tr>\n",
       "      <th>439</th>\n",
       "      <td>0.835651</td>\n",
       "      <td>0.052934</td>\n",
       "      <td>0.014176</td>\n",
       "      <td>0.001211</td>\n",
       "      <td>80</td>\n",
       "      <td>LGBMRegressor(lambda_l1=1.0, lambda_l2=0, min_...</td>\n",
       "      <td>NaN</td>\n",
       "      <td>NaN</td>\n",
       "      <td>NaN</td>\n",
       "      <td>NaN</td>\n",
       "      <td>...</td>\n",
       "      <td>0.1</td>\n",
       "      <td>{'pca__n_components': 80, 'regress': LGBMRegre...</td>\n",
       "      <td>-0.023862</td>\n",
       "      <td>-0.023278</td>\n",
       "      <td>-0.029687</td>\n",
       "      <td>-0.020066</td>\n",
       "      <td>-0.021135</td>\n",
       "      <td>-0.023606</td>\n",
       "      <td>0.003340</td>\n",
       "      <td>4</td>\n",
       "    </tr>\n",
       "    <tr>\n",
       "      <th>...</th>\n",
       "      <td>...</td>\n",
       "      <td>...</td>\n",
       "      <td>...</td>\n",
       "      <td>...</td>\n",
       "      <td>...</td>\n",
       "      <td>...</td>\n",
       "      <td>...</td>\n",
       "      <td>...</td>\n",
       "      <td>...</td>\n",
       "      <td>...</td>\n",
       "      <td>...</td>\n",
       "      <td>...</td>\n",
       "      <td>...</td>\n",
       "      <td>...</td>\n",
       "      <td>...</td>\n",
       "      <td>...</td>\n",
       "      <td>...</td>\n",
       "      <td>...</td>\n",
       "      <td>...</td>\n",
       "      <td>...</td>\n",
       "      <td>...</td>\n",
       "    </tr>\n",
       "    <tr>\n",
       "      <th>264</th>\n",
       "      <td>0.052810</td>\n",
       "      <td>0.009742</td>\n",
       "      <td>0.008337</td>\n",
       "      <td>0.002489</td>\n",
       "      <td>72</td>\n",
       "      <td>SVR()</td>\n",
       "      <td>NaN</td>\n",
       "      <td>NaN</td>\n",
       "      <td>NaN</td>\n",
       "      <td>NaN</td>\n",
       "      <td>...</td>\n",
       "      <td>NaN</td>\n",
       "      <td>{'pca__n_components': 72, 'regress': SVR(), 'r...</td>\n",
       "      <td>-0.027320</td>\n",
       "      <td>-0.033349</td>\n",
       "      <td>-0.034195</td>\n",
       "      <td>-0.034386</td>\n",
       "      <td>-0.068072</td>\n",
       "      <td>-0.039465</td>\n",
       "      <td>0.014538</td>\n",
       "      <td>508</td>\n",
       "    </tr>\n",
       "    <tr>\n",
       "      <th>260</th>\n",
       "      <td>0.221985</td>\n",
       "      <td>0.055556</td>\n",
       "      <td>0.007393</td>\n",
       "      <td>0.001849</td>\n",
       "      <td>11</td>\n",
       "      <td>SVR()</td>\n",
       "      <td>NaN</td>\n",
       "      <td>NaN</td>\n",
       "      <td>NaN</td>\n",
       "      <td>NaN</td>\n",
       "      <td>...</td>\n",
       "      <td>NaN</td>\n",
       "      <td>{'pca__n_components': 11, 'regress': SVR(), 'r...</td>\n",
       "      <td>-0.037770</td>\n",
       "      <td>-0.033673</td>\n",
       "      <td>-0.036882</td>\n",
       "      <td>-0.029511</td>\n",
       "      <td>-0.079486</td>\n",
       "      <td>-0.043465</td>\n",
       "      <td>0.018242</td>\n",
       "      <td>509</td>\n",
       "    </tr>\n",
       "    <tr>\n",
       "      <th>256</th>\n",
       "      <td>0.094654</td>\n",
       "      <td>0.030567</td>\n",
       "      <td>0.006644</td>\n",
       "      <td>0.000910</td>\n",
       "      <td>26</td>\n",
       "      <td>SVR()</td>\n",
       "      <td>NaN</td>\n",
       "      <td>NaN</td>\n",
       "      <td>NaN</td>\n",
       "      <td>NaN</td>\n",
       "      <td>...</td>\n",
       "      <td>NaN</td>\n",
       "      <td>{'pca__n_components': 26, 'regress': SVR(), 'r...</td>\n",
       "      <td>-0.031793</td>\n",
       "      <td>-0.035441</td>\n",
       "      <td>-0.035730</td>\n",
       "      <td>-0.041758</td>\n",
       "      <td>-0.083398</td>\n",
       "      <td>-0.045624</td>\n",
       "      <td>0.019156</td>\n",
       "      <td>510</td>\n",
       "    </tr>\n",
       "    <tr>\n",
       "      <th>258</th>\n",
       "      <td>3.183070</td>\n",
       "      <td>0.174728</td>\n",
       "      <td>0.622225</td>\n",
       "      <td>0.027242</td>\n",
       "      <td>9</td>\n",
       "      <td>SVR()</td>\n",
       "      <td>NaN</td>\n",
       "      <td>NaN</td>\n",
       "      <td>NaN</td>\n",
       "      <td>NaN</td>\n",
       "      <td>...</td>\n",
       "      <td>NaN</td>\n",
       "      <td>{'pca__n_components': 9, 'regress': SVR(), 're...</td>\n",
       "      <td>-207.129944</td>\n",
       "      <td>-102.597098</td>\n",
       "      <td>-335.252578</td>\n",
       "      <td>-410.537991</td>\n",
       "      <td>-2152.468904</td>\n",
       "      <td>-641.597303</td>\n",
       "      <td>762.791138</td>\n",
       "      <td>511</td>\n",
       "    </tr>\n",
       "    <tr>\n",
       "      <th>259</th>\n",
       "      <td>3.855772</td>\n",
       "      <td>0.285331</td>\n",
       "      <td>0.695513</td>\n",
       "      <td>0.010157</td>\n",
       "      <td>20</td>\n",
       "      <td>SVR()</td>\n",
       "      <td>NaN</td>\n",
       "      <td>NaN</td>\n",
       "      <td>NaN</td>\n",
       "      <td>NaN</td>\n",
       "      <td>...</td>\n",
       "      <td>NaN</td>\n",
       "      <td>{'pca__n_components': 20, 'regress': SVR(), 'r...</td>\n",
       "      <td>-2126.127410</td>\n",
       "      <td>-505.217331</td>\n",
       "      <td>-1611.044678</td>\n",
       "      <td>-599.511361</td>\n",
       "      <td>-4933.953941</td>\n",
       "      <td>-1955.170944</td>\n",
       "      <td>1610.029536</td>\n",
       "      <td>512</td>\n",
       "    </tr>\n",
       "  </tbody>\n",
       "</table>\n",
       "<p>512 rows × 30 columns</p>\n",
       "</div>"
      ],
      "text/plain": [
       "     mean_fit_time  std_fit_time  mean_score_time  std_score_time  \\\n",
       "474       0.975887      0.056722         0.014359        0.001776   \n",
       "423       0.911423      0.112007         0.013728        0.001338   \n",
       "417       0.841467      0.062649         0.013278        0.001554   \n",
       "510       0.840830      0.059192         0.013760        0.001220   \n",
       "439       0.835651      0.052934         0.014176        0.001211   \n",
       "..             ...           ...              ...             ...   \n",
       "264       0.052810      0.009742         0.008337        0.002489   \n",
       "260       0.221985      0.055556         0.007393        0.001849   \n",
       "256       0.094654      0.030567         0.006644        0.000910   \n",
       "258       3.183070      0.174728         0.622225        0.027242   \n",
       "259       3.855772      0.285331         0.695513        0.010157   \n",
       "\n",
       "    param_pca__n_components  \\\n",
       "474                      72   \n",
       "423                      80   \n",
       "417                      80   \n",
       "510                      80   \n",
       "439                      80   \n",
       "..                      ...   \n",
       "264                      72   \n",
       "260                      11   \n",
       "256                      26   \n",
       "258                       9   \n",
       "259                      20   \n",
       "\n",
       "                                         param_regress  \\\n",
       "474  LGBMRegressor(lambda_l1=1.0, lambda_l2=0, min_...   \n",
       "423  LGBMRegressor(lambda_l1=1.0, lambda_l2=0, min_...   \n",
       "417  LGBMRegressor(lambda_l1=1.0, lambda_l2=0, min_...   \n",
       "510  LGBMRegressor(lambda_l1=1.0, lambda_l2=0, min_...   \n",
       "439  LGBMRegressor(lambda_l1=1.0, lambda_l2=0, min_...   \n",
       "..                                                 ...   \n",
       "264                                              SVR()   \n",
       "260                                              SVR()   \n",
       "256                                              SVR()   \n",
       "258                                              SVR()   \n",
       "259                                              SVR()   \n",
       "\n",
       "    param_regress__criterion param_regress__max_depth  \\\n",
       "474                      NaN                      NaN   \n",
       "423                      NaN                      NaN   \n",
       "417                      NaN                      NaN   \n",
       "510                      NaN                      NaN   \n",
       "439                      NaN                      NaN   \n",
       "..                       ...                      ...   \n",
       "264                      NaN                      NaN   \n",
       "260                      NaN                      NaN   \n",
       "256                      NaN                      NaN   \n",
       "258                      NaN                      NaN   \n",
       "259                      NaN                      NaN   \n",
       "\n",
       "    param_regress__min_samples_split param_regress__n_estimators  ...  \\\n",
       "474                              NaN                         NaN  ...   \n",
       "423                              NaN                         NaN  ...   \n",
       "417                              NaN                         NaN  ...   \n",
       "510                              NaN                         NaN  ...   \n",
       "439                              NaN                         NaN  ...   \n",
       "..                               ...                         ...  ...   \n",
       "264                              NaN                         NaN  ...   \n",
       "260                              NaN                         NaN  ...   \n",
       "256                              NaN                         NaN  ...   \n",
       "258                              NaN                         NaN  ...   \n",
       "259                              NaN                         NaN  ...   \n",
       "\n",
       "    param_regress__reg_alpha  \\\n",
       "474                      0.1   \n",
       "423                      0.1   \n",
       "417                      0.1   \n",
       "510                      0.5   \n",
       "439                      0.1   \n",
       "..                       ...   \n",
       "264                      NaN   \n",
       "260                      NaN   \n",
       "256                      NaN   \n",
       "258                      NaN   \n",
       "259                      NaN   \n",
       "\n",
       "                                                params split0_test_score  \\\n",
       "474  {'pca__n_components': 72, 'regress': LGBMRegre...         -0.023967   \n",
       "423  {'pca__n_components': 80, 'regress': LGBMRegre...         -0.023800   \n",
       "417  {'pca__n_components': 80, 'regress': LGBMRegre...         -0.023800   \n",
       "510  {'pca__n_components': 80, 'regress': LGBMRegre...         -0.023862   \n",
       "439  {'pca__n_components': 80, 'regress': LGBMRegre...         -0.023862   \n",
       "..                                                 ...               ...   \n",
       "264  {'pca__n_components': 72, 'regress': SVR(), 'r...         -0.027320   \n",
       "260  {'pca__n_components': 11, 'regress': SVR(), 'r...         -0.037770   \n",
       "256  {'pca__n_components': 26, 'regress': SVR(), 'r...         -0.031793   \n",
       "258  {'pca__n_components': 9, 'regress': SVR(), 're...       -207.129944   \n",
       "259  {'pca__n_components': 20, 'regress': SVR(), 'r...      -2126.127410   \n",
       "\n",
       "    split1_test_score split2_test_score split3_test_score split4_test_score  \\\n",
       "474         -0.022967         -0.029592         -0.019793         -0.021286   \n",
       "423         -0.023027         -0.029736         -0.020149         -0.021169   \n",
       "417         -0.023027         -0.029736         -0.020149         -0.021169   \n",
       "510         -0.023278         -0.029687         -0.020066         -0.021135   \n",
       "439         -0.023278         -0.029687         -0.020066         -0.021135   \n",
       "..                ...               ...               ...               ...   \n",
       "264         -0.033349         -0.034195         -0.034386         -0.068072   \n",
       "260         -0.033673         -0.036882         -0.029511         -0.079486   \n",
       "256         -0.035441         -0.035730         -0.041758         -0.083398   \n",
       "258       -102.597098       -335.252578       -410.537991      -2152.468904   \n",
       "259       -505.217331      -1611.044678       -599.511361      -4933.953941   \n",
       "\n",
       "    mean_test_score std_test_score rank_test_score  \n",
       "474       -0.023521       0.003354               1  \n",
       "423       -0.023576       0.003342               2  \n",
       "417       -0.023576       0.003342               2  \n",
       "510       -0.023606       0.003340               4  \n",
       "439       -0.023606       0.003340               4  \n",
       "..              ...            ...             ...  \n",
       "264       -0.039465       0.014538             508  \n",
       "260       -0.043465       0.018242             509  \n",
       "256       -0.045624       0.019156             510  \n",
       "258     -641.597303     762.791138             511  \n",
       "259    -1955.170944    1610.029536             512  \n",
       "\n",
       "[512 rows x 30 columns]"
      ]
     },
     "execution_count": 94,
     "metadata": {},
     "output_type": "execute_result"
    }
   ],
   "source": [
    "\n",
    "# Only use price_log, price_log_diff, got -0.027 score.\n",
    "# LGBMRegressor(lambda_l1=1.0, lambda_l2=1, min_data_in_leaf=100, num_leaves=65,\n",
    "#              reg_alpha=0.19838982990813173)\n",
    "# PCA(n_components=1)\n",
    "\n",
    "#0.04 score:\n",
    "#Index(['price_EURSEK=X', 'timestamp', 'price_log_EURSEK=X',\n",
    "\n",
    "    #    'price_log_diff_EURSEK=X', 'price_CL=F', 'price_log_CL=F',\n",
    "    #    'price_log_diff_CL=F', 'price_EUR=X', 'price_log_EUR=X',\n",
    "    #    'price_log_diff_EUR=X', 'price_ZB=F', 'price_log_ZB=F',\n",
    "    #    'price_log_diff_ZB=F', 'price_GC=F', 'price_log_GC=F',\n",
    "    #    'price_log_diff_GC=F', 'price_HG=F', 'price_log_HG=F',\n",
    "    #    'price_log_diff_HG=F', 'price_ZS=F', 'price_log_ZS=F',\n",
    "    #    'price_log_diff_ZS=F', 'price_SEK=X', 'price_log_SEK=X',\n",
    "    #    'price_log_diff_SEK=X', 'price_USDEUR=X', 'price_log_USDEUR=X',\n",
    "    #    'price_log_diff_USDEUR=X', 'price_LE=F', 'price_log_LE=F',\n",
    "    #    'price_log_diff_LE=F', 'price_SB=F', 'price_log_SB=F',\n",
    "    #    'price_log_diff_SB=F', 'price_SI=F', 'price_log_SI=F',\n",
    "    #    'price_log_diff_SI=F', 'price', 'price_log', 'price_log_diff'],\n",
    "    #   dtype='object')\n",
    "    # PCA(n_components=6)\n",
    "    # XGBRegressor(base_score=0.5, booster='gbtree', colsample_bylevel=1,\n",
    "    #          colsample_bynode=1, colsample_bytree=1.0, enable_categorical=False,\n",
    "    #          gamma=4.868859599627096, gpu_id=-1, importance_type=None,\n",
    "    #          interaction_constraints='', learning_rate=0.300000012,\n",
    "    #          max_delta_step=0, max_depth=3, min_child_weight=4, missing=nan,\n",
    "    #          monotone_constraints='()', n_estimators=100, n_jobs=4,\n",
    "    #          num_parallel_tree=1, predictor='auto', random_state=0, reg_alpha=0,\n",
    "    #          reg_lambda=1, scale_pos_weight=1, subsample=0.971239091414603,\n",
    "    #          tree_method='exact', validate_parameters=1, verbosity=None)\n",
    "\n",
    "\n",
    "\n",
    "\n",
    "\n",
    "pd.DataFrame(grid.cv_results_).sort_values('rank_test_score')"
   ]
  },
  {
   "cell_type": "markdown",
   "metadata": {},
   "source": []
  },
  {
   "cell_type": "code",
   "execution_count": 95,
   "metadata": {
    "vscode": {
     "languageId": "r"
    }
   },
   "outputs": [
    {
     "data": {
      "text/plain": [
       "0.023962260348407746"
      ]
     },
     "execution_count": 95,
     "metadata": {},
     "output_type": "execute_result"
    }
   ],
   "source": [
    "y.std()"
   ]
  },
  {
   "cell_type": "code",
   "execution_count": 98,
   "metadata": {
    "vscode": {
     "languageId": "r"
    }
   },
   "outputs": [
    {
     "data": {
      "text/plain": [
       "Pipeline(memory='/tmp/tmp_7jfsend',\n",
       "         steps=[('transform',\n",
       "                 ColumnTransformer(transformers=[('num',\n",
       "                                                  Pipeline(steps=[('imputer',\n",
       "                                                                   SimpleImputer()),\n",
       "                                                                  ('std_scaler',\n",
       "                                                                   StandardScaler())]),\n",
       "                                                  ['Unnamed: 0', 'price',\n",
       "                                                   'price_log',\n",
       "                                                   'price_log_diff',\n",
       "                                                   'price_log_error_126',\n",
       "                                                   'price_log_error_253',\n",
       "                                                   'price_log_error_506',\n",
       "                                                   'price_log_error_1012',\n",
       "                                                   'price_log_error_2024',\n",
       "                                                   'price_log_EURSE...\n",
       "                                                   'price_log_error_2024_EUR=X',\n",
       "                                                   'price_log_GC=F',\n",
       "                                                   'price_log_error_126_GC=F',\n",
       "                                                   'price_log_error_253_GC=F', ...]),\n",
       "                                                 ('cat',\n",
       "                                                  Pipeline(steps=[('imputer',\n",
       "                                                                   SimpleImputer(strategy='most_frequent')),\n",
       "                                                                  ('OneHotEncoder',\n",
       "                                                                   OneHotEncoder())]),\n",
       "                                                  [])])),\n",
       "                ('pca', PCA(n_components=72)),\n",
       "                ('regress',\n",
       "                 LGBMRegressor(lambda_l1=1.0, lambda_l2=0, min_data_in_leaf=30,\n",
       "                               num_leaves=75, reg_alpha=0.1))])"
      ]
     },
     "execution_count": 98,
     "metadata": {},
     "output_type": "execute_result"
    }
   ],
   "source": [
    "grid.best_estimator_.fit_predict()"
   ]
  },
  {
   "cell_type": "code",
   "execution_count": 99,
   "metadata": {
    "vscode": {
     "languageId": "r"
    }
   },
   "outputs": [
    {
     "data": {
      "text/plain": [
       "Pipeline(memory='/tmp/tmp_7jfsend',\n",
       "         steps=[('transform',\n",
       "                 ColumnTransformer(transformers=[('num',\n",
       "                                                  Pipeline(steps=[('imputer',\n",
       "                                                                   SimpleImputer()),\n",
       "                                                                  ('std_scaler',\n",
       "                                                                   StandardScaler())]),\n",
       "                                                  ['Unnamed: 0', 'price',\n",
       "                                                   'price_log',\n",
       "                                                   'price_log_diff',\n",
       "                                                   'price_log_error_126',\n",
       "                                                   'price_log_error_253',\n",
       "                                                   'price_log_error_506',\n",
       "                                                   'price_log_error_1012',\n",
       "                                                   'price_log_error_2024',\n",
       "                                                   'price_log_EURSE...\n",
       "                                                   'price_log_error_2024_EUR=X',\n",
       "                                                   'price_log_GC=F',\n",
       "                                                   'price_log_error_126_GC=F',\n",
       "                                                   'price_log_error_253_GC=F', ...]),\n",
       "                                                 ('cat',\n",
       "                                                  Pipeline(steps=[('imputer',\n",
       "                                                                   SimpleImputer(strategy='most_frequent')),\n",
       "                                                                  ('OneHotEncoder',\n",
       "                                                                   OneHotEncoder())]),\n",
       "                                                  [])])),\n",
       "                ('pca', PCA(n_components=72)),\n",
       "                ('regress',\n",
       "                 LGBMRegressor(lambda_l1=1.0, lambda_l2=0, min_data_in_leaf=30,\n",
       "                               num_leaves=75, reg_alpha=0.1))])"
      ]
     },
     "execution_count": 99,
     "metadata": {},
     "output_type": "execute_result"
    }
   ],
   "source": [
    "grid.best_estimator_.fit(X,y)"
   ]
  },
  {
   "cell_type": "code",
   "execution_count": 103,
   "metadata": {
    "vscode": {
     "languageId": "r"
    }
   },
   "outputs": [],
   "source": [
    "y_pred = grid.best_estimator_.predict(X_test)"
   ]
  },
  {
   "cell_type": "code",
   "execution_count": 104,
   "metadata": {
    "vscode": {
     "languageId": "r"
    }
   },
   "outputs": [],
   "source": [
    "y_err = y_pred - y_test\n"
   ]
  },
  {
   "cell_type": "code",
   "execution_count": 112,
   "metadata": {
    "vscode": {
     "languageId": "r"
    }
   },
   "outputs": [
    {
     "data": {
      "text/plain": [
       "-0.11862238672277338"
      ]
     },
     "execution_count": 112,
     "metadata": {},
     "output_type": "execute_result"
    }
   ],
   "source": [
    "y_err.min()"
   ]
  },
  {
   "cell_type": "code",
   "execution_count": 113,
   "metadata": {
    "vscode": {
     "languageId": "r"
    }
   },
   "outputs": [
    {
     "data": {
      "text/plain": [
       "0.025349594773368685"
      ]
     },
     "execution_count": 113,
     "metadata": {},
     "output_type": "execute_result"
    }
   ],
   "source": [
    "math.sqrt((y_err**2).sum()/len(y_err))"
   ]
  },
  {
   "cell_type": "code",
   "execution_count": 114,
   "metadata": {
    "vscode": {
     "languageId": "r"
    }
   },
   "outputs": [
    {
     "data": {
      "text/plain": [
       "0.024585043132299936"
      ]
     },
     "execution_count": 114,
     "metadata": {},
     "output_type": "execute_result"
    }
   ],
   "source": [
    "y_test.std()"
   ]
  },
  {
   "cell_type": "code",
   "execution_count": 126,
   "metadata": {
    "vscode": {
     "languageId": "r"
    }
   },
   "outputs": [
    {
     "data": {
      "text/plain": [
       "0.0026624716098782196"
      ]
     },
     "execution_count": 126,
     "metadata": {},
     "output_type": "execute_result"
    }
   ],
   "source": [
    "y_test.mean() - y.mean()"
   ]
  },
  {
   "cell_type": "code",
   "execution_count": 134,
   "metadata": {
    "vscode": {
     "languageId": "r"
    }
   },
   "outputs": [
    {
     "data": {
      "text/plain": [
       "0.024723329619131446"
      ]
     },
     "execution_count": 134,
     "metadata": {},
     "output_type": "execute_result"
    }
   ],
   "source": [
    "y_test_err = y.mean() - y_test\n",
    "\n",
    "math.sqrt((y_test_err**2).sum()/len(y_test))"
   ]
  },
  {
   "cell_type": "code",
   "execution_count": 135,
   "metadata": {
    "vscode": {
     "languageId": "r"
    }
   },
   "outputs": [
    {
     "data": {
      "text/plain": [
       "7779    -0.015265\n",
       "7780    -0.021052\n",
       "7781    -0.021629\n",
       "7782    -0.020913\n",
       "7783    -0.020381\n",
       "           ...   \n",
       "10012    0.055928\n",
       "10013    0.051114\n",
       "10014    0.044149\n",
       "10015    0.031077\n",
       "10016    0.001518\n",
       "Name: value, Length: 2238, dtype: float64"
      ]
     },
     "execution_count": 135,
     "metadata": {},
     "output_type": "execute_result"
    }
   ],
   "source": [
    "y_test_err"
   ]
  },
  {
   "cell_type": "code",
   "execution_count": 136,
   "metadata": {
    "vscode": {
     "languageId": "r"
    }
   },
   "outputs": [
    {
     "data": {
      "text/plain": [
       "7779    -0.013927\n",
       "7780    -0.018443\n",
       "7781    -0.019613\n",
       "7782    -0.019345\n",
       "7783    -0.017919\n",
       "           ...   \n",
       "10012    0.055303\n",
       "10013    0.050489\n",
       "10014    0.043524\n",
       "10015    0.030452\n",
       "10016    0.000892\n",
       "Name: value, Length: 2238, dtype: float64"
      ]
     },
     "execution_count": 136,
     "metadata": {},
     "output_type": "execute_result"
    }
   ],
   "source": [
    "y_err"
   ]
  },
  {
   "cell_type": "code",
   "execution_count": 137,
   "metadata": {
    "vscode": {
     "languageId": "r"
    }
   },
   "outputs": [
    {
     "data": {
      "image/png": "[encoded data removed]",
      "text/plain": [
       "<Figure size 432x288 with 1 Axes>"
      ]
     },
     "metadata": {
      "needs_background": "light"
     },
     "output_type": "display_data"
    }
   ],
   "source": [
    "import matplotlib.pyplot as plt\n",
    "\n",
    "plt.plot(y_test_err, y_err, 'go')\n",
    "plt.grid()\n",
    "plt.show()"
   ]
  },
  {
   "cell_type": "code",
   "execution_count": 125,
   "metadata": {
    "vscode": {
     "languageId": "r"
    }
   },
   "outputs": [
    {
     "data": {
      "text/plain": [
       "0.004180000721577569"
      ]
     },
     "execution_count": 125,
     "metadata": {},
     "output_type": "execute_result"
    }
   ],
   "source": [
    "y_test.mean()"
   ]
  },
  {
   "cell_type": "code",
   "execution_count": 120,
   "metadata": {
    "vscode": {
     "languageId": "r"
    }
   },
   "outputs": [
    {
     "data": {
      "text/plain": [
       "0.004180000721577569"
      ]
     },
     "execution_count": 120,
     "metadata": {},
     "output_type": "execute_result"
    }
   ],
   "source": [
    "y_test.mean()"
   ]
  },
  {
   "cell_type": "code",
   "execution_count": 149,
   "metadata": {
    "vscode": {
     "languageId": "r"
    }
   },
   "outputs": [],
   "source": [
    "guess_df = pd.DataFrame({'value': df['value'], 'guess': 0})"
   ]
  },
  {
   "cell_type": "code",
   "execution_count": 150,
   "metadata": {
    "vscode": {
     "languageId": "r"
    }
   },
   "outputs": [
    {
     "data": {
      "text/html": [
       "<div>\n",
       "<style scoped>\n",
       "    .dataframe tbody tr th:only-of-type {\n",
       "        vertical-align: middle;\n",
       "    }\n",
       "\n",
       "    .dataframe tbody tr th {\n",
       "        vertical-align: top;\n",
       "    }\n",
       "\n",
       "    .dataframe thead th {\n",
       "        text-align: right;\n",
       "    }\n",
       "</style>\n",
       "<table border=\"1\" class=\"dataframe\">\n",
       "  <thead>\n",
       "    <tr style=\"text-align: right;\">\n",
       "      <th></th>\n",
       "      <th>value</th>\n",
       "      <th>guess</th>\n",
       "    </tr>\n",
       "  </thead>\n",
       "  <tbody>\n",
       "    <tr>\n",
       "      <th>0</th>\n",
       "      <td>-0.057961</td>\n",
       "      <td>0</td>\n",
       "    </tr>\n",
       "    <tr>\n",
       "      <th>1</th>\n",
       "      <td>-0.069508</td>\n",
       "      <td>0</td>\n",
       "    </tr>\n",
       "    <tr>\n",
       "      <th>2</th>\n",
       "      <td>-0.046247</td>\n",
       "      <td>0</td>\n",
       "    </tr>\n",
       "    <tr>\n",
       "      <th>3</th>\n",
       "      <td>-0.064049</td>\n",
       "      <td>0</td>\n",
       "    </tr>\n",
       "    <tr>\n",
       "      <th>4</th>\n",
       "      <td>-0.038463</td>\n",
       "      <td>0</td>\n",
       "    </tr>\n",
       "    <tr>\n",
       "      <th>...</th>\n",
       "      <td>...</td>\n",
       "      <td>...</td>\n",
       "    </tr>\n",
       "    <tr>\n",
       "      <th>10032</th>\n",
       "      <td>-0.063623</td>\n",
       "      <td>0</td>\n",
       "    </tr>\n",
       "    <tr>\n",
       "      <th>10033</th>\n",
       "      <td>-0.064064</td>\n",
       "      <td>0</td>\n",
       "    </tr>\n",
       "    <tr>\n",
       "      <th>10034</th>\n",
       "      <td>-0.037123</td>\n",
       "      <td>0</td>\n",
       "    </tr>\n",
       "    <tr>\n",
       "      <th>10035</th>\n",
       "      <td>-0.022711</td>\n",
       "      <td>0</td>\n",
       "    </tr>\n",
       "    <tr>\n",
       "      <th>10036</th>\n",
       "      <td>0.000000</td>\n",
       "      <td>0</td>\n",
       "    </tr>\n",
       "  </tbody>\n",
       "</table>\n",
       "<p>10037 rows × 2 columns</p>\n",
       "</div>"
      ],
      "text/plain": [
       "          value  guess\n",
       "0     -0.057961      0\n",
       "1     -0.069508      0\n",
       "2     -0.046247      0\n",
       "3     -0.064049      0\n",
       "4     -0.038463      0\n",
       "...         ...    ...\n",
       "10032 -0.063623      0\n",
       "10033 -0.064064      0\n",
       "10034 -0.037123      0\n",
       "10035 -0.022711      0\n",
       "10036  0.000000      0\n",
       "\n",
       "[10037 rows x 2 columns]"
      ]
     },
     "execution_count": 150,
     "metadata": {},
     "output_type": "execute_result"
    }
   ],
   "source": [
    "guess_df"
   ]
  },
  {
   "cell_type": "code",
   "execution_count": 151,
   "metadata": {
    "vscode": {
     "languageId": "r"
    }
   },
   "outputs": [],
   "source": [
    "guess_df['row_num'] = range(len(guess_df))"
   ]
  },
  {
   "cell_type": "code",
   "execution_count": 152,
   "metadata": {
    "vscode": {
     "languageId": "r"
    }
   },
   "outputs": [
    {
     "data": {
      "text/html": [
       "<div>\n",
       "<style scoped>\n",
       "    .dataframe tbody tr th:only-of-type {\n",
       "        vertical-align: middle;\n",
       "    }\n",
       "\n",
       "    .dataframe tbody tr th {\n",
       "        vertical-align: top;\n",
       "    }\n",
       "\n",
       "    .dataframe thead th {\n",
       "        text-align: right;\n",
       "    }\n",
       "</style>\n",
       "<table border=\"1\" class=\"dataframe\">\n",
       "  <thead>\n",
       "    <tr style=\"text-align: right;\">\n",
       "      <th></th>\n",
       "      <th>value</th>\n",
       "      <th>guess</th>\n",
       "      <th>row_num</th>\n",
       "    </tr>\n",
       "  </thead>\n",
       "  <tbody>\n",
       "    <tr>\n",
       "      <th>0</th>\n",
       "      <td>-0.057961</td>\n",
       "      <td>0</td>\n",
       "      <td>0</td>\n",
       "    </tr>\n",
       "    <tr>\n",
       "      <th>1</th>\n",
       "      <td>-0.069508</td>\n",
       "      <td>0</td>\n",
       "      <td>1</td>\n",
       "    </tr>\n",
       "    <tr>\n",
       "      <th>2</th>\n",
       "      <td>-0.046247</td>\n",
       "      <td>0</td>\n",
       "      <td>2</td>\n",
       "    </tr>\n",
       "    <tr>\n",
       "      <th>3</th>\n",
       "      <td>-0.064049</td>\n",
       "      <td>0</td>\n",
       "      <td>3</td>\n",
       "    </tr>\n",
       "    <tr>\n",
       "      <th>4</th>\n",
       "      <td>-0.038463</td>\n",
       "      <td>0</td>\n",
       "      <td>4</td>\n",
       "    </tr>\n",
       "    <tr>\n",
       "      <th>...</th>\n",
       "      <td>...</td>\n",
       "      <td>...</td>\n",
       "      <td>...</td>\n",
       "    </tr>\n",
       "    <tr>\n",
       "      <th>10032</th>\n",
       "      <td>-0.063623</td>\n",
       "      <td>0</td>\n",
       "      <td>10032</td>\n",
       "    </tr>\n",
       "    <tr>\n",
       "      <th>10033</th>\n",
       "      <td>-0.064064</td>\n",
       "      <td>0</td>\n",
       "      <td>10033</td>\n",
       "    </tr>\n",
       "    <tr>\n",
       "      <th>10034</th>\n",
       "      <td>-0.037123</td>\n",
       "      <td>0</td>\n",
       "      <td>10034</td>\n",
       "    </tr>\n",
       "    <tr>\n",
       "      <th>10035</th>\n",
       "      <td>-0.022711</td>\n",
       "      <td>0</td>\n",
       "      <td>10035</td>\n",
       "    </tr>\n",
       "    <tr>\n",
       "      <th>10036</th>\n",
       "      <td>0.000000</td>\n",
       "      <td>0</td>\n",
       "      <td>10036</td>\n",
       "    </tr>\n",
       "  </tbody>\n",
       "</table>\n",
       "<p>10037 rows × 3 columns</p>\n",
       "</div>"
      ],
      "text/plain": [
       "          value  guess  row_num\n",
       "0     -0.057961      0        0\n",
       "1     -0.069508      0        1\n",
       "2     -0.046247      0        2\n",
       "3     -0.064049      0        3\n",
       "4     -0.038463      0        4\n",
       "...         ...    ...      ...\n",
       "10032 -0.063623      0    10032\n",
       "10033 -0.064064      0    10033\n",
       "10034 -0.037123      0    10034\n",
       "10035 -0.022711      0    10035\n",
       "10036  0.000000      0    10036\n",
       "\n",
       "[10037 rows x 3 columns]"
      ]
     },
     "execution_count": 152,
     "metadata": {},
     "output_type": "execute_result"
    }
   ],
   "source": [
    "guess_df"
   ]
  },
  {
   "cell_type": "code",
   "execution_count": null,
   "metadata": {
    "vscode": {
     "languageId": "r"
    }
   },
   "outputs": [],
   "source": []
  },
  {
   "cell_type": "code",
   "execution_count": 153,
   "metadata": {
    "vscode": {
     "languageId": "r"
    }
   },
   "outputs": [],
   "source": [
    "for i in range(10000):\n",
    "    guess_df['guess_shift'] = guess_df['guess'].shift(1, fill_value = 0)\n",
    "\n",
    "    guess_df['guess'] = guess_df['guess_shift'] * (guess_df['row_num']-1)/guess_df['row_num'] + guess_df['value'].shift(1, fill_value=0) * 1/guess_df['row_num']\n",
    "    guess_df.fillna(0, inplace=True)\n"
   ]
  },
  {
   "cell_type": "code",
   "execution_count": 168,
   "metadata": {
    "vscode": {
     "languageId": "r"
    }
   },
   "outputs": [
    {
     "data": {
      "text/html": [
       "<div>\n",
       "<style scoped>\n",
       "    .dataframe tbody tr th:only-of-type {\n",
       "        vertical-align: middle;\n",
       "    }\n",
       "\n",
       "    .dataframe tbody tr th {\n",
       "        vertical-align: top;\n",
       "    }\n",
       "\n",
       "    .dataframe thead th {\n",
       "        text-align: right;\n",
       "    }\n",
       "</style>\n",
       "<table border=\"1\" class=\"dataframe\">\n",
       "  <thead>\n",
       "    <tr style=\"text-align: right;\">\n",
       "      <th></th>\n",
       "      <th>value</th>\n",
       "      <th>guess</th>\n",
       "      <th>row_num</th>\n",
       "      <th>guess_shift</th>\n",
       "      <th>error_square</th>\n",
       "    </tr>\n",
       "  </thead>\n",
       "  <tbody>\n",
       "    <tr>\n",
       "      <th>0</th>\n",
       "      <td>-0.057961</td>\n",
       "      <td>0.000000</td>\n",
       "      <td>0</td>\n",
       "      <td>0.000000</td>\n",
       "      <td>0.003359</td>\n",
       "    </tr>\n",
       "    <tr>\n",
       "      <th>1</th>\n",
       "      <td>-0.069508</td>\n",
       "      <td>-0.057961</td>\n",
       "      <td>1</td>\n",
       "      <td>0.000000</td>\n",
       "      <td>0.000133</td>\n",
       "    </tr>\n",
       "    <tr>\n",
       "      <th>2</th>\n",
       "      <td>-0.046247</td>\n",
       "      <td>-0.063734</td>\n",
       "      <td>2</td>\n",
       "      <td>-0.057961</td>\n",
       "      <td>0.000306</td>\n",
       "    </tr>\n",
       "    <tr>\n",
       "      <th>3</th>\n",
       "      <td>-0.064049</td>\n",
       "      <td>-0.057905</td>\n",
       "      <td>3</td>\n",
       "      <td>-0.063734</td>\n",
       "      <td>0.000038</td>\n",
       "    </tr>\n",
       "    <tr>\n",
       "      <th>4</th>\n",
       "      <td>-0.038463</td>\n",
       "      <td>-0.059441</td>\n",
       "      <td>4</td>\n",
       "      <td>-0.057905</td>\n",
       "      <td>0.000440</td>\n",
       "    </tr>\n",
       "    <tr>\n",
       "      <th>...</th>\n",
       "      <td>...</td>\n",
       "      <td>...</td>\n",
       "      <td>...</td>\n",
       "      <td>...</td>\n",
       "      <td>...</td>\n",
       "    </tr>\n",
       "    <tr>\n",
       "      <th>10012</th>\n",
       "      <td>0.033583</td>\n",
       "      <td>0.005496</td>\n",
       "      <td>10012</td>\n",
       "      <td>0.005494</td>\n",
       "      <td>0.000789</td>\n",
       "    </tr>\n",
       "    <tr>\n",
       "      <th>10013</th>\n",
       "      <td>0.051893</td>\n",
       "      <td>0.005516</td>\n",
       "      <td>10013</td>\n",
       "      <td>0.005513</td>\n",
       "      <td>0.002151</td>\n",
       "    </tr>\n",
       "    <tr>\n",
       "      <th>10014</th>\n",
       "      <td>0.036868</td>\n",
       "      <td>0.005527</td>\n",
       "      <td>10014</td>\n",
       "      <td>0.005523</td>\n",
       "      <td>0.000982</td>\n",
       "    </tr>\n",
       "    <tr>\n",
       "      <th>10015</th>\n",
       "      <td>0.063740</td>\n",
       "      <td>0.005535</td>\n",
       "      <td>10015</td>\n",
       "      <td>0.005532</td>\n",
       "      <td>0.003388</td>\n",
       "    </tr>\n",
       "    <tr>\n",
       "      <th>10016</th>\n",
       "      <td>0.017243</td>\n",
       "      <td>0.005545</td>\n",
       "      <td>10016</td>\n",
       "      <td>0.005539</td>\n",
       "      <td>0.000137</td>\n",
       "    </tr>\n",
       "  </tbody>\n",
       "</table>\n",
       "<p>10017 rows × 5 columns</p>\n",
       "</div>"
      ],
      "text/plain": [
       "          value     guess  row_num  guess_shift  error_square\n",
       "0     -0.057961  0.000000        0     0.000000      0.003359\n",
       "1     -0.069508 -0.057961        1     0.000000      0.000133\n",
       "2     -0.046247 -0.063734        2    -0.057961      0.000306\n",
       "3     -0.064049 -0.057905        3    -0.063734      0.000038\n",
       "4     -0.038463 -0.059441        4    -0.057905      0.000440\n",
       "...         ...       ...      ...          ...           ...\n",
       "10012  0.033583  0.005496    10012     0.005494      0.000789\n",
       "10013  0.051893  0.005516    10013     0.005513      0.002151\n",
       "10014  0.036868  0.005527    10014     0.005523      0.000982\n",
       "10015  0.063740  0.005535    10015     0.005532      0.003388\n",
       "10016  0.017243  0.005545    10016     0.005539      0.000137\n",
       "\n",
       "[10017 rows x 5 columns]"
      ]
     },
     "execution_count": 168,
     "metadata": {},
     "output_type": "execute_result"
    }
   ],
   "source": [
    "guess_df[:-20]"
   ]
  },
  {
   "cell_type": "code",
   "execution_count": 157,
   "metadata": {
    "vscode": {
     "languageId": "r"
    }
   },
   "outputs": [
    {
     "data": {
      "text/plain": [
       "-0.04761529688707347"
      ]
     },
     "execution_count": 157,
     "metadata": {},
     "output_type": "execute_result"
    }
   ],
   "source": [
    "guess_df[:29]['value'].mean()"
   ]
  },
  {
   "cell_type": "code",
   "execution_count": 158,
   "metadata": {
    "vscode": {
     "languageId": "r"
    }
   },
   "outputs": [],
   "source": [
    "guess_df['error_square'] = (guess_df['guess'] - guess_df['value'])**2"
   ]
  },
  {
   "cell_type": "code",
   "execution_count": 177,
   "metadata": {
    "vscode": {
     "languageId": "r"
    }
   },
   "outputs": [
    {
     "data": {
      "text/plain": [
       "0.021239852974002407"
      ]
     },
     "execution_count": 177,
     "metadata": {},
     "output_type": "execute_result"
    }
   ],
   "source": [
    "math.sqrt(guess_df.iloc[7000:8000]['error_square'].sum() / 1000)"
   ]
  },
  {
   "cell_type": "code",
   "execution_count": 167,
   "metadata": {
    "vscode": {
     "languageId": "r"
    }
   },
   "outputs": [
    {
     "data": {
      "text/html": [
       "<div>\n",
       "<style scoped>\n",
       "    .dataframe tbody tr th:only-of-type {\n",
       "        vertical-align: middle;\n",
       "    }\n",
       "\n",
       "    .dataframe tbody tr th {\n",
       "        vertical-align: top;\n",
       "    }\n",
       "\n",
       "    .dataframe thead th {\n",
       "        text-align: right;\n",
       "    }\n",
       "</style>\n",
       "<table border=\"1\" class=\"dataframe\">\n",
       "  <thead>\n",
       "    <tr style=\"text-align: right;\">\n",
       "      <th></th>\n",
       "      <th>value</th>\n",
       "      <th>guess</th>\n",
       "      <th>row_num</th>\n",
       "      <th>guess_shift</th>\n",
       "      <th>error_square</th>\n",
       "    </tr>\n",
       "  </thead>\n",
       "  <tbody>\n",
       "  </tbody>\n",
       "</table>\n",
       "</div>"
      ],
      "text/plain": [
       "Empty DataFrame\n",
       "Columns: [value, guess, row_num, guess_shift, error_square]\n",
       "Index: []"
      ]
     },
     "execution_count": 167,
     "metadata": {},
     "output_type": "execute_result"
    }
   ],
   "source": [
    "guess_df.iloc[40000:80000]"
   ]
  },
  {
   "cell_type": "code",
   "execution_count": null,
   "metadata": {
    "vscode": {
     "languageId": "r"
    }
   },
   "outputs": [],
   "source": [
    "grid.best_estimator_"
   ]
  },
  {
   "cell_type": "code",
   "execution_count": null,
   "metadata": {
    "vscode": {
     "languageId": "r"
    }
   },
   "outputs": [],
   "source": [
    "df.head()"
   ]
  },
  {
   "cell_type": "code",
   "execution_count": null,
   "metadata": {
    "vscode": {
     "languageId": "r"
    }
   },
   "outputs": [],
   "source": []
  },
  {
   "cell_type": "code",
   "execution_count": null,
   "metadata": {
    "vscode": {
     "languageId": "r"
    }
   },
   "outputs": [],
   "source": [
    "df = linear_regression(df)"
   ]
  },
  {
   "cell_type": "code",
   "execution_count": null,
   "metadata": {
    "vscode": {
     "languageId": "r"
    }
   },
   "outputs": [],
   "source": [
    "# calculate my own indicators\n",
    "# current price - the averige price in n days.\n",
    "\n",
    "df.head()"
   ]
  },
  {
   "cell_type": "code",
   "execution_count": null,
   "metadata": {
    "vscode": {
     "languageId": "r"
    }
   },
   "outputs": [],
   "source": [
    "df.Measurement.rolling"
   ]
  },
  {
   "cell_type": "code",
   "execution_count": null,
   "metadata": {
    "vscode": {
     "languageId": "r"
    }
   },
   "outputs": [],
   "source": []
  }
 ],
 "metadata": {
  "kernelspec": {
   "display_name": "R",
   "language": "R",
   "name": "ir"
  },
  "language_info": {
   "codemirror_mode": {
    "name": "ipython",
    "version": 3
   },
   "file_extension": ".py",
   "mimetype": "text/x-python",
   "name": "R",
   "nbconvert_exporter": "python",
   "pygments_lexer": "ipython3",
   "version": "3.9.12"
  },
  "orig_nbformat": 4,
  "vscode": {
   "interpreter": {
    "hash": "5840fe83e8c616ad004d50f60875191cdadb38ef49900913886cd20b10eae981"
   }
  }
 },
 "nbformat": 4,
 "nbformat_minor": 2
}

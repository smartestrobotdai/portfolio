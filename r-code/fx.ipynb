{
 "cells": [
  {
   "cell_type": "code",
   "execution_count": 26,
   "metadata": {
    "vscode": {
     "languageId": "r"
    }
   },
   "outputs": [],
   "source": [
    "source('./util.r')\n",
    "my_optim <- function(par, courtage, use_close) {\n",
    "  HHt_val=par[1]\n",
    "  GGt_val=par[2]\n",
    "  stop_loss=par[3]\n",
    "  sell_dev=par[4]\n",
    "  buy_dev=-par[5]\n",
    "\n",
    "  df <- data_prep(\"SEK=X\", HHt_val=HHt_val, GGt_val=GGt_val, \n",
    "    isNYSE=FALSE, use_close=use_close, to_sek=FALSE)\n",
    "  df <- process_one(df, stop_loss, sell_dev, buy_dev, courtage)\n",
    "  my_summary <- df %>% summarise(sum=sum(trade_profit))\n",
    "  my_summary$sum\n",
    "}\n",
    "\n",
    "courtage = 0\n",
    "use_close = 1\n",
    "\n",
    "fit <- optim(par=c(0.08, 0.08, 0.80, 0.05, -0.01), function(par)\n",
    "   -my_optim(par, courtage=courtage, use_close=use_close),\n",
    "   control=list(maxit=500, parscale=c(1, 1, 10, 1, 1)))"
   ]
  },
  {
   "cell_type": "code",
   "execution_count": 27,
   "metadata": {
    "vscode": {
     "languageId": "r"
    }
   },
   "outputs": [
    {
     "data": {
      "text/html": [
       "<dl>\n",
       "\t<dt>$par</dt>\n",
       "\t\t<dd><style>\n",
       ".list-inline {list-style: none; margin:0; padding: 0}\n",
       ".list-inline>li {display: inline-block}\n",
       ".list-inline>li:not(:last-child)::after {content: \"\\00b7\"; padding: 0 .5ex}\n",
       "</style>\n",
       "<ol class=list-inline><li>0.0832</li><li>0.0832</li><li>0.832</li><li>0.042</li><li>-0.0068</li></ol>\n",
       "</dd>\n",
       "\t<dt>$value</dt>\n",
       "\t\t<dd>-0.757508924406918</dd>\n",
       "\t<dt>$counts</dt>\n",
       "\t\t<dd><style>\n",
       ".dl-inline {width: auto; margin:0; padding: 0}\n",
       ".dl-inline>dt, .dl-inline>dd {float: none; width: auto; display: inline-block}\n",
       ".dl-inline>dt::after {content: \":\\0020\"; padding-right: .5ex}\n",
       ".dl-inline>dt:not(:first-of-type) {padding-left: .5ex}\n",
       "</style><dl class=dl-inline><dt>function</dt><dd>27</dd><dt>gradient</dt><dd>&lt;NA&gt;</dd></dl>\n",
       "</dd>\n",
       "\t<dt>$convergence</dt>\n",
       "\t\t<dd>1</dd>\n",
       "\t<dt>$message</dt>\n",
       "\t\t<dd>NULL</dd>\n",
       "</dl>\n"
      ],
      "text/latex": [
       "\\begin{description}\n",
       "\\item[\\$par] \\begin{enumerate*}\n",
       "\\item 0.0832\n",
       "\\item 0.0832\n",
       "\\item 0.832\n",
       "\\item 0.042\n",
       "\\item -0.0068\n",
       "\\end{enumerate*}\n",
       "\n",
       "\\item[\\$value] -0.757508924406918\n",
       "\\item[\\$counts] \\begin{description*}\n",
       "\\item[function] 27\n",
       "\\item[gradient] <NA>\n",
       "\\end{description*}\n",
       "\n",
       "\\item[\\$convergence] 1\n",
       "\\item[\\$message] NULL\n",
       "\\end{description}\n"
      ],
      "text/markdown": [
       "$par\n",
       ":   1. 0.0832\n",
       "2. 0.0832\n",
       "3. 0.832\n",
       "4. 0.042\n",
       "5. -0.0068\n",
       "\n",
       "\n",
       "\n",
       "$value\n",
       ":   -0.757508924406918\n",
       "$counts\n",
       ":   function\n",
       ":   27gradient\n",
       ":   &lt;NA&gt;\n",
       "\n",
       "\n",
       "$convergence\n",
       ":   1\n",
       "$message\n",
       ":   NULL\n",
       "\n",
       "\n"
      ],
      "text/plain": [
       "$par\n",
       "[1]  0.0832  0.0832  0.8320  0.0420 -0.0068\n",
       "\n",
       "$value\n",
       "[1] -0.7575089\n",
       "\n",
       "$counts\n",
       "function gradient \n",
       "      27       NA \n",
       "\n",
       "$convergence\n",
       "[1] 1\n",
       "\n",
       "$message\n",
       "NULL\n"
      ]
     },
     "metadata": {},
     "output_type": "display_data"
    }
   ],
   "source": [
    "fit"
   ]
  },
  {
   "cell_type": "code",
   "execution_count": 15,
   "metadata": {
    "vscode": {
     "languageId": "r"
    }
   },
   "outputs": [],
   "source": [
    "par <- fit$par\n",
    "HHt_val=par[1]\n",
    "GGt_val=par[2]\n",
    "stop_loss=par[3]\n",
    "sell_dev=par[4]\n",
    "buy_dev=-par[5]\n"
   ]
  },
  {
   "cell_type": "code",
   "execution_count": 25,
   "metadata": {
    "vscode": {
     "languageId": "r"
    }
   },
   "outputs": [
    {
     "data": {
      "text/html": [
       "<table class=\"dataframe\">\n",
       "<caption>A data.frame: 6 × 10</caption>\n",
       "<thead>\n",
       "\t<tr><th></th><th scope=col>open</th><th scope=col>high</th><th scope=col>low</th><th scope=col>close</th><th scope=col>volume</th><th scope=col>adjusted</th><th scope=col>last_close</th><th scope=col>no_model_profit</th><th scope=col>mean</th><th scope=col>predict</th></tr>\n",
       "\t<tr><th></th><th scope=col>&lt;dbl&gt;</th><th scope=col>&lt;dbl&gt;</th><th scope=col>&lt;dbl&gt;</th><th scope=col>&lt;dbl&gt;</th><th scope=col>&lt;dbl&gt;</th><th scope=col>&lt;dbl&gt;</th><th scope=col>&lt;dbl&gt;</th><th scope=col>&lt;dbl&gt;</th><th scope=col>&lt;dbl&gt;</th><th scope=col>&lt;dbl&gt;</th></tr>\n",
       "</thead>\n",
       "<tbody>\n",
       "\t<tr><th scope=row>2007-01-02</th><td>1.922788</td><td>1.923109</td><td>1.913520</td><td>1.916467</td><td>-Inf</td><td>1.916467</td><td>1.922788</td><td>0.000000000</td><td>1.918315</td><td>1.918315</td></tr>\n",
       "\t<tr><th scope=row>2007-01-03</th><td>1.916511</td><td>1.926873</td><td>1.914316</td><td>1.924832</td><td>-Inf</td><td>1.924832</td><td>1.916467</td><td>0.008365798</td><td>1.920595</td><td>1.918315</td></tr>\n",
       "\t<tr><th scope=row>2007-01-04</th><td>1.924759</td><td>1.938296</td><td>1.923299</td><td>1.936595</td><td>-Inf</td><td>1.936595</td><td>1.924832</td><td>0.011763050</td><td>1.930797</td><td>1.919440</td></tr>\n",
       "\t<tr><th scope=row>2007-01-05</th><td>1.936754</td><td>1.943522</td><td>1.935152</td><td>1.942074</td><td>-Inf</td><td>1.942074</td><td>1.936595</td><td>0.005478757</td><td>1.939337</td><td>1.926183</td></tr>\n",
       "\t<tr><th scope=row>2007-01-08</th><td>1.940539</td><td>1.945610</td><td>1.939389</td><td>1.943937</td><td>-Inf</td><td>1.943937</td><td>1.942074</td><td>0.001862545</td><td>1.942500</td><td>1.934207</td></tr>\n",
       "\t<tr><th scope=row>2007-01-09</th><td>1.944080</td><td>1.949589</td><td>1.940639</td><td>1.948663</td><td>-Inf</td><td>1.948663</td><td>1.943937</td><td>0.004726723</td><td>1.945114</td><td>1.939292</td></tr>\n",
       "</tbody>\n",
       "</table>\n"
      ],
      "text/latex": [
       "A data.frame: 6 × 10\n",
       "\\begin{tabular}{r|llllllllll}\n",
       "  & open & high & low & close & volume & adjusted & last\\_close & no\\_model\\_profit & mean & predict\\\\\n",
       "  & <dbl> & <dbl> & <dbl> & <dbl> & <dbl> & <dbl> & <dbl> & <dbl> & <dbl> & <dbl>\\\\\n",
       "\\hline\n",
       "\t2007-01-02 & 1.922788 & 1.923109 & 1.913520 & 1.916467 & -Inf & 1.916467 & 1.922788 & 0.000000000 & 1.918315 & 1.918315\\\\\n",
       "\t2007-01-03 & 1.916511 & 1.926873 & 1.914316 & 1.924832 & -Inf & 1.924832 & 1.916467 & 0.008365798 & 1.920595 & 1.918315\\\\\n",
       "\t2007-01-04 & 1.924759 & 1.938296 & 1.923299 & 1.936595 & -Inf & 1.936595 & 1.924832 & 0.011763050 & 1.930797 & 1.919440\\\\\n",
       "\t2007-01-05 & 1.936754 & 1.943522 & 1.935152 & 1.942074 & -Inf & 1.942074 & 1.936595 & 0.005478757 & 1.939337 & 1.926183\\\\\n",
       "\t2007-01-08 & 1.940539 & 1.945610 & 1.939389 & 1.943937 & -Inf & 1.943937 & 1.942074 & 0.001862545 & 1.942500 & 1.934207\\\\\n",
       "\t2007-01-09 & 1.944080 & 1.949589 & 1.940639 & 1.948663 & -Inf & 1.948663 & 1.943937 & 0.004726723 & 1.945114 & 1.939292\\\\\n",
       "\\end{tabular}\n"
      ],
      "text/markdown": [
       "\n",
       "A data.frame: 6 × 10\n",
       "\n",
       "| <!--/--> | open &lt;dbl&gt; | high &lt;dbl&gt; | low &lt;dbl&gt; | close &lt;dbl&gt; | volume &lt;dbl&gt; | adjusted &lt;dbl&gt; | last_close &lt;dbl&gt; | no_model_profit &lt;dbl&gt; | mean &lt;dbl&gt; | predict &lt;dbl&gt; |\n",
       "|---|---|---|---|---|---|---|---|---|---|---|\n",
       "| 2007-01-02 | 1.922788 | 1.923109 | 1.913520 | 1.916467 | -Inf | 1.916467 | 1.922788 | 0.000000000 | 1.918315 | 1.918315 |\n",
       "| 2007-01-03 | 1.916511 | 1.926873 | 1.914316 | 1.924832 | -Inf | 1.924832 | 1.916467 | 0.008365798 | 1.920595 | 1.918315 |\n",
       "| 2007-01-04 | 1.924759 | 1.938296 | 1.923299 | 1.936595 | -Inf | 1.936595 | 1.924832 | 0.011763050 | 1.930797 | 1.919440 |\n",
       "| 2007-01-05 | 1.936754 | 1.943522 | 1.935152 | 1.942074 | -Inf | 1.942074 | 1.936595 | 0.005478757 | 1.939337 | 1.926183 |\n",
       "| 2007-01-08 | 1.940539 | 1.945610 | 1.939389 | 1.943937 | -Inf | 1.943937 | 1.942074 | 0.001862545 | 1.942500 | 1.934207 |\n",
       "| 2007-01-09 | 1.944080 | 1.949589 | 1.940639 | 1.948663 | -Inf | 1.948663 | 1.943937 | 0.004726723 | 1.945114 | 1.939292 |\n",
       "\n"
      ],
      "text/plain": [
       "           open     high     low      close    volume adjusted last_close\n",
       "2007-01-02 1.922788 1.923109 1.913520 1.916467 -Inf   1.916467 1.922788  \n",
       "2007-01-03 1.916511 1.926873 1.914316 1.924832 -Inf   1.924832 1.916467  \n",
       "2007-01-04 1.924759 1.938296 1.923299 1.936595 -Inf   1.936595 1.924832  \n",
       "2007-01-05 1.936754 1.943522 1.935152 1.942074 -Inf   1.942074 1.936595  \n",
       "2007-01-08 1.940539 1.945610 1.939389 1.943937 -Inf   1.943937 1.942074  \n",
       "2007-01-09 1.944080 1.949589 1.940639 1.948663 -Inf   1.948663 1.943937  \n",
       "           no_model_profit mean     predict \n",
       "2007-01-02 0.000000000     1.918315 1.918315\n",
       "2007-01-03 0.008365798     1.920595 1.918315\n",
       "2007-01-04 0.011763050     1.930797 1.919440\n",
       "2007-01-05 0.005478757     1.939337 1.926183\n",
       "2007-01-08 0.001862545     1.942500 1.934207\n",
       "2007-01-09 0.004726723     1.945114 1.939292"
      ]
     },
     "metadata": {},
     "output_type": "display_data"
    }
   ],
   "source": [
    "source('./util.r')\n",
    "df <- data_prep(\"SEK=X\", HHt_val=HHt_val, GGt_val=GGt_val, \n",
    "  isNYSE=FALSE, use_close=0, to_sek=FALSE)\n",
    "\n",
    "head(df)"
   ]
  },
  {
   "cell_type": "code",
   "execution_count": 12,
   "metadata": {
    "vscode": {
     "languageId": "r"
    }
   },
   "outputs": [
    {
     "data": {
      "text/html": [
       "<table class=\"dataframe\">\n",
       "<caption>A data.frame: 6 × 10</caption>\n",
       "<thead>\n",
       "\t<tr><th></th><th scope=col>open</th><th scope=col>high</th><th scope=col>low</th><th scope=col>close</th><th scope=col>volume</th><th scope=col>adjusted</th><th scope=col>last_close</th><th scope=col>no_model_profit</th><th scope=col>mean</th><th scope=col>predict</th></tr>\n",
       "\t<tr><th></th><th scope=col>&lt;dbl&gt;</th><th scope=col>&lt;dbl&gt;</th><th scope=col>&lt;dbl&gt;</th><th scope=col>&lt;dbl&gt;</th><th scope=col>&lt;dbl&gt;</th><th scope=col>&lt;dbl&gt;</th><th scope=col>&lt;dbl&gt;</th><th scope=col>&lt;dbl&gt;</th><th scope=col>&lt;dbl&gt;</th><th scope=col>&lt;dbl&gt;</th></tr>\n",
       "</thead>\n",
       "<tbody>\n",
       "\t<tr><th scope=row>2022-09-22</th><td>2.406292</td><td>2.409974</td><td>2.395477</td><td>2.406292</td><td>-Inf</td><td>2.406292</td><td>2.387973</td><td> 0.018318255</td><td>2.402725</td><td>1.916467</td></tr>\n",
       "\t<tr><th scope=row>2022-09-23</th><td>2.403742</td><td>2.421818</td><td>2.402524</td><td>2.403742</td><td>-Inf</td><td>2.403742</td><td>2.406292</td><td>-0.002549957</td><td>2.412171</td><td>1.916467</td></tr>\n",
       "\t<tr><th scope=row>2022-09-26</th><td>2.424535</td><td>2.436017</td><td>2.418778</td><td>2.424535</td><td>-Inf</td><td>2.424535</td><td>2.403742</td><td> 0.020793648</td><td>2.427398</td><td>1.916467</td></tr>\n",
       "\t<tr><th scope=row>2022-09-27</th><td>2.426632</td><td>2.431102</td><td>2.418031</td><td>2.426632</td><td>-Inf</td><td>2.426632</td><td>2.424535</td><td> 0.002096592</td><td>2.424567</td><td>1.916467</td></tr>\n",
       "\t<tr><th scope=row>2022-09-28</th><td>2.430204</td><td>2.441729</td><td>2.418257</td><td>2.430204</td><td>-Inf</td><td>2.430204</td><td>2.426632</td><td> 0.003572017</td><td>2.429993</td><td>1.916467</td></tr>\n",
       "\t<tr><th scope=row>2022-09-29</th><td>2.418191</td><td>2.431152</td><td>2.413778</td><td>2.418191</td><td>-Inf</td><td>2.418191</td><td>2.430204</td><td>-0.012013393</td><td>2.422465</td><td>1.916467</td></tr>\n",
       "</tbody>\n",
       "</table>\n"
      ],
      "text/latex": [
       "A data.frame: 6 × 10\n",
       "\\begin{tabular}{r|llllllllll}\n",
       "  & open & high & low & close & volume & adjusted & last\\_close & no\\_model\\_profit & mean & predict\\\\\n",
       "  & <dbl> & <dbl> & <dbl> & <dbl> & <dbl> & <dbl> & <dbl> & <dbl> & <dbl> & <dbl>\\\\\n",
       "\\hline\n",
       "\t2022-09-22 & 2.406292 & 2.409974 & 2.395477 & 2.406292 & -Inf & 2.406292 & 2.387973 &  0.018318255 & 2.402725 & 1.916467\\\\\n",
       "\t2022-09-23 & 2.403742 & 2.421818 & 2.402524 & 2.403742 & -Inf & 2.403742 & 2.406292 & -0.002549957 & 2.412171 & 1.916467\\\\\n",
       "\t2022-09-26 & 2.424535 & 2.436017 & 2.418778 & 2.424535 & -Inf & 2.424535 & 2.403742 &  0.020793648 & 2.427398 & 1.916467\\\\\n",
       "\t2022-09-27 & 2.426632 & 2.431102 & 2.418031 & 2.426632 & -Inf & 2.426632 & 2.424535 &  0.002096592 & 2.424567 & 1.916467\\\\\n",
       "\t2022-09-28 & 2.430204 & 2.441729 & 2.418257 & 2.430204 & -Inf & 2.430204 & 2.426632 &  0.003572017 & 2.429993 & 1.916467\\\\\n",
       "\t2022-09-29 & 2.418191 & 2.431152 & 2.413778 & 2.418191 & -Inf & 2.418191 & 2.430204 & -0.012013393 & 2.422465 & 1.916467\\\\\n",
       "\\end{tabular}\n"
      ],
      "text/markdown": [
       "\n",
       "A data.frame: 6 × 10\n",
       "\n",
       "| <!--/--> | open &lt;dbl&gt; | high &lt;dbl&gt; | low &lt;dbl&gt; | close &lt;dbl&gt; | volume &lt;dbl&gt; | adjusted &lt;dbl&gt; | last_close &lt;dbl&gt; | no_model_profit &lt;dbl&gt; | mean &lt;dbl&gt; | predict &lt;dbl&gt; |\n",
       "|---|---|---|---|---|---|---|---|---|---|---|\n",
       "| 2022-09-22 | 2.406292 | 2.409974 | 2.395477 | 2.406292 | -Inf | 2.406292 | 2.387973 |  0.018318255 | 2.402725 | 1.916467 |\n",
       "| 2022-09-23 | 2.403742 | 2.421818 | 2.402524 | 2.403742 | -Inf | 2.403742 | 2.406292 | -0.002549957 | 2.412171 | 1.916467 |\n",
       "| 2022-09-26 | 2.424535 | 2.436017 | 2.418778 | 2.424535 | -Inf | 2.424535 | 2.403742 |  0.020793648 | 2.427398 | 1.916467 |\n",
       "| 2022-09-27 | 2.426632 | 2.431102 | 2.418031 | 2.426632 | -Inf | 2.426632 | 2.424535 |  0.002096592 | 2.424567 | 1.916467 |\n",
       "| 2022-09-28 | 2.430204 | 2.441729 | 2.418257 | 2.430204 | -Inf | 2.430204 | 2.426632 |  0.003572017 | 2.429993 | 1.916467 |\n",
       "| 2022-09-29 | 2.418191 | 2.431152 | 2.413778 | 2.418191 | -Inf | 2.418191 | 2.430204 | -0.012013393 | 2.422465 | 1.916467 |\n",
       "\n"
      ],
      "text/plain": [
       "           open     high     low      close    volume adjusted last_close\n",
       "2022-09-22 2.406292 2.409974 2.395477 2.406292 -Inf   2.406292 2.387973  \n",
       "2022-09-23 2.403742 2.421818 2.402524 2.403742 -Inf   2.403742 2.406292  \n",
       "2022-09-26 2.424535 2.436017 2.418778 2.424535 -Inf   2.424535 2.403742  \n",
       "2022-09-27 2.426632 2.431102 2.418031 2.426632 -Inf   2.426632 2.424535  \n",
       "2022-09-28 2.430204 2.441729 2.418257 2.430204 -Inf   2.430204 2.426632  \n",
       "2022-09-29 2.418191 2.431152 2.413778 2.418191 -Inf   2.418191 2.430204  \n",
       "           no_model_profit mean     predict \n",
       "2022-09-22  0.018318255    2.402725 1.916467\n",
       "2022-09-23 -0.002549957    2.412171 1.916467\n",
       "2022-09-26  0.020793648    2.427398 1.916467\n",
       "2022-09-27  0.002096592    2.424567 1.916467\n",
       "2022-09-28  0.003572017    2.429993 1.916467\n",
       "2022-09-29 -0.012013393    2.422465 1.916467"
      ]
     },
     "metadata": {},
     "output_type": "display_data"
    }
   ],
   "source": [
    "tail(df)"
   ]
  },
  {
   "cell_type": "code",
   "execution_count": null,
   "metadata": {
    "vscode": {
     "languageId": "r"
    }
   },
   "outputs": [],
   "source": [
    "\n",
    "\n",
    "    \n",
    "  df <- process_one(df, stop_loss, sell_dev, buy_dev, courtage)"
   ]
  },
  {
   "cell_type": "code",
   "execution_count": 9,
   "metadata": {
    "vscode": {
     "languageId": "r"
    }
   },
   "outputs": [],
   "source": [
    "write.csv(df, 'fx.csv')"
   ]
  },
  {
   "cell_type": "code",
   "execution_count": null,
   "metadata": {
    "vscode": {
     "languageId": "r"
    }
   },
   "outputs": [],
   "source": []
  }
 ],
 "metadata": {
  "kernelspec": {
   "display_name": "R",
   "language": "R",
   "name": "ir"
  },
  "language_info": {
   "codemirror_mode": "r",
   "file_extension": ".r",
   "mimetype": "text/x-r-source",
   "name": "R",
   "pygments_lexer": "r",
   "version": "4.1.3"
  },
  "orig_nbformat": 4
 },
 "nbformat": 4,
 "nbformat_minor": 2
}

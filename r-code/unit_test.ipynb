{
 "cells": [
  {
   "cell_type": "code",
   "execution_count": 76,
   "id": "80e36f8e-be64-45ad-8c6e-2c8b28c2127e",
   "metadata": {
    "vscode": {
     "languageId": "r"
    }
   },
   "outputs": [
    {
     "name": "stdout",
     "output_type": "stream",
     "text": [
      "\u001b[32mTest passed\u001b[39m 🌈\n",
      "\u001b[32mTest passed\u001b[39m 🥳\n",
      "\u001b[32mTest passed\u001b[39m 🌈\n"
     ]
    }
   ],
   "source": [
    "source('./util.r')\n",
    "library(testthat)\n",
    "#return(c(profit, trade_times, hold, last_buy_price))\n",
    "\n",
    "\n",
    "test_that(\"no hold - no trade up \", {\n",
    "  open <- 3.05\n",
    "  high <- 3.07\n",
    "  close <- 3.06\n",
    "  low <- 3.04\n",
    "  last_close <- 3.04\n",
    "  predict <- 3.055\n",
    "  stop_loss <- 0.90\n",
    "  last_buy_price <- 0\n",
    "  sell_deviation <- 0.02\n",
    "  buy_deviation <- -0.02\n",
    "  hold <- 0\n",
    "  courtage_log <- log(1-0.00089)\n",
    "  results <- get_daily_profit(open, close, high, low, last_close, predict, \n",
    "    stop_loss, last_buy_price, sell_deviation, \n",
    "    buy_deviation, hold, courtage_log)\n",
    "  \n",
    "  expect_equal(results[1], 0)\n",
    "  expect_equal(results[2], 0)\n",
    "  expect_equal(results[3], 0)\n",
    "  expect_equal(results[4], 0)\n",
    "})\n",
    "\n",
    "test_that(\"no hold - no trade down \", {\n",
    "  open <- 3.05\n",
    "  high <- 3.06\n",
    "  close <- 3.04\n",
    "  low <- 3.03\n",
    "  last_close <- 3.03\n",
    "  predict <- 3.045\n",
    "  stop_loss <- 0.99\n",
    "  last_buy_price <- 0\n",
    "  sell_deviation <- 0.02\n",
    "  buy_deviation <- -0.02\n",
    "  hold <- 0\n",
    "  courtage_log <- log(1-0.00089)\n",
    "  results <- get_daily_profit(open, close, high, low, last_close, predict, \n",
    "    stop_loss, last_buy_price, sell_deviation, \n",
    "    buy_deviation, hold, courtage_log)\n",
    "  \n",
    "  expect_equal(results[1], 0)\n",
    "  expect_equal(results[2], 0)\n",
    "  expect_equal(results[3], 0)\n",
    "  expect_equal(results[4], 0)\n",
    "})\n",
    "\n",
    "\n",
    "#return(c(profit, trade_times, hold, last_buy_price))\n",
    "test_that(\"hold - no trade - up\", {\n",
    "  open <- 3.05\n",
    "  high <- 3.07\n",
    "  close <- 3.06\n",
    "  low <- 3.04\n",
    "  last_close <- 3.04\n",
    "  predict <- 3.055\n",
    "  stop_loss <- 0.99\n",
    "  last_buy_price <- 0\n",
    "  sell_deviation <- 0.02\n",
    "  buy_deviation <- -0.02\n",
    "  hold <- 1\n",
    "  courtage_log <- log(1-0.00089)\n",
    "  results <- get_daily_profit(open, close, high, low, last_close, predict, \n",
    "    stop_loss, last_buy_price, sell_deviation, \n",
    "    buy_deviation, hold, courtage_log)\n",
    "  \n",
    "  profit <- results[1]\n",
    "  trade_times <- results[2]\n",
    "  hold <- results[3]\n",
    "  last_buy_price <- results[4]\n",
    "  \n",
    "  expect_equal(profit, 0.02)\n",
    "  expect_equal(trade_times, 0)\n",
    "  expect_equal(hold, 1)\n",
    "  expect_equal(last_buy_price, 0)\n",
    "})\n",
    "\n"
   ]
  },
  {
   "cell_type": "code",
   "execution_count": 77,
   "id": "724e3d29-6967-4ca3-b7ec-f9561d07b7b6",
   "metadata": {
    "vscode": {
     "languageId": "r"
    }
   },
   "outputs": [
    {
     "name": "stdout",
     "output_type": "stream",
     "text": [
      "\u001b[32mTest passed\u001b[39m 😸\n"
     ]
    }
   ],
   "source": [
    "#return(c(profit, trade_times, hold, last_buy_price))\n",
    "test_that(\"hold - no trade -down\", {\n",
    "  open <- 3.05\n",
    "  high <- 3.06\n",
    "  close <- 3.04\n",
    "  low <- 3.03\n",
    "  last_close <- 3.03\n",
    "  predict <- 3.045\n",
    "  stop_loss <- 0.99\n",
    "  last_buy_price <- 0\n",
    "  sell_deviation <- 0.02\n",
    "  buy_deviation <- -0.02\n",
    "  hold <- 1\n",
    "  courtage_log <- log(1-0.00089)\n",
    "  results <- get_daily_profit(open, close, high, low, last_close, predict, \n",
    "    stop_loss, last_buy_price, sell_deviation, \n",
    "    buy_deviation, hold, courtage_log)\n",
    "  \n",
    "  profit <- results[1]\n",
    "  trade_times <- results[2]\n",
    "  hold <- results[3]\n",
    "  last_buy_price <- results[4]\n",
    "  \n",
    "  expect_equal(profit, 0.01)\n",
    "  expect_equal(trade_times, 0)\n",
    "  expect_equal(hold, 1)\n",
    "  expect_equal(last_buy_price, 0)\n",
    "})"
   ]
  },
  {
   "cell_type": "code",
   "execution_count": 78,
   "id": "2df80e7b-a1e1-45b9-b7ca-df5b151ac056",
   "metadata": {
    "vscode": {
     "languageId": "r"
    }
   },
   "outputs": [
    {
     "name": "stdout",
     "output_type": "stream",
     "text": [
      "\u001b[32mTest passed\u001b[39m 🥇\n"
     ]
    }
   ],
   "source": [
    "#return(c(profit, trade_times, hold, last_buy_price))\n",
    "source('./util.r')\n",
    "test_that(\"nohold - up - buy\", {\n",
    "  open <- 3.05\n",
    "  high <- 3.07\n",
    "  close <- 3.06\n",
    "  low <- 3.03\n",
    "  last_close <- 3.03\n",
    "  predict <- 3.05\n",
    "  stop_loss <- 0.99\n",
    "  last_buy_price <- 0\n",
    "  sell_deviation <- 0.02\n",
    "  buy_deviation <- -0.01\n",
    "  hold <- 0\n",
    "  courtage_log <- log(1-0.00089) #-0.0008903963\n",
    "  \n",
    "\n",
    "  \n",
    "  results <- get_daily_profit(open, close, high, low, last_close, predict, \n",
    "    stop_loss, last_buy_price, sell_deviation, \n",
    "    buy_deviation, hold, courtage_log)\n",
    "\n",
    "  expected_buy_point <- 3.04\n",
    "  expected_profit <- 0.02 + courtage_log \n",
    "  \n",
    "  \n",
    "  profit <- results[1]\n",
    "  trade_times <- results[2]\n",
    "  hold <- results[3]\n",
    "  last_buy_price <- results[4]\n",
    "  \n",
    "  expect_equal(profit, expected_profit)\n",
    "  expect_equal(trade_times, 1)\n",
    "  expect_equal(hold, 1)\n",
    "  expect_equal(last_buy_price, 3.04)\n",
    "})"
   ]
  },
  {
   "cell_type": "code",
   "execution_count": 79,
   "id": "26584cd1-310f-46fd-a4f8-6f36fa494d33",
   "metadata": {
    "vscode": {
     "languageId": "r"
    }
   },
   "outputs": [
    {
     "name": "stdout",
     "output_type": "stream",
     "text": [
      "\u001b[32mTest passed\u001b[39m 🥇\n"
     ]
    }
   ],
   "source": [
    "#return(c(profit, trade_times, hold, last_buy_price))\n",
    "source('./util.r')\n",
    "test_that(\"nohold - up - buy - stop-loss\", {\n",
    "  open <- 3.05\n",
    "  high <- 3.07\n",
    "  close <- 3.06\n",
    "  low <- 2.99\n",
    "  last_close <- 3.03\n",
    "  predict <- 3.05\n",
    "  stop_loss <- 0.99\n",
    "  last_buy_price <- 0\n",
    "  sell_deviation <- 0.02\n",
    "  buy_deviation <- -0.01\n",
    "  hold <- 0\n",
    "  courtage_log <- log(1-0.00089) #-0.0008903963\n",
    "  \n",
    "\n",
    "  \n",
    "  results <- get_daily_profit(open, close, high, low, last_close, predict, \n",
    "    stop_loss, last_buy_price, sell_deviation, \n",
    "    buy_deviation, hold, courtage_log)\n",
    "\n",
    "  expected_buy_point <- 3.04\n",
    "  expected_profit <- log(stop_loss) + courtage_log * 2\n",
    "  \n",
    "  \n",
    "  profit <- results[1]\n",
    "  trade_times <- results[2]\n",
    "  hold <- results[3]\n",
    "  last_buy_price <- results[4]\n",
    "  \n",
    "  expect_equal(profit, expected_profit)\n",
    "  expect_equal(trade_times, 2)\n",
    "  expect_equal(hold, 0)\n",
    "  expect_equal(last_buy_price, 0)\n",
    "})"
   ]
  },
  {
   "cell_type": "code",
   "execution_count": 80,
   "id": "96414d0c-be92-4d0f-86b3-4f3171030138",
   "metadata": {
    "vscode": {
     "languageId": "r"
    }
   },
   "outputs": [
    {
     "name": "stdout",
     "output_type": "stream",
     "text": [
      "\u001b[32mTest passed\u001b[39m 🥳\n"
     ]
    }
   ],
   "source": [
    "#return(c(profit, trade_times, hold, last_buy_price))\n",
    "source('./util.r')\n",
    "test_that(\"nohold - up - buy - sell\", {\n",
    "  open <- 3.05\n",
    "  high <- 3.07\n",
    "  close <- 3.06\n",
    "  low <- 3.03\n",
    "  last_close <- 3.03\n",
    "  predict <- 3.05\n",
    "  stop_loss <- 0.99\n",
    "  last_buy_price <- 0\n",
    "  sell_deviation <- 0.01\n",
    "  buy_deviation <- -0.01\n",
    "  hold <- 0\n",
    "  courtage_log <- log(1-0.00089) #-0.0008903963\n",
    "  \n",
    "\n",
    "  \n",
    "  results <- get_daily_profit(open, close, high, low, last_close, predict, \n",
    "    stop_loss, last_buy_price, sell_deviation, \n",
    "    buy_deviation, hold, courtage_log)\n",
    "\n",
    "  expected_buy_point <- 3.04\n",
    "  expected_sell_point <- 3.06\n",
    "  expected_profit <- 0.02 + courtage_log * 2 #\n",
    "  \n",
    "  \n",
    "  profit <- results[1]\n",
    "  trade_times <- results[2]\n",
    "  hold <- results[3]\n",
    "  last_buy_price <- results[4]\n",
    "  \n",
    "  expect_equal(profit, expected_profit)\n",
    "  expect_equal(trade_times, 2)\n",
    "  expect_equal(hold, 0)\n",
    "  expect_equal(last_buy_price, 0)\n",
    "})"
   ]
  },
  {
   "cell_type": "code",
   "execution_count": 81,
   "id": "8e61bcf1-5b9a-4819-9ab1-c70cc480a0b8",
   "metadata": {
    "vscode": {
     "languageId": "r"
    }
   },
   "outputs": [
    {
     "name": "stdout",
     "output_type": "stream",
     "text": [
      "\u001b[32mTest passed\u001b[39m 🎉\n"
     ]
    }
   ],
   "source": [
    "#return(c(profit, trade_times, hold, last_buy_price))\n",
    "source('./util.r')\n",
    "test_that(\"nohold - down - buy\", {\n",
    "  open <- 3.05\n",
    "  high <- 3.07\n",
    "  close <- 3.06\n",
    "  low <- 3.03\n",
    "  last_close <- 3.03\n",
    "  predict <- 3.05\n",
    "  stop_loss <- 0.50\n",
    "  last_buy_price <- 0\n",
    "  sell_deviation <- 0.03\n",
    "  buy_deviation <- -0.01\n",
    "  hold <- 0\n",
    "  courtage_log <- log(1-0.00089) #-0.0008903963\n",
    "  \n",
    "\n",
    "  \n",
    "  results <- get_daily_profit(open, close, high, low, last_close, predict, \n",
    "    stop_loss, last_buy_price, sell_deviation, \n",
    "    buy_deviation, hold, courtage_log)\n",
    "\n",
    "  expected_buy_point <- 3.04\n",
    "\n",
    "  expected_profit <- 0.02 + courtage_log #\n",
    "  \n",
    "  \n",
    "  profit <- results[1]\n",
    "  trade_times <- results[2]\n",
    "  hold <- results[3]\n",
    "  last_buy_price <- results[4]\n",
    "  \n",
    "  expect_equal(profit, expected_profit)\n",
    "  expect_equal(trade_times, 1)\n",
    "  expect_equal(hold, 1)\n",
    "  expect_equal(last_buy_price, 3.04)\n",
    "})"
   ]
  },
  {
   "cell_type": "code",
   "execution_count": 82,
   "id": "f7ae9779-a233-407c-b44a-0a1867c9e985",
   "metadata": {
    "vscode": {
     "languageId": "r"
    }
   },
   "outputs": [
    {
     "name": "stdout",
     "output_type": "stream",
     "text": [
      "\u001b[32mTest passed\u001b[39m 😀\n"
     ]
    }
   ],
   "source": [
    "#return(c(profit, trade_times, hold, last_buy_price))\n",
    "source('./util.r')\n",
    "test_that(\"nohold - down - buy - stoploss\", {\n",
    "  open <- 3.05\n",
    "  high <- 3.07\n",
    "  close <- 3.06\n",
    "  low <- 2.99\n",
    "  last_close <- 3.03\n",
    "  predict <- 3.05\n",
    "  stop_loss <- 0.99\n",
    "  last_buy_price <- 0\n",
    "  sell_deviation <- 0.03\n",
    "  buy_deviation <- -0.01\n",
    "  hold <- 0\n",
    "  courtage_log <- log(1-0.00089) #-0.0008903963\n",
    "  stop_loss_log <- log(stop_loss)\n",
    "\n",
    "  \n",
    "  results <- get_daily_profit(open, close, high, low, last_close, predict, \n",
    "    stop_loss, last_buy_price, sell_deviation, \n",
    "    buy_deviation, hold, courtage_log)\n",
    "\n",
    "  expected_buy_point <- 3.04\n",
    "  expected_stoploss_point <- 3.04 + stop_loss_log\n",
    "  expected_profit <- stop_loss_log + courtage_log * 2\n",
    "  \n",
    "  \n",
    "  \n",
    "  profit <- results[1]\n",
    "  trade_times <- results[2]\n",
    "  hold <- results[3]\n",
    "  last_buy_price <- results[4]\n",
    "  \n",
    "  expect_equal(profit, expected_profit)\n",
    "  expect_equal(trade_times, 2)\n",
    "  expect_equal(hold, 0)\n",
    "  expect_equal(last_buy_price, 0)\n",
    "})"
   ]
  },
  {
   "cell_type": "code",
   "execution_count": 83,
   "id": "589e98b7-29dc-4cf2-b689-a87dfdf70bc8",
   "metadata": {
    "vscode": {
     "languageId": "r"
    }
   },
   "outputs": [
    {
     "name": "stdout",
     "output_type": "stream",
     "text": [
      "\u001b[32mTest passed\u001b[39m 🥳\n"
     ]
    }
   ],
   "source": [
    "#return(c(profit, trade_times, hold, last_buy_price))\n",
    "source('./util.r')\n",
    "test_that(\"hold - up - sell\", {\n",
    "  open <- 3.05\n",
    "  high <- 3.07\n",
    "  close <- 3.06\n",
    "  low <- 3.04\n",
    "  last_close <- 3.03\n",
    "  predict <- 3.05\n",
    "  stop_loss <- 0.50\n",
    "  last_buy_price <- 0\n",
    "  sell_deviation <- 0.01\n",
    "  buy_deviation <- -0.01\n",
    "  hold <- 1\n",
    "  courtage_log <- log(1-0.00089) #-0.0008903963\n",
    "  stop_loss_log <- log(stop_loss)\n",
    "\n",
    "  \n",
    "  results <- get_daily_profit(open, close, high, low, last_close, predict, \n",
    "    stop_loss, last_buy_price, sell_deviation, \n",
    "    buy_deviation, hold, courtage_log)\n",
    "\n",
    "  expected_sell_point <- 3.06\n",
    "  \n",
    "  expected_profit <- 0.03 + courtage_log \n",
    "  \n",
    "  \n",
    "  \n",
    "  profit <- results[1]\n",
    "  trade_times <- results[2]\n",
    "  hold <- results[3]\n",
    "  last_buy_price <- results[4]\n",
    "  \n",
    "  expect_equal(profit, expected_profit)\n",
    "  expect_equal(trade_times, 1)\n",
    "  expect_equal(hold, 0)\n",
    "  expect_equal(last_buy_price, 0)\n",
    "})"
   ]
  },
  {
   "cell_type": "code",
   "execution_count": 84,
   "id": "aa57a32d-0824-44a2-80e5-5038274dc4a6",
   "metadata": {
    "vscode": {
     "languageId": "r"
    }
   },
   "outputs": [
    {
     "name": "stdout",
     "output_type": "stream",
     "text": [
      "\u001b[32mTest passed\u001b[39m 😀\n"
     ]
    }
   ],
   "source": [
    "#return(c(profit, trade_times, hold, last_buy_price))\n",
    "source('./util.r')\n",
    "test_that(\"hold - up - stoploss\", {\n",
    "  open <- 3.05\n",
    "  high <- 3.07\n",
    "  close <- 3.06\n",
    "  low <- 2.90\n",
    "  last_close <- 3.03\n",
    "  predict <- 3.05\n",
    "  stop_loss <- 0.99\n",
    "  last_buy_price <- 3.05\n",
    "  sell_deviation <- 0.01\n",
    "  buy_deviation <- -0.01\n",
    "  hold <- 1\n",
    "  courtage_log <- log(1-0.00089) #-0.0008903963\n",
    "  stop_loss_log <- log(stop_loss)\n",
    "\n",
    "  \n",
    "  results <- get_daily_profit(open, close, high, low, last_close, predict, \n",
    "    stop_loss, last_buy_price, sell_deviation, \n",
    "    buy_deviation, hold, courtage_log)\n",
    "\n",
    "  expected_sell_point <- 3.05 + stop_loss_log\n",
    "  \n",
    "  expected_profit <- expected_sell_point - last_close + courtage_log\n",
    "  \n",
    "  \n",
    "  \n",
    "  profit <- results[1]\n",
    "  trade_times <- results[2]\n",
    "  hold <- results[3]\n",
    "  last_buy_price <- results[4]\n",
    "  \n",
    "  expect_equal(profit, expected_profit)\n",
    "  expect_equal(trade_times, 1)\n",
    "  expect_equal(hold, 0)\n",
    "  expect_equal(last_buy_price, 0)\n",
    "})"
   ]
  },
  {
   "cell_type": "code",
   "execution_count": 85,
   "id": "c0d7c574-1963-49d1-b200-28fde1b465b4",
   "metadata": {
    "vscode": {
     "languageId": "r"
    }
   },
   "outputs": [
    {
     "name": "stdout",
     "output_type": "stream",
     "text": [
      "\u001b[32mTest passed\u001b[39m 🌈\n"
     ]
    }
   ],
   "source": [
    "#return(c(profit, trade_times, hold, last_buy_price))\n",
    "source('./util.r')\n",
    "test_that(\"hold - down - sell\", {\n",
    "  open <- 3.05\n",
    "  high <- 3.07\n",
    "  close <- 3.04\n",
    "  low <- 3.03\n",
    "  last_close <- 3.03\n",
    "  predict <- 3.05\n",
    "  stop_loss <- 0.50\n",
    "  last_buy_price <- 3.05\n",
    "  sell_deviation <- 0.01\n",
    "  buy_deviation <- -0.03\n",
    "  hold <- 1\n",
    "  courtage_log <- log(1-0.00089) #-0.0008903963\n",
    "  stop_loss_log <- log(stop_loss)\n",
    "\n",
    "  \n",
    "  results <- get_daily_profit(open, close, high, low, last_close, predict, \n",
    "    stop_loss, last_buy_price, sell_deviation, \n",
    "    buy_deviation, hold, courtage_log)\n",
    "\n",
    "  expected_sell_point <- 3.06\n",
    "  \n",
    "  expected_profit <- expected_sell_point - last_close + courtage_log\n",
    "  \n",
    "  \n",
    "  \n",
    "  profit <- results[1]\n",
    "  trade_times <- results[2]\n",
    "  hold <- results[3]\n",
    "  last_buy_price <- results[4]\n",
    "  \n",
    "  expect_equal(profit, expected_profit)\n",
    "  expect_equal(trade_times, 1)\n",
    "  expect_equal(hold, 0)\n",
    "  expect_equal(last_buy_price, 0)\n",
    "})"
   ]
  },
  {
   "cell_type": "code",
   "execution_count": 86,
   "id": "91b3c738-8390-4abf-9347-d06d97e3da26",
   "metadata": {
    "vscode": {
     "languageId": "r"
    }
   },
   "outputs": [
    {
     "name": "stdout",
     "output_type": "stream",
     "text": [
      "\u001b[32mTest passed\u001b[39m 🎊\n"
     ]
    }
   ],
   "source": [
    "#return(c(profit, trade_times, hold, last_buy_price))\n",
    "source('./util.r')\n",
    "test_that(\"hold - down - sell - buy\", {\n",
    "  open <- 3.05\n",
    "  high <- 3.07\n",
    "  close <- 3.03\n",
    "  low <- 3.02\n",
    "  last_close <- 3.03\n",
    "  predict <- 3.05\n",
    "  stop_loss <- 0.50\n",
    "  last_buy_price <- 3.05\n",
    "  sell_deviation <- 0.01\n",
    "  buy_deviation <- -0.01\n",
    "  hold <- 1\n",
    "  courtage_log <- log(1-0.00089) #-0.0008903963\n",
    "  stop_loss_log <- log(stop_loss)\n",
    "\n",
    "  \n",
    "  results <- get_daily_profit(open, close, high, low, last_close, predict, \n",
    "    stop_loss, last_buy_price, sell_deviation, \n",
    "    buy_deviation, hold, courtage_log)\n",
    "\n",
    "  expected_sell_point <- 3.06\n",
    "  expected_buy_point <- 3.04\n",
    "  expected_profit <- expected_sell_point - last_close + close - 3.04 + courtage_log * 2\n",
    "  \n",
    "  \n",
    "  \n",
    "  profit <- results[1]\n",
    "  trade_times <- results[2]\n",
    "  hold <- results[3]\n",
    "  last_buy_price <- results[4]\n",
    "  \n",
    "  expect_equal(profit, expected_profit)\n",
    "  expect_equal(trade_times, 2)\n",
    "  expect_equal(hold, 1)\n",
    "  expect_equal(last_buy_price, 3.04)\n",
    "})"
   ]
  },
  {
   "cell_type": "code",
   "execution_count": 98,
   "id": "3f079cbe-3541-433d-b624-9d41761c3cf5",
   "metadata": {
    "vscode": {
     "languageId": "r"
    }
   },
   "outputs": [
    {
     "name": "stdout",
     "output_type": "stream",
     "text": [
      "[1] 0.01727848\n",
      "\u001b[32mTest passed\u001b[39m 🥇\n"
     ]
    }
   ],
   "source": [
    "#return(c(profit, trade_times, hold, last_buy_price))\n",
    "source('./util.r')\n",
    "test_that(\"hold - down - sell - buy - stoploss\", {\n",
    "  open <- 3.05\n",
    "  high <- 3.07\n",
    "  close <- 3.03\n",
    "  low <- 3.02\n",
    "  last_close <- 3.03\n",
    "  predict <- 3.05\n",
    "  stop_loss <- 0.99\n",
    "  last_buy_price <- 3.05\n",
    "  sell_deviation <- 0.01\n",
    "  buy_deviation <- -0.01\n",
    "  hold <- 1\n",
    "  courtage_log <- log(1-0.00089) #-0.0008903963\n",
    "  stop_loss_log <- log(stop_loss)\n",
    "\n",
    "  \n",
    "  results <- get_daily_profit(open, close, high, low, last_close, predict, \n",
    "    stop_loss, last_buy_price, sell_deviation, \n",
    "    buy_deviation, hold, courtage_log)\n",
    "\n",
    "  expected_sell_point <- 3.06\n",
    "  expected_buy_point <- 3.04\n",
    "  expected_stop_loss_point <- 3.04 + stop_loss_log\n",
    "  expected_profit <- expected_sell_point - last_close + (3.04 + stop_loss_log - 3.04) + courtage_log * 3\n",
    "  print(expected_profit)\n",
    "  \n",
    "  \n",
    "  profit <- results[1]\n",
    "  trade_times <- results[2]\n",
    "  hold <- results[3]\n",
    "  last_buy_price <- results[4]\n",
    "  \n",
    "  expect_equal(profit, expected_profit)\n",
    "  expect_equal(trade_times, 3)\n",
    "  expect_equal(hold, 0)\n",
    "  expect_equal(last_buy_price, 0)\n",
    "})"
   ]
  },
  {
   "cell_type": "code",
   "execution_count": 100,
   "id": "3234c95c-9a67-4242-a664-ec36bc079231",
   "metadata": {
    "vscode": {
     "languageId": "r"
    }
   },
   "outputs": [
    {
     "name": "stdout",
     "output_type": "stream",
     "text": [
      "[1] \"1111\"\n"
     ]
    }
   ],
   "source": [
    "library(TTR)\n",
    "library(quantmod)\n",
    "\n",
    "df <- data_prep('AAPL')"
   ]
  },
  {
   "cell_type": "code",
   "execution_count": 101,
   "id": "b4b91fbc-b672-443b-935b-4f361f09fbc8",
   "metadata": {
    "vscode": {
     "languageId": "r"
    }
   },
   "outputs": [
    {
     "ename": "ERROR",
     "evalue": "Error in reduce(df$close): could not find function \"reduce\"\n",
     "output_type": "error",
     "traceback": [
      "Error in reduce(df$close): could not find function \"reduce\"\nTraceback:\n"
     ]
    }
   ],
   "source": [
    "\n",
    "reduce(df$close)"
   ]
  },
  {
   "cell_type": "code",
   "execution_count": null,
   "id": "b8234cdb-a720-475b-b051-99399f5da2de",
   "metadata": {},
   "outputs": [],
   "source": [
    "\n",
    "\n",
    "\n"
   ]
  },
  {
   "cell_type": "code",
   "execution_count": 104,
   "id": "90c37eeb-5396-4e12-badb-b0c038d9f8c0",
   "metadata": {},
   "outputs": [
    {
     "name": "stdout",
     "output_type": "stream",
     "text": [
      "[1] \"get_daily_profit - log_stop_loss\"\n",
      "[1] -0.1030943\n",
      "[1] \"get_daily_profit - last_buy_price\"\n",
      "[1] 0\n",
      "[1] \"buy!\"\n",
      "── \u001b[1m\u001b[33mFailure\u001b[39m (<text>:32:3): hold - down - sell - buy - stoploss\u001b[22m ──────────────────\n",
      "`profit` not equal to 0.045.\n",
      "1/1 mismatches\n",
      "[1] 0.045 - 0.045 == 1.47e-05\n",
      "\n",
      "── \u001b[1m\u001b[33mFailure\u001b[39m (<text>:35:3): hold - down - sell - buy - stoploss\u001b[22m ──────────────────\n",
      "`last_buy_price` not equal to 4.35.\n",
      "1/1 mismatches\n",
      "[1] 4.35 - 4.35 == 0.00419\n",
      "\n"
     ]
    },
    {
     "ename": "ERROR",
     "evalue": "\u001b[1m\u001b[33mError\u001b[39m in `reporter$stop_if_needed()`:\u001b[22m\n\u001b[33m!\u001b[39m Test failed\n",
     "output_type": "error",
     "traceback": [
      "\u001b[1m\u001b[33mError\u001b[39m in `reporter$stop_if_needed()`:\u001b[22m\n\u001b[33m!\u001b[39m Test failed\nTraceback:\n",
      "1. test_that(\"hold - down - sell - buy - stoploss\", {\n .     open <- 4.427049\n .     close <- 4.400093\n .     high <- 4.446364\n .     low <- 4.351576\n .     last_close <- 4.416225\n .     predict <- 4.445922\n .     stop_loss <- 0.9020419\n .     last_buy_price <- 0\n .     sell_deviation <- 0.03497496\n .     buy_deviation <- -0.09173406\n .     hold <- 0\n .     courtage_log <- log(1 - 0.00089)\n .     stop_loss_log <- log(stop_loss)\n .     results <- get_daily_profit(open, close, high, low, last_close, \n .         predict, stop_loss, last_buy_price, sell_deviation, buy_deviation, \n .         hold, courtage_log)\n .     profit <- results[1]\n .     trade_times <- results[2]\n .     hold <- results[3]\n .     last_buy_price <- results[4]\n .     expect_equal(profit, 0.045)\n .     expect_equal(trade_times, 1)\n .     expect_equal(hold, 1)\n .     expect_equal(last_buy_price, 4.35)\n . })",
      "2. (function (envir) \n . {\n .     handlers <- get_handlers(envir)\n .     errors <- list()\n .     for (handler in handlers) {\n .         tryCatch(eval(handler$expr, handler$envir), error = function(e) {\n .             errors[[length(errors) + 1]] <<- e\n .         })\n .     }\n .     attr(envir, \"withr_handlers\") <- NULL\n .     for (error in errors) {\n .         stop(error)\n .     }\n . })(<environment>)"
     ]
    }
   ],
   "source": [
    "#return(c(profit, trade_times, hold, last_buy_price))\n",
    "\n",
    "\n",
    "source('./util.r')\n",
    "test_that(\"hold - down - sell - buy - stoploss\", {\n",
    "  open <- 4.427049\n",
    "  close <- 4.400093\n",
    "  high <- 4.446364\n",
    "\n",
    "  low <- 4.351576\n",
    "  last_close <- 4.416225\n",
    "  predict <- 4.445922\n",
    "  stop_loss <- 0.9020419\n",
    "  last_buy_price <- 0\n",
    "  sell_deviation <- 0.03497496\n",
    "  buy_deviation <- -0.09173406\n",
    "  hold <- 0\n",
    "  courtage_log <- log(1-0.00089) #-0.0008903963\n",
    "  stop_loss_log <- log(stop_loss)\n",
    "\n",
    "  \n",
    "  results <- get_daily_profit(open, close, high, low, last_close, predict, \n",
    "    stop_loss, last_buy_price, sell_deviation, \n",
    "    buy_deviation, hold, courtage_log)\n",
    "\n",
    "  \n",
    "  profit <- results[1]\n",
    "  trade_times <- results[2]\n",
    "  hold <- results[3]\n",
    "  last_buy_price <- results[4]\n",
    "  \n",
    "  expect_equal(profit, 0.045)\n",
    "  expect_equal(trade_times, 1)\n",
    "  expect_equal(hold, 1)\n",
    "  expect_equal(last_buy_price, 4.35)\n",
    "})"
   ]
  },
  {
   "cell_type": "code",
   "execution_count": null,
   "id": "44413ec3-7908-4f38-9b20-3e689d8c3762",
   "metadata": {},
   "outputs": [],
   "source": []
  }
 ],
 "metadata": {
  "kernelspec": {
   "display_name": "R",
   "language": "R",
   "name": "ir"
  },
  "language_info": {
   "codemirror_mode": "r",
   "file_extension": ".r",
   "mimetype": "text/x-r-source",
   "name": "R",
   "pygments_lexer": "r",
   "version": "4.1.3"
  }
 },
 "nbformat": 4,
 "nbformat_minor": 5
}

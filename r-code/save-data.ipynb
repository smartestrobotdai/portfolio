{
 "cells": [
  {
   "cell_type": "code",
   "execution_count": null,
   "metadata": {
    "vscode": {
     "languageId": "r"
    }
   },
   "outputs": [],
   "source": [
    "library(rvest)\n",
    "library(dplyr)\n",
    "library(TTR)\n",
    "library(quantmod)\n",
    "library(stringr)"
   ]
  },
  {
   "cell_type": "code",
   "execution_count": null,
   "metadata": {
    "vscode": {
     "languageId": "r"
    }
   },
   "outputs": [],
   "source": [
    "url <- \"https://en.wikipedia.org/wiki/List_of_S%26P_500_companies\"\n",
    "whole_stock_names <- url %>%\n",
    "  read_html %>%\n",
    "  html_nodes(css='#constituents') %>%\n",
    "  html_table() %>% data.frame %>% pull(Symbol)"
   ]
  },
  {
   "cell_type": "code",
   "execution_count": 30,
   "metadata": {
    "vscode": {
     "languageId": "r"
    }
   },
   "outputs": [],
   "source": [
    "# test if we can get data from yahoo\n",
    "save_ticks <- function(name_list, dir) {\n",
    "  fetch_and_save <- function(name) {\n",
    "    res <- TRUE\n",
    "    data <- tryCatch(getSymbols(name,src='yahoo',auto.assign=FALSE), error=function(e) {res <<- FALSE})\n",
    "    if (!res) {\n",
    "      return(res)\n",
    "    } else {\n",
    "      saveRDS(data, file=str_glue('{dir}/{name}.rds'))\n",
    "      return(TRUE)\n",
    "    }\n",
    "  }\n",
    "\n",
    "  fetch_ok <- lapply(name_list, fetch_and_save)\n",
    "  return(fetch_ok)\n",
    "\n",
    "}\n"
   ]
  },
  {
   "cell_type": "code",
   "execution_count": null,
   "metadata": {
    "vscode": {
     "languageId": "r"
    }
   },
   "outputs": [],
   "source": [
    "sek <- getSymbols('SEK=X',src='yahoo',auto.assign=FALSE)\n",
    "saveRDS(sek, file=str_glue('data/SEK.X.rds'))"
   ]
  },
  {
   "cell_type": "code",
   "execution_count": null,
   "metadata": {
    "vscode": {
     "languageId": "r"
    }
   },
   "outputs": [],
   "source": [
    "d <- data.frame(getSymbols('SEK=X',src='yahoo',auto.assign=FALSE))\n",
    "rownames(tail(d, 1))"
   ]
  },
  {
   "cell_type": "code",
   "execution_count": null,
   "metadata": {
    "vscode": {
     "languageId": "r"
    }
   },
   "outputs": [],
   "source": [
    "last <- 1\n",
    "list(last=last)"
   ]
  },
  {
   "cell_type": "code",
   "execution_count": 37,
   "metadata": {
    "vscode": {
     "languageId": "r"
    }
   },
   "outputs": [],
   "source": [
    "url <- \"https://en.wikipedia.org/wiki/OMX_Stockholm_30\"\n",
    "omx_stock_names <- url %>%\n",
    "  read_html %>%\n",
    "  html_node(css='.wikitable') %>%\n",
    "  html_table() %>% data.frame %>% pull(Symbol) %>% str_replace_all(' ', '-') %>%\n",
    "  paste0('.ST')\n",
    "  \n",
    "\n"
   ]
  },
  {
   "cell_type": "code",
   "execution_count": 38,
   "metadata": {
    "vscode": {
     "languageId": "r"
    }
   },
   "outputs": [
    {
     "data": {
      "text/html": [
       "<style>\n",
       ".list-inline {list-style: none; margin:0; padding: 0}\n",
       ".list-inline>li {display: inline-block}\n",
       ".list-inline>li:not(:last-child)::after {content: \"\\00b7\"; padding: 0 .5ex}\n",
       "</style>\n",
       "<ol class=list-inline><li>'ABB.ST'</li><li>'ALFA.ST'</li><li>'ASSA-B.ST'</li><li>'AZN.ST'</li><li>'ATCO-A.ST'</li><li>'ATCO-B.ST'</li><li>'ALIV-SDB.ST'</li><li>'BOL.ST'</li><li>'ELUX-B.ST'</li><li>'ERIC-B.ST'</li><li>'ESSITY-B.ST'</li><li>'EVO.ST'</li><li>'GETI-B.ST'</li><li>'HM-B.ST'</li><li>'HEXA-B.ST'</li><li>'INVE-B.ST'</li><li>'KINV-B.ST'</li><li>'NDA-SE.ST'</li><li>'SAND.ST'</li><li>'SINCH.ST'</li><li>'SEB-A.ST'</li><li>'SKA-B.ST'</li><li>'SKF-B.ST'</li><li>'SCA-B.ST'</li><li>'SHB-A.ST'</li><li>'SWED-A.ST'</li><li>'SWMA.ST'</li><li>'TEL2-B.ST'</li><li>'TELIA.ST'</li><li>'VOLV-B.ST'</li></ol>\n"
      ],
      "text/latex": [
       "\\begin{enumerate*}\n",
       "\\item 'ABB.ST'\n",
       "\\item 'ALFA.ST'\n",
       "\\item 'ASSA-B.ST'\n",
       "\\item 'AZN.ST'\n",
       "\\item 'ATCO-A.ST'\n",
       "\\item 'ATCO-B.ST'\n",
       "\\item 'ALIV-SDB.ST'\n",
       "\\item 'BOL.ST'\n",
       "\\item 'ELUX-B.ST'\n",
       "\\item 'ERIC-B.ST'\n",
       "\\item 'ESSITY-B.ST'\n",
       "\\item 'EVO.ST'\n",
       "\\item 'GETI-B.ST'\n",
       "\\item 'HM-B.ST'\n",
       "\\item 'HEXA-B.ST'\n",
       "\\item 'INVE-B.ST'\n",
       "\\item 'KINV-B.ST'\n",
       "\\item 'NDA-SE.ST'\n",
       "\\item 'SAND.ST'\n",
       "\\item 'SINCH.ST'\n",
       "\\item 'SEB-A.ST'\n",
       "\\item 'SKA-B.ST'\n",
       "\\item 'SKF-B.ST'\n",
       "\\item 'SCA-B.ST'\n",
       "\\item 'SHB-A.ST'\n",
       "\\item 'SWED-A.ST'\n",
       "\\item 'SWMA.ST'\n",
       "\\item 'TEL2-B.ST'\n",
       "\\item 'TELIA.ST'\n",
       "\\item 'VOLV-B.ST'\n",
       "\\end{enumerate*}\n"
      ],
      "text/markdown": [
       "1. 'ABB.ST'\n",
       "2. 'ALFA.ST'\n",
       "3. 'ASSA-B.ST'\n",
       "4. 'AZN.ST'\n",
       "5. 'ATCO-A.ST'\n",
       "6. 'ATCO-B.ST'\n",
       "7. 'ALIV-SDB.ST'\n",
       "8. 'BOL.ST'\n",
       "9. 'ELUX-B.ST'\n",
       "10. 'ERIC-B.ST'\n",
       "11. 'ESSITY-B.ST'\n",
       "12. 'EVO.ST'\n",
       "13. 'GETI-B.ST'\n",
       "14. 'HM-B.ST'\n",
       "15. 'HEXA-B.ST'\n",
       "16. 'INVE-B.ST'\n",
       "17. 'KINV-B.ST'\n",
       "18. 'NDA-SE.ST'\n",
       "19. 'SAND.ST'\n",
       "20. 'SINCH.ST'\n",
       "21. 'SEB-A.ST'\n",
       "22. 'SKA-B.ST'\n",
       "23. 'SKF-B.ST'\n",
       "24. 'SCA-B.ST'\n",
       "25. 'SHB-A.ST'\n",
       "26. 'SWED-A.ST'\n",
       "27. 'SWMA.ST'\n",
       "28. 'TEL2-B.ST'\n",
       "29. 'TELIA.ST'\n",
       "30. 'VOLV-B.ST'\n",
       "\n",
       "\n"
      ],
      "text/plain": [
       " [1] \"ABB.ST\"      \"ALFA.ST\"     \"ASSA-B.ST\"   \"AZN.ST\"      \"ATCO-A.ST\"  \n",
       " [6] \"ATCO-B.ST\"   \"ALIV-SDB.ST\" \"BOL.ST\"      \"ELUX-B.ST\"   \"ERIC-B.ST\"  \n",
       "[11] \"ESSITY-B.ST\" \"EVO.ST\"      \"GETI-B.ST\"   \"HM-B.ST\"     \"HEXA-B.ST\"  \n",
       "[16] \"INVE-B.ST\"   \"KINV-B.ST\"   \"NDA-SE.ST\"   \"SAND.ST\"     \"SINCH.ST\"   \n",
       "[21] \"SEB-A.ST\"    \"SKA-B.ST\"    \"SKF-B.ST\"    \"SCA-B.ST\"    \"SHB-A.ST\"   \n",
       "[26] \"SWED-A.ST\"   \"SWMA.ST\"     \"TEL2-B.ST\"   \"TELIA.ST\"    \"VOLV-B.ST\"  "
      ]
     },
     "metadata": {},
     "output_type": "display_data"
    }
   ],
   "source": [
    "omx_stock_names"
   ]
  },
  {
   "cell_type": "code",
   "execution_count": 39,
   "metadata": {
    "vscode": {
     "languageId": "r"
    }
   },
   "outputs": [
    {
     "name": "stderr",
     "output_type": "stream",
     "text": [
      "Warning message:\n",
      "“SHB-A.ST contains missing values. Some functions will not work if objects contain missing values in the middle of the series. Consider using na.omit(), na.approx(), na.fill(), etc to remove or replace them.”\n",
      "Warning message:\n",
      "“VOLV-B.ST contains missing values. Some functions will not work if objects contain missing values in the middle of the series. Consider using na.omit(), na.approx(), na.fill(), etc to remove or replace them.”\n"
     ]
    },
    {
     "data": {
      "text/html": [
       "<ol>\n",
       "\t<li>TRUE</li>\n",
       "\t<li>TRUE</li>\n",
       "\t<li>TRUE</li>\n",
       "\t<li>TRUE</li>\n",
       "\t<li>TRUE</li>\n",
       "\t<li>TRUE</li>\n",
       "\t<li>TRUE</li>\n",
       "\t<li>TRUE</li>\n",
       "\t<li>TRUE</li>\n",
       "\t<li>TRUE</li>\n",
       "\t<li>TRUE</li>\n",
       "\t<li>TRUE</li>\n",
       "\t<li>TRUE</li>\n",
       "\t<li>TRUE</li>\n",
       "\t<li>TRUE</li>\n",
       "\t<li>TRUE</li>\n",
       "\t<li>TRUE</li>\n",
       "\t<li>TRUE</li>\n",
       "\t<li>TRUE</li>\n",
       "\t<li>TRUE</li>\n",
       "\t<li>TRUE</li>\n",
       "\t<li>TRUE</li>\n",
       "\t<li>TRUE</li>\n",
       "\t<li>TRUE</li>\n",
       "\t<li>TRUE</li>\n",
       "\t<li>TRUE</li>\n",
       "\t<li>TRUE</li>\n",
       "\t<li>TRUE</li>\n",
       "\t<li>TRUE</li>\n",
       "\t<li>TRUE</li>\n",
       "</ol>\n"
      ],
      "text/latex": [
       "\\begin{enumerate}\n",
       "\\item TRUE\n",
       "\\item TRUE\n",
       "\\item TRUE\n",
       "\\item TRUE\n",
       "\\item TRUE\n",
       "\\item TRUE\n",
       "\\item TRUE\n",
       "\\item TRUE\n",
       "\\item TRUE\n",
       "\\item TRUE\n",
       "\\item TRUE\n",
       "\\item TRUE\n",
       "\\item TRUE\n",
       "\\item TRUE\n",
       "\\item TRUE\n",
       "\\item TRUE\n",
       "\\item TRUE\n",
       "\\item TRUE\n",
       "\\item TRUE\n",
       "\\item TRUE\n",
       "\\item TRUE\n",
       "\\item TRUE\n",
       "\\item TRUE\n",
       "\\item TRUE\n",
       "\\item TRUE\n",
       "\\item TRUE\n",
       "\\item TRUE\n",
       "\\item TRUE\n",
       "\\item TRUE\n",
       "\\item TRUE\n",
       "\\end{enumerate}\n"
      ],
      "text/markdown": [
       "1. TRUE\n",
       "2. TRUE\n",
       "3. TRUE\n",
       "4. TRUE\n",
       "5. TRUE\n",
       "6. TRUE\n",
       "7. TRUE\n",
       "8. TRUE\n",
       "9. TRUE\n",
       "10. TRUE\n",
       "11. TRUE\n",
       "12. TRUE\n",
       "13. TRUE\n",
       "14. TRUE\n",
       "15. TRUE\n",
       "16. TRUE\n",
       "17. TRUE\n",
       "18. TRUE\n",
       "19. TRUE\n",
       "20. TRUE\n",
       "21. TRUE\n",
       "22. TRUE\n",
       "23. TRUE\n",
       "24. TRUE\n",
       "25. TRUE\n",
       "26. TRUE\n",
       "27. TRUE\n",
       "28. TRUE\n",
       "29. TRUE\n",
       "30. TRUE\n",
       "\n",
       "\n"
      ],
      "text/plain": [
       "[[1]]\n",
       "[1] TRUE\n",
       "\n",
       "[[2]]\n",
       "[1] TRUE\n",
       "\n",
       "[[3]]\n",
       "[1] TRUE\n",
       "\n",
       "[[4]]\n",
       "[1] TRUE\n",
       "\n",
       "[[5]]\n",
       "[1] TRUE\n",
       "\n",
       "[[6]]\n",
       "[1] TRUE\n",
       "\n",
       "[[7]]\n",
       "[1] TRUE\n",
       "\n",
       "[[8]]\n",
       "[1] TRUE\n",
       "\n",
       "[[9]]\n",
       "[1] TRUE\n",
       "\n",
       "[[10]]\n",
       "[1] TRUE\n",
       "\n",
       "[[11]]\n",
       "[1] TRUE\n",
       "\n",
       "[[12]]\n",
       "[1] TRUE\n",
       "\n",
       "[[13]]\n",
       "[1] TRUE\n",
       "\n",
       "[[14]]\n",
       "[1] TRUE\n",
       "\n",
       "[[15]]\n",
       "[1] TRUE\n",
       "\n",
       "[[16]]\n",
       "[1] TRUE\n",
       "\n",
       "[[17]]\n",
       "[1] TRUE\n",
       "\n",
       "[[18]]\n",
       "[1] TRUE\n",
       "\n",
       "[[19]]\n",
       "[1] TRUE\n",
       "\n",
       "[[20]]\n",
       "[1] TRUE\n",
       "\n",
       "[[21]]\n",
       "[1] TRUE\n",
       "\n",
       "[[22]]\n",
       "[1] TRUE\n",
       "\n",
       "[[23]]\n",
       "[1] TRUE\n",
       "\n",
       "[[24]]\n",
       "[1] TRUE\n",
       "\n",
       "[[25]]\n",
       "[1] TRUE\n",
       "\n",
       "[[26]]\n",
       "[1] TRUE\n",
       "\n",
       "[[27]]\n",
       "[1] TRUE\n",
       "\n",
       "[[28]]\n",
       "[1] TRUE\n",
       "\n",
       "[[29]]\n",
       "[1] TRUE\n",
       "\n",
       "[[30]]\n",
       "[1] TRUE\n"
      ]
     },
     "metadata": {},
     "output_type": "display_data"
    }
   ],
   "source": [
    "save_ticks(omx_stock_names, 'omx')"
   ]
  },
  {
   "cell_type": "code",
   "execution_count": null,
   "metadata": {
    "vscode": {
     "languageId": "r"
    }
   },
   "outputs": [],
   "source": []
  }
 ],
 "metadata": {
  "kernelspec": {
   "display_name": "R",
   "language": "R",
   "name": "ir"
  },
  "language_info": {
   "codemirror_mode": "r",
   "file_extension": ".r",
   "mimetype": "text/x-r-source",
   "name": "R",
   "pygments_lexer": "r",
   "version": "4.1.3"
  },
  "orig_nbformat": 4
 },
 "nbformat": 4,
 "nbformat_minor": 2
}

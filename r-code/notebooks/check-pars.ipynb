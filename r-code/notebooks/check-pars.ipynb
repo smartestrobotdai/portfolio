{
 "cells": [
  {
   "cell_type": "code",
   "execution_count": 1,
   "metadata": {
    "vscode": {
     "languageId": "r"
    }
   },
   "outputs": [
    {
     "name": "stderr",
     "output_type": "stream",
     "text": [
      "\n",
      "Attaching package: ‘dplyr’\n",
      "\n",
      "\n",
      "The following objects are masked from ‘package:stats’:\n",
      "\n",
      "    filter, lag\n",
      "\n",
      "\n",
      "The following objects are masked from ‘package:base’:\n",
      "\n",
      "    intersect, setdiff, setequal, union\n",
      "\n",
      "\n",
      "Loading required package: xts\n",
      "\n",
      "Loading required package: zoo\n",
      "\n",
      "\n",
      "Attaching package: ‘zoo’\n",
      "\n",
      "\n",
      "The following objects are masked from ‘package:base’:\n",
      "\n",
      "    as.Date, as.Date.numeric\n",
      "\n",
      "\n",
      "\n",
      "Attaching package: ‘xts’\n",
      "\n",
      "\n",
      "The following objects are masked from ‘package:dplyr’:\n",
      "\n",
      "    first, last\n",
      "\n",
      "\n",
      "Loading required package: TTR\n",
      "\n",
      "Registered S3 method overwritten by 'quantmod':\n",
      "  method            from\n",
      "  as.zoo.data.frame zoo \n",
      "\n",
      "\n",
      "Attaching package: ‘data.table’\n",
      "\n",
      "\n",
      "The following objects are masked from ‘package:xts’:\n",
      "\n",
      "    first, last\n",
      "\n",
      "\n",
      "The following objects are masked from ‘package:dplyr’:\n",
      "\n",
      "    between, first, last\n",
      "\n",
      "\n"
     ]
    }
   ],
   "source": [
    "source('./util.r')\n",
    "# check the parameter, why it can give profits??\n",
    "#0.0511582399064984-0.0602934516755226-0.408009738187061-0.0858634027957884-0.0508628128861179"
   ]
  },
  {
   "cell_type": "code",
   "execution_count": 2,
   "metadata": {
    "vscode": {
     "languageId": "r"
    }
   },
   "outputs": [],
   "source": [
    "process_stock <- function(name, par, courtage, isNYSE, use_close, to_sek) {\n",
    "    HHt_val <- par[1]\n",
    "    GGt_val <- par[2]\n",
    "    stop_loss <- par[3]\n",
    "    sell_dev <- par[4]\n",
    "    buy_dev <- par[5]\n",
    "    df <- data_prep(name, HHt_val=HHt_val, GGt_val=GGt_val, isNYSE=isNYSE, use_close=use_close, to_sek=to_sek)\n",
    "    df <- process_one(df, stop_loss, sell_dev, buy_dev, courtage)\n",
    "    df\n",
    "    # my_summary <- df %>% filter(trade_profit != 0 | hold != 0) %>% summarise(sum=sum(trade_profit), n=n(), daily=sum/n)\n",
    "    # no_model_summary <- df %>% summarise(sum=sum(no_model_profit), n=n(), daily=sum/n)\n",
    "    # my_summary$daily - no_model_summary$daily\n",
    "}"
   ]
  },
  {
   "cell_type": "code",
   "execution_count": 171,
   "metadata": {
    "vscode": {
     "languageId": "r"
    }
   },
   "outputs": [],
   "source": [
    "df <- data_prep('TSLA', isNYSE=1, use_close=0, to_sek=0)"
   ]
  },
  {
   "cell_type": "code",
   "execution_count": 177,
   "metadata": {
    "vscode": {
     "languageId": "r"
    }
   },
   "outputs": [
    {
     "data": {
      "text/html": [
       "<style>\n",
       ".list-inline {list-style: none; margin:0; padding: 0}\n",
       ".list-inline>li {display: inline-block}\n",
       ".list-inline>li:not(:last-child)::after {content: \"\\00b7\"; padding: 0 .5ex}\n",
       "</style>\n",
       "<ol class=list-inline><li>3086</li><li>14</li></ol>\n"
      ],
      "text/latex": [
       "\\begin{enumerate*}\n",
       "\\item 3086\n",
       "\\item 14\n",
       "\\end{enumerate*}\n"
      ],
      "text/markdown": [
       "1. 3086\n",
       "2. 14\n",
       "\n",
       "\n"
      ],
      "text/plain": [
       "[1] 3086   14"
      ]
     },
     "metadata": {},
     "output_type": "display_data"
    }
   ],
   "source": [
    "dim(df)"
   ]
  },
  {
   "cell_type": "code",
   "execution_count": 178,
   "metadata": {
    "vscode": {
     "languageId": "r"
    }
   },
   "outputs": [
    {
     "data": {
      "text/html": [
       "2.56719115761704"
      ],
      "text/latex": [
       "2.56719115761704"
      ],
      "text/markdown": [
       "2.56719115761704"
      ],
      "text/plain": [
       "[1] 2.567191"
      ]
     },
     "metadata": {},
     "output_type": "display_data"
    }
   ],
   "source": [
    "mean(df$no_model_profit) * sqrt(dim(df)[1]) / sd(df$no_model_profit) + 0.1*log(0.8)"
   ]
  },
  {
   "cell_type": "code",
   "execution_count": 92,
   "metadata": {
    "vscode": {
     "languageId": "r"
    }
   },
   "outputs": [],
   "source": [
    "get_profit <- function(name, par, courtage, isNYSE, use_close, to_sek) {\n",
    "    HHt_val <- par[1]\n",
    "    GGt_val <- par[2]\n",
    "    stop_loss <- par[3]\n",
    "    sell_dev <- par[4]\n",
    "    buy_dev <- par[5]\n",
    "    df <- data_prep(name, HHt_val=HHt_val, GGt_val=GGt_val, isNYSE=isNYSE, use_close=use_close, to_sek=to_sek)\n",
    "    df <- process_one(df, stop_loss, sell_dev, buy_dev, courtage)\n",
    "    total_avg <- mean(df$no_model_profit)\n",
    "    my_summary <- df %>% filter(trade_profit != 0 | hold != 0) %>% summarise(mean=mean(trade_profit), sd=sd(trade_profit), n=n())\n",
    "    my_summary$mean * sqrt(my_summary$n) / my_summary$sd + 0.1 * log(stop_loss)\n",
    "}"
   ]
  },
  {
   "cell_type": "code",
   "execution_count": 93,
   "metadata": {
    "vscode": {
     "languageId": "r"
    }
   },
   "outputs": [],
   "source": [
    "\n",
    "fit3 <- optim(par=c(0.07, 0.07, 0.80, 0.02, -0.02), \n",
    "function(par) -get_profit('LMT', par, 0, 1, 0, 0), \n",
    "    control=list(maxit=500, parscale=c(1, 1, 10, 1, 1)))\n",
    "\n",
    "fit4 <- optim(par=c(0.07, 0.07, 0.80, 0.02, -0.10), \n",
    "function(par) -get_profit('LMT', par, 0, 1, 0, 0), \n",
    "    control=list(maxit=500, parscale=c(1, 1, 10, 1, 1)))\n",
    "\n",
    "\n",
    "fit5 <- optim(par=c(0.07, 0.07, 0.80, 0.02, -0.02), \n",
    "function(par) -get_profit('PFE', par, 0, 1, 0, 0), \n",
    "    control=list(maxit=500, parscale=c(1, 1, 10, 1, 1)))\n",
    "\n",
    "fit6 <- optim(par=c(0.07, 0.07, 0.80, 0.02, -0.10), \n",
    "function(par) -get_profit('PFE', par, 0, 1, 0, 0), \n",
    "    control=list(maxit=500, parscale=c(1, 1, 10, 1, 1)))\n",
    "\n",
    "fit1 <- optim(par=c(0.07, 0.07, 0.80, 0.02, -0.02), \n",
    "function(par) -get_profit('AAPL', par, 0, 1, 0, 0), \n",
    "    control=list(maxit=500, parscale=c(1, 1, 10, 1, 1)))\n",
    "\n",
    "fit2 <- optim(par=c(0.07, 0.07, 0.80, 0.02, -0.10), \n",
    "function(par) -get_profit('AAPL', par, 0, 1, 0, 0), \n",
    "    control=list(maxit=500, parscale=c(1, 1, 10, 1, 1)))"
   ]
  },
  {
   "cell_type": "code",
   "execution_count": 120,
   "metadata": {
    "vscode": {
     "languageId": "r"
    }
   },
   "outputs": [],
   "source": [
    "fit7 <- optim(par=c(0.07, 0.07, 0.80, 0.02, -0.02), \n",
    "function(par) -get_profit('MSFT', par, 0, 1, 0, 0), \n",
    "    control=list(maxit=500, parscale=c(1, 1, 10, 1, 1)))\n",
    "\n",
    "fit8 <- optim(par=c(0.07, 0.07, 0.80, 0.02, -0.10), \n",
    "function(par) -get_profit('MSFT', par, 0, 1, 0, 0), \n",
    "    control=list(maxit=500, parscale=c(1, 1, 10, 1, 1)))"
   ]
  },
  {
   "cell_type": "code",
   "execution_count": 180,
   "metadata": {
    "vscode": {
     "languageId": "r"
    }
   },
   "outputs": [],
   "source": [
    "fit9 <- optim(par=c(0.07, 0.07, 0.80, 0.02, -0.02), \n",
    "function(par) -get_profit('TSLA', par, 0, 1, 0, 0), \n",
    "    control=list(maxit=800, parscale=c(1, 1, 10, 1, 1)))\n",
    "\n",
    "fit10 <- optim(par=c(0.07, 0.07, 0.80, 0.02, -0.10), \n",
    "function(par) -get_profit('TSLA', par, 0, 1, 0, 0), \n",
    "    control=list(maxit=800, parscale=c(1, 1, 10, 1, 1)))"
   ]
  },
  {
   "cell_type": "code",
   "execution_count": 181,
   "metadata": {
    "vscode": {
     "languageId": "r"
    }
   },
   "outputs": [
    {
     "data": {
      "text/html": [
       "<dl>\n",
       "\t<dt>$par</dt>\n",
       "\t\t<dd><style>\n",
       ".list-inline {list-style: none; margin:0; padding: 0}\n",
       ".list-inline>li {display: inline-block}\n",
       ".list-inline>li:not(:last-child)::after {content: \"\\00b7\"; padding: 0 .5ex}\n",
       "</style>\n",
       "<ol class=list-inline><li>0.0665998251768394</li><li>0.0663862252882767</li><li>0.895409954745714</li><li>0.0292687659732661</li><li>-0.020159651705087</li></ol>\n",
       "</dd>\n",
       "\t<dt>$value</dt>\n",
       "\t\t<dd>-1.66345471802755</dd>\n",
       "\t<dt>$counts</dt>\n",
       "\t\t<dd><style>\n",
       ".dl-inline {width: auto; margin:0; padding: 0}\n",
       ".dl-inline>dt, .dl-inline>dd {float: none; width: auto; display: inline-block}\n",
       ".dl-inline>dt::after {content: \":\\0020\"; padding-right: .5ex}\n",
       ".dl-inline>dt:not(:first-of-type) {padding-left: .5ex}\n",
       "</style><dl class=dl-inline><dt>function</dt><dd>801</dd><dt>gradient</dt><dd>&lt;NA&gt;</dd></dl>\n",
       "</dd>\n",
       "\t<dt>$convergence</dt>\n",
       "\t\t<dd>1</dd>\n",
       "\t<dt>$message</dt>\n",
       "\t\t<dd>NULL</dd>\n",
       "</dl>\n"
      ],
      "text/latex": [
       "\\begin{description}\n",
       "\\item[\\$par] \\begin{enumerate*}\n",
       "\\item 0.0665998251768394\n",
       "\\item 0.0663862252882767\n",
       "\\item 0.895409954745714\n",
       "\\item 0.0292687659732661\n",
       "\\item -0.020159651705087\n",
       "\\end{enumerate*}\n",
       "\n",
       "\\item[\\$value] -1.66345471802755\n",
       "\\item[\\$counts] \\begin{description*}\n",
       "\\item[function] 801\n",
       "\\item[gradient] <NA>\n",
       "\\end{description*}\n",
       "\n",
       "\\item[\\$convergence] 1\n",
       "\\item[\\$message] NULL\n",
       "\\end{description}\n"
      ],
      "text/markdown": [
       "$par\n",
       ":   1. 0.0665998251768394\n",
       "2. 0.0663862252882767\n",
       "3. 0.895409954745714\n",
       "4. 0.0292687659732661\n",
       "5. -0.020159651705087\n",
       "\n",
       "\n",
       "\n",
       "$value\n",
       ":   -1.66345471802755\n",
       "$counts\n",
       ":   function\n",
       ":   801gradient\n",
       ":   &lt;NA&gt;\n",
       "\n",
       "\n",
       "$convergence\n",
       ":   1\n",
       "$message\n",
       ":   NULL\n",
       "\n",
       "\n"
      ],
      "text/plain": [
       "$par\n",
       "[1]  0.06659983  0.06638623  0.89540995  0.02926877 -0.02015965\n",
       "\n",
       "$value\n",
       "[1] -1.663455\n",
       "\n",
       "$counts\n",
       "function gradient \n",
       "     801       NA \n",
       "\n",
       "$convergence\n",
       "[1] 1\n",
       "\n",
       "$message\n",
       "NULL\n"
      ]
     },
     "metadata": {},
     "output_type": "display_data"
    },
    {
     "data": {
      "text/html": [
       "<dl>\n",
       "\t<dt>$par</dt>\n",
       "\t\t<dd><style>\n",
       ".list-inline {list-style: none; margin:0; padding: 0}\n",
       ".list-inline>li {display: inline-block}\n",
       ".list-inline>li:not(:last-child)::after {content: \"\\00b7\"; padding: 0 .5ex}\n",
       "</style>\n",
       "<ol class=list-inline><li>0.0651837300859239</li><li>0.0653135267449068</li><li>0.813948523504386</li><li>0.0207785304268093</li><li>-0.0898963087179865</li></ol>\n",
       "</dd>\n",
       "\t<dt>$value</dt>\n",
       "\t\t<dd>-2.02320231099288</dd>\n",
       "\t<dt>$counts</dt>\n",
       "\t\t<dd><style>\n",
       ".dl-inline {width: auto; margin:0; padding: 0}\n",
       ".dl-inline>dt, .dl-inline>dd {float: none; width: auto; display: inline-block}\n",
       ".dl-inline>dt::after {content: \":\\0020\"; padding-right: .5ex}\n",
       ".dl-inline>dt:not(:first-of-type) {padding-left: .5ex}\n",
       "</style><dl class=dl-inline><dt>function</dt><dd>801</dd><dt>gradient</dt><dd>&lt;NA&gt;</dd></dl>\n",
       "</dd>\n",
       "\t<dt>$convergence</dt>\n",
       "\t\t<dd>1</dd>\n",
       "\t<dt>$message</dt>\n",
       "\t\t<dd>NULL</dd>\n",
       "</dl>\n"
      ],
      "text/latex": [
       "\\begin{description}\n",
       "\\item[\\$par] \\begin{enumerate*}\n",
       "\\item 0.0651837300859239\n",
       "\\item 0.0653135267449068\n",
       "\\item 0.813948523504386\n",
       "\\item 0.0207785304268093\n",
       "\\item -0.0898963087179865\n",
       "\\end{enumerate*}\n",
       "\n",
       "\\item[\\$value] -2.02320231099288\n",
       "\\item[\\$counts] \\begin{description*}\n",
       "\\item[function] 801\n",
       "\\item[gradient] <NA>\n",
       "\\end{description*}\n",
       "\n",
       "\\item[\\$convergence] 1\n",
       "\\item[\\$message] NULL\n",
       "\\end{description}\n"
      ],
      "text/markdown": [
       "$par\n",
       ":   1. 0.0651837300859239\n",
       "2. 0.0653135267449068\n",
       "3. 0.813948523504386\n",
       "4. 0.0207785304268093\n",
       "5. -0.0898963087179865\n",
       "\n",
       "\n",
       "\n",
       "$value\n",
       ":   -2.02320231099288\n",
       "$counts\n",
       ":   function\n",
       ":   801gradient\n",
       ":   &lt;NA&gt;\n",
       "\n",
       "\n",
       "$convergence\n",
       ":   1\n",
       "$message\n",
       ":   NULL\n",
       "\n",
       "\n"
      ],
      "text/plain": [
       "$par\n",
       "[1]  0.06518373  0.06531353  0.81394852  0.02077853 -0.08989631\n",
       "\n",
       "$value\n",
       "[1] -2.023202\n",
       "\n",
       "$counts\n",
       "function gradient \n",
       "     801       NA \n",
       "\n",
       "$convergence\n",
       "[1] 1\n",
       "\n",
       "$message\n",
       "NULL\n"
      ]
     },
     "metadata": {},
     "output_type": "display_data"
    }
   ],
   "source": [
    "fit9\n",
    "fit10"
   ]
  },
  {
   "cell_type": "code",
   "execution_count": 174,
   "metadata": {
    "vscode": {
     "languageId": "r"
    }
   },
   "outputs": [],
   "source": [
    "df <- process_stock('TSLA', par=fit10$par, courtage=0, \n",
    "    isNYSE=1, use_close=0, to_sek=0)\n"
   ]
  },
  {
   "cell_type": "code",
   "execution_count": 175,
   "metadata": {
    "vscode": {
     "languageId": "r"
    }
   },
   "outputs": [
    {
     "data": {
      "text/html": [
       "<table class=\"dataframe\">\n",
       "<caption>A data.frame: 1 × 5</caption>\n",
       "<thead>\n",
       "\t<tr><th scope=col>mean_1</th><th scope=col>mean_2</th><th scope=col>sd_1</th><th scope=col>sd_2</th><th scope=col>n</th></tr>\n",
       "\t<tr><th scope=col>&lt;dbl&gt;</th><th scope=col>&lt;dbl&gt;</th><th scope=col>&lt;dbl&gt;</th><th scope=col>&lt;dbl&gt;</th><th scope=col>&lt;int&gt;</th></tr>\n",
       "</thead>\n",
       "<tbody>\n",
       "\t<tr><td>-0.01601078</td><td>0.004827573</td><td>0.05911492</td><td>0.04230114</td><td>320</td></tr>\n",
       "</tbody>\n",
       "</table>\n"
      ],
      "text/latex": [
       "A data.frame: 1 × 5\n",
       "\\begin{tabular}{lllll}\n",
       " mean\\_1 & mean\\_2 & sd\\_1 & sd\\_2 & n\\\\\n",
       " <dbl> & <dbl> & <dbl> & <dbl> & <int>\\\\\n",
       "\\hline\n",
       "\t -0.01601078 & 0.004827573 & 0.05911492 & 0.04230114 & 320\\\\\n",
       "\\end{tabular}\n"
      ],
      "text/markdown": [
       "\n",
       "A data.frame: 1 × 5\n",
       "\n",
       "| mean_1 &lt;dbl&gt; | mean_2 &lt;dbl&gt; | sd_1 &lt;dbl&gt; | sd_2 &lt;dbl&gt; | n &lt;int&gt; |\n",
       "|---|---|---|---|---|\n",
       "| -0.01601078 | 0.004827573 | 0.05911492 | 0.04230114 | 320 |\n",
       "\n"
      ],
      "text/plain": [
       "  mean_1      mean_2      sd_1       sd_2       n  \n",
       "1 -0.01601078 0.004827573 0.05911492 0.04230114 320"
      ]
     },
     "metadata": {},
     "output_type": "display_data"
    }
   ],
   "source": [
    "df %>% filter(trade_profit != 0 | hold != 0) %>% select(no_model_profit, trade_profit) %>% summarise(mean_1=mean(no_model_profit), mean_2=mean(trade_profit), sd_1=sd(no_model_profit), sd_2=sd(trade_profit), n=n())"
   ]
  },
  {
   "cell_type": "code",
   "execution_count": 179,
   "metadata": {
    "vscode": {
     "languageId": "r"
    }
   },
   "outputs": [
    {
     "data": {
      "text/html": [
       "0.0356364407794857"
      ],
      "text/latex": [
       "0.0356364407794857"
      ],
      "text/markdown": [
       "0.0356364407794857"
      ],
      "text/plain": [
       "[1] 0.03563644"
      ]
     },
     "metadata": {},
     "output_type": "display_data"
    }
   ],
   "source": [
    "sd(df$no_model_profit)"
   ]
  },
  {
   "cell_type": "code",
   "execution_count": 176,
   "metadata": {
    "vscode": {
     "languageId": "r"
    }
   },
   "outputs": [
    {
     "data": {
      "text/plain": [
       "\n",
       "\tWelch Two Sample t-test\n",
       "\n",
       "data:  df$no_model_profit and new_df$trade_profit\n",
       "t = -1.2923, df = 367.47, p-value = 0.1971\n",
       "alternative hypothesis: true difference in means is not equal to 0\n",
       "95 percent confidence interval:\n",
       " -0.007984528  0.001651716\n",
       "sample estimates:\n",
       "  mean of x   mean of y \n",
       "0.001661167 0.004827573 \n"
      ]
     },
     "metadata": {},
     "output_type": "display_data"
    }
   ],
   "source": [
    "new_df <- df %>% filter(trade_profit != 0 | hold != 0)  %>% select(no_model_profit, trade_profit) \n",
    "t.test(x=df$no_model_profit, y=new_df$trade_profit)"
   ]
  },
  {
   "cell_type": "code",
   "execution_count": 22,
   "metadata": {
    "vscode": {
     "languageId": "r"
    }
   },
   "outputs": [
    {
     "data": {
      "text/html": [
       "0.0357344075890353"
      ],
      "text/latex": [
       "0.0357344075890353"
      ],
      "text/markdown": [
       "0.0357344075890353"
      ],
      "text/plain": [
       "[1] 0.03573441"
      ]
     },
     "metadata": {},
     "output_type": "display_data"
    }
   ],
   "source": [
    "0.0006 / 0.01679054"
   ]
  },
  {
   "cell_type": "code",
   "execution_count": 24,
   "metadata": {
    "vscode": {
     "languageId": "r"
    }
   },
   "outputs": [
    {
     "data": {
      "text/html": [
       "0.037321487122236"
      ],
      "text/latex": [
       "0.037321487122236"
      ],
      "text/markdown": [
       "0.037321487122236"
      ],
      "text/plain": [
       "[1] 0.03732149"
      ]
     },
     "metadata": {},
     "output_type": "display_data"
    }
   ],
   "source": [
    "1.96 / sqrt(2758)"
   ]
  },
  {
   "cell_type": "code",
   "execution_count": 58,
   "metadata": {
    "vscode": {
     "languageId": "r"
    }
   },
   "outputs": [
    {
     "data": {
      "text/html": [
       "<table class=\"dataframe\">\n",
       "<caption>A data.frame: 1 × 3</caption>\n",
       "<thead>\n",
       "\t<tr><th scope=col>sum</th><th scope=col>n</th><th scope=col>daily</th></tr>\n",
       "\t<tr><th scope=col>&lt;dbl&gt;</th><th scope=col>&lt;int&gt;</th><th scope=col>&lt;dbl&gt;</th></tr>\n",
       "</thead>\n",
       "<tbody>\n",
       "\t<tr><td>1.444581</td><td>3964</td><td>0.000364425</td></tr>\n",
       "</tbody>\n",
       "</table>\n"
      ],
      "text/latex": [
       "A data.frame: 1 × 3\n",
       "\\begin{tabular}{lll}\n",
       " sum & n & daily\\\\\n",
       " <dbl> & <int> & <dbl>\\\\\n",
       "\\hline\n",
       "\t 1.444581 & 3964 & 0.000364425\\\\\n",
       "\\end{tabular}\n"
      ],
      "text/markdown": [
       "\n",
       "A data.frame: 1 × 3\n",
       "\n",
       "| sum &lt;dbl&gt; | n &lt;int&gt; | daily &lt;dbl&gt; |\n",
       "|---|---|---|\n",
       "| 1.444581 | 3964 | 0.000364425 |\n",
       "\n"
      ],
      "text/plain": [
       "  sum      n    daily      \n",
       "1 1.444581 3964 0.000364425"
      ]
     },
     "metadata": {},
     "output_type": "display_data"
    }
   ],
   "source": [
    "df %>% summarise(sum=sum(no_model_profit), n=n(), daily=sum/n)"
   ]
  },
  {
   "cell_type": "code",
   "execution_count": 34,
   "metadata": {
    "vscode": {
     "languageId": "r"
    }
   },
   "outputs": [],
   "source": [
    "write.csv(df, 'tmp.csv')"
   ]
  },
  {
   "cell_type": "code",
   "execution_count": 208,
   "metadata": {
    "vscode": {
     "languageId": "r"
    }
   },
   "outputs": [
    {
     "data": {
      "text/html": [
       "125"
      ],
      "text/latex": [
       "125"
      ],
      "text/markdown": [
       "125"
      ],
      "text/plain": [
       "[1] 125"
      ]
     },
     "metadata": {},
     "output_type": "display_data"
    },
    {
     "data": {
      "text/html": [
       "353.553390593274"
      ],
      "text/latex": [
       "353.553390593274"
      ],
      "text/markdown": [
       "353.553390593274"
      ],
      "text/plain": [
       "[1] 353.5534"
      ]
     },
     "metadata": {},
     "output_type": "display_data"
    }
   ],
   "source": [
    "samples <- c(0,0,0,0,0,0,0, 1000)\n",
    "mean_ <- mean(samples)\n",
    "sd_ <- sd(samples)\n",
    "\n",
    "mean_\n",
    "sd_"
   ]
  },
  {
   "cell_type": "code",
   "execution_count": 216,
   "metadata": {
    "vscode": {
     "languageId": "r"
    }
   },
   "outputs": [],
   "source": [
    "lik <- dnorm(samples, mean_, sd_)"
   ]
  },
  {
   "cell_type": "code",
   "execution_count": 217,
   "metadata": {
    "vscode": {
     "languageId": "r"
    }
   },
   "outputs": [
    {
     "data": {
      "text/html": [
       "<style>\n",
       ".list-inline {list-style: none; margin:0; padding: 0}\n",
       ".list-inline>li {display: inline-block}\n",
       ".list-inline>li:not(:last-child)::after {content: \"\\00b7\"; padding: 0 .5ex}\n",
       "</style>\n",
       "<ol class=list-inline><li>0.00106001412937611</li><li>0.00106001412937611</li><li>0.00106001412937611</li><li>0.00106001412937611</li><li>0.00106001412937611</li><li>0.00106001412937611</li><li>0.00106001412937611</li><li>5.27749959301504e-05</li></ol>\n"
      ],
      "text/latex": [
       "\\begin{enumerate*}\n",
       "\\item 0.00106001412937611\n",
       "\\item 0.00106001412937611\n",
       "\\item 0.00106001412937611\n",
       "\\item 0.00106001412937611\n",
       "\\item 0.00106001412937611\n",
       "\\item 0.00106001412937611\n",
       "\\item 0.00106001412937611\n",
       "\\item 5.27749959301504e-05\n",
       "\\end{enumerate*}\n"
      ],
      "text/markdown": [
       "1. 0.00106001412937611\n",
       "2. 0.00106001412937611\n",
       "3. 0.00106001412937611\n",
       "4. 0.00106001412937611\n",
       "5. 0.00106001412937611\n",
       "6. 0.00106001412937611\n",
       "7. 0.00106001412937611\n",
       "8. 5.27749959301504e-05\n",
       "\n",
       "\n"
      ],
      "text/plain": [
       "[1] 0.001060014 0.001060014 0.001060014 0.001060014 0.001060014 0.001060014\n",
       "[7] 0.001060014 0.000052775"
      ]
     },
     "metadata": {},
     "output_type": "display_data"
    }
   ],
   "source": [
    "lik"
   ]
  },
  {
   "cell_type": "code",
   "execution_count": 211,
   "metadata": {
    "vscode": {
     "languageId": "r"
    }
   },
   "outputs": [
    {
     "data": {
      "text/html": [
       "-57.7957843307751"
      ],
      "text/latex": [
       "-57.7957843307751"
      ],
      "text/markdown": [
       "-57.7957843307751"
      ],
      "text/plain": [
       "[1] -57.79578"
      ]
     },
     "metadata": {},
     "output_type": "display_data"
    }
   ],
   "source": [
    "sum(log(lik))"
   ]
  },
  {
   "cell_type": "code",
   "execution_count": 212,
   "metadata": {
    "vscode": {
     "languageId": "r"
    }
   },
   "outputs": [
    {
     "data": {
      "text/html": [
       "<dl>\n",
       "\t<dt>$par</dt>\n",
       "\t\t<dd><style>\n",
       ".list-inline {list-style: none; margin:0; padding: 0}\n",
       ".list-inline>li {display: inline-block}\n",
       ".list-inline>li:not(:last-child)::after {content: \"\\00b7\"; padding: 0 .5ex}\n",
       "</style>\n",
       "<ol class=list-inline><li>124.945098860934</li><li>330.719801371731</li></ol>\n",
       "</dd>\n",
       "\t<dt>$value</dt>\n",
       "\t\t<dd>57.7616588705653</dd>\n",
       "\t<dt>$counts</dt>\n",
       "\t\t<dd><style>\n",
       ".dl-inline {width: auto; margin:0; padding: 0}\n",
       ".dl-inline>dt, .dl-inline>dd {float: none; width: auto; display: inline-block}\n",
       ".dl-inline>dt::after {content: \":\\0020\"; padding-right: .5ex}\n",
       ".dl-inline>dt:not(:first-of-type) {padding-left: .5ex}\n",
       "</style><dl class=dl-inline><dt>function</dt><dd>39</dd><dt>gradient</dt><dd>&lt;NA&gt;</dd></dl>\n",
       "</dd>\n",
       "\t<dt>$convergence</dt>\n",
       "\t\t<dd>0</dd>\n",
       "\t<dt>$message</dt>\n",
       "\t\t<dd>NULL</dd>\n",
       "</dl>\n"
      ],
      "text/latex": [
       "\\begin{description}\n",
       "\\item[\\$par] \\begin{enumerate*}\n",
       "\\item 124.945098860934\n",
       "\\item 330.719801371731\n",
       "\\end{enumerate*}\n",
       "\n",
       "\\item[\\$value] 57.7616588705653\n",
       "\\item[\\$counts] \\begin{description*}\n",
       "\\item[function] 39\n",
       "\\item[gradient] <NA>\n",
       "\\end{description*}\n",
       "\n",
       "\\item[\\$convergence] 0\n",
       "\\item[\\$message] NULL\n",
       "\\end{description}\n"
      ],
      "text/markdown": [
       "$par\n",
       ":   1. 124.945098860934\n",
       "2. 330.719801371731\n",
       "\n",
       "\n",
       "\n",
       "$value\n",
       ":   57.7616588705653\n",
       "$counts\n",
       ":   function\n",
       ":   39gradient\n",
       ":   &lt;NA&gt;\n",
       "\n",
       "\n",
       "$convergence\n",
       ":   0\n",
       "$message\n",
       ":   NULL\n",
       "\n",
       "\n"
      ],
      "text/plain": [
       "$par\n",
       "[1] 124.9451 330.7198\n",
       "\n",
       "$value\n",
       "[1] 57.76166\n",
       "\n",
       "$counts\n",
       "function gradient \n",
       "      39       NA \n",
       "\n",
       "$convergence\n",
       "[1] 0\n",
       "\n",
       "$message\n",
       "NULL\n"
      ]
     },
     "metadata": {},
     "output_type": "display_data"
    }
   ],
   "source": [
    "optim(par=c(111, 296), function(par) -sum(log(dnorm(samples, par[1], par[2]))))"
   ]
  },
  {
   "cell_type": "code",
   "execution_count": 214,
   "metadata": {
    "vscode": {
     "languageId": "r"
    }
   },
   "outputs": [
    {
     "data": {
      "text/html": [
       "<style>\n",
       ".list-inline {list-style: none; margin:0; padding: 0}\n",
       ".list-inline>li {display: inline-block}\n",
       ".list-inline>li:not(:last-child)::after {content: \"\\00b7\"; padding: 0 .5ex}\n",
       "</style>\n",
       "<ol class=list-inline><li>0.00112331331683777</li><li>0.00112331331683777</li><li>0.00112331331683777</li><li>0.00112331331683777</li><li>0.00112331331683777</li><li>0.00112331331683777</li><li>0.00112331331683777</li><li>3.63851200688211e-05</li></ol>\n"
      ],
      "text/latex": [
       "\\begin{enumerate*}\n",
       "\\item 0.00112331331683777\n",
       "\\item 0.00112331331683777\n",
       "\\item 0.00112331331683777\n",
       "\\item 0.00112331331683777\n",
       "\\item 0.00112331331683777\n",
       "\\item 0.00112331331683777\n",
       "\\item 0.00112331331683777\n",
       "\\item 3.63851200688211e-05\n",
       "\\end{enumerate*}\n"
      ],
      "text/markdown": [
       "1. 0.00112331331683777\n",
       "2. 0.00112331331683777\n",
       "3. 0.00112331331683777\n",
       "4. 0.00112331331683777\n",
       "5. 0.00112331331683777\n",
       "6. 0.00112331331683777\n",
       "7. 0.00112331331683777\n",
       "8. 3.63851200688211e-05\n",
       "\n",
       "\n"
      ],
      "text/plain": [
       "[1] 1.123313e-03 1.123313e-03 1.123313e-03 1.123313e-03 1.123313e-03\n",
       "[6] 1.123313e-03 1.123313e-03 3.638512e-05"
      ]
     },
     "metadata": {},
     "output_type": "display_data"
    }
   ],
   "source": [
    "dnorm(samples, 124.9, 330.7)"
   ]
  },
  {
   "cell_type": "code",
   "execution_count": 218,
   "metadata": {
    "vscode": {
     "languageId": "r"
    }
   },
   "outputs": [
    {
     "data": {
      "text/html": [
       "0.00363851200688211"
      ],
      "text/latex": [
       "0.00363851200688211"
      ],
      "text/markdown": [
       "0.00363851200688211"
      ],
      "text/plain": [
       "[1] 0.003638512"
      ]
     },
     "metadata": {},
     "output_type": "display_data"
    }
   ],
   "source": [
    "3.63851200688211e-05 * 100\n"
   ]
  },
  {
   "cell_type": "code",
   "execution_count": null,
   "metadata": {
    "vscode": {
     "languageId": "r"
    }
   },
   "outputs": [],
   "source": []
  }
 ],
 "metadata": {
  "kernelspec": {
   "display_name": "R",
   "language": "R",
   "name": "ir"
  },
  "language_info": {
   "codemirror_mode": "r",
   "file_extension": ".r",
   "mimetype": "text/x-r-source",
   "name": "R",
   "pygments_lexer": "r",
   "version": "4.2.1"
  },
  "orig_nbformat": 4,
  "vscode": {
   "interpreter": {
    "hash": "31f2aee4e71d21fbe5cf8b01ff0e069b9275f58929596ceb00d14d90e3e16cd6"
   }
  }
 },
 "nbformat": 4,
 "nbformat_minor": 2
}

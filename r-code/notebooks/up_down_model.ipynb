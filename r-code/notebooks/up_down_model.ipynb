{
 "cells": [
  {
   "cell_type": "markdown",
   "id": "52e1fcda-b747-412f-a2ad-a2305d493a2a",
   "metadata": {},
   "source": [
    "A up down model."
   ]
  },
  {
   "cell_type": "code",
   "execution_count": null,
   "id": "e45cfc79",
   "metadata": {
    "vscode": {
     "languageId": "r"
    }
   },
   "outputs": [],
   "source": [
    "library(stringr)"
   ]
  },
  {
   "cell_type": "code",
   "execution_count": null,
   "id": "a7194e0b",
   "metadata": {
    "vscode": {
     "languageId": "r"
    }
   },
   "outputs": [],
   "source": [
    "file_list <- list.files('./data')"
   ]
  },
  {
   "cell_type": "code",
   "execution_count": null,
   "id": "0c0b407a",
   "metadata": {
    "vscode": {
     "languageId": "r"
    }
   },
   "outputs": [],
   "source": [
    "name_list <- str_replace_all(file_list, '\\\\.rds','')"
   ]
  },
  {
   "cell_type": "code",
   "execution_count": null,
   "id": "e0ddc4ff",
   "metadata": {
    "vscode": {
     "languageId": "r"
    }
   },
   "outputs": [],
   "source": [
    "Sys.time()"
   ]
  },
  {
   "cell_type": "code",
   "execution_count": null,
   "id": "20a416a5",
   "metadata": {
    "vscode": {
     "languageId": "r"
    }
   },
   "outputs": [],
   "source": [
    "write_log <- function(text) {\n",
    "  text <- paste(Sys.time(), text)\n",
    "  write(text,file=\"mylog.txt\",append=TRUE)\n",
    "}\n",
    "\n",
    "# randomely get k samples\n",
    "# make k samples, each sample have n words from w. with the probablity prob.\n",
    "make_samples <- function(w, n, k, prob) {\n",
    "  results <- list()\n",
    "  strings <- c()\n",
    "  while(length(results) < k) {\n",
    "    candidate <- sample(w, size=n, replace=FALSE, prob=prob)\n",
    "    candidate.str <- paste0(candidate, sep='', collapse='-')\n",
    "    if (!candidate.str %in% strings) {\n",
    "      strings <- append(strings, candidate.str)\n",
    "      results <- append(results, list(candidate))\n",
    "    }\n",
    "  }\n",
    "  return(results)\n",
    "}\n",
    "\n",
    "get_prob_weight <- function(name, HHt_val, GGt_val,\n",
    "  stop_loss, sell_dev, buy_dev, courtage) {\n",
    "    df <- data_prep(name, HHt_val=HHt_val, GGt_val=GGt_val)\n",
    "    df <- process_one(df, stop_loss, sell_dev, buy_dev, courtage)\n",
    "    my_summary <- df %>% filter(trade_profit != 0 | hold != 0) %>% summarise(sum=sum(trade_profit), n=n(), daily=sum/n)\n",
    "    my_summary$daily\n",
    "}\n",
    "\n",
    "get_sample_profit <- function(name_list, HHt_val, GGt_val,\n",
    "  stop_loss, sell_dev, \n",
    "  buy_dev, courtage) {\n",
    "    df <- data_prep_multiple(name_list, HHt_val=HHt_val, GGt_val=GGt_val)\n",
    "    df <- process_multiple(df, stop_loss, sell_dev, buy_dev, courtage)\n",
    "    name_list_str <- paste0(name_list, sep='', collapse='-')\n",
    "    write.csv(df, str_glue('{name_list_str}.csv'))\n",
    "\n",
    "    my_summary <- df %>% mutate(id=row_number()) %>% mutate(range=cut(id, seq(0, max(id)+252, 252))) %>% \n",
    "      group_by(range) %>% summarise(sum=sum(trade_profit))\n",
    "    mean(my_summary$sum) - 0.5 * sd(my_summary$sum)\n",
    "\n",
    "}\n",
    "\n"
   ]
  },
  {
   "cell_type": "code",
   "execution_count": null,
   "id": "bf607273",
   "metadata": {
    "vscode": {
     "languageId": "r"
    }
   },
   "outputs": [],
   "source": [
    "write_log('test')"
   ]
  },
  {
   "cell_type": "code",
   "execution_count": null,
   "id": "dfc8ce45",
   "metadata": {
    "vscode": {
     "languageId": "r"
    }
   },
   "outputs": [],
   "source": [
    "# for each par, run k samples, each sample contains n stocks.\n",
    "# the return value is the annual profit\n",
    "source('./util.r')\n",
    "highest <- 0.17\n",
    "my_optim <- function(par, k, n, name_list, courtage) {\n",
    "    write_log(str_glue('Starting calculating weights: par:{par[1]}, {par[2]}, {par[3]}, {par[4]}, {par[5]}'))\n",
    "    weight_list <- lapply(name_list, get_prob_weight, HHt_val=par[1], GGt_val=par[2],\n",
    "      stop_loss=par[3], \n",
    "      sell_dev=par[4], \n",
    "      buy_dev=-par[5], \n",
    "      courtage=0.00089)\n",
    "    df_weight <- data.frame(name=unlist(name_list), weight=as.numeric(weight_list)) %>%\n",
    "      filter(weight > 0)\n",
    "    perm_samples <- make_samples(df_weight$name, n, k, df_weight$weight)\n",
    "    profits <- c()\n",
    "    write_log('Calculating weights completed')\n",
    "    for (sample in perm_samples) {\n",
    "      sample_str <- paste0(sample, collapse='-')\n",
    "      profit <- get_sample_profit(sample, par[1], par[2], par[3], par[4],\n",
    "        par[5], courtage)\n",
    "      if (profit > highest) {\n",
    "        highest <<- profit\n",
    "        write_log(str_glue('Find new high: {profit} sample: {sample_str} par:{par[1]}, {par[2]}, {par[3]}, {par[4]}, {par[5]}'))\n",
    "      } else {\n",
    "        # delete csv file\n",
    "        file.remove(str_glue('{name_list_str}.csv'))\n",
    "      }\n",
    "      profits <- append(profits, profit)\n",
    "    }\n",
    "    \n",
    "    return(mean(profits, na.rm=TRUE))\n",
    "}\n",
    "\n",
    "fit <- optim(par=c(0.08, 0.08, 0.80, 0.03, -0.03), function(par) \n",
    "  -my_optim(par, k=100, n=32, name_list=name_list, courtage=0.00089),\n",
    "  control=list(maxit=500, parscale=c(1, 1, 10, 1, 1)))\n",
    "fit"
   ]
  },
  {
   "cell_type": "code",
   "execution_count": null,
   "id": "e7f992d9",
   "metadata": {
    "vscode": {
     "languageId": "r"
    }
   },
   "outputs": [],
   "source": [
    "\n",
    "\n",
    "perm_samples <- make_samples(df_weight$name, 32, 120, df_weight$weight)\n",
    "perm_samples"
   ]
  },
  {
   "cell_type": "code",
   "execution_count": null,
   "id": "79d881d6",
   "metadata": {
    "vscode": {
     "languageId": "r"
    }
   },
   "outputs": [],
   "source": [
    "source('./util.r')\n",
    "highest <- -99999\n",
    "get_prob_weight <- function(name, HHt_val, GGt_val,\n",
    "  stop_loss, sell_dev, buy_dev, courtage) {\n",
    "    df <- data_prep(name, HHt_val=HHt_val, GGt_val=GGt_val)\n",
    "    df <- process_one(df, stop_loss, sell_dev, buy_dev, courtage)\n",
    "    my_summary <- df %>% filter(trade_profit != 0 | hold != 0) %>% summarise(sum=sum(trade_profit), n=n(), daily=sum/n)\n",
    "    my_summary$daily\n",
    "}\n",
    "\n",
    "\n",
    "get_par_score <- function(par, name_list, courtage) {\n",
    "  HHt_val <- par[1]\n",
    "  GGt_val <- par[2]\n",
    "  stop_loss <- par[3]\n",
    "  sell_dev <- par[4]\n",
    "  buy_dev <- par[5]\n",
    "  weight_list <- lapply(name_list, get_prob_weight, HHt_val, GGt_val,\n",
    "    stop_loss, \n",
    "  sell_dev, \n",
    "  buy_dev, \n",
    "  courtage)\n",
    "  weight_mean <- mean(as.numeric(weight_list), na.rm = TRUE)\n",
    "  weight_std <- sd(as.numeric(weight_list), na.rm=TRUE)\n",
    "  score <- weight_mean - 0.2 * weight_std + 0.0001 * log(stop_loss)\n",
    "  if (score > highest) {\n",
    "    highest <<- score\n",
    "    log_text <- str_glue('new high found: score {score}, mean: {weight_mean} , std: {weight_std} par:{par[1]}, {par[2]}, {par[3]}, {par[4]}, {par[5]}')\n",
    "    print(log_text)\n",
    "    write(log_text,file=\"mylog.txt\",append=TRUE)\n",
    "  }\n",
    "  return(score)\n",
    "}\n",
    "\n",
    "fit <- optim(par=c(0.08, 0.08, 0.80, 0.03, -0.03), function(par) \n",
    "  -get_par_score(par, name_list=name_list, courtage=0.00089),\n",
    "  control=list(maxit=500, parscale=c(1,1,10, 1, 1)))\n",
    "fit"
   ]
  },
  {
   "cell_type": "code",
   "execution_count": null,
   "id": "25ebbcdf",
   "metadata": {
    "vscode": {
     "languageId": "r"
    }
   },
   "outputs": [],
   "source": [
    "get_par_score(fit$par, name_list=name_list, courtage=0.00089)"
   ]
  },
  {
   "cell_type": "code",
   "execution_count": null,
   "id": "284b1556",
   "metadata": {
    "vscode": {
     "languageId": "r"
    }
   },
   "outputs": [],
   "source": []
  },
  {
   "cell_type": "code",
   "execution_count": null,
   "id": "b5439f47",
   "metadata": {
    "vscode": {
     "languageId": "r"
    }
   },
   "outputs": [],
   "source": [
    "\n",
    "\n",
    "weight_list <- lapply(name_list, get_prob_weight, HHt_val=0.08919831, GGt_val=0.10930187,\n",
    "    stop_loss=0.90204186, \n",
    "  sell_dev=0.03497496, \n",
    "  buy_dev=-0.09173406, \n",
    "  courtage=0.00089)\n",
    "\n",
    "weight_mean <- mean(weight_list)\n",
    "weight_std <- sd(weight_list)\n",
    "\n"
   ]
  },
  {
   "cell_type": "code",
   "execution_count": null,
   "id": "56d0041d",
   "metadata": {
    "vscode": {
     "languageId": "r"
    }
   },
   "outputs": [],
   "source": [
    "\n",
    "df_weight <- data.frame(name=unlist(name_list), weight=as.numeric(weight_list)) %>%\n",
    "  filter(weight > 0)\n",
    "\n"
   ]
  },
  {
   "cell_type": "code",
   "execution_count": null,
   "id": "59a6a206",
   "metadata": {
    "vscode": {
     "languageId": "r"
    }
   },
   "outputs": [],
   "source": [
    "\n",
    "\n",
    "\n",
    "mean(as.numeric(weight_list), na.rm=TRUE)"
   ]
  },
  {
   "cell_type": "code",
   "execution_count": null,
   "id": "16034f8b",
   "metadata": {
    "vscode": {
     "languageId": "r"
    }
   },
   "outputs": [],
   "source": [
    "df_weight"
   ]
  },
  {
   "cell_type": "code",
   "execution_count": null,
   "id": "4e3c6e0a",
   "metadata": {
    "vscode": {
     "languageId": "r"
    }
   },
   "outputs": [],
   "source": [
    "source('./util.r')\n",
    "get_sample_profit <- function(name_list, HHt_val, GGt_val,\n",
    "  stop_loss, sell_dev, \n",
    "  buy_dev, courtage) {\n",
    "    df <- data_prep_multiple(name_list, HHt_val=HHt_val, GGt_val=GGt_val)\n",
    "    df <- process_multiple(df, stop_loss, sell_dev, buy_dev, courtage)\n",
    "    name_list_str <- paste0(name_list, sep='', collapse='-')\n",
    "    write.csv(df, str_glue('{name_list_str}.csv'))\n",
    "\n",
    "    my_summary <- df %>% mutate(id=row_number()) %>% mutate(range=cut(id, seq(0, max(id)+252, 252))) %>% \n",
    "      group_by(range) %>% summarise(sum=sum(trade_profit))\n",
    "    mean(my_summary$sum) - 0.5 * sd(my_summary$sum)\n",
    "\n",
    "}\n",
    "\n",
    "df <- get_sample_profit(perm_samples_list[[1]][[1]], HHt_val=0.08919831, GGt_val=0.10930187,\n",
    "      stop_loss=0.90204186, \n",
    "      sell_dev=0.03497496, \n",
    "      buy_dev=-0.09173406, \n",
    "      courtage=0.00089)\n"
   ]
  },
  {
   "cell_type": "code",
   "execution_count": null,
   "id": "6468ee95",
   "metadata": {
    "vscode": {
     "languageId": "r"
    }
   },
   "outputs": [],
   "source": [
    "\n",
    "perm_samples_list <- split(perm_samples, ceiling(seq_along(perm_samples)/3))\n",
    "#perm_samples_list\n",
    "perm_samples_list[[1]][[1]]\n"
   ]
  },
  {
   "cell_type": "code",
   "execution_count": null,
   "id": "7e8b216b",
   "metadata": {
    "vscode": {
     "languageId": "r"
    }
   },
   "outputs": [],
   "source": [
    "source('./util.r')\n",
    "df <- data_prep_multiple(perm_samples_list[[1]][[1]], \n",
    "  HHt_val=0.08919831, GGt_val=0.10930187)\n",
    "\n",
    "write.csv(df, 'tmp.csv')"
   ]
  },
  {
   "cell_type": "code",
   "execution_count": null,
   "id": "a59a6333",
   "metadata": {
    "vscode": {
     "languageId": "r"
    }
   },
   "outputs": [],
   "source": [
    "\n"
   ]
  },
  {
   "cell_type": "code",
   "execution_count": null,
   "id": "0031373a",
   "metadata": {
    "vscode": {
     "languageId": "r"
    }
   },
   "outputs": [],
   "source": [
    "library(doParallel)\n",
    "# parrellel test\n",
    "my.cluster <- parallel::makeCluster(\n",
    "  3,\n",
    "  type = \"FORK\"\n",
    ")\n",
    "sek_df <- get_sek_usd()\n",
    "doParallel::registerDoParallel(my.cluster)\n",
    "\n",
    "get_sample_profit_dummy <- function(name_list, HHt_val, GGt_val,\n",
    "  stop_loss, sell_dev, \n",
    "  buy_dev, courtage, j) {\n",
    "    return(runif(1, j, 7.5))\n",
    "}\n",
    "\n",
    "all_resuls <- c()\n",
    "highest <- 0\n",
    "for (i in seq_along(perm_samples_list)) {\n",
    "  samples_sub_list <- perm_samples_list[[i]]\n",
    "  results <- foreach(j = seq_along(samples_sub_list), .combine='c') %do% {\n",
    "    failed <- FALSE\n",
    "    res <- tryCatch(lapply(samples_sub_list[j], get_sample_profit, HHt_val=0.08919831, GGt_val=0.10930187,\n",
    "      stop_loss=0.90204186, \n",
    "      sell_dev=0.03497496, \n",
    "      buy_dev=-0.09173406, \n",
    "      courtage=0.00089), error=function(e) failed<<-TRUE)\n",
    "    if (failed) -1 else res\n",
    "  }\n",
    "\n",
    "  df_results <- data.frame(cbind(lapply(samples_sub_list, function(x) paste0(x, collapse='-')), results))\n",
    "  colnames(df_results) <- c('perm', 'profits')\n",
    "  df_results <- df_results %>% arrange(desc(profits))\n",
    "  perm <- df_results[1,'perm']\n",
    "  profits <- df_results[1,'profits']\n",
    "  if (profits > highest) {\n",
    "    highest <- profits\n",
    "    log_text <- str_glue('new high found: perm {perm}, profit:{profits}')\n",
    "    print(log_text)\n",
    "    write(log_text,file=\"mylog.txt\",append=TRUE)\n",
    "  }\n",
    "\n",
    "  all_resuls <- c(all_resuls, results)\n",
    "\n",
    "  #saveRDS(results, file=str_glue(\"results_samples_list_{i}.rds\"))\n",
    "}\n"
   ]
  },
  {
   "cell_type": "code",
   "execution_count": null,
   "id": "a446fa31",
   "metadata": {
    "vscode": {
     "languageId": "r"
    }
   },
   "outputs": [],
   "source": [
    "all_resuls"
   ]
  },
  {
   "cell_type": "code",
   "execution_count": null,
   "id": "7c204031",
   "metadata": {
    "vscode": {
     "languageId": "r"
    }
   },
   "outputs": [],
   "source": [
    "\n",
    "\n",
    "stopCluster(my.cluster)"
   ]
  },
  {
   "cell_type": "code",
   "execution_count": null,
   "id": "2bd2103b",
   "metadata": {
    "vscode": {
     "languageId": "r"
    }
   },
   "outputs": [],
   "source": [
    "perm_samples"
   ]
  },
  {
   "cell_type": "code",
   "execution_count": 17,
   "id": "4d28109b-a529-4b74-98f1-499d699fb077",
   "metadata": {
    "vscode": {
     "languageId": "r"
    }
   },
   "outputs": [
    {
     "data": {
      "text/html": [
       "4.24026276106261"
      ],
      "text/latex": [
       "4.24026276106261"
      ],
      "text/markdown": [
       "4.24026276106261"
      ],
      "text/plain": [
       "[1] 4.240263"
      ]
     },
     "metadata": {},
     "output_type": "display_data"
    }
   ],
   "source": [
    "#-0.09173406, 0.03497496, 0.08919831, 0.10930187, 0.90204186  NXPI\n",
    "source('util.r')\n",
    "\n",
    "df <- data_prep_multiple(c('DHR', 'CEG', 'V'), HHt_val=0.0876646450332911, GGt_val=0.096818683582795, isNYSE=TRUE)\n",
    "df <- process_multiple(df, stop_loss=0.754701556390758, \n",
    "  sell_dev=0.0211575532288305, \n",
    "  buy_dev=-0.0190314759778294, \n",
    "  courtage=0.00079)\n",
    "\n",
    "\n",
    "\n",
    "my_summary <- df %>% filter(trade_profit != 0 | hold != 0) %>% summarise(sum=sum(trade_profit))\n",
    "my_summary$sum\n"
   ]
  },
  {
   "cell_type": "code",
   "execution_count": 16,
   "id": "02f548f7",
   "metadata": {
    "vscode": {
     "languageId": "r"
    }
   },
   "outputs": [
    {
     "data": {
      "text/html": [
       "4.45546791390902"
      ],
      "text/latex": [
       "4.45546791390902"
      ],
      "text/markdown": [
       "4.45546791390902"
      ],
      "text/plain": [
       "[1] 4.455468"
      ]
     },
     "metadata": {},
     "output_type": "display_data"
    }
   ],
   "source": [
    "month = substr(rownames(df), 1,7)\n",
    "df$month = month\n",
    "my_summary2 <- df %>% group_by(month) %>% mutate(total_trade_times=cumsum(trade_times)) %>% \n",
    "filter(total_trade_times <= 10) %>% summarise(sum=sum(trade_profit))\n",
    "\n",
    "sum(my_summary2$sum)\n"
   ]
  },
  {
   "cell_type": "code",
   "execution_count": null,
   "id": "59ffb942",
   "metadata": {
    "vscode": {
     "languageId": "r"
    }
   },
   "outputs": [],
   "source": [
    "write.csv(df, 'aapl.csv')"
   ]
  },
  {
   "cell_type": "code",
   "execution_count": null,
   "id": "578f7216",
   "metadata": {
    "vscode": {
     "languageId": "r"
    }
   },
   "outputs": [],
   "source": [
    "source('util.r')\n",
    "df <- data_prep(c('AAPL'), HHt_val=0.08919831, GGt_val=0.10930187)\n",
    "df <- process_one(df,\n",
    "  stop_loss=0.90204186, \n",
    "  sell_dev=0.03497496, \n",
    "  buy_dev=-0.09173406, \n",
    "  courtage=0.00089)\n",
    "write.csv(df, 'aapl.csv')\n"
   ]
  },
  {
   "cell_type": "code",
   "execution_count": null,
   "id": "e18d31c1",
   "metadata": {
    "vscode": {
     "languageId": "r"
    }
   },
   "outputs": [],
   "source": [
    "my_summary <- df %>% filter(trade_profit != 0 | hold != 0) %>% summarise(sum=sum(trade_profit), n=n(), daily=sum/n)\n",
    "my_summary$daily"
   ]
  },
  {
   "cell_type": "code",
   "execution_count": null,
   "id": "5f3aedab",
   "metadata": {
    "vscode": {
     "languageId": "r"
    }
   },
   "outputs": [],
   "source": []
  },
  {
   "cell_type": "code",
   "execution_count": null,
   "id": "99259ed0",
   "metadata": {
    "vscode": {
     "languageId": "r"
    }
   },
   "outputs": [],
   "source": [
    "my_summary <- df %>% mutate(id=row_number()) %>% mutate(range=cut(id, seq(0, max(id)+252, 252))) %>% \n",
    "  filter(trade_profit != 0 | hold == 1) %>% \n",
    "  group_by(range) %>% summarise(sum=sum(trade_profit), n=n(), daily=sum/n)\n",
    "\n",
    "daily_mean <- mean(my_summary$daily)\n",
    "daily_sd <- sd(my_summary$daily)\n",
    "daily_mean"
   ]
  },
  {
   "cell_type": "code",
   "execution_count": null,
   "id": "326bd338",
   "metadata": {
    "vscode": {
     "languageId": "r"
    }
   },
   "outputs": [],
   "source": [
    "my_summary"
   ]
  },
  {
   "cell_type": "code",
   "execution_count": null,
   "id": "2bf88ba7",
   "metadata": {
    "vscode": {
     "languageId": "r"
    }
   },
   "outputs": [],
   "source": [
    "a=NULL\n",
    "is.null(a)"
   ]
  },
  {
   "cell_type": "code",
   "execution_count": null,
   "id": "25198026",
   "metadata": {
    "vscode": {
     "languageId": "r"
    }
   },
   "outputs": [],
   "source": [
    "source('util.r')\n",
    "df <- data_prep_multiple(c('T', 'AAPL'), HHt_val=0.08919831, GGt_val=0.10930187)\n",
    "df <- process_multiple(df, HHt_val=0.08919831, GGt_val=0.10930187,\n",
    "  stop_loss=0.90204186, \n",
    "  sell_dev=0.03497496, \n",
    "  buy_dev=-0.09173406, \n",
    "  courtage=0.00089)\n",
    "write.csv(df, 't-aapl.csv')"
   ]
  },
  {
   "cell_type": "code",
   "execution_count": null,
   "id": "1f735c8d",
   "metadata": {
    "vscode": {
     "languageId": "r"
    }
   },
   "outputs": [],
   "source": [
    "source('util.r')\n",
    "df <- data_prep_multiple(c('AAPL', 'T'), HHt_val=0.08919831, GGt_val=0.10930187)\n",
    "df <- process_multiple(df, HHt_val=0.08919831, GGt_val=0.10930187,\n",
    "  stop_loss=0.90204186, \n",
    "  sell_dev=0.03497496, \n",
    "  buy_dev=-0.09173406, \n",
    "  courtage=0.00089)\n",
    "write.csv(df, 'aapl-t.csv')"
   ]
  },
  {
   "cell_type": "code",
   "execution_count": null,
   "id": "c6954080",
   "metadata": {
    "vscode": {
     "languageId": "r"
    }
   },
   "outputs": [],
   "source": [
    "df %>% mutate(id=row_number()) %>% mutate(range=cut(id, seq(0, max(id)+252, 252))) %>% \n",
    "  filter(trade_profit != 0 | hold == 1) %>% \n",
    "  group_by(range) %>% summarise(sum=sum(trade_profit), n=n())"
   ]
  },
  {
   "cell_type": "code",
   "execution_count": null,
   "id": "f00e6018",
   "metadata": {
    "vscode": {
     "languageId": "r"
    }
   },
   "outputs": [],
   "source": [
    "source('util.r')\n",
    "df <- data_prep_multiple(c('AAPL', 'T'), HHt_val=0.08919831, GGt_val=0.10930187)"
   ]
  },
  {
   "cell_type": "code",
   "execution_count": null,
   "id": "453471d5",
   "metadata": {
    "vscode": {
     "languageId": "r"
    }
   },
   "outputs": [],
   "source": [
    "head(data_prep('MSFT'))"
   ]
  },
  {
   "cell_type": "code",
   "execution_count": null,
   "id": "61b10aff",
   "metadata": {
    "vscode": {
     "languageId": "r"
    }
   },
   "outputs": [],
   "source": [
    "head(data.frame(readRDS(file=str_glue('data/AAPL.rds'))))"
   ]
  },
  {
   "cell_type": "code",
   "execution_count": null,
   "id": "80745efe",
   "metadata": {
    "vscode": {
     "languageId": "r"
    }
   },
   "outputs": [],
   "source": [
    "head(df)"
   ]
  },
  {
   "cell_type": "code",
   "execution_count": null,
   "id": "79c63d9c",
   "metadata": {
    "vscode": {
     "languageId": "r"
    }
   },
   "outputs": [],
   "source": []
  },
  {
   "cell_type": "code",
   "execution_count": null,
   "id": "30247f21",
   "metadata": {
    "vscode": {
     "languageId": "r"
    }
   },
   "outputs": [],
   "source": [
    "source('util.r')\n",
    "df <- data_prep_multiple(c('AAPL', 'T'), HHt_val=0.08919831, GGt_val=0.10930187)\n",
    "df <- process_multiple(df, HHt_val=0.08919831, GGt_val=0.10930187,\n",
    "  stop_loss=0.90204186, \n",
    "  sell_dev=0.03497496, \n",
    "  buy_dev=-0.09173406, \n",
    "  courtage=0.00089)\n",
    "write.csv(df, 'aapl-t.csv')"
   ]
  },
  {
   "cell_type": "code",
   "execution_count": null,
   "id": "8599d361",
   "metadata": {
    "vscode": {
     "languageId": "r"
    }
   },
   "outputs": [],
   "source": [
    "a <- c('aa.b','cc.b','dd.bb','dd.cc')\n",
    "unique(str_replace(a, '\\\\..*', ''))"
   ]
  },
  {
   "cell_type": "code",
   "execution_count": null,
   "id": "df46e75b",
   "metadata": {
    "vscode": {
     "languageId": "r"
    }
   },
   "outputs": [],
   "source": [
    "c(0,0,0,'')"
   ]
  },
  {
   "cell_type": "code",
   "execution_count": null,
   "id": "18ad3dc2",
   "metadata": {
    "vscode": {
     "languageId": "r"
    }
   },
   "outputs": [],
   "source": [
    "a <- list(open=123)"
   ]
  },
  {
   "cell_type": "code",
   "execution_count": null,
   "id": "f72497e2",
   "metadata": {
    "vscode": {
     "languageId": "r"
    }
   },
   "outputs": [],
   "source": [
    "a[['open']]"
   ]
  },
  {
   "cell_type": "code",
   "execution_count": null,
   "id": "d2501f39",
   "metadata": {
    "vscode": {
     "languageId": "r"
    }
   },
   "outputs": [],
   "source": [
    "a <- 1 \n",
    "b <- 1\n",
    "c <- 1\n",
    "a <- b <- c <- 0\n"
   ]
  },
  {
   "cell_type": "code",
   "execution_count": null,
   "id": "665790c0",
   "metadata": {
    "vscode": {
     "languageId": "r"
    }
   },
   "outputs": [],
   "source": [
    "c"
   ]
  },
  {
   "cell_type": "code",
   "execution_count": null,
   "id": "b2f91e9d",
   "metadata": {
    "vscode": {
     "languageId": "r"
    }
   },
   "outputs": [],
   "source": [
    "bar <- 2\n",
    "\n",
    "foo <- function() {\n",
    "    bar <- 1\n",
    "}\n",
    "foo()"
   ]
  },
  {
   "cell_type": "code",
   "execution_count": null,
   "id": "0bd99539",
   "metadata": {
    "vscode": {
     "languageId": "r"
    }
   },
   "outputs": [],
   "source": [
    "bar"
   ]
  },
  {
   "cell_type": "code",
   "execution_count": null,
   "id": "41f80417",
   "metadata": {
    "vscode": {
     "languageId": "r"
    }
   },
   "outputs": [],
   "source": [
    "stocks <- 'TECH-BALL-ACN-RSG-ORLY-ABT-CTVA-GOOGL-AJG-ABC-VRSK-ED-JNJ-PGR-SJM-DVA-AON-WM-JBHT-NDSN-ITW-COST-DHR-CMS-TMO-FRC-STE-LLY-ADP-FDS-KEYS-AVGO'\n",
    "stocks <- str_split(stocks, '-', simplify=TRUE)\n",
    "pars <- '0.08, 0.088, 0.8, 0.03, -0.03'\n",
    "par <- as.numeric(str_split(pars, ',', simplify=TRUE))\n",
    "HHt <- par[1]\n",
    "GGt <- par[2]"
   ]
  },
  {
   "cell_type": "code",
   "execution_count": null,
   "id": "33d0a1b7",
   "metadata": {
    "vscode": {
     "languageId": "r"
    }
   },
   "outputs": [],
   "source": [
    "par"
   ]
  },
  {
   "cell_type": "code",
   "execution_count": 65,
   "id": "69d459d5",
   "metadata": {
    "vscode": {
     "languageId": "r"
    }
   },
   "outputs": [
    {
     "name": "stderr",
     "output_type": "stream",
     "text": [
      "Warning message:\n",
      "“SEK=X contains missing values. Some functions will not work if objects contain missing values in the middle of the series. Consider using na.omit(), na.approx(), na.fill(), etc to remove or replace them.”\n"
     ]
    },
    {
     "name": "stdout",
     "output_type": "stream",
     "text": [
      "dim(at): 1, nrow(df): 3970\n"
     ]
    },
    {
     "data": {
      "text/html": [
       "<style>\n",
       ".list-inline {list-style: none; margin:0; padding: 0}\n",
       ".list-inline>li {display: inline-block}\n",
       ".list-inline>li:not(:last-child)::after {content: \"\\00b7\"; padding: 0 .5ex}\n",
       "</style>\n",
       "<ol class=list-inline><li>'2022-10-07'</li><li>'3353.81792787857'</li></ol>\n"
      ],
      "text/latex": [
       "\\begin{enumerate*}\n",
       "\\item '2022-10-07'\n",
       "\\item '3353.81792787857'\n",
       "\\end{enumerate*}\n"
      ],
      "text/markdown": [
       "1. '2022-10-07'\n",
       "2. '3353.81792787857'\n",
       "\n",
       "\n"
      ],
      "text/plain": [
       "[1] \"2022-10-07\"       \"3353.81792787857\""
      ]
     },
     "metadata": {},
     "output_type": "display_data"
    }
   ],
   "source": [
    "source('./util.r')\n",
    "data_prep('TECH', start_date='2007-01-01', HHt=HHt, GGt=GGt, predict=TRUE)\n",
    "\n",
    "# validate if it is the latest.\n",
    "# find out last trade day, last working days but holidays.\n",
    "# holidays:\n",
    "# 22-11-24, 22-12-26, 23-1-2, 23-1-16, 23-2-20, 23-4-7, 23-5-29, 23-6-19, 23-7-4,23-9-4,23-11-23,23-12-25\n",
    "# 24-1-1, 24-1-15, 24-2-19, 24-3-29\n"
   ]
  },
  {
   "cell_type": "code",
   "execution_count": 80,
   "id": "a902762c",
   "metadata": {
    "vscode": {
     "languageId": "r"
    }
   },
   "outputs": [
    {
     "data": {
      "text/html": [
       "1"
      ],
      "text/latex": [
       "1"
      ],
      "text/markdown": [
       "1"
      ],
      "text/plain": [
       "[1] 1"
      ]
     },
     "metadata": {},
     "output_type": "display_data"
    }
   ],
   "source": [
    "# get last trading day\n",
    "wday(Sys.Date()) - 1"
   ]
  },
  {
   "cell_type": "code",
   "execution_count": null,
   "id": "fe277f2e",
   "metadata": {
    "vscode": {
     "languageId": "r"
    }
   },
   "outputs": [],
   "source": []
  }
 ],
 "metadata": {
  "kernelspec": {
   "display_name": "R",
   "language": "R",
   "name": "ir"
  },
  "language_info": {
   "codemirror_mode": "r",
   "file_extension": ".r",
   "mimetype": "text/x-r-source",
   "name": "R",
   "pygments_lexer": "r",
   "version": "4.2.1"
  }
 },
 "nbformat": 4,
 "nbformat_minor": 5
}

{
 "cells": [
  {
   "cell_type": "code",
   "execution_count": 43,
   "metadata": {},
   "outputs": [],
   "source": [
    "import pandas as pd\n",
    "import numpy as np\n",
    "df = pd.read_json('../exchange/USD-SEK/data')"
   ]
  },
  {
   "cell_type": "code",
   "execution_count": 48,
   "metadata": {},
   "outputs": [
    {
     "data": {
      "text/html": [
       "<div>\n",
       "<style scoped>\n",
       "    .dataframe tbody tr th:only-of-type {\n",
       "        vertical-align: middle;\n",
       "    }\n",
       "\n",
       "    .dataframe tbody tr th {\n",
       "        vertical-align: top;\n",
       "    }\n",
       "\n",
       "    .dataframe thead th {\n",
       "        text-align: right;\n",
       "    }\n",
       "</style>\n",
       "<table border=\"1\" class=\"dataframe\">\n",
       "  <thead>\n",
       "    <tr style=\"text-align: right;\">\n",
       "      <th></th>\n",
       "      <th>close</th>\n",
       "      <th>high</th>\n",
       "      <th>low</th>\n",
       "      <th>open</th>\n",
       "      <th>timestamp</th>\n",
       "      <th>volumn</th>\n",
       "      <th>close_log</th>\n",
       "      <th>time</th>\n",
       "      <th>close_log_linear</th>\n",
       "      <th>close_log_error</th>\n",
       "    </tr>\n",
       "  </thead>\n",
       "  <tbody>\n",
       "    <tr>\n",
       "      <th>0</th>\n",
       "      <td>6.7361</td>\n",
       "      <td>6.7714</td>\n",
       "      <td>6.7174</td>\n",
       "      <td>6.7369</td>\n",
       "      <td>2012-01-26</td>\n",
       "      <td>0.0</td>\n",
       "      <td>1.907481</td>\n",
       "      <td>2012-01-26</td>\n",
       "      <td>1.905177</td>\n",
       "      <td>0.002304</td>\n",
       "    </tr>\n",
       "    <tr>\n",
       "      <th>1</th>\n",
       "      <td>6.7841</td>\n",
       "      <td>6.7999</td>\n",
       "      <td>6.7579</td>\n",
       "      <td>6.7870</td>\n",
       "      <td>2012-01-27</td>\n",
       "      <td>0.0</td>\n",
       "      <td>1.914582</td>\n",
       "      <td>2012-01-27</td>\n",
       "      <td>1.905280</td>\n",
       "      <td>0.009302</td>\n",
       "    </tr>\n",
       "    <tr>\n",
       "      <th>2</th>\n",
       "      <td>6.7546</td>\n",
       "      <td>6.8024</td>\n",
       "      <td>6.7537</td>\n",
       "      <td>6.7548</td>\n",
       "      <td>2012-01-30</td>\n",
       "      <td>0.0</td>\n",
       "      <td>1.910224</td>\n",
       "      <td>2012-01-30</td>\n",
       "      <td>1.905587</td>\n",
       "      <td>0.004636</td>\n",
       "    </tr>\n",
       "    <tr>\n",
       "      <th>3</th>\n",
       "      <td>6.7465</td>\n",
       "      <td>6.8066</td>\n",
       "      <td>6.7163</td>\n",
       "      <td>6.7463</td>\n",
       "      <td>2012-01-31</td>\n",
       "      <td>0.0</td>\n",
       "      <td>1.909024</td>\n",
       "      <td>2012-01-31</td>\n",
       "      <td>1.905690</td>\n",
       "      <td>0.003334</td>\n",
       "    </tr>\n",
       "    <tr>\n",
       "      <th>4</th>\n",
       "      <td>6.8039</td>\n",
       "      <td>6.8208</td>\n",
       "      <td>6.7163</td>\n",
       "      <td>6.7463</td>\n",
       "      <td>2012-02-01</td>\n",
       "      <td>0.0</td>\n",
       "      <td>1.917496</td>\n",
       "      <td>2012-02-01</td>\n",
       "      <td>1.905792</td>\n",
       "      <td>0.011704</td>\n",
       "    </tr>\n",
       "  </tbody>\n",
       "</table>\n",
       "</div>"
      ],
      "text/plain": [
       "    close    high     low    open  timestamp  volumn  close_log       time  \\\n",
       "0  6.7361  6.7714  6.7174  6.7369 2012-01-26     0.0   1.907481 2012-01-26   \n",
       "1  6.7841  6.7999  6.7579  6.7870 2012-01-27     0.0   1.914582 2012-01-27   \n",
       "2  6.7546  6.8024  6.7537  6.7548 2012-01-30     0.0   1.910224 2012-01-30   \n",
       "3  6.7465  6.8066  6.7163  6.7463 2012-01-31     0.0   1.909024 2012-01-31   \n",
       "4  6.8039  6.8208  6.7163  6.7463 2012-02-01     0.0   1.917496 2012-02-01   \n",
       "\n",
       "   close_log_linear  close_log_error  \n",
       "0          1.905177         0.002304  \n",
       "1          1.905280         0.009302  \n",
       "2          1.905587         0.004636  \n",
       "3          1.905690         0.003334  \n",
       "4          1.905792         0.011704  "
      ]
     },
     "execution_count": 48,
     "metadata": {},
     "output_type": "execute_result"
    }
   ],
   "source": [
    "df.head()"
   ]
  },
  {
   "cell_type": "code",
   "execution_count": 45,
   "metadata": {},
   "outputs": [],
   "source": [
    "df = df.dropna() "
   ]
  },
  {
   "cell_type": "code",
   "execution_count": 46,
   "metadata": {},
   "outputs": [],
   "source": [
    "df['close_log']=np.log(df['close'])\n",
    "df['time']=pd.to_datetime(df['timestamp'],unit='s')"
   ]
  },
  {
   "cell_type": "code",
   "execution_count": 47,
   "metadata": {},
   "outputs": [
    {
     "data": {
      "text/plain": [
       "<matplotlib.axes._subplots.AxesSubplot at 0x7f621ba8d0f0>"
      ]
     },
     "execution_count": 47,
     "metadata": {},
     "output_type": "execute_result"
    },
    {
     "data": {
      "image/png": "[encoded data removed]",
      "text/plain": [
       "<Figure size 432x288 with 1 Axes>"
      ]
     },
     "metadata": {
      "needs_background": "light"
     },
     "output_type": "display_data"
    }
   ],
   "source": [
    "from sklearn.linear_model import LinearRegression\n",
    "import matplotlib.pyplot as plt\n",
    "X = df['time'].astype(np.int64).values.reshape(-1, 1)  # iloc[:, 1] is the column of X\n",
    "Y = df['close_log'].values.reshape(-1, 1)  # df.iloc[:, 4] is the column of Y\n",
    "linear_regressor = LinearRegression()\n",
    "linear_regressor.fit(X, Y)\n",
    "Y_pred = linear_regressor.predict(X)\n",
    "df['close_log_linear']=Y_pred\n",
    "df['close_log_error']=df['close_log']-df['close_log_linear']\n",
    "\n",
    "df.plot(x='time', y=['close_log','close_log_linear'])"
   ]
  },
  {
   "cell_type": "code",
   "execution_count": 41,
   "metadata": {},
   "outputs": [
    {
     "data": {
      "text/plain": [
       "<matplotlib.axes._subplots.AxesSubplot at 0x7f621be08c50>"
      ]
     },
     "execution_count": 41,
     "metadata": {},
     "output_type": "execute_result"
    },
    {
     "data": {
      "image/png": "[encoded data removed]",
      "text/plain": [
       "<Figure size 432x288 with 1 Axes>"
      ]
     },
     "metadata": {
      "needs_background": "light"
     },
     "output_type": "display_data"
    }
   ],
   "source": [
    "df.plot(x='time', y=['close_log_error'],grid=True)"
   ]
  },
  {
   "cell_type": "code",
   "execution_count": 42,
   "metadata": {},
   "outputs": [
    {
     "data": {
      "text/html": [
       "<div>\n",
       "<style scoped>\n",
       "    .dataframe tbody tr th:only-of-type {\n",
       "        vertical-align: middle;\n",
       "    }\n",
       "\n",
       "    .dataframe tbody tr th {\n",
       "        vertical-align: top;\n",
       "    }\n",
       "\n",
       "    .dataframe thead th {\n",
       "        text-align: right;\n",
       "    }\n",
       "</style>\n",
       "<table border=\"1\" class=\"dataframe\">\n",
       "  <thead>\n",
       "    <tr style=\"text-align: right;\">\n",
       "      <th></th>\n",
       "      <th>close</th>\n",
       "      <th>high</th>\n",
       "      <th>low</th>\n",
       "      <th>open</th>\n",
       "      <th>timestamp</th>\n",
       "      <th>volumn</th>\n",
       "      <th>close_log</th>\n",
       "      <th>time</th>\n",
       "      <th>close_log_linear</th>\n",
       "      <th>close_log_error</th>\n",
       "    </tr>\n",
       "  </thead>\n",
       "  <tbody>\n",
       "    <tr>\n",
       "      <th>2512</th>\n",
       "      <td>35028.648438</td>\n",
       "      <td>35547.828125</td>\n",
       "      <td>35015.488281</td>\n",
       "      <td>35412.300781</td>\n",
       "      <td>2022-01-19 14:30:00</td>\n",
       "      <td>393080000</td>\n",
       "      <td>10.463922</td>\n",
       "      <td>2022-01-19 14:30:00</td>\n",
       "      <td>10.428943</td>\n",
       "      <td>0.034978</td>\n",
       "    </tr>\n",
       "    <tr>\n",
       "      <th>2513</th>\n",
       "      <td>34715.390625</td>\n",
       "      <td>35490.199219</td>\n",
       "      <td>34670.121094</td>\n",
       "      <td>35102.660156</td>\n",
       "      <td>2022-01-20 14:30:00</td>\n",
       "      <td>369070000</td>\n",
       "      <td>10.454938</td>\n",
       "      <td>2022-01-20 14:30:00</td>\n",
       "      <td>10.429214</td>\n",
       "      <td>0.025725</td>\n",
       "    </tr>\n",
       "    <tr>\n",
       "      <th>2514</th>\n",
       "      <td>34265.371094</td>\n",
       "      <td>34896.671875</td>\n",
       "      <td>34229.550781</td>\n",
       "      <td>34701.691406</td>\n",
       "      <td>2022-01-21 14:30:00</td>\n",
       "      <td>523880000</td>\n",
       "      <td>10.441891</td>\n",
       "      <td>2022-01-21 14:30:00</td>\n",
       "      <td>10.429484</td>\n",
       "      <td>0.012407</td>\n",
       "    </tr>\n",
       "    <tr>\n",
       "      <th>2515</th>\n",
       "      <td>34364.500000</td>\n",
       "      <td>34420.988281</td>\n",
       "      <td>33150.328125</td>\n",
       "      <td>34070.609375</td>\n",
       "      <td>2022-01-24 14:30:00</td>\n",
       "      <td>664010000</td>\n",
       "      <td>10.444779</td>\n",
       "      <td>2022-01-24 14:30:00</td>\n",
       "      <td>10.430295</td>\n",
       "      <td>0.014485</td>\n",
       "    </tr>\n",
       "    <tr>\n",
       "      <th>2516</th>\n",
       "      <td>34297.730469</td>\n",
       "      <td>34591.039062</td>\n",
       "      <td>33545.519531</td>\n",
       "      <td>34186.640625</td>\n",
       "      <td>2022-01-25 14:30:00</td>\n",
       "      <td>506430000</td>\n",
       "      <td>10.442834</td>\n",
       "      <td>2022-01-25 14:30:00</td>\n",
       "      <td>10.430565</td>\n",
       "      <td>0.012270</td>\n",
       "    </tr>\n",
       "  </tbody>\n",
       "</table>\n",
       "</div>"
      ],
      "text/plain": [
       "             close          high           low          open  \\\n",
       "2512  35028.648438  35547.828125  35015.488281  35412.300781   \n",
       "2513  34715.390625  35490.199219  34670.121094  35102.660156   \n",
       "2514  34265.371094  34896.671875  34229.550781  34701.691406   \n",
       "2515  34364.500000  34420.988281  33150.328125  34070.609375   \n",
       "2516  34297.730469  34591.039062  33545.519531  34186.640625   \n",
       "\n",
       "               timestamp     volumn  close_log                time  \\\n",
       "2512 2022-01-19 14:30:00  393080000  10.463922 2022-01-19 14:30:00   \n",
       "2513 2022-01-20 14:30:00  369070000  10.454938 2022-01-20 14:30:00   \n",
       "2514 2022-01-21 14:30:00  523880000  10.441891 2022-01-21 14:30:00   \n",
       "2515 2022-01-24 14:30:00  664010000  10.444779 2022-01-24 14:30:00   \n",
       "2516 2022-01-25 14:30:00  506430000  10.442834 2022-01-25 14:30:00   \n",
       "\n",
       "      close_log_linear  close_log_error  \n",
       "2512         10.428943         0.034978  \n",
       "2513         10.429214         0.025725  \n",
       "2514         10.429484         0.012407  \n",
       "2515         10.430295         0.014485  \n",
       "2516         10.430565         0.012270  "
      ]
     },
     "execution_count": 42,
     "metadata": {},
     "output_type": "execute_result"
    }
   ],
   "source": [
    "df.tail()"
   ]
  },
  {
   "cell_type": "code",
   "execution_count": null,
   "metadata": {},
   "outputs": [],
   "source": []
  },
  {
   "cell_type": "code",
   "execution_count": null,
   "metadata": {},
   "outputs": [],
   "source": []
  }
 ],
 "metadata": {
  "kernelspec": {
   "display_name": "Python 3",
   "language": "python",
   "name": "python3"
  },
  "language_info": {
   "codemirror_mode": {
    "name": "ipython",
    "version": 3
   },
   "file_extension": ".py",
   "mimetype": "text/x-python",
   "name": "python",
   "nbconvert_exporter": "python",
   "pygments_lexer": "ipython3",
   "version": "3.6.9"
  }
 },
 "nbformat": 4,
 "nbformat_minor": 2
}

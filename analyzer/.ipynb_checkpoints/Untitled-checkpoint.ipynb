{
 "cells": [
  {
   "cell_type": "code",
   "execution_count": 11,
   "metadata": {},
   "outputs": [
    {
     "name": "stdout",
     "output_type": "stream",
     "text": [
      "USD\n",
      "../data/AAPL\n",
      "SEK\n",
      "../data/AZN.ST\n",
      "USD\n",
      "../data/MSFT\n"
     ]
    }
   ],
   "source": [
    "# check all directories under ../data\n",
    "import os\n",
    "import pandas as pd\n",
    "import json\n",
    "\n",
    "def get_currency(filename):    \n",
    "    f = open(filename)\n",
    "    data = json.load(f)\n",
    "    return data['currency']\n",
    "\n",
    "\n",
    "rootdir = '../data'\n",
    "data_src = []\n",
    "for subdir, dirs, files in os.walk(rootdir):\n",
    "    for dir in dirs:\n",
    "        obj =  {}\n",
    "        name = dir\n",
    "        # get currency.\n",
    "        currency = get_currency(os.path.join(subdir, dir, 'meta'))\n",
    "        print(currency)\n",
    "        obj['name'] = dir\n",
    "        obj['currency'] = currency\n",
    "        obj['df'] = pd.read_json(os.path.join(subdir, dir, 'data'))\n",
    "            \n",
    "        # to merge currency rate and price\n",
    "        \n",
    "        \n",
    "        data_src.append(obj)\n",
    "        print(os.path.join(subdir, dir))"
   ]
  },
  {
   "cell_type": "code",
   "execution_count": null,
   "metadata": {},
   "outputs": [],
   "source": []
  }
 ],
 "metadata": {
  "kernelspec": {
   "display_name": "Python 3",
   "language": "python",
   "name": "python3"
  },
  "language_info": {
   "codemirror_mode": {
    "name": "ipython",
    "version": 3
   },
   "file_extension": ".py",
   "mimetype": "text/x-python",
   "name": "python",
   "nbconvert_exporter": "python",
   "pygments_lexer": "ipython3",
   "version": "3.6.9"
  }
 },
 "nbformat": 4,
 "nbformat_minor": 2
}

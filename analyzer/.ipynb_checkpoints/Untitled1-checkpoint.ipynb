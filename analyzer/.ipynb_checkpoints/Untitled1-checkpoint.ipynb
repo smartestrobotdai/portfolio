{
 "cells": [
  {
   "cell_type": "markdown",
   "metadata": {},
   "source": [
    "This script tries tp answer:\n",
    "Is choosing securities strategically better than choosing them randomly?\n",
    "\n",
    "we pick US securities and apply our algorithm and see if it is statistically better than average.\n",
    "\n",
    "we change our portofolio twice per day, open and close."
   ]
  },
  {
   "cell_type": "code",
   "execution_count": null,
   "metadata": {},
   "outputs": [],
   "source": []
  }
 ],
 "metadata": {
  "kernelspec": {
   "display_name": "Python 3",
   "language": "python",
   "name": "python3"
  },
  "language_info": {
   "codemirror_mode": {
    "name": "ipython",
    "version": 3
   },
   "file_extension": ".py",
   "mimetype": "text/x-python",
   "name": "python",
   "nbconvert_exporter": "python",
   "pygments_lexer": "ipython3",
   "version": "3.6.9"
  }
 },
 "nbformat": 4,
 "nbformat_minor": 2
}

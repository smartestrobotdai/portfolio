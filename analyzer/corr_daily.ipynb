{
 "cells": [
  {
   "cell_type": "markdown",
   "metadata": {},
   "source": [
    "This script is to answer the question:\n",
    " - If close depends on previous day's close?\n",
    "\n",
    "To answer the question, the first step is to do scailing, otherwise we cannot answer if current price is high or low.\n",
    "\n",
    "A stock price is combined with stock's inherient value and emotional waves. the inherient value is \n",
    "Vt = Vt-1 * (1+Pd)\n",
    "\n",
    "Vt - the inherient value at day t.\n",
    "Vt-1 - the inherient value at day t-1\n",
    "Pd - the average daily profit. \n",
    "\n",
    "since the nature of a stock is exponential, we apply a natual log on the price.\n",
    "then make a linear regression.:-)\n",
    "\n",
    "we will check 3 stocks: AZN, Apple and Hexagon.\n"
   ]
  },
  {
   "cell_type": "code",
   "execution_count": 1,
   "metadata": {},
   "outputs": [],
   "source": [
    "import pandas as pd\n",
    "import numpy as np\n",
    "STOCK_NAME='apple'\n",
    "STOCK_ID=16100307"
   ]
  },
  {
   "cell_type": "code",
   "execution_count": 165,
   "metadata": {},
   "outputs": [],
   "source": [
    "df = pd.read_json('../findGlide/' + STOCK_NAME + '.json')"
   ]
  },
  {
   "cell_type": "code",
   "execution_count": 166,
   "metadata": {},
   "outputs": [
    {
     "data": {
      "text/html": [
       "<div>\n",
       "<style scoped>\n",
       "    .dataframe tbody tr th:only-of-type {\n",
       "        vertical-align: middle;\n",
       "    }\n",
       "\n",
       "    .dataframe tbody tr th {\n",
       "        vertical-align: top;\n",
       "    }\n",
       "\n",
       "    .dataframe thead th {\n",
       "        text-align: right;\n",
       "    }\n",
       "</style>\n",
       "<table border=\"1\" class=\"dataframe\">\n",
       "  <thead>\n",
       "    <tr style=\"text-align: right;\">\n",
       "      <th></th>\n",
       "      <th>high</th>\n",
       "      <th>last</th>\n",
       "      <th>low</th>\n",
       "      <th>open</th>\n",
       "      <th>time</th>\n",
       "      <th>volume</th>\n",
       "    </tr>\n",
       "  </thead>\n",
       "  <tbody>\n",
       "    <tr>\n",
       "      <th>2509</th>\n",
       "      <td>161.02</td>\n",
       "      <td>160.55</td>\n",
       "      <td>156.5328</td>\n",
       "      <td>157.65</td>\n",
       "      <td>1637280000000</td>\n",
       "      <td>117305597</td>\n",
       "    </tr>\n",
       "    <tr>\n",
       "      <th>2510</th>\n",
       "      <td>165.70</td>\n",
       "      <td>161.02</td>\n",
       "      <td>161.0000</td>\n",
       "      <td>161.68</td>\n",
       "      <td>1637539200000</td>\n",
       "      <td>117467889</td>\n",
       "    </tr>\n",
       "    <tr>\n",
       "      <th>2511</th>\n",
       "      <td>161.80</td>\n",
       "      <td>161.41</td>\n",
       "      <td>159.0601</td>\n",
       "      <td>161.12</td>\n",
       "      <td>1637625600000</td>\n",
       "      <td>96041899</td>\n",
       "    </tr>\n",
       "    <tr>\n",
       "      <th>2512</th>\n",
       "      <td>162.14</td>\n",
       "      <td>161.94</td>\n",
       "      <td>159.6400</td>\n",
       "      <td>160.75</td>\n",
       "      <td>1637712000000</td>\n",
       "      <td>69463623</td>\n",
       "    </tr>\n",
       "    <tr>\n",
       "      <th>2513</th>\n",
       "      <td>160.45</td>\n",
       "      <td>156.81</td>\n",
       "      <td>156.3600</td>\n",
       "      <td>156.81</td>\n",
       "      <td>1637960400000</td>\n",
       "      <td>0</td>\n",
       "    </tr>\n",
       "  </tbody>\n",
       "</table>\n",
       "</div>"
      ],
      "text/plain": [
       "        high    last       low    open           time     volume\n",
       "2509  161.02  160.55  156.5328  157.65  1637280000000  117305597\n",
       "2510  165.70  161.02  161.0000  161.68  1637539200000  117467889\n",
       "2511  161.80  161.41  159.0601  161.12  1637625600000   96041899\n",
       "2512  162.14  161.94  159.6400  160.75  1637712000000   69463623\n",
       "2513  160.45  156.81  156.3600  156.81  1637960400000          0"
      ]
     },
     "execution_count": 166,
     "metadata": {},
     "output_type": "execute_result"
    }
   ],
   "source": [
    "df.tail()"
   ]
  },
  {
   "cell_type": "code",
   "execution_count": 167,
   "metadata": {},
   "outputs": [],
   "source": [
    "df['last_log']=np.log(df['last'])"
   ]
  },
  {
   "cell_type": "code",
   "execution_count": 194,
   "metadata": {},
   "outputs": [
    {
     "data": {
      "text/plain": [
       "<matplotlib.axes._subplots.AxesSubplot at 0x7f22f38bf128>"
      ]
     },
     "execution_count": 194,
     "metadata": {},
     "output_type": "execute_result"
    },
    {
     "data": {
      "image/png": "[encoded data removed]",
      "text/plain": [
       "<Figure size 432x288 with 1 Axes>"
      ]
     },
     "metadata": {
      "needs_background": "light"
     },
     "output_type": "display_data"
    }
   ],
   "source": [
    "from sklearn.linear_model import LinearRegression\n",
    "import matplotlib.pyplot as plt\n",
    "X = df['time'].values.reshape(-1, 1)  # iloc[:, 1] is the column of X\n",
    "Y = df['last_log'].values.reshape(-1, 1)  # df.iloc[:, 4] is the column of Y\n",
    "linear_regressor = LinearRegression()\n",
    "linear_regressor.fit(X, Y)\n",
    "Y_pred = linear_regressor.predict(X)\n",
    "df['last_log_linear']=Y_pred\n",
    "df['last_log_error']=df['last_log']-df['last_log_linear']\n",
    "\n",
    "df.plot(x='time', y=['last_log','last_log_linear'])"
   ]
  },
  {
   "cell_type": "code",
   "execution_count": 195,
   "metadata": {},
   "outputs": [
    {
     "name": "stdout",
     "output_type": "stream",
     "text": [
      "[0.00083748]\n"
     ]
    }
   ],
   "source": [
    "scope = (Y_pred[-1]-Y_pred[0])/X.shape[0]\n",
    "print(scope)"
   ]
  },
  {
   "cell_type": "code",
   "execution_count": 191,
   "metadata": {},
   "outputs": [
    {
     "data": {
      "text/plain": [
       "<matplotlib.axes._subplots.AxesSubplot at 0x7f22f38f4c18>"
      ]
     },
     "execution_count": 191,
     "metadata": {},
     "output_type": "execute_result"
    },
    {
     "data": {
      "image/png": "[encoded data removed]",
      "text/plain": [
       "<Figure size 432x288 with 1 Axes>"
      ]
     },
     "metadata": {
      "needs_background": "light"
     },
     "output_type": "display_data"
    }
   ],
   "source": [
    "X = df['time'].values[:-250].reshape(-1, 1)  # iloc[:, 1] is the column of X\n",
    "Y = df['last_log'].values[:-250].reshape(-1, 1)  # df.iloc[:, 4] is the column of Y\n",
    "linear_regressor = LinearRegression()\n",
    "linear_regressor.fit(X, Y)\n",
    "Y_pred = linear_regressor.predict(X)\n",
    "df2 = pd.DataFrame({'time':X.reshape(-1), \n",
    "                    'last_log_linear':Y_pred.reshape(-1), \n",
    "                    'last_log':Y.reshape(-1)})\n",
    "\n",
    "\n",
    "\n",
    "\n",
    "df2.plot(x='time', y=['last_log','last_log_linear'])"
   ]
  },
  {
   "cell_type": "code",
   "execution_count": 192,
   "metadata": {},
   "outputs": [
    {
     "name": "stdout",
     "output_type": "stream",
     "text": [
      "[0.00072784]\n"
     ]
    }
   ],
   "source": [
    "scope = (Y_pred[-1]-Y_pred[0])/X.shape[0]\n",
    "print(scope)"
   ]
  },
  {
   "cell_type": "code",
   "execution_count": 169,
   "metadata": {},
   "outputs": [
    {
     "data": {
      "text/plain": [
       "(2514, 1)"
      ]
     },
     "execution_count": 169,
     "metadata": {},
     "output_type": "execute_result"
    }
   ],
   "source": [
    "X.shape"
   ]
  },
  {
   "cell_type": "code",
   "execution_count": 170,
   "metadata": {},
   "outputs": [
    {
     "name": "stdout",
     "output_type": "stream",
     "text": [
      "[0.00083748]\n"
     ]
    }
   ],
   "source": [
    "scope = (Y_pred[-1]-Y_pred[0])/X.shape[0]\n",
    "print(scope)"
   ]
  },
  {
   "cell_type": "code",
   "execution_count": 171,
   "metadata": {},
   "outputs": [
    {
     "data": {
      "text/plain": [
       "{'copy_X': True, 'fit_intercept': True, 'n_jobs': None, 'normalize': False}"
      ]
     },
     "execution_count": 171,
     "metadata": {},
     "output_type": "execute_result"
    }
   ],
   "source": [
    "linear_regressor.get_params()"
   ]
  },
  {
   "cell_type": "code",
   "execution_count": 172,
   "metadata": {
    "scrolled": true
   },
   "outputs": [
    {
     "data": {
      "text/plain": [
       "<matplotlib.axes._subplots.AxesSubplot at 0x7f22f3986ba8>"
      ]
     },
     "execution_count": 172,
     "metadata": {},
     "output_type": "execute_result"
    },
    {
     "data": {
      "image/png": "[encoded data removed]",
      "text/plain": [
       "<Figure size 432x288 with 1 Axes>"
      ]
     },
     "metadata": {
      "needs_background": "light"
     },
     "output_type": "display_data"
    }
   ],
   "source": [
    "df.plot(x='time', y=['last_log_error'],grid=True)"
   ]
  },
  {
   "cell_type": "code",
   "execution_count": 173,
   "metadata": {},
   "outputs": [
    {
     "data": {
      "text/html": [
       "<div>\n",
       "<style scoped>\n",
       "    .dataframe tbody tr th:only-of-type {\n",
       "        vertical-align: middle;\n",
       "    }\n",
       "\n",
       "    .dataframe tbody tr th {\n",
       "        vertical-align: top;\n",
       "    }\n",
       "\n",
       "    .dataframe thead th {\n",
       "        text-align: right;\n",
       "    }\n",
       "</style>\n",
       "<table border=\"1\" class=\"dataframe\">\n",
       "  <thead>\n",
       "    <tr style=\"text-align: right;\">\n",
       "      <th></th>\n",
       "      <th>high</th>\n",
       "      <th>last</th>\n",
       "      <th>low</th>\n",
       "      <th>open</th>\n",
       "      <th>time</th>\n",
       "      <th>volume</th>\n",
       "      <th>last_log</th>\n",
       "      <th>last_log_linear</th>\n",
       "      <th>last_log_error</th>\n",
       "    </tr>\n",
       "  </thead>\n",
       "  <tbody>\n",
       "    <tr>\n",
       "      <th>0</th>\n",
       "      <td>13.6527</td>\n",
       "      <td>13.6500</td>\n",
       "      <td>13.5107</td>\n",
       "      <td>13.6079</td>\n",
       "      <td>1322611200000</td>\n",
       "      <td>14502386</td>\n",
       "      <td>2.613740</td>\n",
       "      <td>2.575187</td>\n",
       "      <td>0.038552</td>\n",
       "    </tr>\n",
       "    <tr>\n",
       "      <th>1</th>\n",
       "      <td>13.8929</td>\n",
       "      <td>13.8546</td>\n",
       "      <td>13.5982</td>\n",
       "      <td>13.6589</td>\n",
       "      <td>1322697600000</td>\n",
       "      <td>13827834</td>\n",
       "      <td>2.628617</td>\n",
       "      <td>2.575764</td>\n",
       "      <td>0.052853</td>\n",
       "    </tr>\n",
       "    <tr>\n",
       "      <th>2</th>\n",
       "      <td>14.0582</td>\n",
       "      <td>13.9179</td>\n",
       "      <td>13.8779</td>\n",
       "      <td>13.9286</td>\n",
       "      <td>1322784000000</td>\n",
       "      <td>13545470</td>\n",
       "      <td>2.633176</td>\n",
       "      <td>2.576341</td>\n",
       "      <td>0.056835</td>\n",
       "    </tr>\n",
       "    <tr>\n",
       "      <th>3</th>\n",
       "      <td>14.1575</td>\n",
       "      <td>14.0361</td>\n",
       "      <td>13.9424</td>\n",
       "      <td>14.0457</td>\n",
       "      <td>1323043200000</td>\n",
       "      <td>12763161</td>\n",
       "      <td>2.641633</td>\n",
       "      <td>2.578071</td>\n",
       "      <td>0.063561</td>\n",
       "    </tr>\n",
       "    <tr>\n",
       "      <th>4</th>\n",
       "      <td>14.0939</td>\n",
       "      <td>13.9625</td>\n",
       "      <td>13.9064</td>\n",
       "      <td>14.0193</td>\n",
       "      <td>1323129600000</td>\n",
       "      <td>10135859</td>\n",
       "      <td>2.636375</td>\n",
       "      <td>2.578648</td>\n",
       "      <td>0.057727</td>\n",
       "    </tr>\n",
       "  </tbody>\n",
       "</table>\n",
       "</div>"
      ],
      "text/plain": [
       "      high     last      low     open           time    volume  last_log  \\\n",
       "0  13.6527  13.6500  13.5107  13.6079  1322611200000  14502386  2.613740   \n",
       "1  13.8929  13.8546  13.5982  13.6589  1322697600000  13827834  2.628617   \n",
       "2  14.0582  13.9179  13.8779  13.9286  1322784000000  13545470  2.633176   \n",
       "3  14.1575  14.0361  13.9424  14.0457  1323043200000  12763161  2.641633   \n",
       "4  14.0939  13.9625  13.9064  14.0193  1323129600000  10135859  2.636375   \n",
       "\n",
       "   last_log_linear  last_log_error  \n",
       "0         2.575187        0.038552  \n",
       "1         2.575764        0.052853  \n",
       "2         2.576341        0.056835  \n",
       "3         2.578071        0.063561  \n",
       "4         2.578648        0.057727  "
      ]
     },
     "execution_count": 173,
     "metadata": {},
     "output_type": "execute_result"
    }
   ],
   "source": [
    "df.head()"
   ]
  },
  {
   "cell_type": "code",
   "execution_count": 174,
   "metadata": {},
   "outputs": [
    {
     "data": {
      "text/html": [
       "<div>\n",
       "<style scoped>\n",
       "    .dataframe tbody tr th:only-of-type {\n",
       "        vertical-align: middle;\n",
       "    }\n",
       "\n",
       "    .dataframe tbody tr th {\n",
       "        vertical-align: top;\n",
       "    }\n",
       "\n",
       "    .dataframe thead th {\n",
       "        text-align: right;\n",
       "    }\n",
       "</style>\n",
       "<table border=\"1\" class=\"dataframe\">\n",
       "  <thead>\n",
       "    <tr style=\"text-align: right;\">\n",
       "      <th></th>\n",
       "      <th>high</th>\n",
       "      <th>last</th>\n",
       "      <th>low</th>\n",
       "      <th>open</th>\n",
       "      <th>time</th>\n",
       "      <th>volume</th>\n",
       "      <th>last_log</th>\n",
       "      <th>last_log_linear</th>\n",
       "      <th>last_log_error</th>\n",
       "    </tr>\n",
       "  </thead>\n",
       "  <tbody>\n",
       "    <tr>\n",
       "      <th>0</th>\n",
       "      <td>13.6527</td>\n",
       "      <td>13.6500</td>\n",
       "      <td>13.5107</td>\n",
       "      <td>13.6079</td>\n",
       "      <td>1322611200000</td>\n",
       "      <td>14502386</td>\n",
       "      <td>2.613740</td>\n",
       "      <td>2.575187</td>\n",
       "      <td>0.038552</td>\n",
       "    </tr>\n",
       "    <tr>\n",
       "      <th>1</th>\n",
       "      <td>13.8929</td>\n",
       "      <td>13.8546</td>\n",
       "      <td>13.5982</td>\n",
       "      <td>13.6589</td>\n",
       "      <td>1322697600000</td>\n",
       "      <td>13827834</td>\n",
       "      <td>2.628617</td>\n",
       "      <td>2.575764</td>\n",
       "      <td>0.052853</td>\n",
       "    </tr>\n",
       "    <tr>\n",
       "      <th>2</th>\n",
       "      <td>14.0582</td>\n",
       "      <td>13.9179</td>\n",
       "      <td>13.8779</td>\n",
       "      <td>13.9286</td>\n",
       "      <td>1322784000000</td>\n",
       "      <td>13545470</td>\n",
       "      <td>2.633176</td>\n",
       "      <td>2.576341</td>\n",
       "      <td>0.056835</td>\n",
       "    </tr>\n",
       "    <tr>\n",
       "      <th>3</th>\n",
       "      <td>14.1575</td>\n",
       "      <td>14.0361</td>\n",
       "      <td>13.9424</td>\n",
       "      <td>14.0457</td>\n",
       "      <td>1323043200000</td>\n",
       "      <td>12763161</td>\n",
       "      <td>2.641633</td>\n",
       "      <td>2.578071</td>\n",
       "      <td>0.063561</td>\n",
       "    </tr>\n",
       "    <tr>\n",
       "      <th>4</th>\n",
       "      <td>14.0939</td>\n",
       "      <td>13.9625</td>\n",
       "      <td>13.9064</td>\n",
       "      <td>14.0193</td>\n",
       "      <td>1323129600000</td>\n",
       "      <td>10135859</td>\n",
       "      <td>2.636375</td>\n",
       "      <td>2.578648</td>\n",
       "      <td>0.057727</td>\n",
       "    </tr>\n",
       "  </tbody>\n",
       "</table>\n",
       "</div>"
      ],
      "text/plain": [
       "      high     last      low     open           time    volume  last_log  \\\n",
       "0  13.6527  13.6500  13.5107  13.6079  1322611200000  14502386  2.613740   \n",
       "1  13.8929  13.8546  13.5982  13.6589  1322697600000  13827834  2.628617   \n",
       "2  14.0582  13.9179  13.8779  13.9286  1322784000000  13545470  2.633176   \n",
       "3  14.1575  14.0361  13.9424  14.0457  1323043200000  12763161  2.641633   \n",
       "4  14.0939  13.9625  13.9064  14.0193  1323129600000  10135859  2.636375   \n",
       "\n",
       "   last_log_linear  last_log_error  \n",
       "0         2.575187        0.038552  \n",
       "1         2.575764        0.052853  \n",
       "2         2.576341        0.056835  \n",
       "3         2.578071        0.063561  \n",
       "4         2.578648        0.057727  "
      ]
     },
     "execution_count": 174,
     "metadata": {},
     "output_type": "execute_result"
    }
   ],
   "source": [
    "df.head()"
   ]
  },
  {
   "cell_type": "code",
   "execution_count": 175,
   "metadata": {},
   "outputs": [
    {
     "data": {
      "text/html": [
       "<div>\n",
       "<style scoped>\n",
       "    .dataframe tbody tr th:only-of-type {\n",
       "        vertical-align: middle;\n",
       "    }\n",
       "\n",
       "    .dataframe tbody tr th {\n",
       "        vertical-align: top;\n",
       "    }\n",
       "\n",
       "    .dataframe thead th {\n",
       "        text-align: right;\n",
       "    }\n",
       "</style>\n",
       "<table border=\"1\" class=\"dataframe\">\n",
       "  <thead>\n",
       "    <tr style=\"text-align: right;\">\n",
       "      <th></th>\n",
       "      <th>last_log_error</th>\n",
       "      <th>last_log_diff_shift</th>\n",
       "    </tr>\n",
       "  </thead>\n",
       "  <tbody>\n",
       "    <tr>\n",
       "      <th>last_log_error</th>\n",
       "      <td>1.000000</td>\n",
       "      <td>-0.033064</td>\n",
       "    </tr>\n",
       "    <tr>\n",
       "      <th>last_log_diff_shift</th>\n",
       "      <td>-0.033064</td>\n",
       "      <td>1.000000</td>\n",
       "    </tr>\n",
       "  </tbody>\n",
       "</table>\n",
       "</div>"
      ],
      "text/plain": [
       "                     last_log_error  last_log_diff_shift\n",
       "last_log_error             1.000000            -0.033064\n",
       "last_log_diff_shift       -0.033064             1.000000"
      ]
     },
     "execution_count": 175,
     "metadata": {},
     "output_type": "execute_result"
    }
   ],
   "source": [
    "df['last_log_diff']=df['last_log'].diff()\n",
    "df['last_log_diff_shift']=df['last_log_diff'].shift(-1)\n",
    "df2=df[['last_log_error','last_log_diff_shift']]\n",
    "\n",
    "df2.corr()"
   ]
  },
  {
   "cell_type": "code",
   "execution_count": 176,
   "metadata": {},
   "outputs": [
    {
     "data": {
      "text/plain": [
       "0.0009714665180111306"
      ]
     },
     "execution_count": 176,
     "metadata": {},
     "output_type": "execute_result"
    }
   ],
   "source": [
    "df['last_log_diff_shift'].mean()"
   ]
  },
  {
   "cell_type": "code",
   "execution_count": 177,
   "metadata": {},
   "outputs": [
    {
     "data": {
      "text/plain": [
       "0.0178500726236642"
      ]
     },
     "execution_count": 177,
     "metadata": {},
     "output_type": "execute_result"
    }
   ],
   "source": [
    "df['last_log_diff_shift'].std()"
   ]
  },
  {
   "cell_type": "code",
   "execution_count": 178,
   "metadata": {},
   "outputs": [
    {
     "data": {
      "text/plain": [
       "<matplotlib.axes._subplots.AxesSubplot at 0x7f22f3b6e6a0>"
      ]
     },
     "execution_count": 178,
     "metadata": {},
     "output_type": "execute_result"
    },
    {
     "data": {
      "image/png": "[encoded data removed]",
      "text/plain": [
       "<Figure size 432x288 with 1 Axes>"
      ]
     },
     "metadata": {
      "needs_background": "light"
     },
     "output_type": "display_data"
    }
   ],
   "source": [
    "df['last_log_diff_shift'].hist()\n"
   ]
  },
  {
   "cell_type": "code",
   "execution_count": 179,
   "metadata": {},
   "outputs": [
    {
     "data": {
      "text/plain": [
       "<matplotlib.axes._subplots.AxesSubplot at 0x7f22f3af3be0>"
      ]
     },
     "execution_count": 179,
     "metadata": {},
     "output_type": "execute_result"
    },
    {
     "data": {
      "image/png": "[encoded data removed]",
      "text/plain": [
       "<Figure size 432x288 with 1 Axes>"
      ]
     },
     "metadata": {
      "needs_background": "light"
     },
     "output_type": "display_data"
    }
   ],
   "source": [
    "df['last_log_error'].hist()"
   ]
  },
  {
   "cell_type": "code",
   "execution_count": 107,
   "metadata": {},
   "outputs": [
    {
     "data": {
      "image/png": "[encoded data removed]",
      "text/plain": [
       "<Figure size 432x288 with 1 Axes>"
      ]
     },
     "execution_count": 107,
     "metadata": {},
     "output_type": "execute_result"
    },
    {
     "data": {
      "image/png": "[encoded data removed]",
      "text/plain": [
       "<Figure size 432x288 with 1 Axes>"
      ]
     },
     "metadata": {
      "needs_background": "light"
     },
     "output_type": "display_data"
    }
   ],
   "source": [
    "import pandas as pd\n",
    "from matplotlib import pyplot as plt\n",
    "from statsmodels.graphics.tsaplots import plot_acf\n",
    "\n",
    "data = df[['time', 'last_log_diff']].set_index(['time'])\n",
    "plot_acf(data)"
   ]
  },
  {
   "cell_type": "code",
   "execution_count": 108,
   "metadata": {},
   "outputs": [
    {
     "data": {
      "text/plain": [
       "-0.1524198971936997"
      ]
     },
     "execution_count": 108,
     "metadata": {},
     "output_type": "execute_result"
    }
   ],
   "source": [
    "df['last_log_diff'].autocorr()"
   ]
  },
  {
   "cell_type": "code",
   "execution_count": null,
   "metadata": {},
   "outputs": [],
   "source": []
  }
 ],
 "metadata": {
  "kernelspec": {
   "display_name": "Python 3",
   "language": "python",
   "name": "python3"
  },
  "language_info": {
   "codemirror_mode": {
    "name": "ipython",
    "version": 3
   },
   "file_extension": ".py",
   "mimetype": "text/x-python",
   "name": "python",
   "nbconvert_exporter": "python",
   "pygments_lexer": "ipython3",
   "version": "3.6.9"
  }
 },
 "nbformat": 4,
 "nbformat_minor": 2
}
